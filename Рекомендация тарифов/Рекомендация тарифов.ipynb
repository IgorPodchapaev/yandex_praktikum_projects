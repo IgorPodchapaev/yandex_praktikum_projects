{
 "cells": [
  {
   "cell_type": "markdown",
   "metadata": {},
   "source": [
    "# Рекомендация тарифов"
   ]
  },
  {
   "cell_type": "markdown",
   "metadata": {},
   "source": [
    "В вашем распоряжении данные о поведении клиентов, которые уже перешли на эти тарифы (из проекта курса «Статистический анализ данных»). Нужно построить модель для задачи классификации, которая выберет подходящий тариф. Предобработка данных не понадобится — вы её уже сделали.\n",
    "\n",
    "Постройте модель с максимально большим значением *accuracy*. Чтобы сдать проект успешно, нужно довести долю правильных ответов по крайней мере до 0.75. Проверьте *accuracy* на тестовой выборке самостоятельно."
   ]
  },
  {
   "cell_type": "markdown",
   "metadata": {},
   "source": [
    "# Описание проекта"
   ]
  },
  {
   "cell_type": "markdown",
   "metadata": {},
   "source": [
    "Оператор мобильной связи «Мегалайн» выяснил: многие клиенты пользуются архивными тарифами. Они хотят построить систему, способную проанализировать поведение клиентов и предложить пользователям новый тариф: «Смарт» или «Ультра».\n",
    "\n",
    "В вашем распоряжении данные о поведении клиентов, которые уже перешли на эти тарифы. Нужно построить модель для задачи классификации, которая выберет подходящий тариф. Предобработка данных не понадобится — вы её уже сделали.\n",
    "\n",
    "Постройте модель с максимально большим значением accuracy. Чтобы сдать проект успешно, нужно довести долю правильных ответов по крайней мере до 0.75. Проверьте accuracy на тестовой выборке самостоятельно."
   ]
  },
  {
   "cell_type": "markdown",
   "metadata": {},
   "source": [
    "# План выполнения проекта"
   ]
  },
  {
   "cell_type": "markdown",
   "metadata": {},
   "source": [
    "* 1. Откроем файл с данными и изучим его.\n",
    "\n",
    "* 2. Разделим исходные данные на обучающую, валидационную и тестовую выборки.\n",
    "\n",
    "* 3. Исследуем качество разных моделей, меняя гиперпараметры.\n",
    "\n",
    "* 4. Проверить качество модели на тестовой выборке.\n",
    "\n",
    "* 5.  Проверим модели на вменяемость.\n"
   ]
  },
  {
   "cell_type": "markdown",
   "metadata": {},
   "source": [
    "# Описание данных"
   ]
  },
  {
   "cell_type": "markdown",
   "metadata": {},
   "source": [
    "Каждый объект в наборе данных — это информация о поведении одного пользователя за месяц. \n",
    "\n",
    "Известно:\n",
    "* `сalls` — количество звонков,\n",
    "* `minutes` — суммарная длительность звонков в минутах,\n",
    "* `messages` — количество sms-сообщений,\n",
    "* `mb_used` — израсходованный интернет-трафик в Мб,\n",
    "* `is_ultra` — каким тарифом пользовался в течение месяца («Ультра» — 1, «Смарт» — 0)."
   ]
  },
  {
   "cell_type": "markdown",
   "metadata": {},
   "source": [
    "# Импортируем библиотеки"
   ]
  },
  {
   "cell_type": "code",
   "execution_count": 1,
   "metadata": {},
   "outputs": [],
   "source": [
    "import os\n",
    "import warnings\n",
    "warnings.filterwarnings('ignore')\n",
    "import pandas as pd\n",
    "from sklearn.model_selection import train_test_split\n",
    "from sklearn.tree import DecisionTreeClassifier\n",
    "from sklearn.ensemble import RandomForestClassifier\n",
    "from sklearn.linear_model import LogisticRegression\n",
    "from sklearn.metrics import accuracy_score\n",
    "from sklearn.dummy import DummyClassifier"
   ]
  },
  {
   "cell_type": "markdown",
   "metadata": {},
   "source": [
    "# Вводим переменные"
   ]
  },
  {
   "cell_type": "code",
   "execution_count": 5,
   "metadata": {},
   "outputs": [],
   "source": [
    "RANDOM_STATE = 12345 #Зафиксируем псевдослучайность"
   ]
  },
  {
   "cell_type": "markdown",
   "metadata": {},
   "source": [
    "## Откроем и изучим файл."
   ]
  },
  {
   "cell_type": "code",
   "execution_count": 2,
   "metadata": {},
   "outputs": [],
   "source": [
    "data_1 = 'users_behavior.csv'\n",
    "data_2 = 'https://code.s3.yandex.net/datasets/users_behavior.csv'\n",
    "\n",
    "if os.path.exists(data_1):\n",
    "    users_data = pd.read_csv(data_1)\n",
    "elif os.path.exists(data_2):\n",
    "    users_data = pd.read_csv(data_2)\n",
    "else:\n",
    "    print('Something is wrong')"
   ]
  },
  {
   "cell_type": "markdown",
   "metadata": {},
   "source": [
    "Выведем основную информацию о датафрейме с помощью метода info():"
   ]
  },
  {
   "cell_type": "code",
   "execution_count": 3,
   "metadata": {},
   "outputs": [
    {
     "name": "stdout",
     "output_type": "stream",
     "text": [
      "<class 'pandas.core.frame.DataFrame'>\n",
      "RangeIndex: 3214 entries, 0 to 3213\n",
      "Data columns (total 5 columns):\n",
      " #   Column    Non-Null Count  Dtype  \n",
      "---  ------    --------------  -----  \n",
      " 0   calls     3214 non-null   float64\n",
      " 1   minutes   3214 non-null   float64\n",
      " 2   messages  3214 non-null   float64\n",
      " 3   mb_used   3214 non-null   float64\n",
      " 4   is_ultra  3214 non-null   int64  \n",
      "dtypes: float64(4), int64(1)\n",
      "memory usage: 125.7 KB\n"
     ]
    }
   ],
   "source": [
    "users_data.info()"
   ]
  },
  {
   "cell_type": "markdown",
   "metadata": {},
   "source": [
    "Выведем первые 10 строчек датафрейма на экран:"
   ]
  },
  {
   "cell_type": "code",
   "execution_count": 4,
   "metadata": {},
   "outputs": [
    {
     "data": {
      "text/html": [
       "<div>\n",
       "<style scoped>\n",
       "    .dataframe tbody tr th:only-of-type {\n",
       "        vertical-align: middle;\n",
       "    }\n",
       "\n",
       "    .dataframe tbody tr th {\n",
       "        vertical-align: top;\n",
       "    }\n",
       "\n",
       "    .dataframe thead th {\n",
       "        text-align: right;\n",
       "    }\n",
       "</style>\n",
       "<table border=\"1\" class=\"dataframe\">\n",
       "  <thead>\n",
       "    <tr style=\"text-align: right;\">\n",
       "      <th></th>\n",
       "      <th>calls</th>\n",
       "      <th>minutes</th>\n",
       "      <th>messages</th>\n",
       "      <th>mb_used</th>\n",
       "      <th>is_ultra</th>\n",
       "    </tr>\n",
       "  </thead>\n",
       "  <tbody>\n",
       "    <tr>\n",
       "      <th>0</th>\n",
       "      <td>40.0</td>\n",
       "      <td>311.90</td>\n",
       "      <td>83.0</td>\n",
       "      <td>19915.42</td>\n",
       "      <td>0</td>\n",
       "    </tr>\n",
       "    <tr>\n",
       "      <th>1</th>\n",
       "      <td>85.0</td>\n",
       "      <td>516.75</td>\n",
       "      <td>56.0</td>\n",
       "      <td>22696.96</td>\n",
       "      <td>0</td>\n",
       "    </tr>\n",
       "    <tr>\n",
       "      <th>2</th>\n",
       "      <td>77.0</td>\n",
       "      <td>467.66</td>\n",
       "      <td>86.0</td>\n",
       "      <td>21060.45</td>\n",
       "      <td>0</td>\n",
       "    </tr>\n",
       "    <tr>\n",
       "      <th>3</th>\n",
       "      <td>106.0</td>\n",
       "      <td>745.53</td>\n",
       "      <td>81.0</td>\n",
       "      <td>8437.39</td>\n",
       "      <td>1</td>\n",
       "    </tr>\n",
       "    <tr>\n",
       "      <th>4</th>\n",
       "      <td>66.0</td>\n",
       "      <td>418.74</td>\n",
       "      <td>1.0</td>\n",
       "      <td>14502.75</td>\n",
       "      <td>0</td>\n",
       "    </tr>\n",
       "    <tr>\n",
       "      <th>5</th>\n",
       "      <td>58.0</td>\n",
       "      <td>344.56</td>\n",
       "      <td>21.0</td>\n",
       "      <td>15823.37</td>\n",
       "      <td>0</td>\n",
       "    </tr>\n",
       "    <tr>\n",
       "      <th>6</th>\n",
       "      <td>57.0</td>\n",
       "      <td>431.64</td>\n",
       "      <td>20.0</td>\n",
       "      <td>3738.90</td>\n",
       "      <td>1</td>\n",
       "    </tr>\n",
       "    <tr>\n",
       "      <th>7</th>\n",
       "      <td>15.0</td>\n",
       "      <td>132.40</td>\n",
       "      <td>6.0</td>\n",
       "      <td>21911.60</td>\n",
       "      <td>0</td>\n",
       "    </tr>\n",
       "    <tr>\n",
       "      <th>8</th>\n",
       "      <td>7.0</td>\n",
       "      <td>43.39</td>\n",
       "      <td>3.0</td>\n",
       "      <td>2538.67</td>\n",
       "      <td>1</td>\n",
       "    </tr>\n",
       "    <tr>\n",
       "      <th>9</th>\n",
       "      <td>90.0</td>\n",
       "      <td>665.41</td>\n",
       "      <td>38.0</td>\n",
       "      <td>17358.61</td>\n",
       "      <td>0</td>\n",
       "    </tr>\n",
       "  </tbody>\n",
       "</table>\n",
       "</div>"
      ],
      "text/plain": [
       "   calls  minutes  messages   mb_used  is_ultra\n",
       "0   40.0   311.90      83.0  19915.42         0\n",
       "1   85.0   516.75      56.0  22696.96         0\n",
       "2   77.0   467.66      86.0  21060.45         0\n",
       "3  106.0   745.53      81.0   8437.39         1\n",
       "4   66.0   418.74       1.0  14502.75         0\n",
       "5   58.0   344.56      21.0  15823.37         0\n",
       "6   57.0   431.64      20.0   3738.90         1\n",
       "7   15.0   132.40       6.0  21911.60         0\n",
       "8    7.0    43.39       3.0   2538.67         1\n",
       "9   90.0   665.41      38.0  17358.61         0"
      ]
     },
     "execution_count": 4,
     "metadata": {},
     "output_type": "execute_result"
    }
   ],
   "source": [
    "users_data.head(10)"
   ]
  },
  {
   "cell_type": "markdown",
   "metadata": {},
   "source": [
    "### Выводы после изучения данных."
   ]
  },
  {
   "cell_type": "markdown",
   "metadata": {},
   "source": [
    "По предварительному просмотру основной информации данных можно отметить следующее:\n",
    "\n",
    "Предобработка данных не понадобится так как мы уже её сделали в предыдущем проекте.\n",
    "\n",
    "Нужно построить модель для задачи классификации, которая выберет подходящий тариф. \n",
    "\n",
    "Спрятанной тестовой выборки нет. Значит, данные нужно разбить на три части: обучающую, валидационную и тестовую. Размеры тестового и валидационного наборов обычно равны. Исходные данные разобъем в соотношении 3:1:1:\n",
    "* Обучающая выборка (60%);\n",
    "* Валидационная выборка (20%);\n",
    "* Тестовая выборка (20%)."
   ]
  },
  {
   "cell_type": "markdown",
   "metadata": {},
   "source": [
    "## Разделим исходные данные на обучающую, валидационную и тестовую выборки."
   ]
  },
  {
   "cell_type": "markdown",
   "metadata": {},
   "source": [
    "Разделим исходные данные на 3 выборки:\n",
    "* `train_users_data` - обучающая выборка;\n",
    "* `validate_users_data` - валидационная выборка;\n",
    "* `test_users_data` - тестовая выборка."
   ]
  },
  {
   "cell_type": "code",
   "execution_count": 6,
   "metadata": {},
   "outputs": [],
   "source": [
    "train_users_data, validate_test_users_data = train_test_split(users_data, test_size=0.4, random_state=RANDOM_STATE)"
   ]
  },
  {
   "cell_type": "code",
   "execution_count": 7,
   "metadata": {},
   "outputs": [],
   "source": [
    "validate_users_data, test_users_data = train_test_split(validate_test_users_data, test_size=0.5, random_state=RANDOM_STATE)"
   ]
  },
  {
   "cell_type": "markdown",
   "metadata": {},
   "source": [
    "Проверим размер разбитых выборок:"
   ]
  },
  {
   "cell_type": "code",
   "execution_count": 8,
   "metadata": {},
   "outputs": [],
   "source": [
    "def check_data_split(splited_df, df = users_data):\n",
    "    split_val = round((splited_df.shape[0] / df.shape[0]) * 100, 2)\n",
    "    return f'Размер данных разбитой выборки от исходных данных составляет: {split_val} %'\n",
    "    "
   ]
  },
  {
   "cell_type": "code",
   "execution_count": 9,
   "metadata": {},
   "outputs": [
    {
     "data": {
      "text/plain": [
       "'Размер данных разбитой выборки от исходных данных составляет: 59.99 %'"
      ]
     },
     "execution_count": 9,
     "metadata": {},
     "output_type": "execute_result"
    }
   ],
   "source": [
    "check_data_split(train_users_data)"
   ]
  },
  {
   "cell_type": "code",
   "execution_count": 10,
   "metadata": {},
   "outputs": [
    {
     "data": {
      "text/plain": [
       "'Размер данных разбитой выборки от исходных данных составляет: 20.01 %'"
      ]
     },
     "execution_count": 10,
     "metadata": {},
     "output_type": "execute_result"
    }
   ],
   "source": [
    "check_data_split(validate_users_data)"
   ]
  },
  {
   "cell_type": "code",
   "execution_count": 11,
   "metadata": {},
   "outputs": [
    {
     "data": {
      "text/plain": [
       "'Размер данных разбитой выборки от исходных данных составляет: 20.01 %'"
      ]
     },
     "execution_count": 11,
     "metadata": {},
     "output_type": "execute_result"
    }
   ],
   "source": [
    "check_data_split(test_users_data)"
   ]
  },
  {
   "cell_type": "markdown",
   "metadata": {},
   "source": [
    "### Вывод после разделения исходнях данных."
   ]
  },
  {
   "cell_type": "markdown",
   "metadata": {},
   "source": [
    "Провели разделение исходных данных на обучающую, валидационную и тестовую выборки.\n",
    "\n",
    "Проверили корректность разделения данных."
   ]
  },
  {
   "cell_type": "markdown",
   "metadata": {},
   "source": [
    "##  Исследуем качество разных моделей, меняя гиперпараметры."
   ]
  },
  {
   "cell_type": "markdown",
   "metadata": {},
   "source": [
    "Исследуем качество разных моделей, а именно:\n",
    "* Решающее дерево;\n",
    "* Случайный лес;\n",
    "* Логическая регрессия.\n",
    "Логическую регрессию используем из-за параметра, который необходимо предсказать (он категориальный)."
   ]
  },
  {
   "cell_type": "markdown",
   "metadata": {},
   "source": [
    "Обучающий и валидационный набор данных сохраним в отдельных переменных features (признаки) и target (целевой признак)."
   ]
  },
  {
   "cell_type": "code",
   "execution_count": 12,
   "metadata": {},
   "outputs": [],
   "source": [
    "features_train = train_users_data.drop('is_ultra', axis=1)\n",
    "target_train = train_users_data['is_ultra']\n",
    "features_valid = validate_users_data.drop('is_ultra', axis=1)\n",
    "target_valid = validate_users_data['is_ultra']"
   ]
  },
  {
   "cell_type": "code",
   "execution_count": 13,
   "metadata": {},
   "outputs": [],
   "source": [
    "best_result = 0\n",
    "best_est = 0\n",
    "best_depth = 0\n",
    "best_model_name = None\n",
    "best_result_decision_tree = 0\n",
    "best_result_random_forest = 0 \n",
    "best_result_logistic_regression = 0"
   ]
  },
  {
   "cell_type": "markdown",
   "metadata": {},
   "source": [
    "### Решающее дерево."
   ]
  },
  {
   "cell_type": "markdown",
   "metadata": {},
   "source": [
    "Меняя гиперпараметры, а cамый важный гиперпараметр решающего дерева — `max_depth` глубину дерева. Обучим модель на обучающей выборке, получим предсказания модели на валидационной выборке и посчитаем качество модели."
   ]
  },
  {
   "cell_type": "markdown",
   "metadata": {},
   "source": [
    "Зафиксируем псевдослучайность параметром `random_state`."
   ]
  },
  {
   "cell_type": "code",
   "execution_count": 14,
   "metadata": {},
   "outputs": [],
   "source": [
    "for depth in range(1, 10):\n",
    "    model_decision_tree = DecisionTreeClassifier(random_state=12345, max_depth=depth)\n",
    "    model_decision_tree.fit(features_train, target_train)\n",
    "    predictions = model_decision_tree.predict(features_valid)\n",
    "    result_decision_tree = accuracy_score(target_valid, predictions)\n",
    "    if result_decision_tree > best_result_decision_tree:\n",
    "        best_result_decision_tree = result_decision_tree\n",
    "        best_depth = depth\n",
    "        if result_decision_tree > best_result:\n",
    "            best_result = result_decision_tree\n",
    "            best_model_name = 'DecisionTreeClassifier'"
   ]
  },
  {
   "cell_type": "code",
   "execution_count": 15,
   "metadata": {},
   "outputs": [
    {
     "name": "stdout",
     "output_type": "stream",
     "text": [
      "Accuracy решающего дерева: 0.785\n",
      "Глубина дерева при лучшей accuracy модели: 3\n"
     ]
    }
   ],
   "source": [
    "print(\"Accuracy решающего дерева:\", round(best_result_decision_tree, 3))\n",
    "print(\"Глубина дерева при лучшей accuracy модели:\", best_depth)"
   ]
  },
  {
   "cell_type": "markdown",
   "metadata": {},
   "source": [
    "### Случайный лес."
   ]
  },
  {
   "cell_type": "markdown",
   "metadata": {},
   "source": [
    "Меняя гиперпараметры, пропишем `n_estimators`. Чем больше деревьев, тем дольше модель будет учиться, но результат станет лучше (и наоборот). Обучим модель на обучающей выборке, получим предсказания модели на валидационной выборке и посчитаем качество модели."
   ]
  },
  {
   "cell_type": "markdown",
   "metadata": {},
   "source": [
    "Зафиксируем псевдослучайность параметром `random_state`."
   ]
  },
  {
   "cell_type": "code",
   "execution_count": 16,
   "metadata": {},
   "outputs": [],
   "source": [
    "for est in range(1, 25):\n",
    "    model_random_forest = RandomForestClassifier(random_state=12345, n_estimators=est)\n",
    "    model_random_forest.fit(features_train, target_train)\n",
    "    result_random_forest = model_random_forest.score(features_valid, target_valid)\n",
    "    if result_random_forest > best_result_random_forest:\n",
    "        best_result_random_forest = result_random_forest\n",
    "        best_est = est\n",
    "        if result_random_forest > best_result:\n",
    "            best_result = result_random_forest\n",
    "            best_model_name = 'RandomForestClassifier'"
   ]
  },
  {
   "cell_type": "code",
   "execution_count": 17,
   "metadata": {},
   "outputs": [
    {
     "name": "stdout",
     "output_type": "stream",
     "text": [
      "Accuracy случайного леса: 0.795\n",
      "Количество деревьев при лучшей accuracy модели: 23\n"
     ]
    }
   ],
   "source": [
    "print(\"Accuracy случайного леса:\", round(best_result_random_forest, 3))\n",
    "print(\"Количество деревьев при лучшей accuracy модели:\", best_est)"
   ]
  },
  {
   "cell_type": "markdown",
   "metadata": {},
   "source": [
    "### Логическая регрессия."
   ]
  },
  {
   "cell_type": "markdown",
   "metadata": {},
   "source": [
    "Запишите модель в переменной, указав гиперпараметры: `solver` = `'lbfgs'` и `max_iter`. Первый гиперпараметр позволяет выбрать алгоритм, который будет строить модель. Алгоритм `'lbfgs'` — один из самых распространённых. Он подходит для большинства задач. Гиперпараметром `max_iter` задаётся максимальное количество итераций обучения. Значение этого параметра по умолчанию равно 100, но в некоторых случаях понадобится больше итераций."
   ]
  },
  {
   "cell_type": "markdown",
   "metadata": {},
   "source": [
    "Зафиксируем псевдослучайность параметром `random_state`."
   ]
  },
  {
   "cell_type": "code",
   "execution_count": 18,
   "metadata": {},
   "outputs": [],
   "source": [
    "for max_iter in range(1, 200):\n",
    "    model_logistic_regression = LogisticRegression(random_state=12345, solver='lbfgs', max_iter=max_iter)\n",
    "    model_logistic_regression.fit(features_train, target_train)\n",
    "    result_logistic_regression = model_logistic_regression.score(features_valid, target_valid)\n",
    "    if result_logistic_regression > best_result_logistic_regression:\n",
    "        best_result_logistic_regression = result_logistic_regression\n",
    "        best_max_iter = max_iter\n",
    "        if result_logistic_regression > best_result:\n",
    "            best_result = result_logistic_regression\n",
    "            best_model_name = 'LogisticRegression'"
   ]
  },
  {
   "cell_type": "code",
   "execution_count": 19,
   "metadata": {},
   "outputs": [
    {
     "name": "stdout",
     "output_type": "stream",
     "text": [
      "Accuracy логической регрессии: 0.711\n",
      "Количество итераций обучения при лучшей accuracy модели: 39\n"
     ]
    }
   ],
   "source": [
    "print(\"Accuracy логической регрессии:\", round(best_result_logistic_regression, 3))\n",
    "print(\"Количество итераций обучения при лучшей accuracy модели:\", best_max_iter)"
   ]
  },
  {
   "cell_type": "markdown",
   "metadata": {},
   "source": [
    "Выведем название лучшей модели и значение её accuracy: "
   ]
  },
  {
   "cell_type": "code",
   "execution_count": 20,
   "metadata": {},
   "outputs": [
    {
     "name": "stdout",
     "output_type": "stream",
     "text": [
      "Модель: RandomForestClassifier\n",
      "0.795\n"
     ]
    }
   ],
   "source": [
    "print(\"Модель:\", best_model_name)\n",
    "print(round(best_result,3))"
   ]
  },
  {
   "cell_type": "markdown",
   "metadata": {},
   "source": [
    "### Вывод после исследования разных моделей."
   ]
  },
  {
   "cell_type": "markdown",
   "metadata": {},
   "source": [
    "Исследовали качество разных моделей, меняя гиперпараметры, а именно:\n",
    "* Решающее дерево:\n",
    "  * Accuracy решающего дерева: 0.785;\n",
    "  * Глубина дерева при лучшей accuracy модели: 3.\n",
    "* Случайный лес:\n",
    "  * Accuracy случайного леса: 0.795;\n",
    "  * Количество деревьев при лучшей accuracy модели: 23.\n",
    "* Логическая регрессия:\n",
    "  * Accuracy логической регрессии: 0.711;\n",
    "  * Количество итераций обучения при лучшей accuracy модели: 39.\n",
    "  \n",
    "Лучшая модель и её accuracy:\n",
    " RandomForestClassifier\n",
    " 0.795"
   ]
  },
  {
   "cell_type": "markdown",
   "metadata": {},
   "source": [
    "## Проверим качество модели на тестовой выборке."
   ]
  },
  {
   "cell_type": "markdown",
   "metadata": {},
   "source": [
    "Тестовый набор данных сохраним в отдельных переменных features (признаки) и target (целевой признак):"
   ]
  },
  {
   "cell_type": "code",
   "execution_count": 21,
   "metadata": {},
   "outputs": [],
   "source": [
    "features_test = test_users_data.drop('is_ultra', axis=1)\n",
    "target_test = test_users_data['is_ultra']"
   ]
  },
  {
   "cell_type": "markdown",
   "metadata": {},
   "source": [
    "Получим предсказания модели на тестовой выборке:"
   ]
  },
  {
   "cell_type": "code",
   "execution_count": 22,
   "metadata": {},
   "outputs": [],
   "source": [
    "predictions_test = model_random_forest.predict(features_test)\n",
    "accuracy_score = round(accuracy_score(target_test, predictions_test), 3)"
   ]
  },
  {
   "cell_type": "code",
   "execution_count": 23,
   "metadata": {},
   "outputs": [
    {
     "name": "stdout",
     "output_type": "stream",
     "text": [
      "Accuracy случайного леса на тестовой выборке: 0.782\n"
     ]
    }
   ],
   "source": [
    "print(\"Accuracy случайного леса на тестовой выборке:\", accuracy_score)"
   ]
  },
  {
   "cell_type": "markdown",
   "metadata": {},
   "source": [
    "###  Вывод после проверки качества модели на тестовой выборке:"
   ]
  },
  {
   "cell_type": "markdown",
   "metadata": {},
   "source": [
    "Проверили качество модели на тестовой выборке и получили accuracy 0.782"
   ]
  },
  {
   "cell_type": "markdown",
   "metadata": {},
   "source": [
    "## Проверим модели на вменяемость."
   ]
  },
  {
   "cell_type": "markdown",
   "metadata": {},
   "source": [
    "Для проверки используем модель DummyClassifier:"
   ]
  },
  {
   "cell_type": "code",
   "execution_count": 24,
   "metadata": {
    "scrolled": true
   },
   "outputs": [],
   "source": [
    "model_dummy_classifier = DummyClassifier(strategy='most_frequent', random_state=12345)\n",
    "model_dummy_classifier.fit(features_train, target_train)\n",
    "result_dc_valid = model_dummy_classifier.score(features_valid, target_valid)\n",
    "result_dc_test = model_dummy_classifier.score(features_test, target_test)"
   ]
  },
  {
   "cell_type": "code",
   "execution_count": 25,
   "metadata": {},
   "outputs": [
    {
     "name": "stdout",
     "output_type": "stream",
     "text": [
      "Значение accuracy DummyClassifier по валидационной выборке: 0.706\n",
      "Значение accuracy DummyClassifier по тестовой выборке: 0.684\n"
     ]
    }
   ],
   "source": [
    "print('Значение accuracy DummyClassifier по валидационной выборке:', round(result_dc_valid, 3))\n",
    "print('Значение accuracy DummyClassifier по тестовой выборке:', round(result_dc_test, 3))"
   ]
  },
  {
   "cell_type": "markdown",
   "metadata": {},
   "source": [
    "### Вывод после дополнительного задания:"
   ]
  },
  {
   "cell_type": "markdown",
   "metadata": {},
   "source": [
    "Проверили модели на вменяемость используя модель DummyClassifier.\n",
    "Значения accuracy модели DummyClassifier (0.706 и 0.684) ниже, чем у выбранной нами модели (0.782), значит наша модель адекватна и эффективна."
   ]
  },
  {
   "cell_type": "markdown",
   "metadata": {},
   "source": [
    "## Общий вывод\n",
    "\n",
    "По результатам исследования можно отметить сделать следующие выводы:\n",
    "\n",
    "1.Проведено исследование с целью разработки модели, позволяющей наиболее точно предложить пользователям мобильной связи тарифы «Смарт» или «Ультра».\n",
    "\n",
    "2.Модель построена на основании поведения клиентов, уже перешедших на эти тарифы.\n",
    "\n",
    "3.Были построены 3 модели:\n",
    "\n",
    "* дерево решений `Decision Tree Classifier`;\n",
    "* случайный лес `RandomForestClassifier`;\n",
    "* логистическая регрессия `Logistic Regression`.\n",
    "\n",
    "4.По результатам сравнения была выбрана лучшая - 'случайный лес' с гиперпараметрами n_estimators равным `5`. Значение accuracy = `0.782`.\n",
    "\n",
    "5.Лучшая модель проверена на тестовых объектах, не участвующих в обучении и валидации модели. Значение accuracy = `0.788`.\n",
    "\n",
    "7.Для проверки на адекватность выбранной нами модели 'случайный лес' ( RandomForestClassifier ) использовали модель DummyClassifier, которая показала результат accuracy хуже, чем результат нашей лучшей модели.\n",
    "\n",
    "8.Результаты исследования позволят специалистам выбрать наиболее качественную модель, которая подберет клиентам новый тариф."
   ]
  }
 ],
 "metadata": {
  "ExecuteTimeLog": [
   {
    "duration": 66,
    "start_time": "2023-08-05T07:14:45.280Z"
   },
   {
    "duration": 84,
    "start_time": "2023-08-05T07:18:58.610Z"
   },
   {
    "duration": 68,
    "start_time": "2023-08-05T07:29:51.087Z"
   },
   {
    "duration": 1390,
    "start_time": "2023-08-05T07:30:37.640Z"
   },
   {
    "duration": 9,
    "start_time": "2023-08-05T07:30:48.376Z"
   },
   {
    "duration": 65,
    "start_time": "2023-08-05T07:30:50.682Z"
   },
   {
    "duration": 11,
    "start_time": "2023-08-05T07:32:51.177Z"
   },
   {
    "duration": 16,
    "start_time": "2023-08-05T07:33:15.675Z"
   },
   {
    "duration": 426,
    "start_time": "2023-08-06T07:00:20.748Z"
   },
   {
    "duration": 134,
    "start_time": "2023-08-06T07:00:23.369Z"
   },
   {
    "duration": 19,
    "start_time": "2023-08-06T07:00:23.922Z"
   },
   {
    "duration": 22,
    "start_time": "2023-08-06T07:00:24.473Z"
   },
   {
    "duration": 43,
    "start_time": "2023-08-06T11:07:57.029Z"
   },
   {
    "duration": 5,
    "start_time": "2023-08-06T11:08:00.518Z"
   },
   {
    "duration": 444,
    "start_time": "2023-08-06T11:08:08.569Z"
   },
   {
    "duration": 119,
    "start_time": "2023-08-06T11:08:09.415Z"
   },
   {
    "duration": 11,
    "start_time": "2023-08-06T11:08:10.164Z"
   },
   {
    "duration": 16,
    "start_time": "2023-08-06T11:08:10.469Z"
   },
   {
    "duration": 32,
    "start_time": "2023-08-06T11:08:19.668Z"
   },
   {
    "duration": 4,
    "start_time": "2023-08-06T11:08:56.820Z"
   },
   {
    "duration": 721,
    "start_time": "2023-08-06T11:09:55.505Z"
   },
   {
    "duration": 5,
    "start_time": "2023-08-06T11:12:54.113Z"
   },
   {
    "duration": 4,
    "start_time": "2023-08-06T11:13:01.627Z"
   },
   {
    "duration": 4,
    "start_time": "2023-08-06T11:13:30.319Z"
   },
   {
    "duration": 4,
    "start_time": "2023-08-06T11:13:51.561Z"
   },
   {
    "duration": 5,
    "start_time": "2023-08-06T11:15:21.796Z"
   },
   {
    "duration": 4,
    "start_time": "2023-08-06T11:15:48.333Z"
   },
   {
    "duration": 3,
    "start_time": "2023-08-06T11:15:48.895Z"
   },
   {
    "duration": 3,
    "start_time": "2023-08-06T11:15:48.918Z"
   },
   {
    "duration": 4,
    "start_time": "2023-08-06T11:16:15.189Z"
   },
   {
    "duration": 4,
    "start_time": "2023-08-06T11:16:19.112Z"
   },
   {
    "duration": 4,
    "start_time": "2023-08-06T11:16:26.485Z"
   },
   {
    "duration": 4,
    "start_time": "2023-08-06T11:16:28.527Z"
   },
   {
    "duration": 4,
    "start_time": "2023-08-06T11:16:46.411Z"
   },
   {
    "duration": 6,
    "start_time": "2023-08-06T11:16:59.061Z"
   },
   {
    "duration": 4,
    "start_time": "2023-08-06T11:17:13.608Z"
   },
   {
    "duration": 4,
    "start_time": "2023-08-06T11:17:34.433Z"
   },
   {
    "duration": 4,
    "start_time": "2023-08-06T11:17:35.978Z"
   },
   {
    "duration": 3,
    "start_time": "2023-08-06T11:24:12.769Z"
   },
   {
    "duration": 1416,
    "start_time": "2023-08-06T11:24:51.329Z"
   },
   {
    "duration": 3,
    "start_time": "2023-08-06T11:25:19.145Z"
   },
   {
    "duration": 4,
    "start_time": "2023-08-06T11:25:21.985Z"
   },
   {
    "duration": 115,
    "start_time": "2023-08-06T11:25:50.653Z"
   },
   {
    "duration": 2,
    "start_time": "2023-08-06T11:27:28.229Z"
   },
   {
    "duration": 5,
    "start_time": "2023-08-06T11:27:30.957Z"
   },
   {
    "duration": 3,
    "start_time": "2023-08-06T11:27:38.185Z"
   },
   {
    "duration": 4,
    "start_time": "2023-08-06T11:27:38.861Z"
   },
   {
    "duration": 3,
    "start_time": "2023-08-06T11:28:36.273Z"
   },
   {
    "duration": 5,
    "start_time": "2023-08-06T11:28:36.785Z"
   },
   {
    "duration": 4,
    "start_time": "2023-08-06T11:29:10.977Z"
   },
   {
    "duration": 3,
    "start_time": "2023-08-06T11:29:12.461Z"
   },
   {
    "duration": 3,
    "start_time": "2023-08-06T11:30:08.621Z"
   },
   {
    "duration": 3,
    "start_time": "2023-08-06T11:30:14.749Z"
   },
   {
    "duration": 4,
    "start_time": "2023-08-06T11:30:15.065Z"
   },
   {
    "duration": 3,
    "start_time": "2023-08-06T11:30:22.378Z"
   },
   {
    "duration": 3,
    "start_time": "2023-08-06T11:30:23.376Z"
   },
   {
    "duration": 4,
    "start_time": "2023-08-06T11:30:23.810Z"
   },
   {
    "duration": 4,
    "start_time": "2023-08-06T11:30:24.265Z"
   },
   {
    "duration": 5,
    "start_time": "2023-08-06T11:31:56.666Z"
   },
   {
    "duration": 4,
    "start_time": "2023-08-06T11:31:59.169Z"
   },
   {
    "duration": 4,
    "start_time": "2023-08-06T11:31:59.885Z"
   },
   {
    "duration": 4,
    "start_time": "2023-08-06T11:32:01.677Z"
   },
   {
    "duration": 4,
    "start_time": "2023-08-06T11:32:02.236Z"
   },
   {
    "duration": 3,
    "start_time": "2023-08-06T11:32:21.800Z"
   },
   {
    "duration": 9,
    "start_time": "2023-08-06T11:32:22.261Z"
   },
   {
    "duration": 3,
    "start_time": "2023-08-06T11:33:01.829Z"
   },
   {
    "duration": 4,
    "start_time": "2023-08-06T11:33:02.867Z"
   },
   {
    "duration": 4,
    "start_time": "2023-08-06T11:33:03.326Z"
   },
   {
    "duration": 3,
    "start_time": "2023-08-06T11:33:03.735Z"
   },
   {
    "duration": 44,
    "start_time": "2023-08-06T12:43:24.167Z"
   },
   {
    "duration": 31,
    "start_time": "2023-08-06T12:43:25.934Z"
   },
   {
    "duration": 11,
    "start_time": "2023-08-06T12:43:26.970Z"
   },
   {
    "duration": 13,
    "start_time": "2023-08-06T12:43:27.521Z"
   },
   {
    "duration": 6,
    "start_time": "2023-08-06T12:43:30.408Z"
   },
   {
    "duration": 6,
    "start_time": "2023-08-06T12:43:30.979Z"
   },
   {
    "duration": 4,
    "start_time": "2023-08-06T12:43:32.393Z"
   },
   {
    "duration": 3,
    "start_time": "2023-08-06T12:43:32.612Z"
   },
   {
    "duration": 4,
    "start_time": "2023-08-06T12:43:33.237Z"
   },
   {
    "duration": 4,
    "start_time": "2023-08-06T12:43:33.621Z"
   },
   {
    "duration": 5,
    "start_time": "2023-08-06T12:47:47.007Z"
   },
   {
    "duration": 12,
    "start_time": "2023-08-06T12:47:52.336Z"
   },
   {
    "duration": 5,
    "start_time": "2023-08-06T12:48:07.091Z"
   },
   {
    "duration": 218,
    "start_time": "2023-08-06T12:52:59.136Z"
   },
   {
    "duration": 3,
    "start_time": "2023-08-06T12:53:26.371Z"
   },
   {
    "duration": 17,
    "start_time": "2023-08-06T12:53:38.987Z"
   },
   {
    "duration": 275,
    "start_time": "2023-08-06T12:58:08.226Z"
   },
   {
    "duration": 266,
    "start_time": "2023-08-06T13:00:23.132Z"
   },
   {
    "duration": 284,
    "start_time": "2023-08-06T13:00:40.408Z"
   },
   {
    "duration": 1013,
    "start_time": "2023-08-06T13:00:49.530Z"
   },
   {
    "duration": 1041,
    "start_time": "2023-08-06T13:01:14.225Z"
   },
   {
    "duration": 1082,
    "start_time": "2023-08-06T13:02:01.875Z"
   },
   {
    "duration": 1083,
    "start_time": "2023-08-06T13:02:10.078Z"
   },
   {
    "duration": 11374,
    "start_time": "2023-08-06T13:02:25.235Z"
   },
   {
    "duration": 3,
    "start_time": "2023-08-06T13:03:19.866Z"
   },
   {
    "duration": 11850,
    "start_time": "2023-08-06T13:03:21.176Z"
   },
   {
    "duration": 11473,
    "start_time": "2023-08-06T13:03:39.761Z"
   },
   {
    "duration": 69,
    "start_time": "2023-08-06T13:04:00.364Z"
   },
   {
    "duration": 58,
    "start_time": "2023-08-06T13:09:29.226Z"
   },
   {
    "duration": 69,
    "start_time": "2023-08-06T13:09:49.570Z"
   },
   {
    "duration": 70,
    "start_time": "2023-08-06T13:09:56.333Z"
   },
   {
    "duration": 73,
    "start_time": "2023-08-06T13:10:01.439Z"
   },
   {
    "duration": 56,
    "start_time": "2023-08-06T13:10:12.411Z"
   },
   {
    "duration": 63,
    "start_time": "2023-08-06T13:10:17.185Z"
   },
   {
    "duration": 91,
    "start_time": "2023-08-06T13:10:24.670Z"
   },
   {
    "duration": 65,
    "start_time": "2023-08-06T13:10:55.471Z"
   },
   {
    "duration": 2,
    "start_time": "2023-08-06T13:14:43.377Z"
   },
   {
    "duration": 66,
    "start_time": "2023-08-06T13:14:58.007Z"
   },
   {
    "duration": 67,
    "start_time": "2023-08-06T13:15:51.020Z"
   },
   {
    "duration": 63,
    "start_time": "2023-08-06T13:16:36.502Z"
   },
   {
    "duration": 3,
    "start_time": "2023-08-06T13:16:39.121Z"
   },
   {
    "duration": 11,
    "start_time": "2023-08-06T13:23:40.843Z"
   },
   {
    "duration": 6,
    "start_time": "2023-08-06T13:26:39.134Z"
   },
   {
    "duration": 23,
    "start_time": "2023-08-06T13:26:50.125Z"
   },
   {
    "duration": 25,
    "start_time": "2023-08-06T13:27:20.022Z"
   },
   {
    "duration": 36,
    "start_time": "2023-08-06T13:33:35.525Z"
   },
   {
    "duration": 3,
    "start_time": "2023-08-06T13:33:50.171Z"
   },
   {
    "duration": 30,
    "start_time": "2023-08-06T13:33:56.912Z"
   },
   {
    "duration": 67,
    "start_time": "2023-08-06T13:36:46.729Z"
   },
   {
    "duration": 73,
    "start_time": "2023-08-06T13:37:30.861Z"
   },
   {
    "duration": 23,
    "start_time": "2023-08-06T13:39:18.806Z"
   },
   {
    "duration": 6,
    "start_time": "2023-08-06T13:39:46.684Z"
   },
   {
    "duration": 21,
    "start_time": "2023-08-06T13:39:49.950Z"
   },
   {
    "duration": 6,
    "start_time": "2023-08-06T13:40:24.921Z"
   },
   {
    "duration": 69,
    "start_time": "2023-08-06T13:40:28.252Z"
   },
   {
    "duration": 19,
    "start_time": "2023-08-06T13:40:30.623Z"
   },
   {
    "duration": 6,
    "start_time": "2023-08-06T13:43:10.718Z"
   },
   {
    "duration": 65,
    "start_time": "2023-08-06T13:43:22.287Z"
   },
   {
    "duration": 121,
    "start_time": "2023-08-06T13:43:49.523Z"
   },
   {
    "duration": 24,
    "start_time": "2023-08-06T13:44:05.282Z"
   },
   {
    "duration": 255,
    "start_time": "2023-08-06T13:44:37.520Z"
   },
   {
    "duration": 268,
    "start_time": "2023-08-06T13:45:43.514Z"
   },
   {
    "duration": 57,
    "start_time": "2023-08-06T13:45:53.122Z"
   },
   {
    "duration": 3,
    "start_time": "2023-08-06T13:47:16.188Z"
   },
   {
    "duration": 259,
    "start_time": "2023-08-06T13:54:06.958Z"
   },
   {
    "duration": 66,
    "start_time": "2023-08-06T13:54:30.258Z"
   },
   {
    "duration": 4,
    "start_time": "2023-08-06T13:54:31.208Z"
   },
   {
    "duration": 65,
    "start_time": "2023-08-06T13:54:36.754Z"
   },
   {
    "duration": 3,
    "start_time": "2023-08-06T13:54:37.119Z"
   },
   {
    "duration": 62,
    "start_time": "2023-08-06T14:18:04.616Z"
   },
   {
    "duration": 59,
    "start_time": "2023-08-06T14:18:38.768Z"
   },
   {
    "duration": 3,
    "start_time": "2023-08-06T14:18:39.476Z"
   },
   {
    "duration": 1212,
    "start_time": "2023-08-06T14:19:08.781Z"
   },
   {
    "duration": 39,
    "start_time": "2023-08-06T14:19:09.995Z"
   },
   {
    "duration": 13,
    "start_time": "2023-08-06T14:19:10.035Z"
   },
   {
    "duration": 26,
    "start_time": "2023-08-06T14:19:10.050Z"
   },
   {
    "duration": 5,
    "start_time": "2023-08-06T14:19:10.078Z"
   },
   {
    "duration": 15,
    "start_time": "2023-08-06T14:19:10.085Z"
   },
   {
    "duration": 25,
    "start_time": "2023-08-06T14:19:10.102Z"
   },
   {
    "duration": 8,
    "start_time": "2023-08-06T14:19:10.129Z"
   },
   {
    "duration": 10,
    "start_time": "2023-08-06T14:19:10.138Z"
   },
   {
    "duration": 12,
    "start_time": "2023-08-06T14:19:10.151Z"
   },
   {
    "duration": 8,
    "start_time": "2023-08-06T14:19:10.164Z"
   },
   {
    "duration": 6,
    "start_time": "2023-08-06T14:19:10.175Z"
   },
   {
    "duration": 83,
    "start_time": "2023-08-06T14:19:10.184Z"
   },
   {
    "duration": 4,
    "start_time": "2023-08-06T14:19:10.269Z"
   },
   {
    "duration": 305,
    "start_time": "2023-08-06T14:19:10.275Z"
   },
   {
    "duration": 3,
    "start_time": "2023-08-06T14:19:10.583Z"
   },
   {
    "duration": 13,
    "start_time": "2023-08-06T14:21:21.493Z"
   },
   {
    "duration": 119,
    "start_time": "2023-08-06T14:21:59.421Z"
   },
   {
    "duration": 314,
    "start_time": "2023-08-06T14:22:05.030Z"
   },
   {
    "duration": 10,
    "start_time": "2023-08-06T14:22:06.263Z"
   },
   {
    "duration": 4,
    "start_time": "2023-08-06T14:22:50.993Z"
   },
   {
    "duration": 73,
    "start_time": "2023-08-06T14:22:53.876Z"
   },
   {
    "duration": 3,
    "start_time": "2023-08-06T14:22:54.920Z"
   },
   {
    "duration": 282,
    "start_time": "2023-08-06T14:22:59.935Z"
   },
   {
    "duration": 4,
    "start_time": "2023-08-06T14:23:00.621Z"
   },
   {
    "duration": 73,
    "start_time": "2023-08-06T14:26:59.677Z"
   },
   {
    "duration": 306,
    "start_time": "2023-08-06T14:27:34.982Z"
   },
   {
    "duration": 4,
    "start_time": "2023-08-06T14:27:36.414Z"
   },
   {
    "duration": 915,
    "start_time": "2023-08-06T14:27:43.492Z"
   },
   {
    "duration": 3,
    "start_time": "2023-08-06T14:27:45.340Z"
   },
   {
    "duration": 1175,
    "start_time": "2023-08-06T14:31:39.417Z"
   },
   {
    "duration": 44,
    "start_time": "2023-08-06T14:31:40.594Z"
   },
   {
    "duration": 12,
    "start_time": "2023-08-06T14:31:40.639Z"
   },
   {
    "duration": 22,
    "start_time": "2023-08-06T14:31:40.653Z"
   },
   {
    "duration": 5,
    "start_time": "2023-08-06T14:31:40.676Z"
   },
   {
    "duration": 8,
    "start_time": "2023-08-06T14:31:40.682Z"
   },
   {
    "duration": 29,
    "start_time": "2023-08-06T14:31:40.691Z"
   },
   {
    "duration": 6,
    "start_time": "2023-08-06T14:31:40.723Z"
   },
   {
    "duration": 28,
    "start_time": "2023-08-06T14:31:40.730Z"
   },
   {
    "duration": 9,
    "start_time": "2023-08-06T14:31:40.760Z"
   },
   {
    "duration": 18,
    "start_time": "2023-08-06T14:31:40.771Z"
   },
   {
    "duration": 29,
    "start_time": "2023-08-06T14:31:40.790Z"
   },
   {
    "duration": 69,
    "start_time": "2023-08-06T14:31:40.821Z"
   },
   {
    "duration": 5,
    "start_time": "2023-08-06T14:31:40.892Z"
   },
   {
    "duration": 21531,
    "start_time": "2023-08-06T14:31:40.901Z"
   },
   {
    "duration": 5,
    "start_time": "2023-08-06T14:32:02.434Z"
   },
   {
    "duration": 23,
    "start_time": "2023-08-06T14:32:02.441Z"
   },
   {
    "duration": 1459,
    "start_time": "2023-08-06T14:32:18.148Z"
   },
   {
    "duration": 7,
    "start_time": "2023-08-06T14:32:19.609Z"
   },
   {
    "duration": 61,
    "start_time": "2023-08-06T14:32:26.232Z"
   },
   {
    "duration": 5,
    "start_time": "2023-08-06T14:32:26.642Z"
   },
   {
    "duration": 60,
    "start_time": "2023-08-06T14:33:02.020Z"
   },
   {
    "duration": 4,
    "start_time": "2023-08-06T14:33:02.943Z"
   },
   {
    "duration": 1478,
    "start_time": "2023-08-06T14:33:07.171Z"
   },
   {
    "duration": 4,
    "start_time": "2023-08-06T14:33:08.651Z"
   },
   {
    "duration": 4,
    "start_time": "2023-08-06T14:33:33.642Z"
   },
   {
    "duration": 4,
    "start_time": "2023-08-06T14:44:49.980Z"
   },
   {
    "duration": 3,
    "start_time": "2023-08-06T14:50:21.837Z"
   },
   {
    "duration": 1128,
    "start_time": "2023-08-06T14:52:42.116Z"
   },
   {
    "duration": 31,
    "start_time": "2023-08-06T14:52:43.246Z"
   },
   {
    "duration": 10,
    "start_time": "2023-08-06T14:52:43.279Z"
   },
   {
    "duration": 40,
    "start_time": "2023-08-06T14:52:43.291Z"
   },
   {
    "duration": 7,
    "start_time": "2023-08-06T14:52:43.333Z"
   },
   {
    "duration": 12,
    "start_time": "2023-08-06T14:52:43.341Z"
   },
   {
    "duration": 5,
    "start_time": "2023-08-06T14:52:43.355Z"
   },
   {
    "duration": 16,
    "start_time": "2023-08-06T14:52:43.361Z"
   },
   {
    "duration": 6,
    "start_time": "2023-08-06T14:52:43.379Z"
   },
   {
    "duration": 41,
    "start_time": "2023-08-06T14:52:43.386Z"
   },
   {
    "duration": 8,
    "start_time": "2023-08-06T14:52:43.429Z"
   },
   {
    "duration": 10,
    "start_time": "2023-08-06T14:52:43.439Z"
   },
   {
    "duration": 84,
    "start_time": "2023-08-06T14:52:43.451Z"
   },
   {
    "duration": 4,
    "start_time": "2023-08-06T14:52:43.538Z"
   },
   {
    "duration": 1340,
    "start_time": "2023-08-06T14:52:43.543Z"
   },
   {
    "duration": 5,
    "start_time": "2023-08-06T14:52:44.884Z"
   },
   {
    "duration": 21218,
    "start_time": "2023-08-06T14:52:44.895Z"
   },
   {
    "duration": 7,
    "start_time": "2023-08-06T14:53:06.119Z"
   },
   {
    "duration": 12,
    "start_time": "2023-08-06T14:53:06.128Z"
   },
   {
    "duration": 10056,
    "start_time": "2023-08-06T14:53:34.800Z"
   },
   {
    "duration": 3,
    "start_time": "2023-08-06T14:54:00.522Z"
   },
   {
    "duration": 5,
    "start_time": "2023-08-06T14:54:36.209Z"
   },
   {
    "duration": 4083,
    "start_time": "2023-08-06T14:54:47.665Z"
   },
   {
    "duration": 7,
    "start_time": "2023-08-06T14:54:55.425Z"
   },
   {
    "duration": 1154,
    "start_time": "2023-08-06T17:54:14.967Z"
   },
   {
    "duration": 79,
    "start_time": "2023-08-06T17:54:16.124Z"
   },
   {
    "duration": 12,
    "start_time": "2023-08-06T17:54:16.205Z"
   },
   {
    "duration": 88,
    "start_time": "2023-08-06T17:54:16.219Z"
   },
   {
    "duration": 7,
    "start_time": "2023-08-06T17:54:16.309Z"
   },
   {
    "duration": 12,
    "start_time": "2023-08-06T17:54:16.318Z"
   },
   {
    "duration": 3,
    "start_time": "2023-08-06T17:54:16.332Z"
   },
   {
    "duration": 6,
    "start_time": "2023-08-06T17:54:16.337Z"
   },
   {
    "duration": 5,
    "start_time": "2023-08-06T17:54:16.344Z"
   },
   {
    "duration": 4,
    "start_time": "2023-08-06T17:54:16.351Z"
   },
   {
    "duration": 27,
    "start_time": "2023-08-06T17:54:16.356Z"
   },
   {
    "duration": 4,
    "start_time": "2023-08-06T17:54:16.386Z"
   },
   {
    "duration": 65,
    "start_time": "2023-08-06T17:54:16.391Z"
   },
   {
    "duration": 13,
    "start_time": "2023-08-06T17:54:16.457Z"
   },
   {
    "duration": 1313,
    "start_time": "2023-08-06T17:54:16.472Z"
   },
   {
    "duration": 4,
    "start_time": "2023-08-06T17:54:17.787Z"
   },
   {
    "duration": 3666,
    "start_time": "2023-08-06T17:54:17.793Z"
   },
   {
    "duration": 6,
    "start_time": "2023-08-06T17:54:21.461Z"
   },
   {
    "duration": 4,
    "start_time": "2023-08-06T17:54:21.468Z"
   },
   {
    "duration": 3,
    "start_time": "2023-08-06T17:55:20.730Z"
   },
   {
    "duration": 4,
    "start_time": "2023-08-06T18:00:30.929Z"
   },
   {
    "duration": 4,
    "start_time": "2023-08-06T18:02:26.805Z"
   },
   {
    "duration": 4,
    "start_time": "2023-08-06T18:02:50.808Z"
   },
   {
    "duration": 5,
    "start_time": "2023-08-06T18:13:51.522Z"
   },
   {
    "duration": 4,
    "start_time": "2023-08-06T18:14:16.384Z"
   },
   {
    "duration": 1326,
    "start_time": "2023-08-06T18:14:22.458Z"
   },
   {
    "duration": 3,
    "start_time": "2023-08-06T18:14:25.229Z"
   },
   {
    "duration": 3,
    "start_time": "2023-08-06T18:14:28.740Z"
   },
   {
    "duration": 4,
    "start_time": "2023-08-06T18:14:39.769Z"
   },
   {
    "duration": 3,
    "start_time": "2023-08-06T18:21:19.789Z"
   },
   {
    "duration": 4,
    "start_time": "2023-08-06T18:23:21.429Z"
   },
   {
    "duration": 2,
    "start_time": "2023-08-06T18:23:23.741Z"
   },
   {
    "duration": 106,
    "start_time": "2023-08-06T18:27:39.389Z"
   },
   {
    "duration": 18,
    "start_time": "2023-08-06T18:28:07.269Z"
   },
   {
    "duration": 3,
    "start_time": "2023-08-06T18:28:12.432Z"
   },
   {
    "duration": 14,
    "start_time": "2023-08-06T18:28:13.968Z"
   },
   {
    "duration": 4,
    "start_time": "2023-08-06T18:28:17.161Z"
   },
   {
    "duration": 3,
    "start_time": "2023-08-06T18:28:17.661Z"
   },
   {
    "duration": 12,
    "start_time": "2023-08-06T18:28:18.171Z"
   },
   {
    "duration": 12,
    "start_time": "2023-08-06T18:29:09.294Z"
   },
   {
    "duration": 4,
    "start_time": "2023-08-06T18:29:15.524Z"
   },
   {
    "duration": 5,
    "start_time": "2023-08-06T18:30:35.224Z"
   },
   {
    "duration": 4,
    "start_time": "2023-08-06T18:30:46.790Z"
   },
   {
    "duration": 7,
    "start_time": "2023-08-06T18:32:32.469Z"
   },
   {
    "duration": 6,
    "start_time": "2023-08-06T18:32:38.633Z"
   },
   {
    "duration": 4,
    "start_time": "2023-08-06T18:32:43.979Z"
   },
   {
    "duration": 19,
    "start_time": "2023-08-06T18:52:47.964Z"
   },
   {
    "duration": 17,
    "start_time": "2023-08-06T18:54:02.028Z"
   },
   {
    "duration": 12,
    "start_time": "2023-08-06T18:54:18.334Z"
   },
   {
    "duration": 13,
    "start_time": "2023-08-06T18:54:49.162Z"
   },
   {
    "duration": 5,
    "start_time": "2023-08-06T18:56:16.991Z"
   },
   {
    "duration": 15,
    "start_time": "2023-08-06T18:56:17.880Z"
   },
   {
    "duration": 15,
    "start_time": "2023-08-06T18:56:53.930Z"
   },
   {
    "duration": 11,
    "start_time": "2023-08-06T18:57:28.930Z"
   },
   {
    "duration": 3,
    "start_time": "2023-08-06T18:57:42.030Z"
   },
   {
    "duration": 105,
    "start_time": "2023-08-06T19:11:05.820Z"
   },
   {
    "duration": 12,
    "start_time": "2023-08-06T19:15:12.960Z"
   },
   {
    "duration": 11,
    "start_time": "2023-08-06T19:15:31.679Z"
   },
   {
    "duration": 5,
    "start_time": "2023-08-06T19:16:06.956Z"
   },
   {
    "duration": 10,
    "start_time": "2023-08-06T19:16:13.128Z"
   },
   {
    "duration": 10,
    "start_time": "2023-08-06T19:16:14.055Z"
   },
   {
    "duration": 12,
    "start_time": "2023-08-06T19:16:44.151Z"
   },
   {
    "duration": 11,
    "start_time": "2023-08-06T19:16:45.087Z"
   },
   {
    "duration": 8,
    "start_time": "2023-08-06T19:16:54.948Z"
   },
   {
    "duration": 5,
    "start_time": "2023-08-06T19:16:55.727Z"
   },
   {
    "duration": 15,
    "start_time": "2023-08-06T19:17:14.882Z"
   },
   {
    "duration": 3,
    "start_time": "2023-08-06T19:17:17.352Z"
   },
   {
    "duration": 3,
    "start_time": "2023-08-06T19:17:26.654Z"
   },
   {
    "duration": 5,
    "start_time": "2023-08-06T19:17:37.586Z"
   },
   {
    "duration": 5,
    "start_time": "2023-08-06T19:17:47.371Z"
   },
   {
    "duration": 3,
    "start_time": "2023-08-06T19:17:58.077Z"
   },
   {
    "duration": 3654,
    "start_time": "2023-08-06T19:31:15.322Z"
   },
   {
    "duration": 103,
    "start_time": "2023-08-06T19:31:18.978Z"
   },
   {
    "duration": 15,
    "start_time": "2023-08-06T19:31:19.083Z"
   },
   {
    "duration": 82,
    "start_time": "2023-08-06T19:31:19.100Z"
   },
   {
    "duration": 9,
    "start_time": "2023-08-06T19:31:19.184Z"
   },
   {
    "duration": 74,
    "start_time": "2023-08-06T19:31:19.195Z"
   },
   {
    "duration": 5,
    "start_time": "2023-08-06T19:31:19.272Z"
   },
   {
    "duration": 6,
    "start_time": "2023-08-06T19:31:19.279Z"
   },
   {
    "duration": 80,
    "start_time": "2023-08-06T19:31:19.287Z"
   },
   {
    "duration": 6,
    "start_time": "2023-08-06T19:31:19.370Z"
   },
   {
    "duration": 8,
    "start_time": "2023-08-06T19:31:19.377Z"
   },
   {
    "duration": 11,
    "start_time": "2023-08-06T19:31:19.386Z"
   },
   {
    "duration": 282,
    "start_time": "2023-08-06T19:31:19.399Z"
   },
   {
    "duration": 5,
    "start_time": "2023-08-06T19:31:19.682Z"
   },
   {
    "duration": 3992,
    "start_time": "2023-08-06T19:31:19.688Z"
   },
   {
    "duration": 3,
    "start_time": "2023-08-06T19:31:23.682Z"
   },
   {
    "duration": 11128,
    "start_time": "2023-08-06T19:31:23.687Z"
   },
   {
    "duration": 52,
    "start_time": "2023-08-06T19:31:34.817Z"
   },
   {
    "duration": 15,
    "start_time": "2023-08-06T19:31:34.871Z"
   },
   {
    "duration": 13,
    "start_time": "2023-08-06T19:31:34.888Z"
   },
   {
    "duration": 71,
    "start_time": "2023-08-06T19:31:34.904Z"
   },
   {
    "duration": 4,
    "start_time": "2023-08-06T19:31:34.977Z"
   },
   {
    "duration": 7,
    "start_time": "2023-08-06T19:31:34.983Z"
   },
   {
    "duration": 4,
    "start_time": "2023-08-06T19:31:34.993Z"
   },
   {
    "duration": 15,
    "start_time": "2023-08-06T19:31:55.908Z"
   }
  ],
  "kernelspec": {
   "display_name": "Python 3 (ipykernel)",
   "language": "python",
   "name": "python3"
  },
  "language_info": {
   "codemirror_mode": {
    "name": "ipython",
    "version": 3
   },
   "file_extension": ".py",
   "mimetype": "text/x-python",
   "name": "python",
   "nbconvert_exporter": "python",
   "pygments_lexer": "ipython3",
   "version": "3.9.17"
  },
  "toc": {
   "base_numbering": 1,
   "nav_menu": {},
   "number_sections": true,
   "sideBar": true,
   "skip_h1_title": true,
   "title_cell": "Table of Contents",
   "title_sidebar": "Contents",
   "toc_cell": false,
   "toc_position": {},
   "toc_section_display": true,
   "toc_window_display": false
  }
 },
 "nbformat": 4,
 "nbformat_minor": 4
}
