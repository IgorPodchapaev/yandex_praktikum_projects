{
 "cells": [
  {
   "cell_type": "markdown",
   "id": "0a31b2ab",
   "metadata": {},
   "source": [
    "# Исследование надежности заемщиков"
   ]
  },
  {
   "cell_type": "markdown",
   "id": "4bea78bf",
   "metadata": {},
   "source": [
    "## Описание проекта\n",
    "\n",
    "Заказчик — кредитный отдел банка. Нужно разобраться, влияет ли семейное положение и количество детей клиента на факт погашения кредита в срок. Входные данные от банка — статистика о платёжеспособности клиентов.\n",
    "Результаты исследования будут учтены при построении модели кредитного скоринга — специальной системы, которая оценивает способность потенциального заёмщика вернуть кредит банку."
   ]
  },
  {
   "cell_type": "markdown",
   "id": "6d1c69f7",
   "metadata": {},
   "source": [
    "## План выполнения проекта\n",
    "\n",
    "1. Откроем таблицу и изучим данные:\n",
    "    * Выведем основную информацию о датафрейме.\n",
    "0. Предобработаем данные:\n",
    "    * Обработаем или удалим пропуски;\n",
    "    * Обработаем аномальные значения;\n",
    "    * Изменим типы данных;\n",
    "    * Обработаем явные и неявные дубликаты;\n",
    "    * Проведем категоризацию данных.\n",
    "0. Исследуем данные и ответьте на вопросы:\n",
    "    * Есть ли зависимость между количеством детей и возвратом кредита в срок?\n",
    "    * Есть ли зависимость между семейным положением и возвратом кредита в срок?\n",
    "    * Есть ли зависимость между уровнем дохода и возвратом кредита в срок?\n",
    "    * Как разные цели кредита влияют на его возврат в срок?\n",
    "    * Приведем возможные причины появления пропусков в исходных данных.\n",
    "0. Напишем общий вывод."
   ]
  },
  {
   "cell_type": "markdown",
   "id": "97ea553c",
   "metadata": {},
   "source": [
    "## Описание данных\n",
    "\n",
    "* `children` — количество детей в семье;\n",
    "* `days_employed` — общий трудовой стаж в днях;\n",
    "* `dob_years` — возраст клиента в годах;\n",
    "* `education` — уровень образования клиента;\n",
    "* `education_id` — идентификатор уровня образования;\n",
    "* `family_status` — семейное положение;\n",
    "* `family_status_id` — идентификатор семейного положения;\n",
    "* `gender` — пол клиента;\n",
    "* `income_type` — тип занятости;\n",
    "* `debt` — имел ли задолженность по возврату кредитов;\n",
    "* `total_income` — ежемесячный доход;\n",
    "* `purpose` — цель получения кредита."
   ]
  },
  {
   "cell_type": "markdown",
   "id": "139d58ad",
   "metadata": {},
   "source": [
    "## Импорт библиотек"
   ]
  },
  {
   "cell_type": "code",
   "execution_count": 1,
   "id": "a733c791",
   "metadata": {},
   "outputs": [],
   "source": [
    "import pandas as pd\n",
    "import warnings\n",
    "warnings.filterwarnings('ignore')\n",
    "import os"
   ]
  },
  {
   "cell_type": "markdown",
   "id": "fd05a194",
   "metadata": {},
   "source": [
    "### 1. Откроем таблицу и изучим общую информацию о данных.\n",
    "Считаем данные из csv-файла в датафрейм и сохраним в переменную data:"
   ]
  },
  {
   "cell_type": "code",
   "execution_count": 2,
   "id": "8cd75a62",
   "metadata": {},
   "outputs": [],
   "source": [
    "data_1 = 'data.csv'\n",
    "data_2 = 'https://code.s3.yandex.net/datasets/data.csv'\n",
    "\n",
    "if os.path.exists(data_1):\n",
    "    data = pd.read_csv(data_1)\n",
    "elif os.path.exists(data_2):\n",
    "    data = pd.read_csv(data_2)\n",
    "else:\n",
    "    print('Something is wrong')"
   ]
  },
  {
   "cell_type": "markdown",
   "id": "88d62a43",
   "metadata": {},
   "source": [
    "Выведем первые 10 строчек датафрейма `data` на экран:"
   ]
  },
  {
   "cell_type": "code",
   "execution_count": 3,
   "id": "5a0b25ab",
   "metadata": {},
   "outputs": [
    {
     "data": {
      "text/html": [
       "<div>\n",
       "<style scoped>\n",
       "    .dataframe tbody tr th:only-of-type {\n",
       "        vertical-align: middle;\n",
       "    }\n",
       "\n",
       "    .dataframe tbody tr th {\n",
       "        vertical-align: top;\n",
       "    }\n",
       "\n",
       "    .dataframe thead th {\n",
       "        text-align: right;\n",
       "    }\n",
       "</style>\n",
       "<table border=\"1\" class=\"dataframe\">\n",
       "  <thead>\n",
       "    <tr style=\"text-align: right;\">\n",
       "      <th></th>\n",
       "      <th>children</th>\n",
       "      <th>days_employed</th>\n",
       "      <th>dob_years</th>\n",
       "      <th>education</th>\n",
       "      <th>education_id</th>\n",
       "      <th>family_status</th>\n",
       "      <th>family_status_id</th>\n",
       "      <th>gender</th>\n",
       "      <th>income_type</th>\n",
       "      <th>debt</th>\n",
       "      <th>total_income</th>\n",
       "      <th>purpose</th>\n",
       "    </tr>\n",
       "  </thead>\n",
       "  <tbody>\n",
       "    <tr>\n",
       "      <th>0</th>\n",
       "      <td>1</td>\n",
       "      <td>-8437.673028</td>\n",
       "      <td>42</td>\n",
       "      <td>высшее</td>\n",
       "      <td>0</td>\n",
       "      <td>женат / замужем</td>\n",
       "      <td>0</td>\n",
       "      <td>F</td>\n",
       "      <td>сотрудник</td>\n",
       "      <td>0</td>\n",
       "      <td>253875.639453</td>\n",
       "      <td>покупка жилья</td>\n",
       "    </tr>\n",
       "    <tr>\n",
       "      <th>1</th>\n",
       "      <td>1</td>\n",
       "      <td>-4024.803754</td>\n",
       "      <td>36</td>\n",
       "      <td>среднее</td>\n",
       "      <td>1</td>\n",
       "      <td>женат / замужем</td>\n",
       "      <td>0</td>\n",
       "      <td>F</td>\n",
       "      <td>сотрудник</td>\n",
       "      <td>0</td>\n",
       "      <td>112080.014102</td>\n",
       "      <td>приобретение автомобиля</td>\n",
       "    </tr>\n",
       "    <tr>\n",
       "      <th>2</th>\n",
       "      <td>0</td>\n",
       "      <td>-5623.422610</td>\n",
       "      <td>33</td>\n",
       "      <td>Среднее</td>\n",
       "      <td>1</td>\n",
       "      <td>женат / замужем</td>\n",
       "      <td>0</td>\n",
       "      <td>M</td>\n",
       "      <td>сотрудник</td>\n",
       "      <td>0</td>\n",
       "      <td>145885.952297</td>\n",
       "      <td>покупка жилья</td>\n",
       "    </tr>\n",
       "    <tr>\n",
       "      <th>3</th>\n",
       "      <td>3</td>\n",
       "      <td>-4124.747207</td>\n",
       "      <td>32</td>\n",
       "      <td>среднее</td>\n",
       "      <td>1</td>\n",
       "      <td>женат / замужем</td>\n",
       "      <td>0</td>\n",
       "      <td>M</td>\n",
       "      <td>сотрудник</td>\n",
       "      <td>0</td>\n",
       "      <td>267628.550329</td>\n",
       "      <td>дополнительное образование</td>\n",
       "    </tr>\n",
       "    <tr>\n",
       "      <th>4</th>\n",
       "      <td>0</td>\n",
       "      <td>340266.072047</td>\n",
       "      <td>53</td>\n",
       "      <td>среднее</td>\n",
       "      <td>1</td>\n",
       "      <td>гражданский брак</td>\n",
       "      <td>1</td>\n",
       "      <td>F</td>\n",
       "      <td>пенсионер</td>\n",
       "      <td>0</td>\n",
       "      <td>158616.077870</td>\n",
       "      <td>сыграть свадьбу</td>\n",
       "    </tr>\n",
       "    <tr>\n",
       "      <th>5</th>\n",
       "      <td>0</td>\n",
       "      <td>-926.185831</td>\n",
       "      <td>27</td>\n",
       "      <td>высшее</td>\n",
       "      <td>0</td>\n",
       "      <td>гражданский брак</td>\n",
       "      <td>1</td>\n",
       "      <td>M</td>\n",
       "      <td>компаньон</td>\n",
       "      <td>0</td>\n",
       "      <td>255763.565419</td>\n",
       "      <td>покупка жилья</td>\n",
       "    </tr>\n",
       "    <tr>\n",
       "      <th>6</th>\n",
       "      <td>0</td>\n",
       "      <td>-2879.202052</td>\n",
       "      <td>43</td>\n",
       "      <td>высшее</td>\n",
       "      <td>0</td>\n",
       "      <td>женат / замужем</td>\n",
       "      <td>0</td>\n",
       "      <td>F</td>\n",
       "      <td>компаньон</td>\n",
       "      <td>0</td>\n",
       "      <td>240525.971920</td>\n",
       "      <td>операции с жильем</td>\n",
       "    </tr>\n",
       "    <tr>\n",
       "      <th>7</th>\n",
       "      <td>0</td>\n",
       "      <td>-152.779569</td>\n",
       "      <td>50</td>\n",
       "      <td>СРЕДНЕЕ</td>\n",
       "      <td>1</td>\n",
       "      <td>женат / замужем</td>\n",
       "      <td>0</td>\n",
       "      <td>M</td>\n",
       "      <td>сотрудник</td>\n",
       "      <td>0</td>\n",
       "      <td>135823.934197</td>\n",
       "      <td>образование</td>\n",
       "    </tr>\n",
       "    <tr>\n",
       "      <th>8</th>\n",
       "      <td>2</td>\n",
       "      <td>-6929.865299</td>\n",
       "      <td>35</td>\n",
       "      <td>ВЫСШЕЕ</td>\n",
       "      <td>0</td>\n",
       "      <td>гражданский брак</td>\n",
       "      <td>1</td>\n",
       "      <td>F</td>\n",
       "      <td>сотрудник</td>\n",
       "      <td>0</td>\n",
       "      <td>95856.832424</td>\n",
       "      <td>на проведение свадьбы</td>\n",
       "    </tr>\n",
       "    <tr>\n",
       "      <th>9</th>\n",
       "      <td>0</td>\n",
       "      <td>-2188.756445</td>\n",
       "      <td>41</td>\n",
       "      <td>среднее</td>\n",
       "      <td>1</td>\n",
       "      <td>женат / замужем</td>\n",
       "      <td>0</td>\n",
       "      <td>M</td>\n",
       "      <td>сотрудник</td>\n",
       "      <td>0</td>\n",
       "      <td>144425.938277</td>\n",
       "      <td>покупка жилья для семьи</td>\n",
       "    </tr>\n",
       "  </tbody>\n",
       "</table>\n",
       "</div>"
      ],
      "text/plain": [
       "   children  days_employed  dob_years education  education_id  \\\n",
       "0         1   -8437.673028         42    высшее             0   \n",
       "1         1   -4024.803754         36   среднее             1   \n",
       "2         0   -5623.422610         33   Среднее             1   \n",
       "3         3   -4124.747207         32   среднее             1   \n",
       "4         0  340266.072047         53   среднее             1   \n",
       "5         0    -926.185831         27    высшее             0   \n",
       "6         0   -2879.202052         43    высшее             0   \n",
       "7         0    -152.779569         50   СРЕДНЕЕ             1   \n",
       "8         2   -6929.865299         35    ВЫСШЕЕ             0   \n",
       "9         0   -2188.756445         41   среднее             1   \n",
       "\n",
       "      family_status  family_status_id gender income_type  debt   total_income  \\\n",
       "0   женат / замужем                 0      F   сотрудник     0  253875.639453   \n",
       "1   женат / замужем                 0      F   сотрудник     0  112080.014102   \n",
       "2   женат / замужем                 0      M   сотрудник     0  145885.952297   \n",
       "3   женат / замужем                 0      M   сотрудник     0  267628.550329   \n",
       "4  гражданский брак                 1      F   пенсионер     0  158616.077870   \n",
       "5  гражданский брак                 1      M   компаньон     0  255763.565419   \n",
       "6   женат / замужем                 0      F   компаньон     0  240525.971920   \n",
       "7   женат / замужем                 0      M   сотрудник     0  135823.934197   \n",
       "8  гражданский брак                 1      F   сотрудник     0   95856.832424   \n",
       "9   женат / замужем                 0      M   сотрудник     0  144425.938277   \n",
       "\n",
       "                      purpose  \n",
       "0               покупка жилья  \n",
       "1     приобретение автомобиля  \n",
       "2               покупка жилья  \n",
       "3  дополнительное образование  \n",
       "4             сыграть свадьбу  \n",
       "5               покупка жилья  \n",
       "6           операции с жильем  \n",
       "7                 образование  \n",
       "8       на проведение свадьбы  \n",
       "9     покупка жилья для семьи  "
      ]
     },
     "execution_count": 3,
     "metadata": {},
     "output_type": "execute_result"
    }
   ],
   "source": [
    "data.head(10)"
   ]
  },
  {
   "cell_type": "markdown",
   "id": "85ed2a9f",
   "metadata": {},
   "source": [
    "Выведем основную информацию о датафрейме с помощью метода `info()`:"
   ]
  },
  {
   "cell_type": "code",
   "execution_count": 4,
   "id": "809dad72",
   "metadata": {},
   "outputs": [
    {
     "name": "stdout",
     "output_type": "stream",
     "text": [
      "<class 'pandas.core.frame.DataFrame'>\n",
      "RangeIndex: 21525 entries, 0 to 21524\n",
      "Data columns (total 12 columns):\n",
      " #   Column            Non-Null Count  Dtype  \n",
      "---  ------            --------------  -----  \n",
      " 0   children          21525 non-null  int64  \n",
      " 1   days_employed     19351 non-null  float64\n",
      " 2   dob_years         21525 non-null  int64  \n",
      " 3   education         21525 non-null  object \n",
      " 4   education_id      21525 non-null  int64  \n",
      " 5   family_status     21525 non-null  object \n",
      " 6   family_status_id  21525 non-null  int64  \n",
      " 7   gender            21525 non-null  object \n",
      " 8   income_type       21525 non-null  object \n",
      " 9   debt              21525 non-null  int64  \n",
      " 10  total_income      19351 non-null  float64\n",
      " 11  purpose           21525 non-null  object \n",
      "dtypes: float64(2), int64(5), object(5)\n",
      "memory usage: 2.0+ MB\n"
     ]
    }
   ],
   "source": [
    "data.info()"
   ]
  },
  {
   "cell_type": "markdown",
   "id": "f4803e87",
   "metadata": {},
   "source": [
    "### 2. Предобработка данных"
   ]
  },
  {
   "cell_type": "markdown",
   "id": "cb4b8ea5",
   "metadata": {},
   "source": [
    "#### Обработаем пропуски:\n",
    "Выведем количество пропущенных значений для каждого столбца:"
   ]
  },
  {
   "cell_type": "code",
   "execution_count": 5,
   "id": "b4bac45b",
   "metadata": {},
   "outputs": [
    {
     "data": {
      "text/plain": [
       "children               0\n",
       "days_employed       2174\n",
       "dob_years              0\n",
       "education              0\n",
       "education_id           0\n",
       "family_status          0\n",
       "family_status_id       0\n",
       "gender                 0\n",
       "income_type            0\n",
       "debt                   0\n",
       "total_income        2174\n",
       "purpose                0\n",
       "dtype: int64"
      ]
     },
     "execution_count": 5,
     "metadata": {},
     "output_type": "execute_result"
    }
   ],
   "source": [
    "data.isna().sum()"
   ]
  },
  {
   "cell_type": "markdown",
   "id": "43493fc2",
   "metadata": {},
   "source": [
    "В двух столбцах есть пропущенные значения. Один из них `total_income` — хранит данные о доходах. На сумму дохода сильнее всего влияет тип занятости, поэтому заполнить пропуски в этом столбце нужно медианным значением по каждому типу из столбца `income_type`:"
   ]
  },
  {
   "cell_type": "code",
   "execution_count": 6,
   "id": "755c917f",
   "metadata": {},
   "outputs": [],
   "source": [
    "for types in data['income_type'].unique():\n",
    "    data.loc[(data['income_type'] == types) & (data['total_income'].isna()), 'total_income'] = \\\n",
    "    data.loc[(data['income_type'] == types), 'total_income'].median()"
   ]
  },
  {
   "cell_type": "markdown",
   "id": "3e0e131c",
   "metadata": {},
   "source": [
    "Заполним пропуски в столбце `days_employed` медианными значениями по каждого типа занятости `income_type`:"
   ]
  },
  {
   "cell_type": "code",
   "execution_count": 7,
   "id": "f6e25c9d",
   "metadata": {},
   "outputs": [],
   "source": [
    "for types in data['income_type'].unique():\n",
    "    data.loc[(data['income_type'] == types) & (data['days_employed'].isna()), 'days_employed'] = \\\n",
    "    data.loc[(data['income_type'] == types), 'days_employed'].median()"
   ]
  },
  {
   "cell_type": "markdown",
   "id": "9e1df6f9",
   "metadata": {},
   "source": [
    "Обработаем значения в столбце `days_employed`: заменим все отрицательные значения положительными с помощью метода `abs()`:"
   ]
  },
  {
   "cell_type": "code",
   "execution_count": 8,
   "id": "027e6b18",
   "metadata": {},
   "outputs": [],
   "source": [
    "data['days_employed'] = data['days_employed'].abs()"
   ]
  },
  {
   "cell_type": "markdown",
   "id": "bcdfffa2",
   "metadata": {},
   "source": [
    "Для каждого типа занятости выведем медианное значение трудового стажа `days_employed` в днях:"
   ]
  },
  {
   "cell_type": "code",
   "execution_count": 9,
   "id": "7af6075a",
   "metadata": {},
   "outputs": [
    {
     "data": {
      "text/plain": [
       "income_type\n",
       "безработный        366413.652744\n",
       "в декрете            3296.759962\n",
       "госслужащий          2689.368353\n",
       "компаньон            1547.382223\n",
       "пенсионер          365213.306266\n",
       "предприниматель       520.848083\n",
       "сотрудник            1574.202821\n",
       "студент               578.751554\n",
       "Name: days_employed, dtype: float64"
      ]
     },
     "execution_count": 9,
     "metadata": {},
     "output_type": "execute_result"
    }
   ],
   "source": [
    "data.groupby('income_type')['days_employed'].agg('median')"
   ]
  },
  {
   "cell_type": "markdown",
   "id": "ce1bec0a",
   "metadata": {},
   "source": [
    "У двух типов (безработные и пенсионеры) получаются аномально большие значения. Исправить такие значения сложно, поэтому оставим их как есть. Тем более этот столбец не понадобится нам для исследования."
   ]
  },
  {
   "cell_type": "markdown",
   "id": "ef9559d4",
   "metadata": {},
   "source": [
    "Выведитем перечень уникальных значений столбца `children`:"
   ]
  },
  {
   "cell_type": "code",
   "execution_count": 10,
   "id": "931b17fd",
   "metadata": {},
   "outputs": [
    {
     "data": {
      "text/plain": [
       "array([ 1,  0,  3,  2, -1,  4, 20,  5], dtype=int64)"
      ]
     },
     "execution_count": 10,
     "metadata": {},
     "output_type": "execute_result"
    }
   ],
   "source": [
    "data['children'].unique()"
   ]
  },
  {
   "cell_type": "markdown",
   "id": "fec09428",
   "metadata": {},
   "source": [
    "В столбце `children` есть два аномальных значения. Удалим строки, в которых встречаются такие аномальные значения из датафрейма `data`:"
   ]
  },
  {
   "cell_type": "code",
   "execution_count": 11,
   "id": "093ace48",
   "metadata": {},
   "outputs": [],
   "source": [
    "data = data[(data['children'] != -1) & (data['children'] != 20)]"
   ]
  },
  {
   "cell_type": "markdown",
   "id": "50d37e74",
   "metadata": {},
   "source": [
    "Убедимся, что артефакты удалены:"
   ]
  },
  {
   "cell_type": "code",
   "execution_count": 12,
   "id": "a8537e15",
   "metadata": {},
   "outputs": [
    {
     "data": {
      "text/plain": [
       "array([1, 0, 3, 2, 4, 5], dtype=int64)"
      ]
     },
     "execution_count": 12,
     "metadata": {},
     "output_type": "execute_result"
    }
   ],
   "source": [
    "data['children'].unique()"
   ]
  },
  {
   "cell_type": "markdown",
   "id": "bf0fd34e",
   "metadata": {},
   "source": [
    "Убедитесь, что все пропуски заполнены:"
   ]
  },
  {
   "cell_type": "code",
   "execution_count": 13,
   "id": "ad3b6b54",
   "metadata": {},
   "outputs": [
    {
     "data": {
      "text/plain": [
       "children            0\n",
       "days_employed       0\n",
       "dob_years           0\n",
       "education           0\n",
       "education_id        0\n",
       "family_status       0\n",
       "family_status_id    0\n",
       "gender              0\n",
       "income_type         0\n",
       "debt                0\n",
       "total_income        0\n",
       "purpose             0\n",
       "dtype: int64"
      ]
     },
     "execution_count": 13,
     "metadata": {},
     "output_type": "execute_result"
    }
   ],
   "source": [
    "data.isna().sum()"
   ]
  },
  {
   "cell_type": "markdown",
   "id": "b101b4f4",
   "metadata": {},
   "source": [
    "#### Изменение типов данных"
   ]
  },
  {
   "cell_type": "markdown",
   "id": "729d3542",
   "metadata": {},
   "source": [
    "Заменим вещественный тип данных в столбце `total_income` на целочисленный с помощью метода astype():"
   ]
  },
  {
   "cell_type": "code",
   "execution_count": 14,
   "id": "f4cdc0d7",
   "metadata": {},
   "outputs": [],
   "source": [
    "data['total_income'] = data['total_income'].astype(int)"
   ]
  },
  {
   "cell_type": "markdown",
   "id": "6f41cb7c",
   "metadata": {},
   "source": [
    "#### Обработка дубликатов"
   ]
  },
  {
   "cell_type": "markdown",
   "id": "24828ffd",
   "metadata": {},
   "source": [
    "Обработаем неявные дубликаты в столбце `education`. В этом столбце есть одни и те же значения, но записанные по-разному: с использованием заглавных и строчных букв:"
   ]
  },
  {
   "cell_type": "code",
   "execution_count": 15,
   "id": "f19a6c9b",
   "metadata": {},
   "outputs": [],
   "source": [
    "data['education'] = data['education'].str.lower()"
   ]
  },
  {
   "cell_type": "markdown",
   "id": "86bc1008",
   "metadata": {},
   "source": [
    "Выведем на экран количество строк-дубликатов в данных. Если такие строки присутствуют, удалим их:"
   ]
  },
  {
   "cell_type": "code",
   "execution_count": 16,
   "id": "515cc945",
   "metadata": {},
   "outputs": [
    {
     "data": {
      "text/plain": [
       "71"
      ]
     },
     "execution_count": 16,
     "metadata": {},
     "output_type": "execute_result"
    }
   ],
   "source": [
    "data.duplicated().sum()"
   ]
  },
  {
   "cell_type": "code",
   "execution_count": 17,
   "id": "7e14f9dd",
   "metadata": {},
   "outputs": [],
   "source": [
    "data = data.drop_duplicates()"
   ]
  },
  {
   "cell_type": "markdown",
   "id": "a7297884",
   "metadata": {},
   "source": [
    "Проверим:"
   ]
  },
  {
   "cell_type": "code",
   "execution_count": 18,
   "id": "4c2092af",
   "metadata": {},
   "outputs": [
    {
     "data": {
      "text/plain": [
       "0"
      ]
     },
     "execution_count": 18,
     "metadata": {},
     "output_type": "execute_result"
    }
   ],
   "source": [
    "data.duplicated().sum()"
   ]
  },
  {
   "cell_type": "markdown",
   "id": "a2174f0b",
   "metadata": {},
   "source": [
    "#### Категоризация данных"
   ]
  },
  {
   "cell_type": "markdown",
   "id": "39fc0299",
   "metadata": {},
   "source": [
    "На основании диапазонов, указанных ниже, создадим в датафрейме `data` столбец `total_income_category` с категориями:\n",
    "\n",
    "* 0–30000 — 'E';\n",
    "* 30001–50000 — 'D';\n",
    "* 50001–200000 — 'C';\n",
    "* 200001–1000000 — 'B';\n",
    "* 1000001 и выше — 'A'."
   ]
  },
  {
   "cell_type": "code",
   "execution_count": 19,
   "id": "e7495654",
   "metadata": {},
   "outputs": [],
   "source": [
    "def categorize_income(income):\n",
    "        if 0 <= income <= 30000:\n",
    "            return 'E'\n",
    "        elif 30001 <= income <= 50000:\n",
    "            return 'D'\n",
    "        elif 50001 <= income <= 200000:\n",
    "            return 'C'\n",
    "        elif 200001 <= income <= 1000000:\n",
    "            return 'B'\n",
    "        elif income >= 1000001:\n",
    "            return 'A'"
   ]
  },
  {
   "cell_type": "code",
   "execution_count": 20,
   "id": "963710cd",
   "metadata": {},
   "outputs": [],
   "source": [
    "data['total_income_category'] = data['total_income'].apply(categorize_income)"
   ]
  },
  {
   "cell_type": "markdown",
   "id": "dc5caef6",
   "metadata": {},
   "source": [
    "Выведим на экран перечень уникальных целей взятия кредита из столбца `purpose`:"
   ]
  },
  {
   "cell_type": "code",
   "execution_count": 21,
   "id": "c0c7dae5",
   "metadata": {},
   "outputs": [
    {
     "data": {
      "text/plain": [
       "array(['покупка жилья', 'приобретение автомобиля',\n",
       "       'дополнительное образование', 'сыграть свадьбу',\n",
       "       'операции с жильем', 'образование', 'на проведение свадьбы',\n",
       "       'покупка жилья для семьи', 'покупка недвижимости',\n",
       "       'покупка коммерческой недвижимости', 'покупка жилой недвижимости',\n",
       "       'строительство собственной недвижимости', 'недвижимость',\n",
       "       'строительство недвижимости', 'на покупку подержанного автомобиля',\n",
       "       'на покупку своего автомобиля',\n",
       "       'операции с коммерческой недвижимостью',\n",
       "       'строительство жилой недвижимости', 'жилье',\n",
       "       'операции со своей недвижимостью', 'автомобили',\n",
       "       'заняться образованием', 'сделка с подержанным автомобилем',\n",
       "       'получение образования', 'автомобиль', 'свадьба',\n",
       "       'получение дополнительного образования', 'покупка своего жилья',\n",
       "       'операции с недвижимостью', 'получение высшего образования',\n",
       "       'свой автомобиль', 'сделка с автомобилем',\n",
       "       'профильное образование', 'высшее образование',\n",
       "       'покупка жилья для сдачи', 'на покупку автомобиля', 'ремонт жилью',\n",
       "       'заняться высшим образованием'], dtype=object)"
      ]
     },
     "execution_count": 21,
     "metadata": {},
     "output_type": "execute_result"
    }
   ],
   "source": [
    "data['purpose'].unique()"
   ]
  },
  {
   "cell_type": "markdown",
   "id": "5d435cdb",
   "metadata": {},
   "source": [
    "Создадим функцию, которая на основании данных из столбца `purpose` сформирует новый столбец `purpose_category`, в который войдут следующие категории:\n",
    "\n",
    "* 'операции с автомобилем';\n",
    "* 'операции с недвижимостью';\n",
    "* 'проведение свадьбы';\n",
    "* 'получение образования'."
   ]
  },
  {
   "cell_type": "code",
   "execution_count": 22,
   "id": "1637280d",
   "metadata": {},
   "outputs": [],
   "source": [
    "def categorize_purpose(row):\n",
    "    try:\n",
    "        if 'автом' in row:\n",
    "            return 'операции с автомобилем'\n",
    "        elif 'жил' in row or 'недвиж' in row:\n",
    "            return 'операции с недвижимостью'\n",
    "        elif 'свад' in row:\n",
    "            return 'проведение свадьбы'\n",
    "        elif 'образов' in row:\n",
    "            return 'получение образования'\n",
    "    except:\n",
    "        return 'нет категории или другая ошибка'"
   ]
  },
  {
   "cell_type": "code",
   "execution_count": 23,
   "id": "0ac2c206",
   "metadata": {},
   "outputs": [],
   "source": [
    "data['purpose_category'] = data['purpose'].apply(categorize_purpose)"
   ]
  },
  {
   "cell_type": "markdown",
   "id": "3a66f265",
   "metadata": {},
   "source": [
    "### 3. Исследуйте данные и ответим на вопросы:\n",
    "#### Есть ли зависимость между количеством детей и возвратом кредита в срок?"
   ]
  },
  {
   "cell_type": "markdown",
   "id": "b52155fa",
   "metadata": {},
   "source": [
    "Для проверки данной гипотезы, для каждой категории необходимо посчитать количество должников, количество людей, которые вернули кредит в срок, и соотношение должников к общему количеству людей в каждой группе:"
   ]
  },
  {
   "cell_type": "code",
   "execution_count": 24,
   "id": "4bd94a38",
   "metadata": {},
   "outputs": [],
   "source": [
    "credit3_1 = data.pivot_table(index = [ 'children'], values = 'debt', aggfunc = {'count','sum'}) # создадим сводную таблицу\n",
    "credit3_1 = credit3_1.rename(columns={'count':'total_debtor','sum':'nice_debtor'}) # заменим название колонок sum и count на более читаемые\n",
    "credit3_1['ratio'] = credit3_1['nice_debtor']/credit3_1['total_debtor'] # посчитаем соотношение должников к общему количеству людей в каждой группе\n",
    "credit3_1 = credit3_1.sort_values(by='ratio', ascending=True) # отсортируем данные в поряке возрастания"
   ]
  },
  {
   "cell_type": "code",
   "execution_count": 25,
   "id": "271db096",
   "metadata": {
    "scrolled": true
   },
   "outputs": [
    {
     "data": {
      "text/html": [
       "<div>\n",
       "<style scoped>\n",
       "    .dataframe tbody tr th:only-of-type {\n",
       "        vertical-align: middle;\n",
       "    }\n",
       "\n",
       "    .dataframe tbody tr th {\n",
       "        vertical-align: top;\n",
       "    }\n",
       "\n",
       "    .dataframe thead th {\n",
       "        text-align: right;\n",
       "    }\n",
       "</style>\n",
       "<table border=\"1\" class=\"dataframe\">\n",
       "  <thead>\n",
       "    <tr style=\"text-align: right;\">\n",
       "      <th></th>\n",
       "      <th>total_debtor</th>\n",
       "      <th>nice_debtor</th>\n",
       "      <th>ratio</th>\n",
       "    </tr>\n",
       "    <tr>\n",
       "      <th>children</th>\n",
       "      <th></th>\n",
       "      <th></th>\n",
       "      <th></th>\n",
       "    </tr>\n",
       "  </thead>\n",
       "  <tbody>\n",
       "    <tr>\n",
       "      <th>5</th>\n",
       "      <td>9</td>\n",
       "      <td>0</td>\n",
       "      <td>0.000000</td>\n",
       "    </tr>\n",
       "    <tr>\n",
       "      <th>0</th>\n",
       "      <td>14091</td>\n",
       "      <td>1063</td>\n",
       "      <td>0.075438</td>\n",
       "    </tr>\n",
       "    <tr>\n",
       "      <th>3</th>\n",
       "      <td>330</td>\n",
       "      <td>27</td>\n",
       "      <td>0.081818</td>\n",
       "    </tr>\n",
       "    <tr>\n",
       "      <th>1</th>\n",
       "      <td>4808</td>\n",
       "      <td>444</td>\n",
       "      <td>0.092346</td>\n",
       "    </tr>\n",
       "    <tr>\n",
       "      <th>2</th>\n",
       "      <td>2052</td>\n",
       "      <td>194</td>\n",
       "      <td>0.094542</td>\n",
       "    </tr>\n",
       "    <tr>\n",
       "      <th>4</th>\n",
       "      <td>41</td>\n",
       "      <td>4</td>\n",
       "      <td>0.097561</td>\n",
       "    </tr>\n",
       "  </tbody>\n",
       "</table>\n",
       "</div>"
      ],
      "text/plain": [
       "          total_debtor  nice_debtor     ratio\n",
       "children                                     \n",
       "5                    9            0  0.000000\n",
       "0                14091         1063  0.075438\n",
       "3                  330           27  0.081818\n",
       "1                 4808          444  0.092346\n",
       "2                 2052          194  0.094542\n",
       "4                   41            4  0.097561"
      ]
     },
     "execution_count": 25,
     "metadata": {},
     "output_type": "execute_result"
    }
   ],
   "source": [
    "credit3_1"
   ]
  },
  {
   "cell_type": "markdown",
   "id": "d70817db",
   "metadata": {},
   "source": [
    "#### Вывод:\n",
    "По данным сводной таблицы, можно сделать вывод о том, что зависимость между количеством детей у заемщика и возвратом кредита в срок есть. А именно, cамые ненадежные заемщики с самой высокой долей просрочек `0.097561` - это многодетные семьи с 4-мя детьми. Самые надежные заемщики с самой низкой долей просрочек по кредиту `0.075438` - это заемщики без детей.Также мы обнаружили интересную аномалию, у заемщиков с 5-ю детьми доля просрочек `0`, но явный вывод о том что это самые надежные заемщики, мы сделать не можем."
   ]
  },
  {
   "cell_type": "markdown",
   "id": "77f110c1",
   "metadata": {},
   "source": [
    "#### Есть ли зависимость между семейным положением и возвратом кредита в срок?"
   ]
  },
  {
   "cell_type": "markdown",
   "id": "809dee5f",
   "metadata": {},
   "source": [
    "Для проверки данной гипотезы, для каждой категории необходимо посчитать количество должников, количество людей, которые вернули кредит в срок, и соотношение должников к общему количеству людей в каждой группе:"
   ]
  },
  {
   "cell_type": "code",
   "execution_count": 26,
   "id": "d4e148c3",
   "metadata": {},
   "outputs": [],
   "source": [
    "credit3_2 = data.pivot_table(index = [ 'family_status'], values = 'debt', aggfunc = {'count','sum'}) # создадим сводную таблицу\n",
    "credit3_2 = credit3_2.rename(columns={'count':'total_debtor','sum':'nice_debtor'}) # заменим название колонок sum и count на более читаемые\n",
    "credit3_2['ratio'] = credit3_2['nice_debtor']/credit3_2['total_debtor'] # посчитаем соотношение должников к общему количеству людей в каждой группе\n",
    "credit3_2 = credit3_2.sort_values(by='ratio', ascending=True)"
   ]
  },
  {
   "cell_type": "code",
   "execution_count": 27,
   "id": "7dc1fafe",
   "metadata": {},
   "outputs": [
    {
     "data": {
      "text/html": [
       "<div>\n",
       "<style scoped>\n",
       "    .dataframe tbody tr th:only-of-type {\n",
       "        vertical-align: middle;\n",
       "    }\n",
       "\n",
       "    .dataframe tbody tr th {\n",
       "        vertical-align: top;\n",
       "    }\n",
       "\n",
       "    .dataframe thead th {\n",
       "        text-align: right;\n",
       "    }\n",
       "</style>\n",
       "<table border=\"1\" class=\"dataframe\">\n",
       "  <thead>\n",
       "    <tr style=\"text-align: right;\">\n",
       "      <th></th>\n",
       "      <th>total_debtor</th>\n",
       "      <th>nice_debtor</th>\n",
       "      <th>ratio</th>\n",
       "    </tr>\n",
       "    <tr>\n",
       "      <th>family_status</th>\n",
       "      <th></th>\n",
       "      <th></th>\n",
       "      <th></th>\n",
       "    </tr>\n",
       "  </thead>\n",
       "  <tbody>\n",
       "    <tr>\n",
       "      <th>вдовец / вдова</th>\n",
       "      <td>951</td>\n",
       "      <td>63</td>\n",
       "      <td>0.066246</td>\n",
       "    </tr>\n",
       "    <tr>\n",
       "      <th>в разводе</th>\n",
       "      <td>1189</td>\n",
       "      <td>84</td>\n",
       "      <td>0.070648</td>\n",
       "    </tr>\n",
       "    <tr>\n",
       "      <th>женат / замужем</th>\n",
       "      <td>12261</td>\n",
       "      <td>927</td>\n",
       "      <td>0.075606</td>\n",
       "    </tr>\n",
       "    <tr>\n",
       "      <th>гражданский брак</th>\n",
       "      <td>4134</td>\n",
       "      <td>385</td>\n",
       "      <td>0.093130</td>\n",
       "    </tr>\n",
       "    <tr>\n",
       "      <th>Не женат / не замужем</th>\n",
       "      <td>2796</td>\n",
       "      <td>273</td>\n",
       "      <td>0.097639</td>\n",
       "    </tr>\n",
       "  </tbody>\n",
       "</table>\n",
       "</div>"
      ],
      "text/plain": [
       "                       total_debtor  nice_debtor     ratio\n",
       "family_status                                             \n",
       "вдовец / вдова                  951           63  0.066246\n",
       "в разводе                      1189           84  0.070648\n",
       "женат / замужем               12261          927  0.075606\n",
       "гражданский брак               4134          385  0.093130\n",
       "Не женат / не замужем          2796          273  0.097639"
      ]
     },
     "execution_count": 27,
     "metadata": {},
     "output_type": "execute_result"
    }
   ],
   "source": [
    "credit3_2"
   ]
  },
  {
   "cell_type": "markdown",
   "id": "df4f3785",
   "metadata": {},
   "source": [
    "#### Вывод:\n",
    "\n",
    "По данным сводной таблицы, можно сделать вывод о том, что зависимость между семейным положение заемщика и возвратом кредита в срок есть. Одинокие заемщики `family_status = 'Не женат / не замужем'` имеют наибольшую долю просрочек по кредиту `0.097639`. Овдовевшие супруги `family_status = 'вдовец / вдова'` имеют наименьшую долю просрочек по кредиту `0.066246`.\n",
    "\n",
    "В предыдущем пункте  мы сделали вывод о том, что семьи без детей платят кредит исправно. Коррелируя это с выводом из данного пункта, можно сделать вывод о том, что не иметь детей недостаточно, для того чтобы являться надежным заемщиком, нужно еще и не быть одиноким (быть женатым / замужем)."
   ]
  },
  {
   "cell_type": "markdown",
   "id": "5c415a54",
   "metadata": {},
   "source": [
    "####  Есть ли зависимость между уровнем дохода и возвратом кредита в срок?"
   ]
  },
  {
   "cell_type": "markdown",
   "id": "41983791",
   "metadata": {},
   "source": [
    "Для проверки данной гипотезы, для каждой категории необходимо посчитать количество должников, количество людей, которые вернули кредит в срок, и соотношение должников к общему количеству людей в каждой группе:"
   ]
  },
  {
   "cell_type": "code",
   "execution_count": 28,
   "id": "2d470df8",
   "metadata": {},
   "outputs": [],
   "source": [
    "credit3_3 = data.pivot_table(index = [ 'total_income_category'], values = 'debt', aggfunc = {'count','sum'}) # создадим сводную таблицу\n",
    "credit3_3 = credit3_3.rename(columns={'count':'total_debtor','sum':'nice_debtor'}) # заменим название колонок sum и count на более читаемые\n",
    "credit3_3['ratio'] = credit3_3['nice_debtor']/credit3_3['total_debtor'] # посчитаем соотношение должников к общему количеству людей в каждой группе\n",
    "credit3_3 = credit3_3.sort_values(by='ratio', ascending=True) # отсортируем данные в поряке возрастания"
   ]
  },
  {
   "cell_type": "code",
   "execution_count": 29,
   "id": "bd115fa6",
   "metadata": {},
   "outputs": [
    {
     "data": {
      "text/html": [
       "<div>\n",
       "<style scoped>\n",
       "    .dataframe tbody tr th:only-of-type {\n",
       "        vertical-align: middle;\n",
       "    }\n",
       "\n",
       "    .dataframe tbody tr th {\n",
       "        vertical-align: top;\n",
       "    }\n",
       "\n",
       "    .dataframe thead th {\n",
       "        text-align: right;\n",
       "    }\n",
       "</style>\n",
       "<table border=\"1\" class=\"dataframe\">\n",
       "  <thead>\n",
       "    <tr style=\"text-align: right;\">\n",
       "      <th></th>\n",
       "      <th>total_debtor</th>\n",
       "      <th>nice_debtor</th>\n",
       "      <th>ratio</th>\n",
       "    </tr>\n",
       "    <tr>\n",
       "      <th>total_income_category</th>\n",
       "      <th></th>\n",
       "      <th></th>\n",
       "      <th></th>\n",
       "    </tr>\n",
       "  </thead>\n",
       "  <tbody>\n",
       "    <tr>\n",
       "      <th>D</th>\n",
       "      <td>349</td>\n",
       "      <td>21</td>\n",
       "      <td>0.060172</td>\n",
       "    </tr>\n",
       "    <tr>\n",
       "      <th>B</th>\n",
       "      <td>5014</td>\n",
       "      <td>354</td>\n",
       "      <td>0.070602</td>\n",
       "    </tr>\n",
       "    <tr>\n",
       "      <th>A</th>\n",
       "      <td>25</td>\n",
       "      <td>2</td>\n",
       "      <td>0.080000</td>\n",
       "    </tr>\n",
       "    <tr>\n",
       "      <th>C</th>\n",
       "      <td>15921</td>\n",
       "      <td>1353</td>\n",
       "      <td>0.084982</td>\n",
       "    </tr>\n",
       "    <tr>\n",
       "      <th>E</th>\n",
       "      <td>22</td>\n",
       "      <td>2</td>\n",
       "      <td>0.090909</td>\n",
       "    </tr>\n",
       "  </tbody>\n",
       "</table>\n",
       "</div>"
      ],
      "text/plain": [
       "                       total_debtor  nice_debtor     ratio\n",
       "total_income_category                                     \n",
       "D                               349           21  0.060172\n",
       "B                              5014          354  0.070602\n",
       "A                                25            2  0.080000\n",
       "C                             15921         1353  0.084982\n",
       "E                                22            2  0.090909"
      ]
     },
     "execution_count": 29,
     "metadata": {},
     "output_type": "execute_result"
    }
   ],
   "source": [
    "credit3_3"
   ]
  },
  {
   "cell_type": "markdown",
   "id": "26d86c05",
   "metadata": {},
   "source": [
    "#### Вывод:\n",
    "\n",
    "По данным сводной таблицы, можно сделать вывод о том, что зависимость между уровнем дохода и возвратом кредита в срок есть. Самая высокая доля просрочек по кредиту `0.090909` у потенциальных заемщиков из категории `'Е'` с уровнем дохода `0-30000` руб. Далее, по росту надежности, следуют заемщики из категорий `'А'` с доходом выше `1000000` руб и `'С'` с доходом `50001–200000` доля просрочек которых, составляет `0.08` руб и `0.084982` руб соответственно. Самые надежные заемщики из категории `'D'` с доходом `30001–50000` руб c долей просрочек `0.060172`. Итого, исправнее всего кредит платят заемщики с доходом `30001–50000` руб."
   ]
  },
  {
   "cell_type": "markdown",
   "id": "80dc4257",
   "metadata": {},
   "source": [
    "#### Как разные цели кредита влияют на его возврат в срок?"
   ]
  },
  {
   "cell_type": "markdown",
   "id": "d84383f3",
   "metadata": {},
   "source": [
    "Для проверки данной гипотезы, для каждой категории необходимо посчитать количество должников, количество людей, которые вернули кредит в срок, и соотношение должников к общему количеству людей в каждой группе:"
   ]
  },
  {
   "cell_type": "code",
   "execution_count": 30,
   "id": "10a299fe",
   "metadata": {},
   "outputs": [],
   "source": [
    "credit3_4 = data.pivot_table(index = [ 'purpose_category'], values = 'debt', aggfunc = {'count','sum'}) # создадим сводную таблицу\n",
    "credit3_4 = credit3_4.rename(columns={'count':'total_debtor','sum':'nice_debtor'}) # заменим название колонок sum и count на более читаемые\n",
    "credit3_4['ratio'] = credit3_4['nice_debtor']/credit3_4['total_debtor'] # посчитаем соотношение должников к общему количеству людей в каждой группе\n",
    "credit3_4 = credit3_4.sort_values(by='ratio', ascending=True) # отсортируем данные в поряке возрастания"
   ]
  },
  {
   "cell_type": "code",
   "execution_count": 31,
   "id": "00784abb",
   "metadata": {},
   "outputs": [
    {
     "data": {
      "text/html": [
       "<div>\n",
       "<style scoped>\n",
       "    .dataframe tbody tr th:only-of-type {\n",
       "        vertical-align: middle;\n",
       "    }\n",
       "\n",
       "    .dataframe tbody tr th {\n",
       "        vertical-align: top;\n",
       "    }\n",
       "\n",
       "    .dataframe thead th {\n",
       "        text-align: right;\n",
       "    }\n",
       "</style>\n",
       "<table border=\"1\" class=\"dataframe\">\n",
       "  <thead>\n",
       "    <tr style=\"text-align: right;\">\n",
       "      <th></th>\n",
       "      <th>total_debtor</th>\n",
       "      <th>nice_debtor</th>\n",
       "      <th>ratio</th>\n",
       "    </tr>\n",
       "    <tr>\n",
       "      <th>purpose_category</th>\n",
       "      <th></th>\n",
       "      <th></th>\n",
       "      <th></th>\n",
       "    </tr>\n",
       "  </thead>\n",
       "  <tbody>\n",
       "    <tr>\n",
       "      <th>операции с недвижимостью</th>\n",
       "      <td>10751</td>\n",
       "      <td>780</td>\n",
       "      <td>0.072551</td>\n",
       "    </tr>\n",
       "    <tr>\n",
       "      <th>проведение свадьбы</th>\n",
       "      <td>2313</td>\n",
       "      <td>183</td>\n",
       "      <td>0.079118</td>\n",
       "    </tr>\n",
       "    <tr>\n",
       "      <th>получение образования</th>\n",
       "      <td>3988</td>\n",
       "      <td>369</td>\n",
       "      <td>0.092528</td>\n",
       "    </tr>\n",
       "    <tr>\n",
       "      <th>операции с автомобилем</th>\n",
       "      <td>4279</td>\n",
       "      <td>400</td>\n",
       "      <td>0.093480</td>\n",
       "    </tr>\n",
       "  </tbody>\n",
       "</table>\n",
       "</div>"
      ],
      "text/plain": [
       "                          total_debtor  nice_debtor     ratio\n",
       "purpose_category                                             \n",
       "операции с недвижимостью         10751          780  0.072551\n",
       "проведение свадьбы                2313          183  0.079118\n",
       "получение образования             3988          369  0.092528\n",
       "операции с автомобилем            4279          400  0.093480"
      ]
     },
     "execution_count": 31,
     "metadata": {},
     "output_type": "execute_result"
    }
   ],
   "source": [
    "credit3_4"
   ]
  },
  {
   "cell_type": "markdown",
   "id": "406457c1",
   "metadata": {},
   "source": [
    "#### Вывод:\n",
    "\n",
    "По данным сводной таблицы, можно сделать вывод о том, что самые ненадежные заемщики те, кто берут кредиты для покупки автомобиля `0.093480` и на образование `0.092528`. Далее, по росту надежности, следуют заемщики, которые берут кредиты на проведение свадьбы `0.079118`. Cамые надежные заемщики те, кто берут кредиты на операции с недвижимостью `0.072551`."
   ]
  },
  {
   "cell_type": "markdown",
   "id": "9c6c6688",
   "metadata": {},
   "source": [
    "#### Приведите возможные причины появления пропусков в исходных данных.\n",
    "Ответ:\n",
    "\n",
    "Мы получили данные о пропущенных значениях каждого столбца в исходных данных используя комбинацию двух методов, а именно isna() и sum(). В двух столбцах были найдены пропущенные значения. Один из них `days_employed`(общий трудовой стаж в днях). Другой столбец с пропущенными значениями `total_income`(ежемесячный доход). Оба столбца хранят в себе количественные данные. Так как количество строк с пропущенными значениями у этих колонок одинаковое, можно предположить, что в процессе опроса, заемщики не захотел предоставить информацию о своем стаже работы и ежемесечном доходе. Таким образом, данных пропуски можно охарактеризовать как случайные. Например, отсутствие ответа на определенный вопрос анкеты может зависеть от возраста человека. Молодые охотнее отвечают на вопрос, люди более пожилого возраста скорее избегают ответа.\n",
    "\n",
    "Но не стоит забывать и про технические ошибки, они тоже могут повлиять на их появления."
   ]
  },
  {
   "cell_type": "markdown",
   "id": "20442654",
   "metadata": {},
   "source": [
    "#### Объясните, почему заполнить пропуски медианным значением — лучшее решение для количественных переменных.\n",
    "Ответ:\n",
    "\n",
    "Медианное значение лучше отражает выборку в случае, если есть незаполненные данные. Среднее арифметическое отражает ситуацию некорректно, так как не учитывает разброс данных."
   ]
  },
  {
   "cell_type": "markdown",
   "id": "d0165de0",
   "metadata": {},
   "source": [
    "### 4. Общий вывод:"
   ]
  },
  {
   "cell_type": "markdown",
   "id": "487d53a7",
   "metadata": {},
   "source": [
    "Были предобработаны данные, а именно:\n",
    "* Обработали пропущенные значения в столбцах `days_employed` и `total_income` содержащих количественные данные и заполнили пропущенные значения в них медианным значением. Пропущенные значение обнаружили комбинацие методов `isna` и `sum`;\n",
    "* Обработали аномальные значение в столбцах `days_employed` и `children`. В первом случае артефактом оказались отрицательные значения количества дней трудового стажа. Все отрицательные значения заменили положительными с помощью метода `abs()`. Во втором случае были два аномальных значения `20` и `-1`, но так как количество детей не может быть отрицательным и на практике не может быть равным `20`(может конечно, но не для наших реалей), было принято решение удалить данные строки из датафрейма. Удалиение производилось путем исключения данных строк из датафрейма;\n",
    "* Для дальнейшей, более удобной, обработки данных были проделаны следующие шаги:\n",
    "    * Заменили вещественный тип данных в столбце `total_income` на целочисленный с помощью метода `astype()`;\n",
    "    * Обработали неявные дубликаты в столбце `education`. В этом столбце были одни и те же значения, но записанные по-разному: с использованием заглавных и строчных букв. Приведите их к нижнему регистру методом `lower()` и удалили строки-дубликаты в данных методом `drop_duplicates()`;\n",
    "    * Провели категоризацию данных. При этом использовали собственные функции `categorize_income()`, `categorize_purpose()` и метод `apply()`. Значения категорий заполнили в столбцы `total_income_category` и `purpose_category` соответственно.\n",
    "    * Далее приступили к обработке данных и проверке гипотез.\n",
    "* Выяснили, что по выдвинутым гипотезам нет четкой взаимосвязи, но тем не менее, по проведенному анализу можно сделать вывод о том, что люди, которые с наибольшей вероятностью допустят просрочку по кредиту:\n",
    "    * Содержат 4 ребенка (`0.097561`);\n",
    "    * Состоят в гражданском браке (`0.093130`) или не состоят в браке вовсе (`0.097639`);\n",
    "    * Доход которыбудет существенно низок(у заемщиков из категории `'Е'` с уровнем дохода `0-30000` руб (`0.090909`);\n",
    "    * Целью кредита будет желание взять автокредит(`0.093480`) или кредит на образование(доля просрочек `0.092528`).\n",
    "    * Комбинация этих факторов может говорить о том, что в будущем возможны просрочки по кредиту.\n",
    "* Высока вероятность возврата кредита в срок, если человек:\n",
    "    * Не состоит в браке (`0.070648`);\n",
    "    * Имеет высокий доход (`0.060172`);\n",
    "    * У него нет детей (`0.075438`);\n",
    "    * Цель кредита - операции с недвижимостью(`0.072551`). \n",
    "    \n",
    "   *В скобках указано значение доли просрочек по категориям или цели заемщика."
   ]
  }
 ],
 "metadata": {
  "kernelspec": {
   "display_name": "Python 3 (ipykernel)",
   "language": "python",
   "name": "python3"
  },
  "language_info": {
   "codemirror_mode": {
    "name": "ipython",
    "version": 3
   },
   "file_extension": ".py",
   "mimetype": "text/x-python",
   "name": "python",
   "nbconvert_exporter": "python",
   "pygments_lexer": "ipython3",
   "version": "3.9.16"
  }
 },
 "nbformat": 4,
 "nbformat_minor": 5
}
