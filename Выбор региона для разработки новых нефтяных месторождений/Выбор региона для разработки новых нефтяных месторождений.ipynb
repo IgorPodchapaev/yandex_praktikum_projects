{
 "cells": [
  {
   "cell_type": "markdown",
   "metadata": {},
   "source": [
    "# Выбор локации для скважины"
   ]
  },
  {
   "cell_type": "markdown",
   "metadata": {},
   "source": [
    "# Описание проекта"
   ]
  },
  {
   "cell_type": "markdown",
   "metadata": {},
   "source": [
    "Допустим, вы работаете в добывающей компании «ГлавРосГосНефть». Нужно решить, где бурить новую скважину.\n",
    "\n",
    "Вам предоставлены пробы нефти в трёх регионах: в каждом 10 000 месторождений, где измерили качество нефти и объём её запасов. Постройте модель машинного обучения, которая поможет определить регион, где добыча принесёт наибольшую прибыль. Проанализируйте возможную прибыль и риски техникой *Bootstrap.*\n",
    "\n",
    "Шаги для выбора локации:\n",
    "\n",
    "- В избранном регионе ищут месторождения, для каждого определяют значения признаков;\n",
    "- Строят модель и оценивают объём запасов;\n",
    "- Выбирают месторождения с самым высокими оценками значений. Количество месторождений зависит от бюджета компании и стоимости разработки одной скважины;\n",
    "- Прибыль равна суммарной прибыли отобранных месторождений."
   ]
  },
  {
   "cell_type": "markdown",
   "metadata": {},
   "source": [
    "# План выполнения проекта\n",
    "\n",
    "\n",
    "1. Загрузим и подготовим данные. \n",
    "0. Обучим и проверим модель для каждого региона:\n",
    " 1. Разобъем данные на обучающую и валидационную выборки в соотношении 75:25.\n",
    " 0. Обучим модель и сделаем предсказания на валидационной выборке.\n",
    " 0. Сохраним предсказания и правильные ответы на валидационной выборке.\n",
    " 0. Напечатаем на экране средний запас предсказанного сырья и RMSE модели.\n",
    " 0. Проанализируем результаты.\n",
    "2. Подготовимся к расчёту прибыли:\n",
    " 1. Все ключевые значения для расчётов сохраним в отдельных переменных.\n",
    " 0. Рассчитаем достаточный объём сырья для безубыточной разработки новой скважины. Сравним полученный объём сырья со средним запасом в каждом регионе. \n",
    " 0. Напишим выводы по этапу подготовки расчёта прибыли.\n",
    "3. Напишем функцию для расчёта прибыли по выбранным скважинам и предсказаниям модели:\n",
    " 1. Выберем скважины с максимальными значениями предсказаний. \n",
    " 0. Просуммируем целевое значение объёма сырья, соответствующее этим предсказаниям.\n",
    " 0. Рассчитаем прибыль для полученного объёма сырья.\n",
    "4. Посчитайтем риски и прибыль для каждого региона:\n",
    " 1. Применим технику Bootstrap с 1000 выборок, чтобы найти распределение прибыли.\n",
    " 0. Найдем среднюю прибыль, 95%-й доверительный интервал и риск убытков.\n",
    " 0. Напишем выводы: предложим регион для разработки скважин и обоснуем выбор."
   ]
  },
  {
   "cell_type": "markdown",
   "metadata": {},
   "source": [
    "# Описание данных\n",
    "Данные геологоразведки трёх регионов находятся в файлах.\n",
    "\n",
    "* `id` — уникальный идентификатор скважины;\n",
    "* `f0`, `f1`, `f2` — три признака точек (неважно, что они означают, но сами признаки значимы);\n",
    "* `product` — объём запасов в скважине (тыс. баррелей).\n",
    "\n",
    "\n",
    "Условия задачи:\n",
    "* Для обучения модели подходит только линейная регрессия (остальные — недостаточно предсказуемые).\n",
    "\n",
    "* При разведке региона исследуют 500 точек, из которых с помощью машинного обучения выбирают 200 лучших для разработки.\n",
    "\n",
    "* Бюджет на разработку скважин в регионе — 10 млрд рублей.\n",
    "\n",
    "* При нынешних ценах один баррель сырья приносит 450 рублей дохода. Доход с каждой единицы продукта составляет 450 тыс. рублей, поскольку объём указан в тысячах баррелей.\n",
    "\n",
    "* После оценки рисков нужно оставить лишь те регионы, в которых вероятность убытков меньше 2.5%. Среди них выбирают регион с наибольшей средней прибылью.\n",
    "\n",
    "Данные синтетические: детали контрактов и характеристики месторождений не разглашаются."
   ]
  },
  {
   "cell_type": "markdown",
   "metadata": {},
   "source": [
    "# Импорт библиотек"
   ]
  },
  {
   "cell_type": "code",
   "execution_count": 1,
   "metadata": {},
   "outputs": [],
   "source": [
    "import os\n",
    "import warnings\n",
    "warnings.filterwarnings('ignore')\n",
    "import matplotlib\n",
    "import pandas as pd\n",
    "import seaborn as sns\n",
    "import numpy as np\n",
    "from scipy import stats as st\n",
    "import matplotlib.pyplot as plt\n",
    "from numpy.random import RandomState\n",
    "from tqdm.auto import tqdm\n",
    "from sklearn.model_selection import train_test_split\n",
    "from sklearn.linear_model import LinearRegression \n",
    "from sklearn.metrics import mean_squared_error"
   ]
  },
  {
   "cell_type": "markdown",
   "metadata": {},
   "source": [
    "# Вводим переменные:"
   ]
  },
  {
   "cell_type": "code",
   "execution_count": 2,
   "metadata": {},
   "outputs": [],
   "source": [
    "# Введем глобальную переменную для значения random_state\n",
    "RFN = 12345\n",
    "STATE_RFN = np.random.RandomState(RFN)\n",
    "# При разведке региона исследуют 500 точек:\n",
    "REGION_POINTS = 500\n",
    "# с помощью машинного обучения выбирают 200 лучших для разработки:\n",
    "BEST_REGION_POINTS = 200    \n",
    "# Бюджет на разработку скважин в регионе — 10 млрд рублей:\n",
    "DEVELOPMENT_BUDGET = 1e07   \n",
    "# Доход с каждой единицы продукта:\n",
    "COST_BARREL = 450 \n",
    "# Количество выборок для метода Bootstrap\n",
    "QUANTITY_BOOTSTRAP = 1000"
   ]
  },
  {
   "cell_type": "markdown",
   "metadata": {},
   "source": [
    "## Загрузка и подготовка данных"
   ]
  },
  {
   "cell_type": "markdown",
   "metadata": {},
   "source": [
    "### Загрузка данных"
   ]
  },
  {
   "cell_type": "markdown",
   "metadata": {},
   "source": [
    "Загрузим данные, в качестве разделителя будем использовать знак - `,`:"
   ]
  },
  {
   "cell_type": "code",
   "execution_count": 3,
   "metadata": {},
   "outputs": [],
   "source": [
    "geo_data_0_file_1 = 'geo_data_0.csv'\n",
    "geo_data_0_file_2 = 'https://code.s3.yandex.net/datasets/geo_data_0.csv'\n",
    "\n",
    "geo_data_1_file_1 = 'geo_data_1.csv'\n",
    "geo_data_1_file_2 = 'https://code.s3.yandex.net/datasets/geo_data_1.csv'\n",
    "\n",
    "geo_data_2_file_1 = 'geo_data_2.csv'\n",
    "geo_data_2_file_2 = 'https://code.s3.yandex.net/datasets/geo_data_2.csv'\n",
    "\n",
    "if os.path.exists(geo_data_0_file_1):\n",
    "    geo_data_0 = pd.read_csv(geo_data_0_file_1)\n",
    "elif os.path.exists(geo_data_0_file_2):\n",
    "    geo_data_0 = pd.read_csv(geo_data_0_file_2)\n",
    "else:\n",
    "    print('Something is wrong')\n",
    "    \n",
    "if os.path.exists(geo_data_1_file_1):\n",
    "    geo_data_1 = pd.read_csv(geo_data_1_file_1)\n",
    "elif os.path.exists(geo_data_1_file_2):\n",
    "    geo_data_1 = pd.read_csv(geo_data_1_file_2)\n",
    "else:\n",
    "    print('Something is wrong')\n",
    "    \n",
    "if os.path.exists(geo_data_2_file_1):\n",
    "    geo_data_2 = pd.read_csv(geo_data_2_file_1)\n",
    "elif os.path.exists(geo_data_2_file_2):\n",
    "    geo_data_2 = pd.read_csv(geo_data_2_file_2)\n",
    "else:\n",
    "    print('Something is wrong')"
   ]
  },
  {
   "cell_type": "markdown",
   "metadata": {},
   "source": [
    "### Изучение данных"
   ]
  },
  {
   "cell_type": "markdown",
   "metadata": {},
   "source": [
    "Изучим и подготовим данные к исследованию:"
   ]
  },
  {
   "cell_type": "code",
   "execution_count": 4,
   "metadata": {},
   "outputs": [],
   "source": [
    "def df_info(df):\n",
    "    # выведем основную информацию датафрейма с помощью метода info() и describe()\n",
    "    df.info()\n",
    "    print(\"\\n\" + \"Статистическая сводка каждого столбца:\" + \"\\n\", df.describe())\n",
    "    # выведем первые строки датафрейма и размер датафрейма\n",
    "    print(\"\\n\" + \"Первые строки датафрейма:\" + \"\\n\", df.head())\n",
    "    print(\"\\n\" + \"Размер датафрейма:\" + \"\\n\"\n",
    "          \"Количество строк:\", df.shape[0], \"\\n\"\n",
    "          \"Количество столбцов:\", df.shape[1], \"\\n\")\n",
    "    # выведем количество дублирующих строк датафрейма\n",
    "    print(\"Количество явных дубликатов датафрейма:\", df.duplicated().sum(), \"\\n\")\n",
    "    # проверим датафрейм на наличие неявных дубликотов\n",
    "    # для этого посчитаем количество уникальных значений столбца id и сравним их с количеством строк\n",
    "    print(\"Количество неявных дубликатов датафрейма:\", len(df) - df['id'].nunique(), \"\\n\")\n",
    "    #выыдем общую диаграмму для всех признаков датафрейма:\n",
    "    print(\"Общая диаграмма для всех признаков датафрейма:\")\n",
    "    fig = df.hist(bins=150, figsize=(20,20), xlabelsize=15, ylabelsize=15);\n",
    "    [x.title.set_size(20) for x in fig.ravel()]\n",
    "    # выведем взаимную корреляцию признаков датафрейма и проверим данные на мультиколлинеарность признаков\n",
    "    plt.figure(figsize = (5,5))\n",
    "    plt.title('Взаимная корреляция признаков датафрейма для оценки мультиколлинеарности:' + \"\\n\", size=12)\n",
    "    sns.heatmap(df.select_dtypes(include=['float64']).corr(), annot=True);"
   ]
  },
  {
   "cell_type": "code",
   "execution_count": 5,
   "metadata": {},
   "outputs": [
    {
     "name": "stdout",
     "output_type": "stream",
     "text": [
      "<class 'pandas.core.frame.DataFrame'>\n",
      "RangeIndex: 100000 entries, 0 to 99999\n",
      "Data columns (total 5 columns):\n",
      " #   Column   Non-Null Count   Dtype  \n",
      "---  ------   --------------   -----  \n",
      " 0   id       100000 non-null  object \n",
      " 1   f0       100000 non-null  float64\n",
      " 2   f1       100000 non-null  float64\n",
      " 3   f2       100000 non-null  float64\n",
      " 4   product  100000 non-null  float64\n",
      "dtypes: float64(4), object(1)\n",
      "memory usage: 3.8+ MB\n",
      "\n",
      "Статистическая сводка каждого столбца:\n",
      "                   f0             f1             f2        product\n",
      "count  100000.000000  100000.000000  100000.000000  100000.000000\n",
      "mean        0.500419       0.250143       2.502647      92.500000\n",
      "std         0.871832       0.504433       3.248248      44.288691\n",
      "min        -1.408605      -0.848218     -12.088328       0.000000\n",
      "25%        -0.072580      -0.200881       0.287748      56.497507\n",
      "50%         0.502360       0.250252       2.515969      91.849972\n",
      "75%         1.073581       0.700646       4.715088     128.564089\n",
      "max         2.362331       1.343769      16.003790     185.364347\n",
      "\n",
      "Первые строки датафрейма:\n",
      "       id        f0        f1        f2     product\n",
      "0  txEyH  0.705745 -0.497823  1.221170  105.280062\n",
      "1  2acmU  1.334711 -0.340164  4.365080   73.037750\n",
      "2  409Wp  1.022732  0.151990  1.419926   85.265647\n",
      "3  iJLyR -0.032172  0.139033  2.978566  168.620776\n",
      "4  Xdl7t  1.988431  0.155413  4.751769  154.036647\n",
      "\n",
      "Размер датафрейма:\n",
      "Количество строк: 100000 \n",
      "Количество столбцов: 5 \n",
      "\n",
      "Количество явных дубликатов датафрейма: 0 \n",
      "\n",
      "Количество неявных дубликатов датафрейма: 10 \n",
      "\n",
      "Общая диаграмма для всех признаков датафрейма:\n"
     ]
    },
    {
     "data": {
      "image/png": "[encoded data removed]",
      "text/plain": [
       "<Figure size 2000x2000 with 4 Axes>"
      ]
     },
     "metadata": {},
     "output_type": "display_data"
    },
    {
     "data": {
      "image/png": "[encoded data removed]",
      "text/plain": [
       "<Figure size 500x500 with 2 Axes>"
      ]
     },
     "metadata": {},
     "output_type": "display_data"
    }
   ],
   "source": [
    "df_info(geo_data_0)"
   ]
  },
  {
   "cell_type": "code",
   "execution_count": 6,
   "metadata": {},
   "outputs": [
    {
     "name": "stdout",
     "output_type": "stream",
     "text": [
      "<class 'pandas.core.frame.DataFrame'>\n",
      "RangeIndex: 100000 entries, 0 to 99999\n",
      "Data columns (total 5 columns):\n",
      " #   Column   Non-Null Count   Dtype  \n",
      "---  ------   --------------   -----  \n",
      " 0   id       100000 non-null  object \n",
      " 1   f0       100000 non-null  float64\n",
      " 2   f1       100000 non-null  float64\n",
      " 3   f2       100000 non-null  float64\n",
      " 4   product  100000 non-null  float64\n",
      "dtypes: float64(4), object(1)\n",
      "memory usage: 3.8+ MB\n",
      "\n",
      "Статистическая сводка каждого столбца:\n",
      "                   f0             f1             f2        product\n",
      "count  100000.000000  100000.000000  100000.000000  100000.000000\n",
      "mean        1.141296      -4.796579       2.494541      68.825000\n",
      "std         8.965932       5.119872       1.703572      45.944423\n",
      "min       -31.609576     -26.358598      -0.018144       0.000000\n",
      "25%        -6.298551      -8.267985       1.000021      26.953261\n",
      "50%         1.153055      -4.813172       2.011479      57.085625\n",
      "75%         8.621015      -1.332816       3.999904     107.813044\n",
      "max        29.421755      18.734063       5.019721     137.945408\n",
      "\n",
      "Первые строки датафрейма:\n",
      "       id         f0         f1        f2     product\n",
      "0  kBEdx -15.001348  -8.276000 -0.005876    3.179103\n",
      "1  62mP7  14.272088  -3.475083  0.999183   26.953261\n",
      "2  vyE1P   6.263187  -5.948386  5.001160  134.766305\n",
      "3  KcrkZ -13.081196 -11.506057  4.999415  137.945408\n",
      "4  AHL4O  12.702195  -8.147433  5.004363  134.766305\n",
      "\n",
      "Размер датафрейма:\n",
      "Количество строк: 100000 \n",
      "Количество столбцов: 5 \n",
      "\n",
      "Количество явных дубликатов датафрейма: 0 \n",
      "\n",
      "Количество неявных дубликатов датафрейма: 4 \n",
      "\n",
      "Общая диаграмма для всех признаков датафрейма:\n"
     ]
    },
    {
     "data": {
      "image/png": "[encoded data removed]",
      "text/plain": [
       "<Figure size 2000x2000 with 4 Axes>"
      ]
     },
     "metadata": {},
     "output_type": "display_data"
    },
    {
     "data": {
      "image/png": "[encoded data removed]",
      "text/plain": [
       "<Figure size 500x500 with 2 Axes>"
      ]
     },
     "metadata": {},
     "output_type": "display_data"
    }
   ],
   "source": [
    "df_info(geo_data_1)"
   ]
  },
  {
   "cell_type": "code",
   "execution_count": 7,
   "metadata": {},
   "outputs": [
    {
     "name": "stdout",
     "output_type": "stream",
     "text": [
      "<class 'pandas.core.frame.DataFrame'>\n",
      "RangeIndex: 100000 entries, 0 to 99999\n",
      "Data columns (total 5 columns):\n",
      " #   Column   Non-Null Count   Dtype  \n",
      "---  ------   --------------   -----  \n",
      " 0   id       100000 non-null  object \n",
      " 1   f0       100000 non-null  float64\n",
      " 2   f1       100000 non-null  float64\n",
      " 3   f2       100000 non-null  float64\n",
      " 4   product  100000 non-null  float64\n",
      "dtypes: float64(4), object(1)\n",
      "memory usage: 3.8+ MB\n",
      "\n",
      "Статистическая сводка каждого столбца:\n",
      "                   f0             f1             f2        product\n",
      "count  100000.000000  100000.000000  100000.000000  100000.000000\n",
      "mean        0.002023      -0.002081       2.495128      95.000000\n",
      "std         1.732045       1.730417       3.473445      44.749921\n",
      "min        -8.760004      -7.084020     -11.970335       0.000000\n",
      "25%        -1.162288      -1.174820       0.130359      59.450441\n",
      "50%         0.009424      -0.009482       2.484236      94.925613\n",
      "75%         1.158535       1.163678       4.858794     130.595027\n",
      "max         7.238262       7.844801      16.739402     190.029838\n",
      "\n",
      "Первые строки датафрейма:\n",
      "       id        f0        f1        f2     product\n",
      "0  fwXo0 -1.146987  0.963328 -0.828965   27.758673\n",
      "1  WJtFt  0.262778  0.269839 -2.530187   56.069697\n",
      "2  ovLUW  0.194587  0.289035 -5.586433   62.871910\n",
      "3  q6cA6  2.236060 -0.553760  0.930038  114.572842\n",
      "4  WPMUX -0.515993  1.716266  5.899011  149.600746\n",
      "\n",
      "Размер датафрейма:\n",
      "Количество строк: 100000 \n",
      "Количество столбцов: 5 \n",
      "\n",
      "Количество явных дубликатов датафрейма: 0 \n",
      "\n",
      "Количество неявных дубликатов датафрейма: 4 \n",
      "\n",
      "Общая диаграмма для всех признаков датафрейма:\n"
     ]
    },
    {
     "data": {
      "image/png": "[encoded data removed]",
      "text/plain": [
       "<Figure size 2000x2000 with 4 Axes>"
      ]
     },
     "metadata": {},
     "output_type": "display_data"
    },
    {
     "data": {
      "image/png": "[encoded data removed]",
      "text/plain": [
       "<Figure size 500x500 with 2 Axes>"
      ]
     },
     "metadata": {},
     "output_type": "display_data"
    }
   ],
   "source": [
    "df_info(geo_data_2)"
   ]
  },
  {
   "cell_type": "markdown",
   "metadata": {},
   "source": [
    "### Выводы после загрузки и изучения данных\n",
    "После загрузки и изучения данных сделаны следующие промежуточные выводы:\n",
    "\n",
    "* Размер файлов одинаковый. Набор данных: 100 000 строк х 5 столбцов.\n",
    "* Названия столбцов в коррекции не нуждаются.\n",
    "* Выяснено, что явных дубликатов в наших датафреймах нет, однако нашлись неявные дубликаты которые нужно обработать.\n",
    "* Проверены типы данных, менять типы данных не нужно. Во всех 3-х датафреймах идентичные типы данных:\n",
    "  * `id` — уникальный идентификатор скважины, состоящий из букв и цифр. Тип `object`.\n",
    "  * `f0`, `f1`, `f2` — три признака лпределенных скважин. Тип `float64`.\n",
    "  * `product` — объём запасов в скважине (тыс. баррелей). Тип `float64`.\n",
    "* Нужно удалить признак id (уникальный идентификатор скважины), это признак, который влияет на результат классификации product (объём запасов в скважине, в тыс. баррелей).\n",
    "* По гистограммам, значениям квантилей и среднего, видно выбивающиеся значения в данных столбцов `f2` и `product` в датафрейме `geo_data_1` по сравнению с датафреймом `geo_data_0` и `geo_data_2`, которые скорее всего будут мешать процессу обучения.\n",
    "* Изучены данные на мультиколлинеарность признаков. В датасете `geo_data_1` обнаружили очень сильную мультиколлинеарность признаков , с коэффициентом корреляции Пирсона равным 1, зависимость между `f2` и `product`.\n",
    "* Категориальных признаков нет.\n",
    "* Для обучения моделей следует использовать линейную регрессию, поэтому Масштабирование численных признаков проводить не нужно."
   ]
  },
  {
   "cell_type": "markdown",
   "metadata": {},
   "source": [
    "### Подготовим данные"
   ]
  },
  {
   "cell_type": "markdown",
   "metadata": {},
   "source": [
    "Обработаем неявные дубликаты в датафреймах:"
   ]
  },
  {
   "cell_type": "code",
   "execution_count": 8,
   "metadata": {},
   "outputs": [],
   "source": [
    "def duplicates(df):\n",
    "    print(df[df.duplicated(subset=['id']) == True])\n",
    "    print(df[df.duplicated(subset=['id'], keep='last') == True])"
   ]
  },
  {
   "cell_type": "code",
   "execution_count": 9,
   "metadata": {},
   "outputs": [
    {
     "name": "stdout",
     "output_type": "stream",
     "text": [
      "          id        f0        f1         f2     product\n",
      "7530   HZww2  1.061194 -0.373969  10.430210  158.828695\n",
      "41724  bxg6G -0.823752  0.546319   3.630479   93.007798\n",
      "51970  A5aEY -0.180335  0.935548  -2.094773   33.020205\n",
      "63593  QcMuo  0.635635 -0.473422   0.862670   64.578675\n",
      "66136  74z30  1.084962 -0.312358   6.990771  127.643327\n",
      "69163  AGS9W -0.933795  0.116194  -3.655896   19.230453\n",
      "75715  Tdehs  0.112079  0.430296   3.218993   60.964018\n",
      "90815  fiKDv  0.049883  0.841313   6.394613  137.346586\n",
      "92341  TtcGQ  0.110711  1.022689   0.911381  101.318008\n",
      "97785  bsk9y  0.378429  0.005837   0.160827  160.637302\n",
      "          id        f0        f1         f2     product\n",
      "931    HZww2  0.755284  0.368511   1.863211   30.681774\n",
      "1364   bxg6G  0.411645  0.856830  -3.653440   73.604260\n",
      "1949   QcMuo  0.506563 -0.323775  -2.215583   75.496502\n",
      "3389   A5aEY -0.039949  0.156872   0.209861   89.249364\n",
      "16633  fiKDv  0.157341  1.028359   5.585586   95.817889\n",
      "21426  Tdehs  0.829407  0.298807  -0.049563   96.035308\n",
      "42529  AGS9W  1.454747 -0.479651   0.683380  126.370504\n",
      "60140  TtcGQ  0.569276 -0.104876   6.440215   85.350186\n",
      "64022  74z30  0.741456  0.459229   5.153109  140.771492\n",
      "89582  bsk9y  0.398908 -0.400253  10.122376  163.433078\n"
     ]
    }
   ],
   "source": [
    "duplicates(geo_data_0)"
   ]
  },
  {
   "cell_type": "code",
   "execution_count": 10,
   "metadata": {},
   "outputs": [
    {
     "name": "stdout",
     "output_type": "stream",
     "text": [
      "          id         f0        f1        f2     product\n",
      "41906  LHZR0  -8.989672 -4.286607  2.009139   57.085625\n",
      "82178  bfPNe  -6.202799 -4.820045  2.995107   84.038886\n",
      "82873  wt4Uk  10.259972 -9.376355  4.994297  134.766305\n",
      "84461  5ltQ6  18.213839  2.191999  3.993869  107.813044\n",
      "          id         f0         f1        f2     product\n",
      "1305   LHZR0  11.170835  -1.945066  3.002872   80.859783\n",
      "2721   bfPNe  -9.494442  -5.463692  4.006042  110.992147\n",
      "5849   5ltQ6  -3.435401 -12.296043  1.999796   57.085625\n",
      "47591  wt4Uk  -9.091098  -8.109279 -0.002314    3.179103\n"
     ]
    }
   ],
   "source": [
    "duplicates(geo_data_1)"
   ]
  },
  {
   "cell_type": "code",
   "execution_count": 11,
   "metadata": {},
   "outputs": [
    {
     "name": "stdout",
     "output_type": "stream",
     "text": [
      "          id        f0        f1        f2     product\n",
      "43233  xCHr8 -0.847066  2.101796  5.597130  184.388641\n",
      "49564  VF7Jo -0.883115  0.560537  0.723601  136.233420\n",
      "55967  KUPhW  1.211150  3.176408  5.543540  132.831802\n",
      "95090  Vcm5J  2.587702  1.986875  2.482245   92.327572\n",
      "          id        f0        f1        f2     product\n",
      "11449  VF7Jo  2.122656 -0.858275  5.746001  181.716817\n",
      "28039  xCHr8  1.633027  0.368135 -2.378367    6.120525\n",
      "44378  Vcm5J -1.229484 -2.439204  1.222909  137.968290\n",
      "45404  KUPhW  0.231846 -1.698941  4.990775   11.716299\n"
     ]
    }
   ],
   "source": [
    "duplicates(geo_data_2)"
   ]
  },
  {
   "cell_type": "code",
   "execution_count": 12,
   "metadata": {},
   "outputs": [],
   "source": [
    "geo_data_0 = (geo_data_0.drop_duplicates(subset='id', keep='first')\n",
    "              .reset_index(drop=True))\n",
    "geo_data_1 = (geo_data_1.drop_duplicates(subset='id', keep='first')\n",
    "              .reset_index(drop=True))\n",
    "geo_data_2 = (geo_data_2.drop_duplicates(subset='id', keep='first')\n",
    "              .reset_index(drop=True))"
   ]
  },
  {
   "cell_type": "markdown",
   "metadata": {},
   "source": [
    "Проверим, правильно ли удалили неявные дубликаты:"
   ]
  },
  {
   "cell_type": "code",
   "execution_count": 13,
   "metadata": {},
   "outputs": [],
   "source": [
    "def correctly_drop_duplicates(df):\n",
    "    print(df)\n",
    "    print(\"Количество неявных дубликатов датафрейма:\", len(geo_data_0) - geo_data_0['id'].nunique(), \"\\n\")"
   ]
  },
  {
   "cell_type": "code",
   "execution_count": 14,
   "metadata": {},
   "outputs": [
    {
     "name": "stdout",
     "output_type": "stream",
     "text": [
      "          id        f0        f1        f2     product\n",
      "0      txEyH  0.705745 -0.497823  1.221170  105.280062\n",
      "1      2acmU  1.334711 -0.340164  4.365080   73.037750\n",
      "2      409Wp  1.022732  0.151990  1.419926   85.265647\n",
      "3      iJLyR -0.032172  0.139033  2.978566  168.620776\n",
      "4      Xdl7t  1.988431  0.155413  4.751769  154.036647\n",
      "...      ...       ...       ...       ...         ...\n",
      "99985  DLsed  0.971957  0.370953  6.075346  110.744026\n",
      "99986  QKivN  1.392429 -0.382606  1.273912  122.346843\n",
      "99987  3rnvd  1.029585  0.018787 -1.348308   64.375443\n",
      "99988  7kl59  0.998163 -0.528582  1.583869   74.040764\n",
      "99989  1CWhH  1.764754 -0.266417  5.722849  149.633246\n",
      "\n",
      "[99990 rows x 5 columns]\n",
      "Количество неявных дубликатов датафрейма: 0 \n",
      "\n"
     ]
    }
   ],
   "source": [
    "correctly_drop_duplicates(geo_data_0)"
   ]
  },
  {
   "cell_type": "code",
   "execution_count": 15,
   "metadata": {},
   "outputs": [
    {
     "name": "stdout",
     "output_type": "stream",
     "text": [
      "          id         f0         f1        f2     product\n",
      "0      kBEdx -15.001348  -8.276000 -0.005876    3.179103\n",
      "1      62mP7  14.272088  -3.475083  0.999183   26.953261\n",
      "2      vyE1P   6.263187  -5.948386  5.001160  134.766305\n",
      "3      KcrkZ -13.081196 -11.506057  4.999415  137.945408\n",
      "4      AHL4O  12.702195  -8.147433  5.004363  134.766305\n",
      "...      ...        ...        ...       ...         ...\n",
      "99991  QywKC   9.535637  -6.878139  1.998296   53.906522\n",
      "99992  ptvty -10.160631 -12.558096  5.005581  137.945408\n",
      "99993  09gWa  -7.378891  -3.084104  4.998651  137.945408\n",
      "99994  rqwUm   0.665714  -6.152593  1.000146   30.132364\n",
      "99995  relB0  -3.426139  -7.794274 -0.003299    3.179103\n",
      "\n",
      "[99996 rows x 5 columns]\n",
      "Количество неявных дубликатов датафрейма: 0 \n",
      "\n"
     ]
    }
   ],
   "source": [
    "correctly_drop_duplicates(geo_data_1)"
   ]
  },
  {
   "cell_type": "code",
   "execution_count": 16,
   "metadata": {},
   "outputs": [
    {
     "name": "stdout",
     "output_type": "stream",
     "text": [
      "          id        f0        f1        f2     product\n",
      "0      fwXo0 -1.146987  0.963328 -0.828965   27.758673\n",
      "1      WJtFt  0.262778  0.269839 -2.530187   56.069697\n",
      "2      ovLUW  0.194587  0.289035 -5.586433   62.871910\n",
      "3      q6cA6  2.236060 -0.553760  0.930038  114.572842\n",
      "4      WPMUX -0.515993  1.716266  5.899011  149.600746\n",
      "...      ...       ...       ...       ...         ...\n",
      "99991  4GxBu -1.777037  1.125220  6.263374  172.327046\n",
      "99992  YKFjq -1.261523 -0.894828  2.524545  138.748846\n",
      "99993  tKPY3 -1.199934 -2.957637  5.219411  157.080080\n",
      "99994  nmxp2 -2.419896  2.417221 -5.548444   51.795253\n",
      "99995  V9kWn -2.551421 -2.025625  6.090891  102.775767\n",
      "\n",
      "[99996 rows x 5 columns]\n",
      "Количество неявных дубликатов датафрейма: 0 \n",
      "\n"
     ]
    }
   ],
   "source": [
    "correctly_drop_duplicates(geo_data_2)"
   ]
  },
  {
   "cell_type": "markdown",
   "metadata": {},
   "source": [
    "Удалим признак `id` в датафреймах:"
   ]
  },
  {
   "cell_type": "code",
   "execution_count": 17,
   "metadata": {},
   "outputs": [],
   "source": [
    "geo_data_0 = geo_data_0.drop('id', axis=1)\n",
    "geo_data_1 = geo_data_1.drop('id', axis=1)\n",
    "geo_data_2 = geo_data_2.drop('id', axis=1)"
   ]
  },
  {
   "cell_type": "markdown",
   "metadata": {},
   "source": [
    "### Выводы после подготовки данных:\n",
    "* Удалили неявные дубликаты датафреймов;\n",
    "* Удалили признак id."
   ]
  },
  {
   "cell_type": "markdown",
   "metadata": {},
   "source": [
    "## Обучим и проверим модели"
   ]
  },
  {
   "cell_type": "markdown",
   "metadata": {},
   "source": [
    "Создадим переменные для сохранения предсказаний и правильных ответов на валидационной выборке:"
   ]
  },
  {
   "cell_type": "code",
   "execution_count": 18,
   "metadata": {},
   "outputs": [],
   "source": [
    "predictions_valid = []\n",
    "targets_valid = []\n",
    "predictions_mean = [] # для сохранения предсказаний и визуализации"
   ]
  },
  {
   "cell_type": "markdown",
   "metadata": {},
   "source": [
    "### Обучение модели"
   ]
  },
  {
   "cell_type": "markdown",
   "metadata": {},
   "source": [
    "Создадим функцию для разбития данных, обучения, предсказания и расчета среднего запаса предсказанного сырья и RMSE модели:"
   ]
  },
  {
   "cell_type": "code",
   "execution_count": 19,
   "metadata": {},
   "outputs": [],
   "source": [
    "def learning_data(df):\n",
    "\n",
    "# Выделим из переданного датафрейма обучающие признаки features и целевой признак target: \n",
    "    features = df.drop([\"product\"], axis=1)\n",
    "    target = df[\"product\"]\n",
    "    \n",
    "# Разобьём данные на обучающую и валидационную выборки в соотношении 75:25:    \n",
    "    features_train, features_valid, target_train, target_valid = \\\n",
    "        train_test_split(features, target, test_size=0.25, random_state=RFN)\n",
    "\n",
    "# Создадим и обучим модель:\n",
    "    model = LinearRegression()\n",
    "    model.fit(features_train, target_train)\n",
    "    \n",
    "# Cделаем предсказания на валидационной выборке:    \n",
    "    predictions = model.predict(features_valid)\n",
    "\n",
    "# список предсказаний по объёму сырья в скважине и список правильных ответов добавим \n",
    "# в созданные переменные для их сохранения\n",
    "    predictions_valid.append(predictions) \n",
    "    predictions_mean.append(round(predictions.mean(), 2))\n",
    "    targets_valid.append(target_valid.reset_index(drop=True))\n",
    "           \n",
    "# Напечатаем средний запас предсказанного сырья и RMSE модели:  \n",
    "    print(f\"Средний запас предсказанного сырья: {round(predictions.mean(), 2)} тыс. баррелей.\")\n",
    "    RMSE = mean_squared_error(predictions, target_valid)**0.5\n",
    "    print(f\"RMSE модели: {round(RMSE,2)}\")"
   ]
  },
  {
   "cell_type": "markdown",
   "metadata": {},
   "source": [
    "### Проверка модели"
   ]
  },
  {
   "cell_type": "code",
   "execution_count": 20,
   "metadata": {},
   "outputs": [
    {
     "name": "stdout",
     "output_type": "stream",
     "text": [
      "Средний запас предсказанного сырья: 92.79 тыс. баррелей.\n",
      "RMSE модели: 37.85\n"
     ]
    }
   ],
   "source": [
    "learning_data(geo_data_0)"
   ]
  },
  {
   "cell_type": "code",
   "execution_count": 21,
   "metadata": {},
   "outputs": [
    {
     "name": "stdout",
     "output_type": "stream",
     "text": [
      "Средний запас предсказанного сырья: 69.18 тыс. баррелей.\n",
      "RMSE модели: 0.89\n"
     ]
    }
   ],
   "source": [
    "learning_data(geo_data_1)"
   ]
  },
  {
   "cell_type": "code",
   "execution_count": 22,
   "metadata": {},
   "outputs": [
    {
     "name": "stdout",
     "output_type": "stream",
     "text": [
      "Средний запас предсказанного сырья: 94.87 тыс. баррелей.\n",
      "RMSE модели: 40.08\n"
     ]
    }
   ],
   "source": [
    "learning_data(geo_data_2)"
   ]
  },
  {
   "cell_type": "code",
   "execution_count": 23,
   "metadata": {},
   "outputs": [],
   "source": [
    "def func(pct, allvalues):\n",
    "    absolute = int(pct / 100.*np.sum(allvalues))\n",
    "    return f\"{round(pct, 2)}%\\n({absolute} тыс. баррелей)\""
   ]
  },
  {
   "cell_type": "code",
   "execution_count": 24,
   "metadata": {},
   "outputs": [
    {
     "data": {
      "image/png": "[encoded data removed]",
      "text/plain": [
       "<Figure size 900x900 with 1 Axes>"
      ]
     },
     "metadata": {},
     "output_type": "display_data"
    }
   ],
   "source": [
    "colors = sns.color_palette('bright')[0:3]\n",
    "plt.figure(figsize=(9,9))\n",
    "plt.title('Средние запасы нефти по регионам' + \"\\n\", size=15)\n",
    "plt.pie(predictions_mean, \n",
    "        textprops={'fontsize': 15},\n",
    "        labels = ['Регион 1', 'Регион 2', 'Регион 3'],\n",
    "        autopct = lambda pct: func(pct, predictions_mean),\n",
    "        wedgeprops=dict(width=1, edgecolor='black'), \n",
    "        colors = colors)\n",
    "plt.show() "
   ]
  },
  {
   "cell_type": "markdown",
   "metadata": {},
   "source": [
    "### Выводы после обучения и проверки модели:\n",
    "\n",
    "* Данные разделены на обучающую и валидационную выборки в соотношении `75:25`;\n",
    "* Созданы и обучены модели `LinearRegression`;\n",
    "* Выполнены предсказания на валидационной выборке;\n",
    "* Сделаны предсказания по объёму сырья в скважинах;\n",
    "* Созданы:\n",
    "  * список предсказаний по объёму сырья predictions_valid;\n",
    "  * список правильных ответов targets_valid;\n",
    "* Рассчитаны значения среднего запаса предсказанного сырья и RMSE моделей:\n",
    "  * для датафрейма `geo_data_1`, `RMSE модели = 0.89`. \n",
    "  Столь низкие значения, видимо связаны с переобучением модели и высокой мультиколлиниарностью между `f2` и `product`;\n",
    "  * для датафрейма `geo_data_0` и `geo_data_2` получены значения `RMSE = 36.13` и `RMSE = 37.06`. Значения слишком велики по сравнению с средним запасом предсказанного сырья и говорит о сильном разбросе данных в валидационных выборках этих датафреймов.\n",
    "  * Для `geo_data_1` имеем самые низкие запасы предсказанного сырья. Всего `68 тыс.` баррелей против `92 - 94 тыс.` для других регионов."
   ]
  },
  {
   "cell_type": "markdown",
   "metadata": {},
   "source": [
    "## Подготовка к расчёту прибыли"
   ]
  },
  {
   "cell_type": "markdown",
   "metadata": {},
   "source": [
    "### Рассчет  объёма сырья для безубыточной разработки новой скважины."
   ]
  },
  {
   "cell_type": "code",
   "execution_count": 51,
   "metadata": {},
   "outputs": [],
   "source": [
    "break_even = DEVELOPMENT_BUDGET / COST_BARREL"
   ]
  },
  {
   "cell_type": "code",
   "execution_count": 53,
   "metadata": {},
   "outputs": [
    {
     "data": {
      "text/plain": [
       "'Точка безубыточности: 22222.22 тыс. баррелей на каждый регион.'"
      ]
     },
     "execution_count": 53,
     "metadata": {},
     "output_type": "execute_result"
    }
   ],
   "source": [
    "f\"Точка безубыточности: {round(break_even, 2)} тыс. баррелей на каждый регион.\""
   ]
  },
  {
   "cell_type": "code",
   "execution_count": 54,
   "metadata": {},
   "outputs": [],
   "source": [
    "average_break_even = break_even / BEST_REGION_POINTS"
   ]
  },
  {
   "cell_type": "code",
   "execution_count": 55,
   "metadata": {},
   "outputs": [
    {
     "data": {
      "text/plain": [
       "'Средний объем нефти в скважине, требуемый для безубыточной работы: 111.11 тыс. баррелей.'"
      ]
     },
     "execution_count": 55,
     "metadata": {},
     "output_type": "execute_result"
    }
   ],
   "source": [
    "f\"Средний объем нефти в скважине, требуемый для безубыточной работы: {round(average_break_even, 2)} тыс. баррелей.\""
   ]
  },
  {
   "cell_type": "markdown",
   "metadata": {},
   "source": [
    "Сравним полученный объём сырья со средним запасом в каждом регионе:"
   ]
  },
  {
   "cell_type": "code",
   "execution_count": 56,
   "metadata": {},
   "outputs": [],
   "source": [
    "def get_df_region(df):\n",
    "    name =[x for x in globals() if globals()[x] is df][0]\n",
    "    for i in range(3):\n",
    "        if name[-1] == str(i):\n",
    "            return 'регионе ' + str(i + 1)\n",
    "        else:\n",
    "            pass"
   ]
  },
  {
   "cell_type": "code",
   "execution_count": 57,
   "metadata": {},
   "outputs": [],
   "source": [
    "def comparison(df, avg = average_break_even):\n",
    "    if df['product'].mean() > avg:\n",
    "        print(f'В {get_df_region(df)} средний запас сырья больше объема сырья для безубыточной работы.')\n",
    "    elif df['product'].mean() < avg:\n",
    "        print(f'В {get_df_region(df)} средний запас сырья меньше объема сырья для безубыточной работы.')\n",
    "    elif df['product'].mean() == avg:\n",
    "        print(f'В {get_df_region(df)} средний запас сырья и объем сырья для безубыточной работы равны.')"
   ]
  },
  {
   "cell_type": "code",
   "execution_count": 58,
   "metadata": {},
   "outputs": [
    {
     "name": "stdout",
     "output_type": "stream",
     "text": [
      "В регионе 1 средний запас сырья меньше объема сырья для безубыточной работы.\n"
     ]
    }
   ],
   "source": [
    "comparison(geo_data_0)"
   ]
  },
  {
   "cell_type": "code",
   "execution_count": 59,
   "metadata": {},
   "outputs": [
    {
     "name": "stdout",
     "output_type": "stream",
     "text": [
      "В регионе 2 средний запас сырья меньше объема сырья для безубыточной работы.\n"
     ]
    }
   ],
   "source": [
    "comparison(geo_data_1)"
   ]
  },
  {
   "cell_type": "code",
   "execution_count": 60,
   "metadata": {},
   "outputs": [
    {
     "name": "stdout",
     "output_type": "stream",
     "text": [
      "В регионе 3 средний запас сырья меньше объема сырья для безубыточной работы.\n"
     ]
    }
   ],
   "source": [
    "comparison(geo_data_2)"
   ]
  },
  {
   "cell_type": "markdown",
   "metadata": {},
   "source": [
    "### Выводы после подготовки к расчёту прибыли:\n",
    "* Среднее значение запаса сырья по всем скважинам для каждого из регионов меньше, чем точка безубыточности: 111 тыс. баррелей (объём сырья для безубыточной разработки новой скважины).\n",
    "* Разработку всех скважин вести нерентабельно.\n",
    "* Из всех скважин нужно выбрать всего 200 лучших с максимальными запасами и вкладывать деньги в их запуск и производственную деятельность.\n",
    "* Cреднее ожидаемое значение сырья в точке по регионам рассчитано на основе 25 000 точек, из которых мы можем разработать только 200 - само собой, что среди них могут оказать как плохие, так и хорошие скважины с точки зрения запаса в них продукта.\n",
    "* Отбирая точки и считая финансовый результат работы в них, мы можем оценить прибыль и риски работы в регионе - для этого применим в дальнейшем метод бутстрапирования."
   ]
  },
  {
   "cell_type": "markdown",
   "metadata": {},
   "source": [
    "## Расчёт прибыли и рисков "
   ]
  },
  {
   "cell_type": "markdown",
   "metadata": {},
   "source": [
    "### Функция для расчёта прибыли по выбранным скважинам и предсказаниям модели"
   ]
  },
  {
   "cell_type": "markdown",
   "metadata": {},
   "source": [
    "Напишем функцию расчёта прибыли и выберем для каждого региона лучшие 200 скважин по значению предсказанных запасов нефти:"
   ]
  },
  {
   "cell_type": "code",
   "execution_count": 61,
   "metadata": {},
   "outputs": [],
   "source": [
    "def calc_profit(target, predictions):\n",
    "    predictions_sorted = predictions.sort_values(ascending=False)\n",
    "    target_selected = target[predictions_sorted.index][:BEST_REGION_POINTS]\n",
    "\n",
    "    return target_selected.sum() * COST_BARREL - DEVELOPMENT_BUDGET"
   ]
  },
  {
   "cell_type": "code",
   "execution_count": 62,
   "metadata": {},
   "outputs": [],
   "source": [
    "def get_df_name(df): \n",
    "    name =[x for x in globals() if globals()[x] is df][0]\n",
    "    return name"
   ]
  },
  {
   "cell_type": "code",
   "execution_count": 63,
   "metadata": {},
   "outputs": [],
   "source": [
    "profit_top_200 = []\n",
    "region_top_200 = ['Регион 1', 'Регион 2', 'Регион 3']"
   ]
  },
  {
   "cell_type": "code",
   "execution_count": 64,
   "metadata": {},
   "outputs": [],
   "source": [
    "def value_region(df):\n",
    "    for i in range(3):\n",
    "        if get_df_name(df)[-1] == str(i):\n",
    "            predictions_sample = pd.Series(predictions_valid[i],index=targets_valid[i].index)      \n",
    "            profit = calc_profit(targets_valid[i], predictions_sample)\n",
    "            profit_top_200.append(round(profit/1000000, 2))\n",
    "            print(f'В {get_df_region(df)} прибыль с 200 лучших скважин составляет {round(profit/1000000, 2)} млрд. руб..')\n",
    "        else:\n",
    "            pass"
   ]
  },
  {
   "cell_type": "code",
   "execution_count": 65,
   "metadata": {},
   "outputs": [
    {
     "name": "stdout",
     "output_type": "stream",
     "text": [
      "В регионе 1 прибыль с 200 лучших скважин составляет 3.37 млрд. руб..\n"
     ]
    }
   ],
   "source": [
    "value_region(geo_data_0)"
   ]
  },
  {
   "cell_type": "code",
   "execution_count": 66,
   "metadata": {},
   "outputs": [
    {
     "name": "stdout",
     "output_type": "stream",
     "text": [
      "В регионе 2 прибыль с 200 лучших скважин составляет 2.42 млрд. руб..\n"
     ]
    }
   ],
   "source": [
    "value_region(geo_data_1)"
   ]
  },
  {
   "cell_type": "code",
   "execution_count": 67,
   "metadata": {},
   "outputs": [
    {
     "name": "stdout",
     "output_type": "stream",
     "text": [
      "В регионе 3 прибыль с 200 лучших скважин составляет 2.5 млрд. руб..\n"
     ]
    }
   ],
   "source": [
    "value_region(geo_data_2)"
   ]
  },
  {
   "cell_type": "code",
   "execution_count": 68,
   "metadata": {},
   "outputs": [
    {
     "data": {
      "image/png": "[encoded data removed]",
      "text/plain": [
       "<Figure size 800x800 with 1 Axes>"
      ]
     },
     "metadata": {},
     "output_type": "display_data"
    }
   ],
   "source": [
    "fig, ax = plt.subplots(figsize=(8, 8))\n",
    "bar_container = ax.bar(region_top_200, profit_top_200, color=colors)\n",
    "ax.set_ylabel('Прибыль (млрд. руб.)' + '\\n', fontsize=15)\n",
    "ax.set_title('Прибыль с 200 лучших скважин для регионов' + '\\n', fontsize=20)\n",
    "ax.bar_label(bar_container, fmt='{:,.3f}', fontsize=12)\n",
    "plt.show()"
   ]
  },
  {
   "cell_type": "markdown",
   "metadata": {},
   "source": [
    "### Выводы после расчёта прибыли:\n",
    "\n",
    "* Написали функцию расчёта прибыли;\n",
    "* Выбрали для каждого региона лучшие 200 скважин по значению предсказанных запасов нефти;\n",
    "* Все три региона потенциально прибыльные."
   ]
  },
  {
   "cell_type": "markdown",
   "metadata": {},
   "source": [
    "## Расчитаем прибыль и риски для каждого региона."
   ]
  },
  {
   "cell_type": "markdown",
   "metadata": {},
   "source": [
    "Создадим функцию для расчета прибыли и рисков с применением техники Bootstrap с 1000 выборок, чтобы найти распределение прибыли."
   ]
  },
  {
   "cell_type": "code",
   "execution_count": 69,
   "metadata": {},
   "outputs": [],
   "source": [
    "mean_profit = []\n",
    "risks = []"
   ]
  },
  {
   "cell_type": "code",
   "execution_count": 71,
   "metadata": {},
   "outputs": [
    {
     "data": {
      "text/plain": [
       "array([103.95037196,  73.6878687 , 101.01528767, ...,  78.44465303,\n",
       "        71.08276801,  66.05485384])"
      ]
     },
     "execution_count": 71,
     "metadata": {},
     "output_type": "execute_result"
    }
   ],
   "source": [
    "predictions_valid[0]"
   ]
  },
  {
   "cell_type": "code",
   "execution_count": 72,
   "metadata": {},
   "outputs": [
    {
     "data": {
      "text/plain": [
       "0        123.566299\n",
       "1         63.442039\n",
       "2         88.718000\n",
       "3         51.422060\n",
       "4        102.569999\n",
       "            ...    \n",
       "24993     32.531740\n",
       "24994    139.062332\n",
       "24995     55.953481\n",
       "24996     87.222042\n",
       "24997    138.866063\n",
       "Name: product, Length: 24998, dtype: float64"
      ]
     },
     "execution_count": 72,
     "metadata": {},
     "output_type": "execute_result"
    }
   ],
   "source": [
    "targets_valid[0]"
   ]
  },
  {
   "cell_type": "code",
   "execution_count": 73,
   "metadata": {},
   "outputs": [],
   "source": [
    "def value_risk_and_profit(df):\n",
    "    for i in range(3):\n",
    "        if get_df_name(df)[-1] == str(i):\n",
    "            predictions = pd.Series(predictions_valid[i],index=targets_valid[i].index)\n",
    "            target = targets_valid[i] \n",
    "        else:\n",
    "            pass\n",
    "    profit_values = []\n",
    "    for _ in range(QUANTITY_BOOTSTRAP):\n",
    "        \n",
    "        target_sample  = target.sample(REGION_POINTS, replace=True, random_state=STATE_RFN)\n",
    "\n",
    "        predictions_sample = predictions[target_sample.index]\n",
    "\n",
    "        target_sample = target_sample.reset_index(drop = True)\n",
    "        predictions_sample = pd.Series(predictions_sample)\n",
    "        predictions_sample = predictions_sample.reset_index(drop = True)\n",
    "              \n",
    "        profit_values.append(calc_profit(target_sample, predictions_sample))\n",
    " \n",
    "    profit_values = pd.Series(profit_values)\n",
    "    \n",
    "    \n",
    "    mean_profit_value = round(profit_values.mean()/1000, 2)\n",
    "    mean_profit.append(mean_profit_value)\n",
    "    \n",
    "    confidence_interval_low = round(profit_values.quantile(0.025)/1000, 2)\n",
    "    confidence_interval_high = round(profit_values.quantile(0.975)/1000, 2)\n",
    "    \n",
    "    \n",
    "    risk = round((profit_values < 0).mean()*100, 1)\n",
    "    risks.append(risk)\n",
    "    \n",
    "    print(f\"Средняя прибыль: {mean_profit_value} млн.руб.\")\n",
    "    print(f\"95%-ый доверительный интервал: от {confidence_interval_low} млн.руб до {confidence_interval_high} млн.руб.\")\n",
    "    print (f'Процент вероятности убытка в данном регионе составит {risk} %')    "
   ]
  },
  {
   "cell_type": "code",
   "execution_count": 74,
   "metadata": {},
   "outputs": [
    {
     "name": "stdout",
     "output_type": "stream",
     "text": [
      "Средняя прибыль: 391.48 млн.руб.\n",
      "95%-ый доверительный интервал: от -100.62 млн.руб до 924.81 млн.руб.\n",
      "Процент вероятности убытка в данном регионе составит 7.3 %\n"
     ]
    }
   ],
   "source": [
    "value_risk_and_profit(geo_data_0)"
   ]
  },
  {
   "cell_type": "code",
   "execution_count": 75,
   "metadata": {},
   "outputs": [
    {
     "name": "stdout",
     "output_type": "stream",
     "text": [
      "Средняя прибыль: 479.25 млн.руб.\n",
      "95%-ый доверительный интервал: от 98.11 млн.руб до 865.28 млн.руб.\n",
      "Процент вероятности убытка в данном регионе составит 1.0 %\n"
     ]
    }
   ],
   "source": [
    "value_risk_and_profit(geo_data_1)"
   ]
  },
  {
   "cell_type": "code",
   "execution_count": 76,
   "metadata": {},
   "outputs": [
    {
     "name": "stdout",
     "output_type": "stream",
     "text": [
      "Средняя прибыль: 346.19 млн.руб.\n",
      "95%-ый доверительный интервал: от -215.28 млн.руб до 853.26 млн.руб.\n",
      "Процент вероятности убытка в данном регионе составит 9.9 %\n"
     ]
    }
   ],
   "source": [
    "value_risk_and_profit(geo_data_2)"
   ]
  },
  {
   "cell_type": "code",
   "execution_count": 77,
   "metadata": {},
   "outputs": [
    {
     "data": {
      "image/png": "[encoded data removed]",
      "text/plain": [
       "<Figure size 800x800 with 1 Axes>"
      ]
     },
     "metadata": {},
     "output_type": "display_data"
    }
   ],
   "source": [
    "fig, ax = plt.subplots(figsize=(8, 8))\n",
    "bar_container = ax.bar(region_top_200, mean_profit, color=colors)\n",
    "ax.set_ylabel('Средняя прибыль (млрд. руб.)' + '\\n', fontsize=15)\n",
    "ax.set_title('Средняя прибыль с 200 лучших скважин для регионов' + '\\n', fontsize=20)\n",
    "ax.bar_label(bar_container, fmt='{:,.3f}', fontsize=12)\n",
    "plt.show()"
   ]
  },
  {
   "cell_type": "code",
   "execution_count": 78,
   "metadata": {},
   "outputs": [
    {
     "data": {
      "image/png": "[encoded data removed]",
      "text/plain": [
       "<Figure size 800x800 with 1 Axes>"
      ]
     },
     "metadata": {},
     "output_type": "display_data"
    }
   ],
   "source": [
    "fig, ax = plt.subplots(figsize=(8, 8))\n",
    "bar_container = ax.bar(region_top_200, risks, color=colors)\n",
    "ax.set_ylabel('Риск убытков (млрд. руб.)' + '\\n', fontsize=15)\n",
    "ax.set_title('Риск убытков 200 лучших скважин для регионов' + '\\n', fontsize=20)\n",
    "ax.bar_label(bar_container, fmt='{:,.3f}', fontsize=12)\n",
    "plt.show()"
   ]
  },
  {
   "cell_type": "markdown",
   "metadata": {},
   "source": [
    "### Выводы после расчёта прибыли и рисков для каждого региона.\n",
    "\n",
    "* Только лишь в регионе 2 `geo_data_1` вероятность убытков меньше `1%`.\n",
    "* Средняя прибыль в регионе 2 составляет более `450 млн рублей`.\n",
    "* Для региона 2 95%-й доверительный интервал не содержит отрицательных значений.\n",
    "* Наименьший риск получения убытков при разработке 200 скважин определен для региона №2."
   ]
  },
  {
   "cell_type": "markdown",
   "metadata": {},
   "source": [
    "## Общий вывод\n",
    "По результатам исследования можно отметить следующие факты и сделать следующие выводы:\n",
    "\n",
    "1. Данные были изучены и подготовлены к дальнейшим исследованиям.\n",
    "\n",
    "0. Построена модель по всему объему данных после разделения на обучающую и валидационную выборки. Обнаружено:\n",
    "   * Среднее значение запаса сырья по полному количеству скважин для каждого из регионов меньше, чем точка безубыточности: 111 тыс. баррелей (объём сырья для безубыточной разработки новой скважины).\n",
    "   * Средний запас ресурсов по регионам недостаточен даже для окупаемости вложений на разработку.\n",
    "   * Принимается решение о том, что разработку сразу всех скважин вести нерентабельно.\n",
    "   * Из всех скважин нужно выбрать всего 200 лучших с максимальными запасами и вкладывать деньги в их запуск и производственную деятельность.\n",
    "0. Проведена оценка по 200-м лучшим скважинам в каждом из регионов. Получены следующие результаты:\n",
    "\n",
    "| Регион\t|  Прибыль (млрд. руб)|\n",
    "|:---------:|:-------------------:|\n",
    "| Регион 1  |  3.370              |\n",
    "| Регион 2  |  2.420              |\n",
    "| Регион 3  |  2.500              |\n",
    "\n",
    "4. Выполнены предсказания при помощи линейной регрессии, а так же применена технологиа Bootstrap с разделением каждого предсказанного значения прибыли по регионам на 1000 выборок:\n",
    "\n",
    "| Регион\t|  Средняя прибыль от 200 лучших скважин (млн. руб.)|\n",
    "|:---------:|:-------------------------------------------------:|\n",
    "| Регион 1  |  394.38                                           |\n",
    "| Регион 2  |  475.78                                           |\n",
    "| Регион 3  |  347.88                                           |\n",
    "\n",
    "| Регион\t|  95%-ый доверительный интервал (млн. руб.)        |\n",
    "|:---------:|:-------------------------------------------------:|\n",
    "| Регион 1  |  -168.67 ... 935.49                               |\n",
    "| Регион 2  |  95.9 ... 864.42                                  |\n",
    "| Регион 3  |  -176.52 ... 875.1                                |\n",
    "\n",
    "| Регион\t|  Процент вероятности убытка в данном регионе составит (%)|\n",
    "|:---------:|:--------------------------------------------------------:|\n",
    "| Регион 1  |  8.0                                                     |\n",
    "| Регион 2  |  0.8                                                     |\n",
    "| Регион 3  |  10.6                                                    |\n",
    "\n",
    "5. Определен доверительный интервал получения прибыли в 95%.\n",
    "\n",
    "0. Несмотря на сравнительно меньшие запасы сырья, по сравнению с другими регионами (всего 68 тыс баррелей против 92 и 94), средняя доходность с 200 лучших скважин во регионе №2 прогнозируется выше других, при наименьших рисках.\n",
    "\n",
    "0. Наименьший риск получения убытков при разработке 200 скважин определен для региона №2.\n",
    "\n",
    "0. При величине запасов на уровне 68 (тыс. баррелей), по показателю наименьшего риска (<1%) c прибыльностью на уровне 460 (млн. руб.) выбирается модель разработки 200 скважин в регионе №2."
   ]
  }
 ],
 "metadata": {
  "ExecuteTimeLog": [
   {
    "duration": 109,
    "start_time": "2023-09-02T07:13:19.691Z"
   },
   {
    "duration": 176,
    "start_time": "2023-09-02T07:17:18.242Z"
   },
   {
    "duration": 2034,
    "start_time": "2023-09-02T07:20:01.039Z"
   },
   {
    "duration": 5,
    "start_time": "2023-09-02T07:21:33.887Z"
   },
   {
    "duration": 5,
    "start_time": "2023-09-02T07:21:59.619Z"
   },
   {
    "duration": 5,
    "start_time": "2023-09-02T07:24:44.726Z"
   },
   {
    "duration": 1097,
    "start_time": "2023-09-02T07:26:28.730Z"
   },
   {
    "duration": 17,
    "start_time": "2023-09-02T07:26:33.276Z"
   },
   {
    "duration": 4,
    "start_time": "2023-09-02T07:40:56.683Z"
   },
   {
    "duration": 134,
    "start_time": "2023-09-02T07:41:10.732Z"
   },
   {
    "duration": 9,
    "start_time": "2023-09-02T07:41:15.501Z"
   },
   {
    "duration": 7,
    "start_time": "2023-09-02T07:41:17.179Z"
   },
   {
    "duration": 3,
    "start_time": "2023-09-02T07:41:45.894Z"
   },
   {
    "duration": 8,
    "start_time": "2023-09-02T07:41:47.482Z"
   },
   {
    "duration": 3,
    "start_time": "2023-09-02T07:42:49.576Z"
   },
   {
    "duration": 8,
    "start_time": "2023-09-02T07:42:51.042Z"
   },
   {
    "duration": 3,
    "start_time": "2023-09-02T07:43:49.094Z"
   },
   {
    "duration": 8,
    "start_time": "2023-09-02T07:43:49.615Z"
   },
   {
    "duration": 5,
    "start_time": "2023-09-02T07:44:37.614Z"
   },
   {
    "duration": 13,
    "start_time": "2023-09-02T07:44:39.307Z"
   },
   {
    "duration": 7,
    "start_time": "2023-09-02T07:44:50.411Z"
   },
   {
    "duration": 7,
    "start_time": "2023-09-02T07:44:51.019Z"
   },
   {
    "duration": 250,
    "start_time": "2023-09-02T07:45:02.022Z"
   },
   {
    "duration": 6,
    "start_time": "2023-09-02T07:45:02.832Z"
   },
   {
    "duration": 3,
    "start_time": "2023-09-02T07:45:08.189Z"
   },
   {
    "duration": 7,
    "start_time": "2023-09-02T07:45:08.584Z"
   },
   {
    "duration": 4,
    "start_time": "2023-09-02T07:45:23.088Z"
   },
   {
    "duration": 6,
    "start_time": "2023-09-02T07:45:23.715Z"
   },
   {
    "duration": 4,
    "start_time": "2023-09-02T07:45:28.640Z"
   },
   {
    "duration": 8,
    "start_time": "2023-09-02T07:45:29.017Z"
   },
   {
    "duration": 4,
    "start_time": "2023-09-02T07:45:36.176Z"
   },
   {
    "duration": 11,
    "start_time": "2023-09-02T07:45:36.548Z"
   },
   {
    "duration": 4,
    "start_time": "2023-09-02T07:45:54.996Z"
   },
   {
    "duration": 10,
    "start_time": "2023-09-02T07:45:55.551Z"
   },
   {
    "duration": 3,
    "start_time": "2023-09-02T07:46:04.348Z"
   },
   {
    "duration": 9,
    "start_time": "2023-09-02T07:46:04.644Z"
   },
   {
    "duration": 3,
    "start_time": "2023-09-02T07:46:08.089Z"
   },
   {
    "duration": 8,
    "start_time": "2023-09-02T07:46:08.248Z"
   },
   {
    "duration": 4,
    "start_time": "2023-09-02T07:47:33.785Z"
   },
   {
    "duration": 28,
    "start_time": "2023-09-02T07:47:35.181Z"
   },
   {
    "duration": 4,
    "start_time": "2023-09-02T07:47:45.515Z"
   },
   {
    "duration": 29,
    "start_time": "2023-09-02T07:47:45.818Z"
   },
   {
    "duration": 5,
    "start_time": "2023-09-02T07:48:15.721Z"
   },
   {
    "duration": 21,
    "start_time": "2023-09-02T07:48:16.233Z"
   },
   {
    "duration": 4,
    "start_time": "2023-09-02T07:48:57.417Z"
   },
   {
    "duration": 26,
    "start_time": "2023-09-02T07:48:57.596Z"
   },
   {
    "duration": 4,
    "start_time": "2023-09-02T07:49:08.921Z"
   },
   {
    "duration": 3,
    "start_time": "2023-09-02T07:49:17.181Z"
   },
   {
    "duration": 19,
    "start_time": "2023-09-02T07:49:18.136Z"
   },
   {
    "duration": 3,
    "start_time": "2023-09-02T07:52:41.390Z"
   },
   {
    "duration": 28,
    "start_time": "2023-09-02T07:52:41.818Z"
   },
   {
    "duration": 4,
    "start_time": "2023-09-02T07:52:47.552Z"
   },
   {
    "duration": 5,
    "start_time": "2023-09-02T07:52:50.440Z"
   },
   {
    "duration": 83,
    "start_time": "2023-09-02T07:52:51.504Z"
   },
   {
    "duration": 18,
    "start_time": "2023-09-02T07:57:41.922Z"
   },
   {
    "duration": 4,
    "start_time": "2023-09-02T07:58:10.870Z"
   },
   {
    "duration": 631,
    "start_time": "2023-09-02T07:58:11.319Z"
   },
   {
    "duration": 4,
    "start_time": "2023-09-02T07:58:19.278Z"
   },
   {
    "duration": 5,
    "start_time": "2023-09-02T07:58:22.019Z"
   },
   {
    "duration": 686,
    "start_time": "2023-09-02T07:58:22.385Z"
   },
   {
    "duration": 96,
    "start_time": "2023-09-02T07:58:46.435Z"
   },
   {
    "duration": 4,
    "start_time": "2023-09-02T07:58:51.575Z"
   },
   {
    "duration": 656,
    "start_time": "2023-09-02T07:58:52.049Z"
   },
   {
    "duration": 6,
    "start_time": "2023-09-02T07:59:03.831Z"
   },
   {
    "duration": 710,
    "start_time": "2023-09-02T07:59:04.147Z"
   },
   {
    "duration": 6,
    "start_time": "2023-09-02T08:01:29.761Z"
   },
   {
    "duration": 600,
    "start_time": "2023-09-02T08:01:30.142Z"
   },
   {
    "duration": 5,
    "start_time": "2023-09-02T08:01:45.722Z"
   },
   {
    "duration": 727,
    "start_time": "2023-09-02T08:01:51.666Z"
   },
   {
    "duration": 5,
    "start_time": "2023-09-02T08:02:28.838Z"
   },
   {
    "duration": 1158,
    "start_time": "2023-09-02T08:02:30.193Z"
   },
   {
    "duration": 109,
    "start_time": "2023-09-02T08:02:57.842Z"
   },
   {
    "duration": 7,
    "start_time": "2023-09-02T08:03:02.034Z"
   },
   {
    "duration": 4197,
    "start_time": "2023-09-02T08:03:02.273Z"
   },
   {
    "duration": 4,
    "start_time": "2023-09-02T08:03:16.886Z"
   },
   {
    "duration": 2422,
    "start_time": "2023-09-02T08:03:17.130Z"
   },
   {
    "duration": 1131,
    "start_time": "2023-09-02T08:04:35.975Z"
   },
   {
    "duration": 8,
    "start_time": "2023-09-02T08:04:37.798Z"
   },
   {
    "duration": 2488,
    "start_time": "2023-09-02T08:04:42.093Z"
   },
   {
    "duration": 2478,
    "start_time": "2023-09-02T08:05:16.746Z"
   },
   {
    "duration": 2326,
    "start_time": "2023-09-02T08:05:19.226Z"
   },
   {
    "duration": 6,
    "start_time": "2023-09-02T08:09:05.419Z"
   },
   {
    "duration": 2345,
    "start_time": "2023-09-02T08:09:07.197Z"
   },
   {
    "duration": 2296,
    "start_time": "2023-09-02T08:09:09.544Z"
   },
   {
    "duration": 2280,
    "start_time": "2023-09-02T08:09:11.842Z"
   },
   {
    "duration": 5,
    "start_time": "2023-09-02T08:10:01.421Z"
   },
   {
    "duration": 2802,
    "start_time": "2023-09-02T08:10:03.416Z"
   },
   {
    "duration": 6,
    "start_time": "2023-09-02T08:10:25.906Z"
   },
   {
    "duration": 2702,
    "start_time": "2023-09-02T08:10:26.430Z"
   },
   {
    "duration": 12,
    "start_time": "2023-09-02T08:10:38.204Z"
   },
   {
    "duration": 2859,
    "start_time": "2023-09-02T08:10:38.598Z"
   },
   {
    "duration": 5,
    "start_time": "2023-09-02T08:10:50.182Z"
   },
   {
    "duration": 2857,
    "start_time": "2023-09-02T08:10:50.570Z"
   },
   {
    "duration": 5,
    "start_time": "2023-09-02T08:11:00.094Z"
   },
   {
    "duration": 2665,
    "start_time": "2023-09-02T08:11:00.474Z"
   },
   {
    "duration": 5,
    "start_time": "2023-09-02T08:11:11.186Z"
   },
   {
    "duration": 2823,
    "start_time": "2023-09-02T08:11:11.338Z"
   },
   {
    "duration": 5,
    "start_time": "2023-09-02T08:11:25.534Z"
   },
   {
    "duration": 2657,
    "start_time": "2023-09-02T08:11:25.718Z"
   },
   {
    "duration": 4,
    "start_time": "2023-09-02T08:11:34.994Z"
   },
   {
    "duration": 2838,
    "start_time": "2023-09-02T08:11:35.145Z"
   },
   {
    "duration": 4,
    "start_time": "2023-09-02T08:12:54.424Z"
   },
   {
    "duration": 2684,
    "start_time": "2023-09-02T08:12:54.877Z"
   },
   {
    "duration": 5,
    "start_time": "2023-09-02T08:13:22.724Z"
   },
   {
    "duration": 2822,
    "start_time": "2023-09-02T08:13:22.994Z"
   },
   {
    "duration": 7,
    "start_time": "2023-09-02T08:14:15.019Z"
   },
   {
    "duration": 2867,
    "start_time": "2023-09-02T08:14:15.278Z"
   },
   {
    "duration": 6,
    "start_time": "2023-09-02T08:14:30.150Z"
   },
   {
    "duration": 2949,
    "start_time": "2023-09-02T08:14:30.432Z"
   },
   {
    "duration": 6,
    "start_time": "2023-09-02T08:14:44.385Z"
   },
   {
    "duration": 3000,
    "start_time": "2023-09-02T08:14:45.870Z"
   },
   {
    "duration": 13,
    "start_time": "2023-09-02T08:14:54.297Z"
   },
   {
    "duration": 2815,
    "start_time": "2023-09-02T08:14:54.535Z"
   },
   {
    "duration": 6,
    "start_time": "2023-09-02T08:15:10.235Z"
   },
   {
    "duration": 2910,
    "start_time": "2023-09-02T08:15:15.926Z"
   },
   {
    "duration": 6,
    "start_time": "2023-09-02T08:15:36.845Z"
   },
   {
    "duration": 3190,
    "start_time": "2023-09-02T08:15:37.049Z"
   },
   {
    "duration": 6,
    "start_time": "2023-09-02T08:16:00.177Z"
   },
   {
    "duration": 2867,
    "start_time": "2023-09-02T08:16:00.293Z"
   },
   {
    "duration": 5,
    "start_time": "2023-09-02T08:16:09.419Z"
   },
   {
    "duration": 2755,
    "start_time": "2023-09-02T08:16:09.619Z"
   },
   {
    "duration": 6,
    "start_time": "2023-09-02T08:16:21.484Z"
   },
   {
    "duration": 2912,
    "start_time": "2023-09-02T08:16:21.901Z"
   },
   {
    "duration": 2783,
    "start_time": "2023-09-02T08:16:38.449Z"
   },
   {
    "duration": 2652,
    "start_time": "2023-09-02T08:16:41.234Z"
   },
   {
    "duration": 6,
    "start_time": "2023-09-02T08:29:25.777Z"
   },
   {
    "duration": 33,
    "start_time": "2023-09-02T08:29:27.589Z"
   },
   {
    "duration": 29,
    "start_time": "2023-09-02T08:29:27.807Z"
   },
   {
    "duration": 29,
    "start_time": "2023-09-02T08:29:28.372Z"
   },
   {
    "duration": 7,
    "start_time": "2023-09-02T08:29:47.540Z"
   },
   {
    "duration": 2667,
    "start_time": "2023-09-02T08:29:47.780Z"
   },
   {
    "duration": 2705,
    "start_time": "2023-09-02T08:29:50.449Z"
   },
   {
    "duration": 2718,
    "start_time": "2023-09-02T08:29:53.157Z"
   },
   {
    "duration": 6,
    "start_time": "2023-09-02T08:30:19.127Z"
   },
   {
    "duration": 2882,
    "start_time": "2023-09-02T08:30:19.905Z"
   },
   {
    "duration": 118,
    "start_time": "2023-09-02T08:42:09.264Z"
   },
   {
    "duration": 3,
    "start_time": "2023-09-02T08:42:33.641Z"
   },
   {
    "duration": 6,
    "start_time": "2023-09-02T08:42:49.221Z"
   },
   {
    "duration": 15,
    "start_time": "2023-09-02T08:42:55.087Z"
   },
   {
    "duration": 3,
    "start_time": "2023-09-02T08:43:01.811Z"
   },
   {
    "duration": 19,
    "start_time": "2023-09-02T08:43:02.379Z"
   },
   {
    "duration": 14,
    "start_time": "2023-09-02T08:43:03.157Z"
   },
   {
    "duration": 266,
    "start_time": "2023-09-02T08:44:28.198Z"
   },
   {
    "duration": 3,
    "start_time": "2023-09-02T08:45:15.903Z"
   },
   {
    "duration": 12,
    "start_time": "2023-09-02T08:45:16.586Z"
   },
   {
    "duration": 20,
    "start_time": "2023-09-02T08:45:18.311Z"
   },
   {
    "duration": 3,
    "start_time": "2023-09-02T08:45:43.184Z"
   },
   {
    "duration": 5,
    "start_time": "2023-09-02T08:45:43.595Z"
   },
   {
    "duration": 18,
    "start_time": "2023-09-02T08:45:44.667Z"
   },
   {
    "duration": 3,
    "start_time": "2023-09-02T08:45:51.594Z"
   },
   {
    "duration": 6,
    "start_time": "2023-09-02T08:45:51.935Z"
   },
   {
    "duration": 17,
    "start_time": "2023-09-02T08:45:52.360Z"
   },
   {
    "duration": 7,
    "start_time": "2023-09-02T08:46:27.859Z"
   },
   {
    "duration": 24,
    "start_time": "2023-09-02T08:46:28.972Z"
   },
   {
    "duration": 16,
    "start_time": "2023-09-02T08:46:29.214Z"
   },
   {
    "duration": 21,
    "start_time": "2023-09-02T08:46:53.671Z"
   },
   {
    "duration": 1665,
    "start_time": "2023-09-02T08:47:10.915Z"
   },
   {
    "duration": 847,
    "start_time": "2023-09-02T08:47:12.583Z"
   },
   {
    "duration": 5,
    "start_time": "2023-09-02T08:47:13.432Z"
   },
   {
    "duration": 2308,
    "start_time": "2023-09-02T08:47:13.439Z"
   },
   {
    "duration": 2185,
    "start_time": "2023-09-02T08:47:15.750Z"
   },
   {
    "duration": 2350,
    "start_time": "2023-09-02T08:47:17.936Z"
   },
   {
    "duration": 19,
    "start_time": "2023-09-02T08:47:20.287Z"
   },
   {
    "duration": 52,
    "start_time": "2023-09-02T08:47:20.307Z"
   },
   {
    "duration": 11,
    "start_time": "2023-09-02T08:47:30.674Z"
   },
   {
    "duration": 12,
    "start_time": "2023-09-02T08:47:33.600Z"
   },
   {
    "duration": 84,
    "start_time": "2023-09-02T08:48:06.548Z"
   },
   {
    "duration": 123,
    "start_time": "2023-09-02T08:48:10.833Z"
   },
   {
    "duration": 1597,
    "start_time": "2023-09-02T08:49:55.302Z"
   },
   {
    "duration": 753,
    "start_time": "2023-09-02T08:49:56.902Z"
   },
   {
    "duration": 5,
    "start_time": "2023-09-02T08:49:57.657Z"
   },
   {
    "duration": 2326,
    "start_time": "2023-09-02T08:49:57.664Z"
   },
   {
    "duration": 2391,
    "start_time": "2023-09-02T08:49:59.993Z"
   },
   {
    "duration": 2819,
    "start_time": "2023-09-02T08:50:02.387Z"
   },
   {
    "duration": 15,
    "start_time": "2023-09-02T08:50:05.208Z"
   },
   {
    "duration": 6,
    "start_time": "2023-09-02T08:50:16.958Z"
   },
   {
    "duration": 2332,
    "start_time": "2023-09-02T08:50:17.204Z"
   },
   {
    "duration": 2286,
    "start_time": "2023-09-02T08:50:19.539Z"
   },
   {
    "duration": 2353,
    "start_time": "2023-09-02T08:50:21.826Z"
   },
   {
    "duration": 126,
    "start_time": "2023-09-02T08:51:38.190Z"
   },
   {
    "duration": 49,
    "start_time": "2023-09-02T08:52:48.120Z"
   },
   {
    "duration": 9,
    "start_time": "2023-09-02T08:53:11.677Z"
   },
   {
    "duration": 2364,
    "start_time": "2023-09-02T08:53:14.265Z"
   },
   {
    "duration": 8,
    "start_time": "2023-09-02T08:53:57.511Z"
   },
   {
    "duration": 2378,
    "start_time": "2023-09-02T08:53:58.275Z"
   },
   {
    "duration": 2507,
    "start_time": "2023-09-02T08:54:00.656Z"
   },
   {
    "duration": 2537,
    "start_time": "2023-09-02T08:54:03.165Z"
   },
   {
    "duration": 6,
    "start_time": "2023-09-02T08:54:56.034Z"
   },
   {
    "duration": 2275,
    "start_time": "2023-09-02T08:54:56.559Z"
   },
   {
    "duration": 2202,
    "start_time": "2023-09-02T08:54:58.836Z"
   },
   {
    "duration": 2327,
    "start_time": "2023-09-02T08:55:01.040Z"
   },
   {
    "duration": 8,
    "start_time": "2023-09-02T08:55:25.033Z"
   },
   {
    "duration": 2395,
    "start_time": "2023-09-02T08:55:25.475Z"
   },
   {
    "duration": 2318,
    "start_time": "2023-09-02T08:55:27.873Z"
   },
   {
    "duration": 2387,
    "start_time": "2023-09-02T08:55:30.193Z"
   },
   {
    "duration": 6,
    "start_time": "2023-09-02T09:35:31.418Z"
   },
   {
    "duration": 2435,
    "start_time": "2023-09-02T09:35:33.973Z"
   },
   {
    "duration": 6,
    "start_time": "2023-09-02T09:35:49.289Z"
   },
   {
    "duration": 2342,
    "start_time": "2023-09-02T09:35:51.828Z"
   },
   {
    "duration": 6,
    "start_time": "2023-09-02T09:36:50.008Z"
   },
   {
    "duration": 2210,
    "start_time": "2023-09-02T09:36:50.681Z"
   },
   {
    "duration": 310,
    "start_time": "2023-09-02T09:40:08.722Z"
   },
   {
    "duration": 8,
    "start_time": "2023-09-02T09:42:44.674Z"
   },
   {
    "duration": 85,
    "start_time": "2023-09-02T09:42:45.423Z"
   },
   {
    "duration": 5,
    "start_time": "2023-09-02T09:43:02.134Z"
   },
   {
    "duration": 8599,
    "start_time": "2023-09-02T09:43:02.729Z"
   },
   {
    "duration": 5,
    "start_time": "2023-09-02T09:47:41.434Z"
   },
   {
    "duration": 9524,
    "start_time": "2023-09-02T09:47:41.725Z"
   },
   {
    "duration": 7,
    "start_time": "2023-09-02T09:48:20.715Z"
   },
   {
    "duration": 2649,
    "start_time": "2023-09-02T09:48:21.434Z"
   },
   {
    "duration": 7,
    "start_time": "2023-09-02T09:51:33.190Z"
   },
   {
    "duration": 2698,
    "start_time": "2023-09-02T09:51:35.470Z"
   },
   {
    "duration": 6,
    "start_time": "2023-09-02T09:52:55.677Z"
   },
   {
    "duration": 2481,
    "start_time": "2023-09-02T09:52:57.178Z"
   },
   {
    "duration": 7,
    "start_time": "2023-09-02T09:54:22.508Z"
   },
   {
    "duration": 75,
    "start_time": "2023-09-02T09:54:26.578Z"
   },
   {
    "duration": 5,
    "start_time": "2023-09-02T09:54:36.041Z"
   },
   {
    "duration": 2553,
    "start_time": "2023-09-02T09:54:36.586Z"
   },
   {
    "duration": 6,
    "start_time": "2023-09-02T09:54:58.021Z"
   },
   {
    "duration": 1966,
    "start_time": "2023-09-02T09:54:58.282Z"
   },
   {
    "duration": 6,
    "start_time": "2023-09-02T09:55:35.681Z"
   },
   {
    "duration": 1885,
    "start_time": "2023-09-02T09:55:35.870Z"
   },
   {
    "duration": 5,
    "start_time": "2023-09-02T09:55:58.774Z"
   },
   {
    "duration": 1864,
    "start_time": "2023-09-02T09:55:59.181Z"
   },
   {
    "duration": 1869,
    "start_time": "2023-09-02T09:56:20.004Z"
   },
   {
    "duration": 6,
    "start_time": "2023-09-02T09:57:03.673Z"
   },
   {
    "duration": 1907,
    "start_time": "2023-09-02T09:57:06.474Z"
   },
   {
    "duration": 6,
    "start_time": "2023-09-02T09:57:20.714Z"
   },
   {
    "duration": 1774,
    "start_time": "2023-09-02T09:57:20.906Z"
   },
   {
    "duration": 5,
    "start_time": "2023-09-02T09:57:55.207Z"
   },
   {
    "duration": 2021,
    "start_time": "2023-09-02T09:57:55.486Z"
   },
   {
    "duration": 6,
    "start_time": "2023-09-02T09:58:48.199Z"
   },
   {
    "duration": 92,
    "start_time": "2023-09-02T09:58:49.409Z"
   },
   {
    "duration": 6,
    "start_time": "2023-09-02T09:59:10.429Z"
   },
   {
    "duration": 1924,
    "start_time": "2023-09-02T09:59:10.679Z"
   },
   {
    "duration": 6,
    "start_time": "2023-09-02T10:04:21.375Z"
   },
   {
    "duration": 1513,
    "start_time": "2023-09-02T10:04:22.039Z"
   },
   {
    "duration": 6,
    "start_time": "2023-09-02T10:05:04.965Z"
   },
   {
    "duration": 2703,
    "start_time": "2023-09-02T10:05:05.515Z"
   },
   {
    "duration": 5,
    "start_time": "2023-09-02T10:05:27.624Z"
   },
   {
    "duration": 1792,
    "start_time": "2023-09-02T10:05:27.899Z"
   },
   {
    "duration": 2012,
    "start_time": "2023-09-02T10:06:32.380Z"
   },
   {
    "duration": 1951,
    "start_time": "2023-09-02T10:06:38.775Z"
   },
   {
    "duration": 1531,
    "start_time": "2023-09-02T10:06:54.096Z"
   },
   {
    "duration": 962,
    "start_time": "2023-09-02T10:06:55.630Z"
   },
   {
    "duration": 11,
    "start_time": "2023-09-02T10:06:56.594Z"
   },
   {
    "duration": 1982,
    "start_time": "2023-09-02T10:06:56.607Z"
   },
   {
    "duration": 2013,
    "start_time": "2023-09-02T10:06:58.591Z"
   },
   {
    "duration": 1880,
    "start_time": "2023-09-02T10:07:00.606Z"
   },
   {
    "duration": 22,
    "start_time": "2023-09-02T10:07:02.488Z"
   },
   {
    "duration": 2,
    "start_time": "2023-09-02T10:28:30.249Z"
   },
   {
    "duration": 8,
    "start_time": "2023-09-02T10:42:02.310Z"
   },
   {
    "duration": 141,
    "start_time": "2023-09-02T10:42:21.081Z"
   },
   {
    "duration": 5,
    "start_time": "2023-09-02T10:42:47.630Z"
   },
   {
    "duration": 128,
    "start_time": "2023-09-02T10:42:48.477Z"
   },
   {
    "duration": 197,
    "start_time": "2023-09-02T10:43:47.677Z"
   },
   {
    "duration": 97,
    "start_time": "2023-09-02T10:43:48.211Z"
   },
   {
    "duration": 4,
    "start_time": "2023-09-02T10:44:05.146Z"
   },
   {
    "duration": 5,
    "start_time": "2023-09-02T10:44:26.445Z"
   },
   {
    "duration": 29,
    "start_time": "2023-09-02T10:44:26.878Z"
   },
   {
    "duration": 136,
    "start_time": "2023-09-02T10:45:07.427Z"
   },
   {
    "duration": 26,
    "start_time": "2023-09-02T10:45:07.826Z"
   },
   {
    "duration": 183,
    "start_time": "2023-09-02T10:45:50.272Z"
   },
   {
    "duration": 24,
    "start_time": "2023-09-02T10:45:51.272Z"
   },
   {
    "duration": 5,
    "start_time": "2023-09-02T10:46:19.377Z"
   },
   {
    "duration": 107,
    "start_time": "2023-09-02T10:46:20.098Z"
   },
   {
    "duration": 114,
    "start_time": "2023-09-02T10:46:29.427Z"
   },
   {
    "duration": 5,
    "start_time": "2023-09-02T10:47:28.494Z"
   },
   {
    "duration": 103,
    "start_time": "2023-09-02T10:47:39.696Z"
   },
   {
    "duration": 5,
    "start_time": "2023-09-02T10:48:01.169Z"
   },
   {
    "duration": 37,
    "start_time": "2023-09-02T10:48:01.729Z"
   },
   {
    "duration": 4,
    "start_time": "2023-09-02T10:48:20.636Z"
   },
   {
    "duration": 23,
    "start_time": "2023-09-02T10:48:20.838Z"
   },
   {
    "duration": 34,
    "start_time": "2023-09-02T10:48:41.185Z"
   },
   {
    "duration": 28,
    "start_time": "2023-09-02T10:48:41.602Z"
   },
   {
    "duration": 7,
    "start_time": "2023-09-02T17:53:56.215Z"
   },
   {
    "duration": 4,
    "start_time": "2023-09-02T17:54:00.189Z"
   },
   {
    "duration": 39,
    "start_time": "2023-09-02T17:54:01.065Z"
   },
   {
    "duration": 5,
    "start_time": "2023-09-02T17:54:01.321Z"
   },
   {
    "duration": 5,
    "start_time": "2023-09-02T17:54:01.660Z"
   },
   {
    "duration": 1465,
    "start_time": "2023-09-02T17:54:07.483Z"
   },
   {
    "duration": 896,
    "start_time": "2023-09-02T17:54:08.950Z"
   },
   {
    "duration": 5,
    "start_time": "2023-09-02T17:54:09.849Z"
   },
   {
    "duration": 1623,
    "start_time": "2023-09-02T17:54:09.856Z"
   },
   {
    "duration": 1650,
    "start_time": "2023-09-02T17:54:11.480Z"
   },
   {
    "duration": 1480,
    "start_time": "2023-09-02T17:54:13.133Z"
   },
   {
    "duration": 13,
    "start_time": "2023-09-02T17:54:14.615Z"
   },
   {
    "duration": 26,
    "start_time": "2023-09-02T17:54:14.630Z"
   },
   {
    "duration": 33,
    "start_time": "2023-09-02T17:54:14.657Z"
   },
   {
    "duration": 58,
    "start_time": "2023-09-02T17:54:14.692Z"
   },
   {
    "duration": 109,
    "start_time": "2023-09-02T17:54:14.752Z"
   },
   {
    "duration": 191,
    "start_time": "2023-09-02T17:54:14.863Z"
   },
   {
    "duration": 4,
    "start_time": "2023-09-02T17:54:36.537Z"
   },
   {
    "duration": 256,
    "start_time": "2023-09-02T17:56:01.025Z"
   },
   {
    "duration": 103,
    "start_time": "2023-09-02T17:56:08.017Z"
   },
   {
    "duration": 99,
    "start_time": "2023-09-02T17:58:39.662Z"
   },
   {
    "duration": 279,
    "start_time": "2023-09-02T18:00:08.063Z"
   },
   {
    "duration": 219,
    "start_time": "2023-09-02T18:00:17.130Z"
   },
   {
    "duration": 195,
    "start_time": "2023-09-02T18:00:31.154Z"
   },
   {
    "duration": 249,
    "start_time": "2023-09-02T18:00:52.758Z"
   },
   {
    "duration": 280,
    "start_time": "2023-09-02T18:01:16.317Z"
   },
   {
    "duration": 104,
    "start_time": "2023-09-02T18:01:31.082Z"
   },
   {
    "duration": 3,
    "start_time": "2023-09-02T18:07:51.239Z"
   },
   {
    "duration": 163,
    "start_time": "2023-09-02T18:08:04.070Z"
   },
   {
    "duration": 79,
    "start_time": "2023-09-02T18:09:10.900Z"
   },
   {
    "duration": 73,
    "start_time": "2023-09-02T18:09:42.876Z"
   },
   {
    "duration": 80,
    "start_time": "2023-09-02T18:09:52.707Z"
   },
   {
    "duration": 72,
    "start_time": "2023-09-02T18:11:05.261Z"
   },
   {
    "duration": 75,
    "start_time": "2023-09-02T18:11:10.822Z"
   },
   {
    "duration": 83,
    "start_time": "2023-09-02T18:11:35.561Z"
   },
   {
    "duration": 104,
    "start_time": "2023-09-02T18:11:39.755Z"
   },
   {
    "duration": 193,
    "start_time": "2023-09-02T18:11:44.467Z"
   },
   {
    "duration": 109,
    "start_time": "2023-09-02T18:11:53.900Z"
   },
   {
    "duration": 97,
    "start_time": "2023-09-02T18:12:25.761Z"
   },
   {
    "duration": 94,
    "start_time": "2023-09-02T18:12:33.484Z"
   },
   {
    "duration": 117,
    "start_time": "2023-09-02T18:12:58.289Z"
   },
   {
    "duration": 4,
    "start_time": "2023-09-02T18:14:16.929Z"
   },
   {
    "duration": 118,
    "start_time": "2023-09-02T18:14:52.202Z"
   },
   {
    "duration": 102,
    "start_time": "2023-09-02T18:15:15.714Z"
   },
   {
    "duration": 2,
    "start_time": "2023-09-02T18:16:14.557Z"
   },
   {
    "duration": 4,
    "start_time": "2023-09-02T18:16:31.456Z"
   },
   {
    "duration": 94,
    "start_time": "2023-09-02T18:16:48.551Z"
   },
   {
    "duration": 3,
    "start_time": "2023-09-02T18:16:53.717Z"
   },
   {
    "duration": 3,
    "start_time": "2023-09-02T18:16:54.065Z"
   },
   {
    "duration": 103,
    "start_time": "2023-09-02T18:17:05.014Z"
   },
   {
    "duration": 149,
    "start_time": "2023-09-02T18:22:47.778Z"
   },
   {
    "duration": 3,
    "start_time": "2023-09-02T18:23:00.136Z"
   },
   {
    "duration": 4,
    "start_time": "2023-09-02T18:23:01.101Z"
   },
   {
    "duration": 104,
    "start_time": "2023-09-02T18:23:01.771Z"
   },
   {
    "duration": 3,
    "start_time": "2023-09-02T18:23:37.632Z"
   },
   {
    "duration": 111,
    "start_time": "2023-09-02T18:23:38.000Z"
   },
   {
    "duration": 110,
    "start_time": "2023-09-02T18:23:52.311Z"
   },
   {
    "duration": 3,
    "start_time": "2023-09-02T18:26:02.804Z"
   },
   {
    "duration": 120,
    "start_time": "2023-09-02T18:26:03.204Z"
   },
   {
    "duration": 3,
    "start_time": "2023-09-02T18:26:20.270Z"
   },
   {
    "duration": 115,
    "start_time": "2023-09-02T18:26:20.531Z"
   },
   {
    "duration": 3,
    "start_time": "2023-09-02T18:26:34.974Z"
   },
   {
    "duration": 114,
    "start_time": "2023-09-02T18:26:35.200Z"
   },
   {
    "duration": 3,
    "start_time": "2023-09-02T18:28:42.544Z"
   },
   {
    "duration": 1769,
    "start_time": "2023-09-03T07:24:21.321Z"
   },
   {
    "duration": 1029,
    "start_time": "2023-09-03T07:24:23.093Z"
   },
   {
    "duration": 7,
    "start_time": "2023-09-03T07:24:24.124Z"
   },
   {
    "duration": 2016,
    "start_time": "2023-09-03T07:24:24.134Z"
   },
   {
    "duration": 1912,
    "start_time": "2023-09-03T07:24:26.152Z"
   },
   {
    "duration": 1813,
    "start_time": "2023-09-03T07:24:28.066Z"
   },
   {
    "duration": 14,
    "start_time": "2023-09-03T07:24:29.880Z"
   },
   {
    "duration": 6,
    "start_time": "2023-09-03T07:24:29.896Z"
   },
   {
    "duration": 7,
    "start_time": "2023-09-03T07:24:29.904Z"
   },
   {
    "duration": 139,
    "start_time": "2023-09-03T07:24:29.914Z"
   },
   {
    "duration": 112,
    "start_time": "2023-09-03T07:24:30.056Z"
   },
   {
    "duration": 188,
    "start_time": "2023-09-03T07:24:30.170Z"
   },
   {
    "duration": 99,
    "start_time": "2023-09-03T07:24:30.361Z"
   },
   {
    "duration": 419,
    "start_time": "2023-09-03T07:24:30.464Z"
   },
   {
    "duration": 3,
    "start_time": "2023-09-03T07:41:46.453Z"
   },
   {
    "duration": 4,
    "start_time": "2023-09-03T07:46:45.275Z"
   },
   {
    "duration": 4,
    "start_time": "2023-09-03T07:47:06.982Z"
   },
   {
    "duration": 5,
    "start_time": "2023-09-03T07:47:31.601Z"
   },
   {
    "duration": 4,
    "start_time": "2023-09-03T07:47:42.193Z"
   },
   {
    "duration": 3,
    "start_time": "2023-09-03T07:49:24.761Z"
   },
   {
    "duration": 5,
    "start_time": "2023-09-03T07:49:45.609Z"
   },
   {
    "duration": 5,
    "start_time": "2023-09-03T07:49:59.974Z"
   },
   {
    "duration": 6,
    "start_time": "2023-09-03T07:56:17.338Z"
   },
   {
    "duration": 4,
    "start_time": "2023-09-03T07:56:23.319Z"
   },
   {
    "duration": 139,
    "start_time": "2023-09-03T08:39:01.618Z"
   },
   {
    "duration": 4,
    "start_time": "2023-09-03T08:39:06.763Z"
   },
   {
    "duration": 148,
    "start_time": "2023-09-03T08:39:24.957Z"
   },
   {
    "duration": 4,
    "start_time": "2023-09-03T08:39:31.121Z"
   },
   {
    "duration": 7,
    "start_time": "2023-09-03T08:39:31.619Z"
   },
   {
    "duration": 3,
    "start_time": "2023-09-03T08:39:44.896Z"
   },
   {
    "duration": 16,
    "start_time": "2023-09-03T08:39:45.289Z"
   },
   {
    "duration": 5,
    "start_time": "2023-09-03T08:40:51.469Z"
   },
   {
    "duration": 20,
    "start_time": "2023-09-03T08:40:51.643Z"
   },
   {
    "duration": 9,
    "start_time": "2023-09-03T08:45:31.582Z"
   },
   {
    "duration": 4,
    "start_time": "2023-09-03T08:45:34.471Z"
   },
   {
    "duration": 5,
    "start_time": "2023-09-03T08:45:34.846Z"
   },
   {
    "duration": 4,
    "start_time": "2023-09-03T08:45:45.079Z"
   },
   {
    "duration": 4,
    "start_time": "2023-09-03T08:46:42.167Z"
   },
   {
    "duration": 78,
    "start_time": "2023-09-03T08:48:28.346Z"
   },
   {
    "duration": 4,
    "start_time": "2023-09-03T08:50:11.045Z"
   },
   {
    "duration": 5,
    "start_time": "2023-09-03T08:50:27.186Z"
   },
   {
    "duration": 4,
    "start_time": "2023-09-03T08:51:37.300Z"
   },
   {
    "duration": 3,
    "start_time": "2023-09-03T08:51:37.594Z"
   },
   {
    "duration": 6,
    "start_time": "2023-09-03T08:51:37.927Z"
   },
   {
    "duration": 74,
    "start_time": "2023-09-03T08:52:08.984Z"
   },
   {
    "duration": 5,
    "start_time": "2023-09-03T08:52:09.582Z"
   },
   {
    "duration": 96,
    "start_time": "2023-09-03T08:53:00.816Z"
   },
   {
    "duration": 4,
    "start_time": "2023-09-03T08:53:02.093Z"
   },
   {
    "duration": 5,
    "start_time": "2023-09-03T08:53:02.794Z"
   },
   {
    "duration": 5,
    "start_time": "2023-09-03T08:53:16.950Z"
   },
   {
    "duration": 5,
    "start_time": "2023-09-03T08:53:17.347Z"
   },
   {
    "duration": 4,
    "start_time": "2023-09-03T08:53:17.686Z"
   },
   {
    "duration": 105,
    "start_time": "2023-09-03T08:53:58.459Z"
   },
   {
    "duration": 4,
    "start_time": "2023-09-03T08:53:58.724Z"
   },
   {
    "duration": 5,
    "start_time": "2023-09-03T08:54:22.946Z"
   },
   {
    "duration": 3,
    "start_time": "2023-09-03T08:54:23.641Z"
   },
   {
    "duration": 5,
    "start_time": "2023-09-03T08:54:24.123Z"
   },
   {
    "duration": 4,
    "start_time": "2023-09-03T08:54:36.307Z"
   },
   {
    "duration": 5,
    "start_time": "2023-09-03T08:54:36.647Z"
   },
   {
    "duration": 5,
    "start_time": "2023-09-03T08:54:36.972Z"
   },
   {
    "duration": 4,
    "start_time": "2023-09-03T08:56:58.643Z"
   },
   {
    "duration": 6,
    "start_time": "2023-09-03T08:56:58.935Z"
   },
   {
    "duration": 3,
    "start_time": "2023-09-03T08:58:06.322Z"
   },
   {
    "duration": 4,
    "start_time": "2023-09-03T08:58:06.690Z"
   },
   {
    "duration": 5,
    "start_time": "2023-09-03T08:58:11.253Z"
   },
   {
    "duration": 6,
    "start_time": "2023-09-03T08:58:11.546Z"
   },
   {
    "duration": 5,
    "start_time": "2023-09-03T08:58:11.828Z"
   },
   {
    "duration": 5,
    "start_time": "2023-09-03T08:58:24.336Z"
   },
   {
    "duration": 6,
    "start_time": "2023-09-03T08:58:24.749Z"
   },
   {
    "duration": 4,
    "start_time": "2023-09-03T08:58:35.785Z"
   },
   {
    "duration": 7,
    "start_time": "2023-09-03T08:58:36.044Z"
   },
   {
    "duration": 5,
    "start_time": "2023-09-03T08:58:36.254Z"
   },
   {
    "duration": 13,
    "start_time": "2023-09-03T08:58:36.466Z"
   },
   {
    "duration": 6,
    "start_time": "2023-09-03T09:05:45.572Z"
   },
   {
    "duration": 4,
    "start_time": "2023-09-03T09:09:29.678Z"
   },
   {
    "duration": 10,
    "start_time": "2023-09-03T09:13:07.007Z"
   },
   {
    "duration": 8,
    "start_time": "2023-09-03T09:13:15.662Z"
   },
   {
    "duration": 5,
    "start_time": "2023-09-03T09:13:19.864Z"
   },
   {
    "duration": 10,
    "start_time": "2023-09-03T09:14:02.633Z"
   },
   {
    "duration": 4,
    "start_time": "2023-09-03T09:14:13.741Z"
   },
   {
    "duration": 4,
    "start_time": "2023-09-03T09:16:35.075Z"
   },
   {
    "duration": 6,
    "start_time": "2023-09-03T09:22:45.945Z"
   },
   {
    "duration": 4,
    "start_time": "2023-09-03T09:22:46.233Z"
   },
   {
    "duration": 5,
    "start_time": "2023-09-03T09:22:46.606Z"
   },
   {
    "duration": 5,
    "start_time": "2023-09-03T09:22:46.948Z"
   },
   {
    "duration": 6,
    "start_time": "2023-09-03T09:22:47.241Z"
   },
   {
    "duration": 4,
    "start_time": "2023-09-03T09:22:59.747Z"
   },
   {
    "duration": 93,
    "start_time": "2023-09-03T09:26:56.847Z"
   },
   {
    "duration": 5,
    "start_time": "2023-09-03T09:27:13.804Z"
   },
   {
    "duration": 3,
    "start_time": "2023-09-03T09:27:31.729Z"
   },
   {
    "duration": 5,
    "start_time": "2023-09-03T09:29:01.435Z"
   },
   {
    "duration": 3,
    "start_time": "2023-09-03T09:29:01.829Z"
   },
   {
    "duration": 3,
    "start_time": "2023-09-03T09:29:04.932Z"
   },
   {
    "duration": 4,
    "start_time": "2023-09-03T09:29:05.144Z"
   },
   {
    "duration": 6,
    "start_time": "2023-09-03T09:29:05.384Z"
   },
   {
    "duration": 4,
    "start_time": "2023-09-03T09:29:05.886Z"
   },
   {
    "duration": 5,
    "start_time": "2023-09-03T09:29:31.241Z"
   },
   {
    "duration": 11,
    "start_time": "2023-09-03T09:29:31.488Z"
   },
   {
    "duration": 5,
    "start_time": "2023-09-03T09:29:40.875Z"
   },
   {
    "duration": 9,
    "start_time": "2023-09-03T09:29:41.156Z"
   },
   {
    "duration": 5,
    "start_time": "2023-09-03T09:30:06.427Z"
   },
   {
    "duration": 11,
    "start_time": "2023-09-03T09:30:06.682Z"
   },
   {
    "duration": 10,
    "start_time": "2023-09-03T09:30:19.026Z"
   },
   {
    "duration": 8,
    "start_time": "2023-09-03T09:30:19.371Z"
   },
   {
    "duration": 4,
    "start_time": "2023-09-03T09:43:09.118Z"
   },
   {
    "duration": 2,
    "start_time": "2023-09-03T09:43:10.113Z"
   },
   {
    "duration": 4,
    "start_time": "2023-09-03T09:43:10.410Z"
   },
   {
    "duration": 2,
    "start_time": "2023-09-03T09:43:11.463Z"
   },
   {
    "duration": 5,
    "start_time": "2023-09-03T09:43:12.109Z"
   },
   {
    "duration": 3,
    "start_time": "2023-09-03T09:43:16.162Z"
   },
   {
    "duration": 4,
    "start_time": "2023-09-03T09:43:16.631Z"
   },
   {
    "duration": 4,
    "start_time": "2023-09-03T09:43:17.309Z"
   },
   {
    "duration": 7,
    "start_time": "2023-09-03T09:43:17.875Z"
   },
   {
    "duration": 5,
    "start_time": "2023-09-03T09:43:18.429Z"
   },
   {
    "duration": 4,
    "start_time": "2023-09-03T09:43:20.509Z"
   },
   {
    "duration": 10,
    "start_time": "2023-09-03T09:43:20.812Z"
   },
   {
    "duration": 6,
    "start_time": "2023-09-03T09:43:21.103Z"
   },
   {
    "duration": 12,
    "start_time": "2023-09-03T09:43:21.643Z"
   },
   {
    "duration": 11,
    "start_time": "2023-09-03T09:43:22.129Z"
   },
   {
    "duration": 11,
    "start_time": "2023-09-03T09:43:23.460Z"
   },
   {
    "duration": 4,
    "start_time": "2023-09-03T09:45:30.907Z"
   },
   {
    "duration": 4,
    "start_time": "2023-09-03T09:45:31.251Z"
   },
   {
    "duration": 5,
    "start_time": "2023-09-03T09:45:31.430Z"
   },
   {
    "duration": 3,
    "start_time": "2023-09-03T09:45:31.587Z"
   },
   {
    "duration": 5,
    "start_time": "2023-09-03T09:45:31.758Z"
   },
   {
    "duration": 4,
    "start_time": "2023-09-03T09:45:32.117Z"
   },
   {
    "duration": 4,
    "start_time": "2023-09-03T09:45:32.655Z"
   },
   {
    "duration": 6,
    "start_time": "2023-09-03T09:45:32.929Z"
   },
   {
    "duration": 5,
    "start_time": "2023-09-03T09:45:33.294Z"
   },
   {
    "duration": 5,
    "start_time": "2023-09-03T09:45:33.705Z"
   },
   {
    "duration": 5,
    "start_time": "2023-09-03T09:45:36.098Z"
   },
   {
    "duration": 4,
    "start_time": "2023-09-03T09:45:36.292Z"
   },
   {
    "duration": 5,
    "start_time": "2023-09-03T09:45:36.478Z"
   },
   {
    "duration": 11,
    "start_time": "2023-09-03T09:45:36.677Z"
   },
   {
    "duration": 9,
    "start_time": "2023-09-03T09:45:37.134Z"
   },
   {
    "duration": 11,
    "start_time": "2023-09-03T09:45:37.428Z"
   },
   {
    "duration": 12,
    "start_time": "2023-09-03T09:52:13.311Z"
   },
   {
    "duration": 8,
    "start_time": "2023-09-03T09:52:13.789Z"
   },
   {
    "duration": 9,
    "start_time": "2023-09-03T09:52:14.327Z"
   },
   {
    "duration": 9,
    "start_time": "2023-09-03T09:52:14.734Z"
   },
   {
    "duration": 9,
    "start_time": "2023-09-03T09:52:15.119Z"
   },
   {
    "duration": 6,
    "start_time": "2023-09-03T09:52:19.442Z"
   },
   {
    "duration": 3,
    "start_time": "2023-09-03T09:53:07.265Z"
   },
   {
    "duration": 7,
    "start_time": "2023-09-03T09:53:07.828Z"
   },
   {
    "duration": 12,
    "start_time": "2023-09-03T09:53:08.222Z"
   },
   {
    "duration": 11,
    "start_time": "2023-09-03T09:53:08.634Z"
   },
   {
    "duration": 13,
    "start_time": "2023-09-03T09:53:09.005Z"
   },
   {
    "duration": 5,
    "start_time": "2023-09-03T09:53:09.538Z"
   },
   {
    "duration": 78,
    "start_time": "2023-09-03T09:53:43.688Z"
   },
   {
    "duration": 111,
    "start_time": "2023-09-03T09:54:16.807Z"
   },
   {
    "duration": 11,
    "start_time": "2023-09-03T09:54:22.273Z"
   },
   {
    "duration": 201,
    "start_time": "2023-09-03T09:56:13.432Z"
   },
   {
    "duration": 214,
    "start_time": "2023-09-03T09:56:24.175Z"
   },
   {
    "duration": 151,
    "start_time": "2023-09-03T09:56:52.166Z"
   },
   {
    "duration": 10,
    "start_time": "2023-09-03T09:59:39.753Z"
   },
   {
    "duration": 139,
    "start_time": "2023-09-03T10:01:42.938Z"
   },
   {
    "duration": 129,
    "start_time": "2023-09-03T10:02:07.341Z"
   },
   {
    "duration": 135,
    "start_time": "2023-09-03T10:03:14.059Z"
   },
   {
    "duration": 108,
    "start_time": "2023-09-03T10:03:45.199Z"
   },
   {
    "duration": 130,
    "start_time": "2023-09-03T10:05:12.519Z"
   },
   {
    "duration": 124,
    "start_time": "2023-09-03T10:07:15.601Z"
   },
   {
    "duration": 2,
    "start_time": "2023-09-03T10:15:23.501Z"
   },
   {
    "duration": 225,
    "start_time": "2023-09-03T10:16:12.476Z"
   },
   {
    "duration": 193,
    "start_time": "2023-09-03T10:16:39.907Z"
   },
   {
    "duration": 239,
    "start_time": "2023-09-03T10:17:04.984Z"
   },
   {
    "duration": 279,
    "start_time": "2023-09-03T10:19:36.551Z"
   },
   {
    "duration": 192,
    "start_time": "2023-09-03T10:20:46.144Z"
   },
   {
    "duration": 200,
    "start_time": "2023-09-03T10:21:07.741Z"
   },
   {
    "duration": 346,
    "start_time": "2023-09-03T10:21:11.592Z"
   },
   {
    "duration": 144,
    "start_time": "2023-09-03T10:21:29.334Z"
   },
   {
    "duration": 118,
    "start_time": "2023-09-03T10:22:02.745Z"
   },
   {
    "duration": 89,
    "start_time": "2023-09-03T10:22:50.431Z"
   },
   {
    "duration": 82,
    "start_time": "2023-09-03T10:23:09.080Z"
   },
   {
    "duration": 9900,
    "start_time": "2023-09-03T10:23:39.146Z"
   },
   {
    "duration": 3348,
    "start_time": "2023-09-03T10:24:03.895Z"
   },
   {
    "duration": 1715,
    "start_time": "2023-09-03T10:24:07.246Z"
   },
   {
    "duration": 962,
    "start_time": "2023-09-03T10:24:08.964Z"
   },
   {
    "duration": 5,
    "start_time": "2023-09-03T10:24:09.928Z"
   },
   {
    "duration": 2697,
    "start_time": "2023-09-03T10:24:09.935Z"
   },
   {
    "duration": 2613,
    "start_time": "2023-09-03T10:24:12.634Z"
   },
   {
    "duration": 2599,
    "start_time": "2023-09-03T10:24:15.249Z"
   },
   {
    "duration": 14,
    "start_time": "2023-09-03T10:24:17.850Z"
   },
   {
    "duration": 12,
    "start_time": "2023-09-03T10:24:17.866Z"
   },
   {
    "duration": 24,
    "start_time": "2023-09-03T10:24:17.880Z"
   },
   {
    "duration": 51,
    "start_time": "2023-09-03T10:24:17.905Z"
   },
   {
    "duration": 113,
    "start_time": "2023-09-03T10:24:17.958Z"
   },
   {
    "duration": 123,
    "start_time": "2023-09-03T10:24:18.151Z"
   },
   {
    "duration": 69,
    "start_time": "2023-09-03T10:24:18.279Z"
   },
   {
    "duration": 3402,
    "start_time": "2023-09-03T10:24:20.872Z"
   },
   {
    "duration": 1762,
    "start_time": "2023-09-03T10:24:24.276Z"
   },
   {
    "duration": 789,
    "start_time": "2023-09-03T10:24:26.039Z"
   },
   {
    "duration": 5,
    "start_time": "2023-09-03T10:24:26.830Z"
   },
   {
    "duration": 2753,
    "start_time": "2023-09-03T10:24:26.837Z"
   },
   {
    "duration": 2934,
    "start_time": "2023-09-03T10:24:29.592Z"
   },
   {
    "duration": 2630,
    "start_time": "2023-09-03T10:24:32.529Z"
   },
   {
    "duration": 20,
    "start_time": "2023-09-03T10:24:35.163Z"
   },
   {
    "duration": 15,
    "start_time": "2023-09-03T10:24:35.187Z"
   },
   {
    "duration": 8,
    "start_time": "2023-09-03T10:24:35.205Z"
   },
   {
    "duration": 77,
    "start_time": "2023-09-03T10:24:35.215Z"
   },
   {
    "duration": 157,
    "start_time": "2023-09-03T10:24:35.294Z"
   },
   {
    "duration": 194,
    "start_time": "2023-09-03T10:24:35.456Z"
   },
   {
    "duration": 6,
    "start_time": "2023-09-03T10:24:35.656Z"
   },
   {
    "duration": 238,
    "start_time": "2023-09-03T10:24:35.746Z"
   },
   {
    "duration": 63,
    "start_time": "2023-09-03T10:24:35.985Z"
   },
   {
    "duration": 49,
    "start_time": "2023-09-03T10:24:36.050Z"
   },
   {
    "duration": 16,
    "start_time": "2023-09-03T10:24:36.101Z"
   },
   {
    "duration": 45,
    "start_time": "2023-09-03T10:24:36.119Z"
   },
   {
    "duration": 32,
    "start_time": "2023-09-03T10:24:36.166Z"
   },
   {
    "duration": 9,
    "start_time": "2023-09-03T10:24:36.200Z"
   },
   {
    "duration": 6,
    "start_time": "2023-09-03T10:24:36.211Z"
   },
   {
    "duration": 11,
    "start_time": "2023-09-03T10:24:36.218Z"
   },
   {
    "duration": 6,
    "start_time": "2023-09-03T10:24:36.230Z"
   },
   {
    "duration": 5,
    "start_time": "2023-09-03T10:24:36.237Z"
   },
   {
    "duration": 4,
    "start_time": "2023-09-03T10:24:36.244Z"
   },
   {
    "duration": 9,
    "start_time": "2023-09-03T10:24:36.250Z"
   },
   {
    "duration": 8,
    "start_time": "2023-09-03T10:24:36.261Z"
   },
   {
    "duration": 22,
    "start_time": "2023-09-03T10:24:36.270Z"
   },
   {
    "duration": 31,
    "start_time": "2023-09-03T10:24:36.294Z"
   },
   {
    "duration": 9,
    "start_time": "2023-09-03T10:24:36.327Z"
   },
   {
    "duration": 9,
    "start_time": "2023-09-03T10:24:36.338Z"
   },
   {
    "duration": 352,
    "start_time": "2023-09-03T10:24:36.349Z"
   },
   {
    "duration": 251,
    "start_time": "2023-09-03T10:24:36.703Z"
   },
   {
    "duration": 279,
    "start_time": "2023-09-03T10:24:36.956Z"
   },
   {
    "duration": 138,
    "start_time": "2023-09-03T10:24:37.237Z"
   },
   {
    "duration": 0,
    "start_time": "2023-09-03T10:24:37.377Z"
   },
   {
    "duration": 283,
    "start_time": "2023-09-03T10:25:25.995Z"
   },
   {
    "duration": 486,
    "start_time": "2023-09-03T10:25:35.073Z"
   },
   {
    "duration": 318,
    "start_time": "2023-09-03T10:25:38.522Z"
   },
   {
    "duration": 289,
    "start_time": "2023-09-03T10:25:48.361Z"
   },
   {
    "duration": 287,
    "start_time": "2023-09-03T10:25:56.930Z"
   },
   {
    "duration": 222,
    "start_time": "2023-09-03T10:26:09.196Z"
   },
   {
    "duration": 249,
    "start_time": "2023-09-03T10:28:20.904Z"
   },
   {
    "duration": 291,
    "start_time": "2023-09-03T10:28:45.036Z"
   },
   {
    "duration": 264,
    "start_time": "2023-09-03T10:29:07.487Z"
   },
   {
    "duration": 288,
    "start_time": "2023-09-03T10:29:23.965Z"
   },
   {
    "duration": 225,
    "start_time": "2023-09-03T10:31:15.181Z"
   },
   {
    "duration": 372,
    "start_time": "2023-09-03T10:32:26.153Z"
   },
   {
    "duration": 341,
    "start_time": "2023-09-03T10:32:40.582Z"
   },
   {
    "duration": 308,
    "start_time": "2023-09-03T10:33:27.900Z"
   },
   {
    "duration": 369,
    "start_time": "2023-09-03T10:33:39.994Z"
   },
   {
    "duration": 286,
    "start_time": "2023-09-03T10:33:55.481Z"
   },
   {
    "duration": 329,
    "start_time": "2023-09-03T10:34:05.013Z"
   },
   {
    "duration": 342,
    "start_time": "2023-09-03T10:34:30.836Z"
   },
   {
    "duration": 311,
    "start_time": "2023-09-03T10:34:48.474Z"
   },
   {
    "duration": 299,
    "start_time": "2023-09-03T10:34:54.557Z"
   },
   {
    "duration": 322,
    "start_time": "2023-09-03T10:35:18.854Z"
   },
   {
    "duration": 104,
    "start_time": "2023-09-03T12:34:35.203Z"
   },
   {
    "duration": 312,
    "start_time": "2023-09-03T12:34:42.186Z"
   },
   {
    "duration": 310,
    "start_time": "2023-09-03T12:35:30.470Z"
   },
   {
    "duration": 460,
    "start_time": "2023-09-03T12:35:38.517Z"
   },
   {
    "duration": 327,
    "start_time": "2023-09-03T12:39:27.903Z"
   },
   {
    "duration": 302,
    "start_time": "2023-09-03T12:39:44.566Z"
   },
   {
    "duration": 96,
    "start_time": "2023-09-03T12:40:05.594Z"
   },
   {
    "duration": 87,
    "start_time": "2023-09-03T12:40:08.599Z"
   },
   {
    "duration": 308,
    "start_time": "2023-09-03T12:41:22.467Z"
   },
   {
    "duration": 349,
    "start_time": "2023-09-03T12:42:00.052Z"
   },
   {
    "duration": 300,
    "start_time": "2023-09-03T12:42:06.247Z"
   },
   {
    "duration": 269,
    "start_time": "2023-09-03T12:42:17.235Z"
   },
   {
    "duration": 326,
    "start_time": "2023-09-03T12:42:44.213Z"
   },
   {
    "duration": 347,
    "start_time": "2023-09-03T12:43:20.619Z"
   },
   {
    "duration": 282,
    "start_time": "2023-09-03T12:43:35.601Z"
   },
   {
    "duration": 301,
    "start_time": "2023-09-03T12:43:46.904Z"
   },
   {
    "duration": 323,
    "start_time": "2023-09-03T12:43:55.357Z"
   },
   {
    "duration": 322,
    "start_time": "2023-09-03T12:43:59.069Z"
   },
   {
    "duration": 270,
    "start_time": "2023-09-03T12:44:08.684Z"
   },
   {
    "duration": 225,
    "start_time": "2023-09-03T12:45:05.382Z"
   },
   {
    "duration": 300,
    "start_time": "2023-09-03T12:45:13.469Z"
   },
   {
    "duration": 22,
    "start_time": "2023-09-03T12:45:21.104Z"
   },
   {
    "duration": 343,
    "start_time": "2023-09-03T12:45:25.732Z"
   },
   {
    "duration": 312,
    "start_time": "2023-09-03T12:45:28.646Z"
   },
   {
    "duration": 292,
    "start_time": "2023-09-03T12:45:46.982Z"
   },
   {
    "duration": 330,
    "start_time": "2023-09-03T12:45:50.642Z"
   },
   {
    "duration": 350,
    "start_time": "2023-09-03T12:46:04.541Z"
   },
   {
    "duration": 22,
    "start_time": "2023-09-03T12:47:22.949Z"
   },
   {
    "duration": 294,
    "start_time": "2023-09-03T12:47:31.272Z"
   },
   {
    "duration": 1562,
    "start_time": "2023-09-04T05:46:50.799Z"
   },
   {
    "duration": 961,
    "start_time": "2023-09-04T05:46:52.363Z"
   },
   {
    "duration": 6,
    "start_time": "2023-09-04T05:46:53.326Z"
   },
   {
    "duration": 1738,
    "start_time": "2023-09-04T05:46:53.334Z"
   },
   {
    "duration": 1746,
    "start_time": "2023-09-04T05:46:55.074Z"
   },
   {
    "duration": 1646,
    "start_time": "2023-09-04T05:46:56.822Z"
   },
   {
    "duration": 12,
    "start_time": "2023-09-04T05:46:58.469Z"
   },
   {
    "duration": 4,
    "start_time": "2023-09-04T05:46:58.483Z"
   },
   {
    "duration": 5,
    "start_time": "2023-09-04T05:46:58.488Z"
   },
   {
    "duration": 155,
    "start_time": "2023-09-04T05:46:58.495Z"
   },
   {
    "duration": 301,
    "start_time": "2023-09-04T05:46:58.655Z"
   },
   {
    "duration": 186,
    "start_time": "2023-09-04T05:46:58.958Z"
   },
   {
    "duration": 11,
    "start_time": "2023-09-04T05:46:59.149Z"
   },
   {
    "duration": 203,
    "start_time": "2023-09-04T05:46:59.162Z"
   },
   {
    "duration": 3,
    "start_time": "2023-09-04T05:46:59.366Z"
   },
   {
    "duration": 13,
    "start_time": "2023-09-04T05:46:59.371Z"
   },
   {
    "duration": 7,
    "start_time": "2023-09-04T05:46:59.385Z"
   },
   {
    "duration": 6,
    "start_time": "2023-09-04T05:46:59.393Z"
   },
   {
    "duration": 5,
    "start_time": "2023-09-04T05:46:59.400Z"
   },
   {
    "duration": 5,
    "start_time": "2023-09-04T05:46:59.406Z"
   },
   {
    "duration": 7,
    "start_time": "2023-09-04T05:46:59.412Z"
   },
   {
    "duration": 31,
    "start_time": "2023-09-04T05:46:59.421Z"
   },
   {
    "duration": 10,
    "start_time": "2023-09-04T05:46:59.454Z"
   },
   {
    "duration": 4,
    "start_time": "2023-09-04T05:46:59.465Z"
   },
   {
    "duration": 4,
    "start_time": "2023-09-04T05:46:59.470Z"
   },
   {
    "duration": 4,
    "start_time": "2023-09-04T05:46:59.475Z"
   },
   {
    "duration": 5,
    "start_time": "2023-09-04T05:46:59.480Z"
   },
   {
    "duration": 5,
    "start_time": "2023-09-04T05:46:59.488Z"
   },
   {
    "duration": 12,
    "start_time": "2023-09-04T05:46:59.494Z"
   },
   {
    "duration": 6,
    "start_time": "2023-09-04T05:46:59.507Z"
   },
   {
    "duration": 6,
    "start_time": "2023-09-04T05:46:59.515Z"
   },
   {
    "duration": 255,
    "start_time": "2023-09-04T05:46:59.522Z"
   },
   {
    "duration": 8208,
    "start_time": "2023-09-04T05:47:16.838Z"
   },
   {
    "duration": 1541,
    "start_time": "2023-09-04T05:47:25.048Z"
   },
   {
    "duration": 941,
    "start_time": "2023-09-04T05:47:26.591Z"
   },
   {
    "duration": 13,
    "start_time": "2023-09-04T05:47:27.534Z"
   },
   {
    "duration": 2310,
    "start_time": "2023-09-04T05:47:27.554Z"
   },
   {
    "duration": 2335,
    "start_time": "2023-09-04T05:47:29.865Z"
   },
   {
    "duration": 2081,
    "start_time": "2023-09-04T05:47:32.202Z"
   },
   {
    "duration": 13,
    "start_time": "2023-09-04T05:47:34.285Z"
   },
   {
    "duration": 6,
    "start_time": "2023-09-04T05:47:34.300Z"
   },
   {
    "duration": 9,
    "start_time": "2023-09-04T05:47:34.308Z"
   },
   {
    "duration": 50,
    "start_time": "2023-09-04T05:47:34.319Z"
   },
   {
    "duration": 176,
    "start_time": "2023-09-04T05:47:34.371Z"
   },
   {
    "duration": 106,
    "start_time": "2023-09-04T05:47:34.549Z"
   },
   {
    "duration": 3,
    "start_time": "2023-09-04T05:47:34.659Z"
   },
   {
    "duration": 395,
    "start_time": "2023-09-04T05:47:34.665Z"
   },
   {
    "duration": 3,
    "start_time": "2023-09-04T05:47:35.062Z"
   },
   {
    "duration": 16,
    "start_time": "2023-09-04T05:47:35.066Z"
   },
   {
    "duration": 19,
    "start_time": "2023-09-04T05:47:35.083Z"
   },
   {
    "duration": 11,
    "start_time": "2023-09-04T05:47:35.103Z"
   },
   {
    "duration": 21,
    "start_time": "2023-09-04T05:47:35.115Z"
   },
   {
    "duration": 22,
    "start_time": "2023-09-04T05:47:35.137Z"
   },
   {
    "duration": 17,
    "start_time": "2023-09-04T05:47:35.160Z"
   },
   {
    "duration": 31,
    "start_time": "2023-09-04T05:47:35.178Z"
   },
   {
    "duration": 8,
    "start_time": "2023-09-04T05:47:35.211Z"
   },
   {
    "duration": 6,
    "start_time": "2023-09-04T05:47:35.221Z"
   },
   {
    "duration": 11,
    "start_time": "2023-09-04T05:47:35.228Z"
   },
   {
    "duration": 17,
    "start_time": "2023-09-04T05:47:35.240Z"
   },
   {
    "duration": 18,
    "start_time": "2023-09-04T05:47:35.259Z"
   },
   {
    "duration": 5,
    "start_time": "2023-09-04T05:47:35.279Z"
   },
   {
    "duration": 13,
    "start_time": "2023-09-04T05:47:35.286Z"
   },
   {
    "duration": 7,
    "start_time": "2023-09-04T05:47:35.301Z"
   },
   {
    "duration": 17,
    "start_time": "2023-09-04T05:47:35.309Z"
   },
   {
    "duration": 295,
    "start_time": "2023-09-04T05:47:35.327Z"
   },
   {
    "duration": 4,
    "start_time": "2023-09-04T08:56:49.308Z"
   },
   {
    "duration": 8,
    "start_time": "2023-09-04T08:56:52.001Z"
   },
   {
    "duration": 8,
    "start_time": "2023-09-04T08:56:53.233Z"
   },
   {
    "duration": 10,
    "start_time": "2023-09-04T08:56:54.187Z"
   },
   {
    "duration": 120,
    "start_time": "2023-09-04T08:59:12.986Z"
   },
   {
    "duration": 249,
    "start_time": "2023-09-04T08:59:24.955Z"
   },
   {
    "duration": 4,
    "start_time": "2023-09-04T09:01:28.325Z"
   },
   {
    "duration": 3,
    "start_time": "2023-09-04T09:02:03.777Z"
   },
   {
    "duration": 4,
    "start_time": "2023-09-04T09:02:04.177Z"
   },
   {
    "duration": 4,
    "start_time": "2023-09-04T09:02:04.733Z"
   },
   {
    "duration": 9,
    "start_time": "2023-09-04T09:02:05.333Z"
   },
   {
    "duration": 9,
    "start_time": "2023-09-04T09:02:05.896Z"
   },
   {
    "duration": 10,
    "start_time": "2023-09-04T09:02:06.533Z"
   },
   {
    "duration": 4,
    "start_time": "2023-09-04T09:02:25.264Z"
   },
   {
    "duration": 4,
    "start_time": "2023-09-04T09:02:30.544Z"
   },
   {
    "duration": 9,
    "start_time": "2023-09-04T09:02:30.940Z"
   },
   {
    "duration": 8,
    "start_time": "2023-09-04T09:02:31.546Z"
   },
   {
    "duration": 9,
    "start_time": "2023-09-04T09:02:32.016Z"
   },
   {
    "duration": 133,
    "start_time": "2023-09-04T09:06:19.097Z"
   },
   {
    "duration": 3,
    "start_time": "2023-09-04T09:06:26.264Z"
   },
   {
    "duration": 2952,
    "start_time": "2023-09-04T09:08:10.844Z"
   },
   {
    "duration": 1669,
    "start_time": "2023-09-04T09:08:13.798Z"
   },
   {
    "duration": 1149,
    "start_time": "2023-09-04T09:08:15.469Z"
   },
   {
    "duration": 6,
    "start_time": "2023-09-04T09:08:16.620Z"
   },
   {
    "duration": 2188,
    "start_time": "2023-09-04T09:08:16.628Z"
   },
   {
    "duration": 2208,
    "start_time": "2023-09-04T09:08:18.817Z"
   },
   {
    "duration": 2204,
    "start_time": "2023-09-04T09:08:21.027Z"
   },
   {
    "duration": 17,
    "start_time": "2023-09-04T09:08:23.232Z"
   },
   {
    "duration": 14,
    "start_time": "2023-09-04T09:08:23.251Z"
   },
   {
    "duration": 8,
    "start_time": "2023-09-04T09:08:23.267Z"
   },
   {
    "duration": 66,
    "start_time": "2023-09-04T09:08:23.277Z"
   },
   {
    "duration": 110,
    "start_time": "2023-09-04T09:08:23.346Z"
   },
   {
    "duration": 192,
    "start_time": "2023-09-04T09:08:23.458Z"
   },
   {
    "duration": 91,
    "start_time": "2023-09-04T09:08:23.654Z"
   },
   {
    "duration": 306,
    "start_time": "2023-09-04T09:08:23.748Z"
   },
   {
    "duration": 4,
    "start_time": "2023-09-04T09:08:24.056Z"
   },
   {
    "duration": 30,
    "start_time": "2023-09-04T09:08:24.062Z"
   },
   {
    "duration": 51,
    "start_time": "2023-09-04T09:08:24.094Z"
   },
   {
    "duration": 14,
    "start_time": "2023-09-04T09:08:24.147Z"
   },
   {
    "duration": 6,
    "start_time": "2023-09-04T09:08:24.163Z"
   },
   {
    "duration": 23,
    "start_time": "2023-09-04T09:08:24.171Z"
   },
   {
    "duration": 20,
    "start_time": "2023-09-04T09:08:24.196Z"
   },
   {
    "duration": 21,
    "start_time": "2023-09-04T09:08:24.218Z"
   },
   {
    "duration": 9,
    "start_time": "2023-09-04T09:08:24.241Z"
   },
   {
    "duration": 17,
    "start_time": "2023-09-04T09:08:24.253Z"
   },
   {
    "duration": 9,
    "start_time": "2023-09-04T09:08:24.273Z"
   },
   {
    "duration": 13,
    "start_time": "2023-09-04T09:08:24.285Z"
   },
   {
    "duration": 14,
    "start_time": "2023-09-04T09:08:24.300Z"
   },
   {
    "duration": 6,
    "start_time": "2023-09-04T09:08:24.316Z"
   },
   {
    "duration": 127,
    "start_time": "2023-09-04T09:08:24.324Z"
   },
   {
    "duration": 0,
    "start_time": "2023-09-04T09:08:24.453Z"
   },
   {
    "duration": 0,
    "start_time": "2023-09-04T09:08:24.454Z"
   },
   {
    "duration": 0,
    "start_time": "2023-09-04T09:08:24.455Z"
   },
   {
    "duration": 0,
    "start_time": "2023-09-04T09:08:24.456Z"
   },
   {
    "duration": 3,
    "start_time": "2023-09-04T09:09:26.402Z"
   },
   {
    "duration": 3,
    "start_time": "2023-09-04T09:09:27.012Z"
   },
   {
    "duration": 4,
    "start_time": "2023-09-04T09:09:27.385Z"
   },
   {
    "duration": 8,
    "start_time": "2023-09-04T09:09:30.084Z"
   },
   {
    "duration": 9,
    "start_time": "2023-09-04T09:09:30.383Z"
   },
   {
    "duration": 10,
    "start_time": "2023-09-04T09:09:30.937Z"
   },
   {
    "duration": 321,
    "start_time": "2023-09-04T09:09:35.423Z"
   },
   {
    "duration": 1288,
    "start_time": "2023-09-04T09:26:58.189Z"
   },
   {
    "duration": 4,
    "start_time": "2023-09-04T09:27:14.250Z"
   },
   {
    "duration": 3933,
    "start_time": "2023-09-04T09:27:16.143Z"
   },
   {
    "duration": 5,
    "start_time": "2023-09-04T09:28:41.041Z"
   },
   {
    "duration": 42,
    "start_time": "2023-09-04T09:29:04.142Z"
   },
   {
    "duration": 2893,
    "start_time": "2023-09-04T09:29:50.423Z"
   },
   {
    "duration": 1580,
    "start_time": "2023-09-04T09:29:53.318Z"
   },
   {
    "duration": 1190,
    "start_time": "2023-09-04T09:29:54.899Z"
   },
   {
    "duration": 8,
    "start_time": "2023-09-04T09:29:56.091Z"
   },
   {
    "duration": 2419,
    "start_time": "2023-09-04T09:29:56.102Z"
   },
   {
    "duration": 2369,
    "start_time": "2023-09-04T09:29:58.523Z"
   },
   {
    "duration": 2298,
    "start_time": "2023-09-04T09:30:00.894Z"
   },
   {
    "duration": 13,
    "start_time": "2023-09-04T09:30:03.194Z"
   },
   {
    "duration": 67,
    "start_time": "2023-09-04T09:30:03.208Z"
   },
   {
    "duration": 18,
    "start_time": "2023-09-04T09:30:03.276Z"
   },
   {
    "duration": 38,
    "start_time": "2023-09-04T09:30:03.296Z"
   },
   {
    "duration": 213,
    "start_time": "2023-09-04T09:30:03.335Z"
   },
   {
    "duration": 108,
    "start_time": "2023-09-04T09:30:03.551Z"
   },
   {
    "duration": 86,
    "start_time": "2023-09-04T09:30:03.663Z"
   },
   {
    "duration": 307,
    "start_time": "2023-09-04T09:30:03.751Z"
   },
   {
    "duration": 3,
    "start_time": "2023-09-04T09:30:04.060Z"
   },
   {
    "duration": 29,
    "start_time": "2023-09-04T09:30:04.065Z"
   },
   {
    "duration": 16,
    "start_time": "2023-09-04T09:30:04.096Z"
   },
   {
    "duration": 16,
    "start_time": "2023-09-04T09:30:04.114Z"
   },
   {
    "duration": 10,
    "start_time": "2023-09-04T09:30:04.133Z"
   },
   {
    "duration": 6,
    "start_time": "2023-09-04T09:30:04.145Z"
   },
   {
    "duration": 9,
    "start_time": "2023-09-04T09:30:04.153Z"
   },
   {
    "duration": 38,
    "start_time": "2023-09-04T09:30:04.165Z"
   },
   {
    "duration": 9,
    "start_time": "2023-09-04T09:30:04.204Z"
   },
   {
    "duration": 20,
    "start_time": "2023-09-04T09:30:04.216Z"
   },
   {
    "duration": 15,
    "start_time": "2023-09-04T09:30:04.238Z"
   },
   {
    "duration": 51,
    "start_time": "2023-09-04T09:30:04.256Z"
   },
   {
    "duration": 7,
    "start_time": "2023-09-04T09:30:04.309Z"
   },
   {
    "duration": 35,
    "start_time": "2023-09-04T09:30:04.318Z"
   },
   {
    "duration": 40,
    "start_time": "2023-09-04T09:30:04.355Z"
   },
   {
    "duration": 21,
    "start_time": "2023-09-04T09:30:04.397Z"
   },
   {
    "duration": 20,
    "start_time": "2023-09-04T09:30:04.421Z"
   },
   {
    "duration": 307,
    "start_time": "2023-09-04T09:30:04.443Z"
   },
   {
    "duration": 3,
    "start_time": "2023-09-04T09:30:04.752Z"
   },
   {
    "duration": 26,
    "start_time": "2023-09-04T09:30:04.756Z"
   },
   {
    "duration": 154,
    "start_time": "2023-09-04T09:30:04.784Z"
   },
   {
    "duration": 0,
    "start_time": "2023-09-04T09:30:04.944Z"
   },
   {
    "duration": 6,
    "start_time": "2023-09-04T09:30:57.210Z"
   },
   {
    "duration": 1365,
    "start_time": "2023-09-04T09:30:58.861Z"
   },
   {
    "duration": 3,
    "start_time": "2023-09-04T09:31:36.421Z"
   },
   {
    "duration": 7,
    "start_time": "2023-09-04T09:31:36.780Z"
   },
   {
    "duration": 1314,
    "start_time": "2023-09-04T09:31:38.497Z"
   },
   {
    "duration": 1518,
    "start_time": "2023-09-04T09:31:53.930Z"
   },
   {
    "duration": 1408,
    "start_time": "2023-09-04T09:31:55.451Z"
   },
   {
    "duration": 4,
    "start_time": "2023-09-04T09:34:04.963Z"
   },
   {
    "duration": 9,
    "start_time": "2023-09-04T09:35:30.203Z"
   },
   {
    "duration": 5,
    "start_time": "2023-09-04T09:36:36.111Z"
   },
   {
    "duration": 5,
    "start_time": "2023-09-04T09:36:52.467Z"
   },
   {
    "duration": 6,
    "start_time": "2023-09-04T09:39:07.694Z"
   },
   {
    "duration": 1456,
    "start_time": "2023-09-04T09:39:10.244Z"
   },
   {
    "duration": 6,
    "start_time": "2023-09-04T09:40:09.902Z"
   },
   {
    "duration": 5,
    "start_time": "2023-09-04T09:40:14.731Z"
   },
   {
    "duration": 1324,
    "start_time": "2023-09-04T09:40:17.465Z"
   },
   {
    "duration": 9,
    "start_time": "2023-09-04T09:44:12.313Z"
   },
   {
    "duration": 48,
    "start_time": "2023-09-04T09:44:15.114Z"
   },
   {
    "duration": 6,
    "start_time": "2023-09-04T09:50:42.770Z"
   },
   {
    "duration": 1252,
    "start_time": "2023-09-04T09:50:47.270Z"
   },
   {
    "duration": 15,
    "start_time": "2023-09-04T09:51:44.943Z"
   },
   {
    "duration": 1552,
    "start_time": "2023-09-04T09:51:47.668Z"
   },
   {
    "duration": 1397,
    "start_time": "2023-09-04T09:51:59.541Z"
   },
   {
    "duration": 8,
    "start_time": "2023-09-04T09:58:55.391Z"
   },
   {
    "duration": 33,
    "start_time": "2023-09-04T09:58:58.475Z"
   },
   {
    "duration": 8,
    "start_time": "2023-09-04T09:59:37.591Z"
   },
   {
    "duration": 36,
    "start_time": "2023-09-04T09:59:40.466Z"
   },
   {
    "duration": 5,
    "start_time": "2023-09-04T10:00:55.207Z"
   },
   {
    "duration": 1406,
    "start_time": "2023-09-04T10:00:57.894Z"
   },
   {
    "duration": 7,
    "start_time": "2023-09-04T10:02:24.312Z"
   },
   {
    "duration": 32,
    "start_time": "2023-09-04T10:02:26.963Z"
   },
   {
    "duration": 6,
    "start_time": "2023-09-04T10:03:45.142Z"
   },
   {
    "duration": 35,
    "start_time": "2023-09-04T10:03:48.027Z"
   },
   {
    "duration": 8,
    "start_time": "2023-09-04T10:04:03.826Z"
   },
   {
    "duration": 1347,
    "start_time": "2023-09-04T10:04:07.882Z"
   },
   {
    "duration": 5,
    "start_time": "2023-09-04T10:05:15.403Z"
   },
   {
    "duration": 7,
    "start_time": "2023-09-04T10:05:19.178Z"
   },
   {
    "duration": 1194,
    "start_time": "2023-09-04T10:05:22.410Z"
   },
   {
    "duration": 5,
    "start_time": "2023-09-04T10:06:47.602Z"
   },
   {
    "duration": 9,
    "start_time": "2023-09-04T10:07:03.682Z"
   },
   {
    "duration": 1154,
    "start_time": "2023-09-04T10:07:06.771Z"
   },
   {
    "duration": 1257,
    "start_time": "2023-09-04T10:08:14.330Z"
   },
   {
    "duration": 1117,
    "start_time": "2023-09-04T10:08:54.781Z"
   },
   {
    "duration": 1185,
    "start_time": "2023-09-04T10:09:16.253Z"
   },
   {
    "duration": 1196,
    "start_time": "2023-09-04T10:09:23.810Z"
   },
   {
    "duration": 6,
    "start_time": "2023-09-04T10:11:38.068Z"
   },
   {
    "duration": 14,
    "start_time": "2023-09-04T10:11:41.121Z"
   },
   {
    "duration": 5,
    "start_time": "2023-09-04T10:11:48.395Z"
   },
   {
    "duration": 7,
    "start_time": "2023-09-04T10:12:09.529Z"
   },
   {
    "duration": 42,
    "start_time": "2023-09-04T10:12:13.674Z"
   },
   {
    "duration": 33,
    "start_time": "2023-09-04T10:12:13.854Z"
   },
   {
    "duration": 80,
    "start_time": "2023-09-04T10:12:14.072Z"
   },
   {
    "duration": 6,
    "start_time": "2023-09-04T10:12:22.845Z"
   },
   {
    "duration": 1136,
    "start_time": "2023-09-04T10:12:24.000Z"
   },
   {
    "duration": 94,
    "start_time": "2023-09-04T10:16:16.727Z"
   },
   {
    "duration": 7,
    "start_time": "2023-09-04T10:16:28.600Z"
   },
   {
    "duration": 962,
    "start_time": "2023-09-04T10:16:31.650Z"
   },
   {
    "duration": 6,
    "start_time": "2023-09-04T10:16:43.094Z"
   },
   {
    "duration": 1093,
    "start_time": "2023-09-04T10:16:43.736Z"
   },
   {
    "duration": 4,
    "start_time": "2023-09-04T10:16:57.669Z"
   },
   {
    "duration": 1083,
    "start_time": "2023-09-04T10:18:03.376Z"
   },
   {
    "duration": 1014,
    "start_time": "2023-09-04T10:18:04.463Z"
   },
   {
    "duration": 9,
    "start_time": "2023-09-04T10:18:05.479Z"
   },
   {
    "duration": 950,
    "start_time": "2023-09-04T10:18:14.676Z"
   },
   {
    "duration": 987,
    "start_time": "2023-09-04T10:18:15.729Z"
   },
   {
    "duration": 1015,
    "start_time": "2023-09-04T10:18:16.718Z"
   },
   {
    "duration": 6,
    "start_time": "2023-09-04T10:19:32.095Z"
   },
   {
    "duration": 1016,
    "start_time": "2023-09-04T10:19:33.096Z"
   },
   {
    "duration": 1077,
    "start_time": "2023-09-04T10:19:34.115Z"
   },
   {
    "duration": 993,
    "start_time": "2023-09-04T10:19:35.193Z"
   },
   {
    "duration": 6,
    "start_time": "2023-09-04T10:20:13.388Z"
   },
   {
    "duration": 979,
    "start_time": "2023-09-04T10:20:14.176Z"
   },
   {
    "duration": 970,
    "start_time": "2023-09-04T10:20:15.158Z"
   },
   {
    "duration": 971,
    "start_time": "2023-09-04T10:20:16.130Z"
   },
   {
    "duration": 7,
    "start_time": "2023-09-04T10:20:37.728Z"
   },
   {
    "duration": 954,
    "start_time": "2023-09-04T10:20:38.326Z"
   },
   {
    "duration": 973,
    "start_time": "2023-09-04T10:20:39.282Z"
   },
   {
    "duration": 949,
    "start_time": "2023-09-04T10:20:40.256Z"
   },
   {
    "duration": 2980,
    "start_time": "2023-09-04T10:25:11.459Z"
   },
   {
    "duration": 1569,
    "start_time": "2023-09-04T10:25:14.442Z"
   },
   {
    "duration": 1151,
    "start_time": "2023-09-04T10:25:16.012Z"
   },
   {
    "duration": 5,
    "start_time": "2023-09-04T10:25:17.165Z"
   },
   {
    "duration": 2264,
    "start_time": "2023-09-04T10:25:17.172Z"
   },
   {
    "duration": 2382,
    "start_time": "2023-09-04T10:25:19.437Z"
   },
   {
    "duration": 2243,
    "start_time": "2023-09-04T10:25:21.821Z"
   },
   {
    "duration": 16,
    "start_time": "2023-09-04T10:25:24.066Z"
   },
   {
    "duration": 18,
    "start_time": "2023-09-04T10:25:24.085Z"
   },
   {
    "duration": 9,
    "start_time": "2023-09-04T10:25:24.106Z"
   },
   {
    "duration": 39,
    "start_time": "2023-09-04T10:25:24.117Z"
   },
   {
    "duration": 203,
    "start_time": "2023-09-04T10:25:24.162Z"
   },
   {
    "duration": 94,
    "start_time": "2023-09-04T10:25:24.367Z"
   },
   {
    "duration": 83,
    "start_time": "2023-09-04T10:25:24.465Z"
   },
   {
    "duration": 316,
    "start_time": "2023-09-04T10:25:24.550Z"
   },
   {
    "duration": 3,
    "start_time": "2023-09-04T10:25:24.868Z"
   },
   {
    "duration": 14,
    "start_time": "2023-09-04T10:25:24.872Z"
   },
   {
    "duration": 20,
    "start_time": "2023-09-04T10:25:24.888Z"
   },
   {
    "duration": 6,
    "start_time": "2023-09-04T10:25:24.909Z"
   },
   {
    "duration": 22,
    "start_time": "2023-09-04T10:25:24.916Z"
   },
   {
    "duration": 12,
    "start_time": "2023-09-04T10:25:24.940Z"
   },
   {
    "duration": 23,
    "start_time": "2023-09-04T10:25:24.953Z"
   },
   {
    "duration": 20,
    "start_time": "2023-09-04T10:25:24.977Z"
   },
   {
    "duration": 20,
    "start_time": "2023-09-04T10:25:24.998Z"
   },
   {
    "duration": 29,
    "start_time": "2023-09-04T10:25:25.019Z"
   },
   {
    "duration": 9,
    "start_time": "2023-09-04T10:25:25.052Z"
   },
   {
    "duration": 6,
    "start_time": "2023-09-04T10:25:25.062Z"
   },
   {
    "duration": 7,
    "start_time": "2023-09-04T10:25:25.069Z"
   },
   {
    "duration": 29,
    "start_time": "2023-09-04T10:25:25.078Z"
   },
   {
    "duration": 12,
    "start_time": "2023-09-04T10:25:25.109Z"
   },
   {
    "duration": 9,
    "start_time": "2023-09-04T10:25:25.123Z"
   },
   {
    "duration": 43,
    "start_time": "2023-09-04T10:25:25.134Z"
   },
   {
    "duration": 263,
    "start_time": "2023-09-04T10:25:25.178Z"
   },
   {
    "duration": 9,
    "start_time": "2023-09-04T10:25:25.443Z"
   },
   {
    "duration": 7,
    "start_time": "2023-09-04T10:25:25.459Z"
   },
   {
    "duration": 937,
    "start_time": "2023-09-04T10:25:25.468Z"
   },
   {
    "duration": 958,
    "start_time": "2023-09-04T10:25:26.408Z"
   },
   {
    "duration": 935,
    "start_time": "2023-09-04T10:25:27.368Z"
   },
   {
    "duration": 3,
    "start_time": "2023-09-04T10:25:44.675Z"
   },
   {
    "duration": 4,
    "start_time": "2023-09-04T10:25:55.113Z"
   },
   {
    "duration": 4,
    "start_time": "2023-09-04T10:26:02.373Z"
   },
   {
    "duration": 270,
    "start_time": "2023-09-04T10:35:34.897Z"
   },
   {
    "duration": 311,
    "start_time": "2023-09-04T10:35:53.130Z"
   },
   {
    "duration": 311,
    "start_time": "2023-09-04T10:37:01.234Z"
   },
   {
    "duration": 450,
    "start_time": "2023-09-04T10:37:51.576Z"
   },
   {
    "duration": 10210,
    "start_time": "2023-09-04T12:27:38.077Z"
   },
   {
    "duration": 3485,
    "start_time": "2023-09-04T12:27:48.289Z"
   },
   {
    "duration": 1004,
    "start_time": "2023-09-04T12:27:51.776Z"
   },
   {
    "duration": 6,
    "start_time": "2023-09-04T12:27:52.782Z"
   },
   {
    "duration": 2782,
    "start_time": "2023-09-04T12:27:52.789Z"
   },
   {
    "duration": 2644,
    "start_time": "2023-09-04T12:27:55.573Z"
   },
   {
    "duration": 2534,
    "start_time": "2023-09-04T12:27:58.220Z"
   },
   {
    "duration": 14,
    "start_time": "2023-09-04T12:28:00.756Z"
   },
   {
    "duration": 33,
    "start_time": "2023-09-04T12:28:00.772Z"
   },
   {
    "duration": 73,
    "start_time": "2023-09-04T12:28:00.809Z"
   },
   {
    "duration": 86,
    "start_time": "2023-09-04T12:28:00.884Z"
   },
   {
    "duration": 146,
    "start_time": "2023-09-04T12:28:00.975Z"
   },
   {
    "duration": 191,
    "start_time": "2023-09-04T12:28:01.123Z"
   },
   {
    "duration": 6,
    "start_time": "2023-09-04T12:28:01.317Z"
   },
   {
    "duration": 405,
    "start_time": "2023-09-04T12:28:01.404Z"
   },
   {
    "duration": 5,
    "start_time": "2023-09-04T12:28:01.811Z"
   },
   {
    "duration": 65,
    "start_time": "2023-09-04T12:28:01.823Z"
   },
   {
    "duration": 43,
    "start_time": "2023-09-04T12:28:01.890Z"
   },
   {
    "duration": 56,
    "start_time": "2023-09-04T12:28:01.935Z"
   },
   {
    "duration": 79,
    "start_time": "2023-09-04T12:28:01.993Z"
   },
   {
    "duration": 66,
    "start_time": "2023-09-04T12:28:02.074Z"
   },
   {
    "duration": 26,
    "start_time": "2023-09-04T12:28:02.142Z"
   },
   {
    "duration": 56,
    "start_time": "2023-09-04T12:28:02.170Z"
   },
   {
    "duration": 42,
    "start_time": "2023-09-04T12:28:02.228Z"
   },
   {
    "duration": 66,
    "start_time": "2023-09-04T12:28:02.272Z"
   },
   {
    "duration": 53,
    "start_time": "2023-09-04T12:28:02.339Z"
   },
   {
    "duration": 37,
    "start_time": "2023-09-04T12:28:02.394Z"
   },
   {
    "duration": 23,
    "start_time": "2023-09-04T12:28:02.434Z"
   },
   {
    "duration": 25,
    "start_time": "2023-09-04T12:28:02.459Z"
   },
   {
    "duration": 35,
    "start_time": "2023-09-04T12:28:02.486Z"
   },
   {
    "duration": 67,
    "start_time": "2023-09-04T12:28:02.523Z"
   },
   {
    "duration": 31,
    "start_time": "2023-09-04T12:28:02.592Z"
   },
   {
    "duration": 340,
    "start_time": "2023-09-04T12:28:02.625Z"
   },
   {
    "duration": 2,
    "start_time": "2023-09-04T12:28:02.967Z"
   },
   {
    "duration": 15,
    "start_time": "2023-09-04T12:28:02.971Z"
   },
   {
    "duration": 1153,
    "start_time": "2023-09-04T12:28:02.988Z"
   },
   {
    "duration": 1152,
    "start_time": "2023-09-04T12:28:04.143Z"
   },
   {
    "duration": 1070,
    "start_time": "2023-09-04T12:28:05.297Z"
   },
   {
    "duration": 349,
    "start_time": "2023-09-04T12:28:06.369Z"
   },
   {
    "duration": 321,
    "start_time": "2023-09-04T12:28:06.721Z"
   },
   {
    "duration": 5,
    "start_time": "2023-09-04T12:28:18.327Z"
   },
   {
    "duration": 6,
    "start_time": "2023-09-04T12:28:23.543Z"
   },
   {
    "duration": 1859,
    "start_time": "2023-09-04T19:01:59.600Z"
   },
   {
    "duration": 1388,
    "start_time": "2023-09-04T19:10:28.796Z"
   },
   {
    "duration": 17,
    "start_time": "2023-09-04T19:12:26.681Z"
   },
   {
    "duration": 3,
    "start_time": "2023-09-04T19:13:09.905Z"
   },
   {
    "duration": 515,
    "start_time": "2023-09-04T19:13:09.910Z"
   },
   {
    "duration": 23,
    "start_time": "2023-09-04T19:13:10.427Z"
   },
   {
    "duration": 39,
    "start_time": "2023-09-04T19:13:10.452Z"
   },
   {
    "duration": 2876,
    "start_time": "2023-09-04T19:13:10.492Z"
   },
   {
    "duration": 2800,
    "start_time": "2023-09-04T19:13:13.373Z"
   },
   {
    "duration": 2590,
    "start_time": "2023-09-04T19:13:16.175Z"
   },
   {
    "duration": 14,
    "start_time": "2023-09-04T19:13:18.768Z"
   },
   {
    "duration": 11,
    "start_time": "2023-09-04T19:13:18.783Z"
   },
   {
    "duration": 14,
    "start_time": "2023-09-04T19:13:18.796Z"
   },
   {
    "duration": 60,
    "start_time": "2023-09-04T19:13:18.812Z"
   },
   {
    "duration": 252,
    "start_time": "2023-09-04T19:13:18.874Z"
   },
   {
    "duration": 130,
    "start_time": "2023-09-04T19:13:19.128Z"
   },
   {
    "duration": 102,
    "start_time": "2023-09-04T19:13:19.270Z"
   },
   {
    "duration": 222,
    "start_time": "2023-09-04T19:13:19.440Z"
   },
   {
    "duration": 5,
    "start_time": "2023-09-04T19:13:19.665Z"
   },
   {
    "duration": 13,
    "start_time": "2023-09-04T19:13:19.671Z"
   },
   {
    "duration": 6,
    "start_time": "2023-09-04T19:13:19.686Z"
   },
   {
    "duration": 3,
    "start_time": "2023-09-04T19:13:19.693Z"
   },
   {
    "duration": 10,
    "start_time": "2023-09-04T19:13:19.737Z"
   },
   {
    "duration": 20,
    "start_time": "2023-09-04T19:13:19.749Z"
   },
   {
    "duration": 8,
    "start_time": "2023-09-04T19:13:19.771Z"
   },
   {
    "duration": 9,
    "start_time": "2023-09-04T19:13:19.781Z"
   },
   {
    "duration": 9,
    "start_time": "2023-09-04T19:13:19.792Z"
   },
   {
    "duration": 29,
    "start_time": "2023-09-04T19:13:19.803Z"
   },
   {
    "duration": 8,
    "start_time": "2023-09-04T19:13:19.853Z"
   },
   {
    "duration": 19,
    "start_time": "2023-09-04T19:13:19.867Z"
   },
   {
    "duration": 12,
    "start_time": "2023-09-04T19:13:19.888Z"
   },
   {
    "duration": 6,
    "start_time": "2023-09-04T19:13:19.902Z"
   },
   {
    "duration": 18,
    "start_time": "2023-09-04T19:13:19.910Z"
   },
   {
    "duration": 16,
    "start_time": "2023-09-04T19:13:19.936Z"
   },
   {
    "duration": 12,
    "start_time": "2023-09-04T19:13:19.955Z"
   },
   {
    "duration": 289,
    "start_time": "2023-09-04T19:13:19.972Z"
   },
   {
    "duration": 3,
    "start_time": "2023-09-04T19:13:20.263Z"
   },
   {
    "duration": 35,
    "start_time": "2023-09-04T19:13:20.275Z"
   },
   {
    "duration": 1188,
    "start_time": "2023-09-04T19:13:20.312Z"
   },
   {
    "duration": 1079,
    "start_time": "2023-09-04T19:13:21.502Z"
   },
   {
    "duration": 1199,
    "start_time": "2023-09-04T19:13:22.582Z"
   },
   {
    "duration": 323,
    "start_time": "2023-09-04T19:13:23.783Z"
   },
   {
    "duration": 382,
    "start_time": "2023-09-04T19:13:24.108Z"
   },
   {
    "duration": 3477,
    "start_time": "2023-09-04T19:13:24.492Z"
   },
   {
    "duration": 6,
    "start_time": "2023-09-04T19:13:27.971Z"
   },
   {
    "duration": 13,
    "start_time": "2023-09-04T19:13:41.681Z"
   },
   {
    "duration": 68,
    "start_time": "2023-09-04T19:14:31.747Z"
   },
   {
    "duration": 1784,
    "start_time": "2023-09-04T19:14:36.185Z"
   },
   {
    "duration": 504,
    "start_time": "2023-09-04T19:14:41.669Z"
   },
   {
    "duration": 23,
    "start_time": "2023-09-04T19:14:45.163Z"
   },
   {
    "duration": 13,
    "start_time": "2023-09-04T19:14:53.274Z"
   },
   {
    "duration": 3813,
    "start_time": "2023-09-04T19:42:25.053Z"
   },
   {
    "duration": 6,
    "start_time": "2023-09-04T19:42:32.561Z"
   },
   {
    "duration": 2,
    "start_time": "2023-09-04T19:42:37.168Z"
   },
   {
    "duration": 464,
    "start_time": "2023-09-04T19:42:38.044Z"
   },
   {
    "duration": 5,
    "start_time": "2023-09-04T19:42:44.305Z"
   },
   {
    "duration": 2609,
    "start_time": "2023-09-04T19:42:45.199Z"
   },
   {
    "duration": 2537,
    "start_time": "2023-09-04T19:42:53.162Z"
   },
   {
    "duration": 2636,
    "start_time": "2023-09-04T19:42:55.702Z"
   },
   {
    "duration": 5,
    "start_time": "2023-09-04T19:47:45.875Z"
   },
   {
    "duration": 2397,
    "start_time": "2023-09-04T19:47:47.170Z"
   },
   {
    "duration": 6,
    "start_time": "2023-09-04T19:49:41.899Z"
   },
   {
    "duration": 2796,
    "start_time": "2023-09-04T19:49:43.675Z"
   },
   {
    "duration": 8,
    "start_time": "2023-09-04T19:50:08.104Z"
   },
   {
    "duration": 25,
    "start_time": "2023-09-04T19:50:37.458Z"
   },
   {
    "duration": 25,
    "start_time": "2023-09-04T19:50:43.058Z"
   },
   {
    "duration": 40,
    "start_time": "2023-09-04T19:50:52.812Z"
   },
   {
    "duration": 27,
    "start_time": "2023-09-04T19:52:02.381Z"
   },
   {
    "duration": 25,
    "start_time": "2023-09-04T19:52:17.961Z"
   },
   {
    "duration": 22,
    "start_time": "2023-09-04T19:53:17.861Z"
   },
   {
    "duration": 21,
    "start_time": "2023-09-04T19:53:18.961Z"
   },
   {
    "duration": 16,
    "start_time": "2023-09-04T19:55:15.620Z"
   },
   {
    "duration": 2693,
    "start_time": "2023-09-04T19:55:16.383Z"
   },
   {
    "duration": 2662,
    "start_time": "2023-09-04T19:55:19.078Z"
   },
   {
    "duration": 2427,
    "start_time": "2023-09-04T19:55:21.741Z"
   },
   {
    "duration": 5,
    "start_time": "2023-09-04T19:58:15.773Z"
   },
   {
    "duration": 2570,
    "start_time": "2023-09-04T19:58:16.614Z"
   },
   {
    "duration": 2614,
    "start_time": "2023-09-04T19:58:19.186Z"
   },
   {
    "duration": 2564,
    "start_time": "2023-09-04T19:58:21.801Z"
   },
   {
    "duration": 5,
    "start_time": "2023-09-04T19:58:31.275Z"
   },
   {
    "duration": 2463,
    "start_time": "2023-09-04T19:58:31.739Z"
   },
   {
    "duration": 2665,
    "start_time": "2023-09-04T19:58:34.204Z"
   },
   {
    "duration": 2445,
    "start_time": "2023-09-04T19:58:36.871Z"
   },
   {
    "duration": 218,
    "start_time": "2023-09-04T19:59:31.973Z"
   },
   {
    "duration": 6,
    "start_time": "2023-09-04T20:06:05.877Z"
   },
   {
    "duration": 2103,
    "start_time": "2023-09-04T20:06:31.685Z"
   },
   {
    "duration": 3,
    "start_time": "2023-09-04T20:06:41.488Z"
   },
   {
    "duration": 30,
    "start_time": "2023-09-04T20:06:42.061Z"
   },
   {
    "duration": 23,
    "start_time": "2023-09-04T20:07:10.569Z"
   },
   {
    "duration": 3,
    "start_time": "2023-09-04T20:09:39.119Z"
   },
   {
    "duration": 29,
    "start_time": "2023-09-04T20:09:45.617Z"
   },
   {
    "duration": 4,
    "start_time": "2023-09-04T20:11:58.066Z"
   },
   {
    "duration": 28,
    "start_time": "2023-09-04T20:12:01.249Z"
   },
   {
    "duration": 3,
    "start_time": "2023-09-04T20:13:04.961Z"
   },
   {
    "duration": 20,
    "start_time": "2023-09-04T20:13:14.000Z"
   },
   {
    "duration": 13,
    "start_time": "2023-09-04T20:13:16.356Z"
   },
   {
    "duration": 3,
    "start_time": "2023-09-04T20:13:24.999Z"
   },
   {
    "duration": 3,
    "start_time": "2023-09-04T20:13:25.365Z"
   },
   {
    "duration": 22,
    "start_time": "2023-09-04T20:13:25.762Z"
   },
   {
    "duration": 20,
    "start_time": "2023-09-04T20:13:26.961Z"
   },
   {
    "duration": 2,
    "start_time": "2023-09-04T20:14:34.020Z"
   },
   {
    "duration": 32,
    "start_time": "2023-09-04T20:14:40.273Z"
   },
   {
    "duration": 48,
    "start_time": "2023-09-04T20:15:22.617Z"
   },
   {
    "duration": 36,
    "start_time": "2023-09-04T20:15:23.451Z"
   },
   {
    "duration": 47,
    "start_time": "2023-09-04T20:15:24.052Z"
   },
   {
    "duration": 17,
    "start_time": "2023-09-04T20:22:55.749Z"
   },
   {
    "duration": 59,
    "start_time": "2023-09-04T20:22:56.178Z"
   },
   {
    "duration": 53,
    "start_time": "2023-09-04T20:22:57.387Z"
   },
   {
    "duration": 65,
    "start_time": "2023-09-04T20:23:00.913Z"
   },
   {
    "duration": 4,
    "start_time": "2023-09-04T20:24:07.006Z"
   },
   {
    "duration": 60,
    "start_time": "2023-09-04T20:24:07.444Z"
   },
   {
    "duration": 61,
    "start_time": "2023-09-04T20:24:07.914Z"
   },
   {
    "duration": 56,
    "start_time": "2023-09-04T20:24:08.403Z"
   },
   {
    "duration": 106,
    "start_time": "2023-09-04T20:24:16.391Z"
   },
   {
    "duration": 12,
    "start_time": "2023-09-04T20:24:45.771Z"
   },
   {
    "duration": 24,
    "start_time": "2023-09-04T20:25:10.414Z"
   },
   {
    "duration": 10,
    "start_time": "2023-09-04T20:25:16.756Z"
   },
   {
    "duration": 36,
    "start_time": "2023-09-04T20:25:19.347Z"
   },
   {
    "duration": 33,
    "start_time": "2023-09-04T20:25:25.217Z"
   },
   {
    "duration": 43,
    "start_time": "2023-09-04T20:25:52.975Z"
   },
   {
    "duration": 40,
    "start_time": "2023-09-04T20:28:29.742Z"
   },
   {
    "duration": 17,
    "start_time": "2023-09-04T20:28:37.267Z"
   },
   {
    "duration": 98,
    "start_time": "2023-09-04T20:29:07.312Z"
   },
   {
    "duration": 18,
    "start_time": "2023-09-04T20:31:09.564Z"
   },
   {
    "duration": 36,
    "start_time": "2023-09-04T20:31:21.800Z"
   },
   {
    "duration": 69,
    "start_time": "2023-09-04T20:31:57.551Z"
   },
   {
    "duration": 92,
    "start_time": "2023-09-04T20:32:57.608Z"
   },
   {
    "duration": 1861,
    "start_time": "2023-09-04T20:40:35.791Z"
   },
   {
    "duration": 3,
    "start_time": "2023-09-04T20:40:38.107Z"
   },
   {
    "duration": 540,
    "start_time": "2023-09-04T20:40:38.721Z"
   },
   {
    "duration": 27,
    "start_time": "2023-09-04T20:40:42.378Z"
   },
   {
    "duration": 26,
    "start_time": "2023-09-04T20:40:42.771Z"
   },
   {
    "duration": 24,
    "start_time": "2023-09-04T20:40:42.995Z"
   },
   {
    "duration": 5,
    "start_time": "2023-09-04T20:40:43.207Z"
   },
   {
    "duration": 2690,
    "start_time": "2023-09-04T20:40:43.377Z"
   },
   {
    "duration": 2840,
    "start_time": "2023-09-04T20:40:46.072Z"
   },
   {
    "duration": 2560,
    "start_time": "2023-09-04T20:40:48.914Z"
   },
   {
    "duration": 5,
    "start_time": "2023-09-04T20:40:51.476Z"
   },
   {
    "duration": 113,
    "start_time": "2023-09-04T20:40:51.483Z"
   },
   {
    "duration": 47,
    "start_time": "2023-09-04T20:40:51.755Z"
   },
   {
    "duration": 45,
    "start_time": "2023-09-04T20:40:52.800Z"
   },
   {
    "duration": 75,
    "start_time": "2023-09-04T20:40:54.782Z"
   },
   {
    "duration": 130,
    "start_time": "2023-09-04T20:41:00.348Z"
   },
   {
    "duration": 91,
    "start_time": "2023-09-04T20:43:05.578Z"
   },
   {
    "duration": 27,
    "start_time": "2023-09-04T20:43:17.273Z"
   },
   {
    "duration": 6,
    "start_time": "2023-09-04T20:43:38.401Z"
   },
   {
    "duration": 2741,
    "start_time": "2023-09-04T20:43:39.049Z"
   },
   {
    "duration": 2657,
    "start_time": "2023-09-04T20:43:41.792Z"
   },
   {
    "duration": 2540,
    "start_time": "2023-09-04T20:43:44.453Z"
   },
   {
    "duration": 5,
    "start_time": "2023-09-04T20:45:12.341Z"
   },
   {
    "duration": 39,
    "start_time": "2023-09-04T20:45:31.774Z"
   },
   {
    "duration": 46,
    "start_time": "2023-09-04T20:45:32.294Z"
   },
   {
    "duration": 55,
    "start_time": "2023-09-04T20:45:32.939Z"
   },
   {
    "duration": 6,
    "start_time": "2023-09-04T20:45:39.279Z"
   },
   {
    "duration": 46,
    "start_time": "2023-09-04T20:45:39.801Z"
   },
   {
    "duration": 53,
    "start_time": "2023-09-04T20:45:40.312Z"
   },
   {
    "duration": 45,
    "start_time": "2023-09-04T20:45:40.795Z"
   },
   {
    "duration": 32,
    "start_time": "2023-09-04T20:45:51.467Z"
   },
   {
    "duration": 35,
    "start_time": "2023-09-04T20:45:53.657Z"
   },
   {
    "duration": 25,
    "start_time": "2023-09-04T20:45:53.977Z"
   },
   {
    "duration": 3272,
    "start_time": "2023-09-04T20:55:52.966Z"
   },
   {
    "duration": 1649,
    "start_time": "2023-09-04T20:55:56.240Z"
   },
   {
    "duration": 2,
    "start_time": "2023-09-04T20:55:57.891Z"
   },
   {
    "duration": 452,
    "start_time": "2023-09-04T20:55:57.895Z"
   },
   {
    "duration": 34,
    "start_time": "2023-09-04T20:55:58.349Z"
   },
   {
    "duration": 27,
    "start_time": "2023-09-04T20:55:58.384Z"
   },
   {
    "duration": 53,
    "start_time": "2023-09-04T20:55:58.413Z"
   },
   {
    "duration": 7,
    "start_time": "2023-09-04T20:55:58.470Z"
   },
   {
    "duration": 2624,
    "start_time": "2023-09-04T20:55:58.478Z"
   },
   {
    "duration": 2667,
    "start_time": "2023-09-04T20:56:01.103Z"
   },
   {
    "duration": 2545,
    "start_time": "2023-09-04T20:56:03.772Z"
   },
   {
    "duration": 7,
    "start_time": "2023-09-04T20:56:06.318Z"
   },
   {
    "duration": 56,
    "start_time": "2023-09-04T20:56:06.333Z"
   },
   {
    "duration": 44,
    "start_time": "2023-09-04T20:56:06.392Z"
   },
   {
    "duration": 49,
    "start_time": "2023-09-04T20:56:06.442Z"
   },
   {
    "duration": 86,
    "start_time": "2023-09-04T20:56:06.493Z"
   },
   {
    "duration": 3,
    "start_time": "2023-09-04T20:56:06.581Z"
   },
   {
    "duration": 66,
    "start_time": "2023-09-04T20:56:06.585Z"
   },
   {
    "duration": 28,
    "start_time": "2023-09-04T20:56:06.661Z"
   },
   {
    "duration": 25,
    "start_time": "2023-09-04T20:56:06.691Z"
   },
   {
    "duration": 18,
    "start_time": "2023-09-04T20:56:06.728Z"
   },
   {
    "duration": 8,
    "start_time": "2023-09-04T20:56:06.748Z"
   },
   {
    "duration": 6,
    "start_time": "2023-09-04T20:56:06.761Z"
   },
   {
    "duration": 66,
    "start_time": "2023-09-04T20:56:06.769Z"
   },
   {
    "duration": 121,
    "start_time": "2023-09-04T20:56:06.840Z"
   },
   {
    "duration": 168,
    "start_time": "2023-09-04T20:56:06.962Z"
   },
   {
    "duration": 8,
    "start_time": "2023-09-04T20:56:07.148Z"
   },
   {
    "duration": 288,
    "start_time": "2023-09-04T20:56:07.163Z"
   },
   {
    "duration": 8,
    "start_time": "2023-09-04T20:56:07.452Z"
   },
   {
    "duration": 7,
    "start_time": "2023-09-04T20:56:07.463Z"
   },
   {
    "duration": 6,
    "start_time": "2023-09-04T20:56:07.473Z"
   },
   {
    "duration": 47,
    "start_time": "2023-09-04T20:56:07.481Z"
   },
   {
    "duration": 10,
    "start_time": "2023-09-04T20:56:07.530Z"
   },
   {
    "duration": 8,
    "start_time": "2023-09-04T20:56:07.544Z"
   },
   {
    "duration": 7,
    "start_time": "2023-09-04T20:56:07.557Z"
   },
   {
    "duration": 12,
    "start_time": "2023-09-04T20:56:07.565Z"
   },
   {
    "duration": 4,
    "start_time": "2023-09-04T20:56:07.578Z"
   },
   {
    "duration": 3,
    "start_time": "2023-09-04T20:56:07.584Z"
   },
   {
    "duration": 3,
    "start_time": "2023-09-04T20:56:07.589Z"
   },
   {
    "duration": 7,
    "start_time": "2023-09-04T20:56:07.593Z"
   },
   {
    "duration": 3,
    "start_time": "2023-09-04T20:56:07.603Z"
   },
   {
    "duration": 5,
    "start_time": "2023-09-04T20:56:07.607Z"
   },
   {
    "duration": 12,
    "start_time": "2023-09-04T20:56:07.624Z"
   },
   {
    "duration": 11,
    "start_time": "2023-09-04T20:56:07.638Z"
   },
   {
    "duration": 12,
    "start_time": "2023-09-04T20:56:07.652Z"
   },
   {
    "duration": 284,
    "start_time": "2023-09-04T20:56:07.666Z"
   },
   {
    "duration": 4,
    "start_time": "2023-09-04T20:56:07.951Z"
   },
   {
    "duration": 18,
    "start_time": "2023-09-04T20:56:07.961Z"
   },
   {
    "duration": 1050,
    "start_time": "2023-09-04T20:56:07.980Z"
   },
   {
    "duration": 1043,
    "start_time": "2023-09-04T20:56:09.037Z"
   },
   {
    "duration": 1098,
    "start_time": "2023-09-04T20:56:10.082Z"
   },
   {
    "duration": 302,
    "start_time": "2023-09-04T20:56:11.182Z"
   },
   {
    "duration": 310,
    "start_time": "2023-09-04T20:56:11.486Z"
   },
   {
    "duration": 8,
    "start_time": "2023-09-04T20:59:36.754Z"
   },
   {
    "duration": 3185,
    "start_time": "2023-09-04T21:02:07.058Z"
   },
   {
    "duration": 1736,
    "start_time": "2023-09-04T21:02:10.248Z"
   },
   {
    "duration": 4,
    "start_time": "2023-09-04T21:02:11.986Z"
   },
   {
    "duration": 18,
    "start_time": "2023-09-04T21:02:11.991Z"
   },
   {
    "duration": 480,
    "start_time": "2023-09-04T21:02:12.011Z"
   },
   {
    "duration": 5,
    "start_time": "2023-09-04T21:02:12.493Z"
   },
   {
    "duration": 2613,
    "start_time": "2023-09-04T21:02:12.500Z"
   },
   {
    "duration": 2664,
    "start_time": "2023-09-04T21:02:15.115Z"
   },
   {
    "duration": 2411,
    "start_time": "2023-09-04T21:02:17.782Z"
   },
   {
    "duration": 3,
    "start_time": "2023-09-04T21:02:20.195Z"
   },
   {
    "duration": 117,
    "start_time": "2023-09-04T21:02:20.199Z"
   },
   {
    "duration": 94,
    "start_time": "2023-09-04T21:02:20.317Z"
   },
   {
    "duration": 84,
    "start_time": "2023-09-04T21:02:20.414Z"
   },
   {
    "duration": 81,
    "start_time": "2023-09-04T21:02:20.500Z"
   },
   {
    "duration": 3,
    "start_time": "2023-09-04T21:02:20.582Z"
   },
   {
    "duration": 62,
    "start_time": "2023-09-04T21:02:20.587Z"
   },
   {
    "duration": 31,
    "start_time": "2023-09-04T21:02:20.650Z"
   },
   {
    "duration": 25,
    "start_time": "2023-09-04T21:02:20.683Z"
   },
   {
    "duration": 36,
    "start_time": "2023-09-04T21:02:20.724Z"
   },
   {
    "duration": 37,
    "start_time": "2023-09-04T21:02:20.762Z"
   },
   {
    "duration": 37,
    "start_time": "2023-09-04T21:02:20.800Z"
   },
   {
    "duration": 224,
    "start_time": "2023-09-04T21:02:20.838Z"
   },
   {
    "duration": 184,
    "start_time": "2023-09-04T21:02:21.065Z"
   },
   {
    "duration": 184,
    "start_time": "2023-09-04T21:02:21.252Z"
   },
   {
    "duration": 7,
    "start_time": "2023-09-04T21:02:21.442Z"
   },
   {
    "duration": 289,
    "start_time": "2023-09-04T21:02:21.455Z"
   },
   {
    "duration": 163,
    "start_time": "2023-09-04T21:02:21.752Z"
   },
   {
    "duration": 0,
    "start_time": "2023-09-04T21:02:21.917Z"
   },
   {
    "duration": 0,
    "start_time": "2023-09-04T21:02:21.925Z"
   },
   {
    "duration": 0,
    "start_time": "2023-09-04T21:02:21.925Z"
   },
   {
    "duration": 0,
    "start_time": "2023-09-04T21:02:21.926Z"
   },
   {
    "duration": 0,
    "start_time": "2023-09-04T21:02:21.927Z"
   },
   {
    "duration": 0,
    "start_time": "2023-09-04T21:02:21.928Z"
   },
   {
    "duration": 0,
    "start_time": "2023-09-04T21:02:21.929Z"
   },
   {
    "duration": 0,
    "start_time": "2023-09-04T21:02:21.929Z"
   },
   {
    "duration": 0,
    "start_time": "2023-09-04T21:02:21.930Z"
   },
   {
    "duration": 0,
    "start_time": "2023-09-04T21:02:21.936Z"
   },
   {
    "duration": 0,
    "start_time": "2023-09-04T21:02:21.937Z"
   },
   {
    "duration": 0,
    "start_time": "2023-09-04T21:02:21.937Z"
   },
   {
    "duration": 0,
    "start_time": "2023-09-04T21:02:21.938Z"
   },
   {
    "duration": 0,
    "start_time": "2023-09-04T21:02:21.938Z"
   },
   {
    "duration": 0,
    "start_time": "2023-09-04T21:02:21.939Z"
   },
   {
    "duration": 0,
    "start_time": "2023-09-04T21:02:21.942Z"
   },
   {
    "duration": 0,
    "start_time": "2023-09-04T21:02:21.944Z"
   },
   {
    "duration": 0,
    "start_time": "2023-09-04T21:02:21.945Z"
   },
   {
    "duration": 0,
    "start_time": "2023-09-04T21:02:21.946Z"
   },
   {
    "duration": 0,
    "start_time": "2023-09-04T21:02:21.949Z"
   },
   {
    "duration": 0,
    "start_time": "2023-09-04T21:02:21.950Z"
   },
   {
    "duration": 0,
    "start_time": "2023-09-04T21:02:21.950Z"
   },
   {
    "duration": 0,
    "start_time": "2023-09-04T21:02:21.951Z"
   },
   {
    "duration": 72,
    "start_time": "2023-09-05T06:01:40.880Z"
   },
   {
    "duration": 14021,
    "start_time": "2023-09-05T06:01:48.730Z"
   },
   {
    "duration": 2064,
    "start_time": "2023-09-05T06:02:02.756Z"
   },
   {
    "duration": 4,
    "start_time": "2023-09-05T06:02:04.822Z"
   },
   {
    "duration": 18,
    "start_time": "2023-09-05T06:02:04.828Z"
   },
   {
    "duration": 1301,
    "start_time": "2023-09-05T06:02:04.848Z"
   },
   {
    "duration": 7,
    "start_time": "2023-09-05T06:02:06.157Z"
   },
   {
    "duration": 2837,
    "start_time": "2023-09-05T06:02:06.166Z"
   },
   {
    "duration": 2759,
    "start_time": "2023-09-05T06:02:09.004Z"
   },
   {
    "duration": 2603,
    "start_time": "2023-09-05T06:02:11.764Z"
   },
   {
    "duration": 4,
    "start_time": "2023-09-05T06:02:14.369Z"
   },
   {
    "duration": 76,
    "start_time": "2023-09-05T06:02:14.375Z"
   },
   {
    "duration": 46,
    "start_time": "2023-09-05T06:02:14.453Z"
   },
   {
    "duration": 60,
    "start_time": "2023-09-05T06:02:14.501Z"
   },
   {
    "duration": 106,
    "start_time": "2023-09-05T06:02:14.565Z"
   },
   {
    "duration": 4,
    "start_time": "2023-09-05T06:02:14.673Z"
   },
   {
    "duration": 52,
    "start_time": "2023-09-05T06:02:14.679Z"
   },
   {
    "duration": 35,
    "start_time": "2023-09-05T06:02:14.745Z"
   },
   {
    "duration": 26,
    "start_time": "2023-09-05T06:02:14.781Z"
   },
   {
    "duration": 23,
    "start_time": "2023-09-05T06:02:14.810Z"
   },
   {
    "duration": 12,
    "start_time": "2023-09-05T06:02:14.836Z"
   },
   {
    "duration": 5,
    "start_time": "2023-09-05T06:02:14.857Z"
   },
   {
    "duration": 198,
    "start_time": "2023-09-05T06:02:14.864Z"
   },
   {
    "duration": 74,
    "start_time": "2023-09-05T06:02:15.064Z"
   },
   {
    "duration": 116,
    "start_time": "2023-09-05T06:02:15.154Z"
   },
   {
    "duration": 20,
    "start_time": "2023-09-05T06:02:15.310Z"
   },
   {
    "duration": 296,
    "start_time": "2023-09-05T06:02:15.333Z"
   },
   {
    "duration": 4,
    "start_time": "2023-09-05T06:02:15.639Z"
   },
   {
    "duration": 12,
    "start_time": "2023-09-05T06:02:15.645Z"
   },
   {
    "duration": 195,
    "start_time": "2023-09-05T06:02:15.659Z"
   },
   {
    "duration": 0,
    "start_time": "2023-09-05T06:02:15.859Z"
   },
   {
    "duration": 0,
    "start_time": "2023-09-05T06:02:15.860Z"
   },
   {
    "duration": 0,
    "start_time": "2023-09-05T06:02:15.861Z"
   },
   {
    "duration": 0,
    "start_time": "2023-09-05T06:02:15.862Z"
   },
   {
    "duration": 0,
    "start_time": "2023-09-05T06:02:15.863Z"
   },
   {
    "duration": 0,
    "start_time": "2023-09-05T06:02:15.866Z"
   },
   {
    "duration": 0,
    "start_time": "2023-09-05T06:02:15.867Z"
   },
   {
    "duration": 0,
    "start_time": "2023-09-05T06:02:15.868Z"
   },
   {
    "duration": 0,
    "start_time": "2023-09-05T06:02:15.870Z"
   },
   {
    "duration": 0,
    "start_time": "2023-09-05T06:02:15.871Z"
   },
   {
    "duration": 0,
    "start_time": "2023-09-05T06:02:15.872Z"
   },
   {
    "duration": 0,
    "start_time": "2023-09-05T06:02:15.873Z"
   },
   {
    "duration": 0,
    "start_time": "2023-09-05T06:02:15.876Z"
   },
   {
    "duration": 0,
    "start_time": "2023-09-05T06:02:15.877Z"
   },
   {
    "duration": 1,
    "start_time": "2023-09-05T06:02:15.878Z"
   },
   {
    "duration": 0,
    "start_time": "2023-09-05T06:02:15.880Z"
   },
   {
    "duration": 0,
    "start_time": "2023-09-05T06:02:15.882Z"
   },
   {
    "duration": 0,
    "start_time": "2023-09-05T06:02:15.883Z"
   },
   {
    "duration": 0,
    "start_time": "2023-09-05T06:02:15.884Z"
   },
   {
    "duration": 0,
    "start_time": "2023-09-05T06:02:15.885Z"
   },
   {
    "duration": 0,
    "start_time": "2023-09-05T06:02:15.886Z"
   },
   {
    "duration": 8810,
    "start_time": "2023-09-05T13:58:56.627Z"
   },
   {
    "duration": 1950,
    "start_time": "2023-09-05T13:59:05.440Z"
   },
   {
    "duration": 4,
    "start_time": "2023-09-05T13:59:07.392Z"
   },
   {
    "duration": 18,
    "start_time": "2023-09-05T13:59:07.398Z"
   },
   {
    "duration": 1067,
    "start_time": "2023-09-05T13:59:07.418Z"
   },
   {
    "duration": 6,
    "start_time": "2023-09-05T13:59:08.487Z"
   },
   {
    "duration": 2776,
    "start_time": "2023-09-05T13:59:08.495Z"
   },
   {
    "duration": 2700,
    "start_time": "2023-09-05T13:59:11.273Z"
   },
   {
    "duration": 2502,
    "start_time": "2023-09-05T13:59:13.974Z"
   },
   {
    "duration": 3,
    "start_time": "2023-09-05T13:59:16.488Z"
   },
   {
    "duration": 61,
    "start_time": "2023-09-05T13:59:16.493Z"
   },
   {
    "duration": 42,
    "start_time": "2023-09-05T13:59:16.562Z"
   },
   {
    "duration": 53,
    "start_time": "2023-09-05T13:59:16.606Z"
   },
   {
    "duration": 69,
    "start_time": "2023-09-05T13:59:16.661Z"
   },
   {
    "duration": 3,
    "start_time": "2023-09-05T13:59:16.732Z"
   },
   {
    "duration": 51,
    "start_time": "2023-09-05T13:59:16.737Z"
   },
   {
    "duration": 39,
    "start_time": "2023-09-05T13:59:16.790Z"
   },
   {
    "duration": 50,
    "start_time": "2023-09-05T13:59:16.831Z"
   },
   {
    "duration": 15,
    "start_time": "2023-09-05T13:59:16.883Z"
   },
   {
    "duration": 28,
    "start_time": "2023-09-05T13:59:16.899Z"
   },
   {
    "duration": 17,
    "start_time": "2023-09-05T13:59:16.928Z"
   },
   {
    "duration": 211,
    "start_time": "2023-09-05T13:59:16.947Z"
   },
   {
    "duration": 107,
    "start_time": "2023-09-05T13:59:17.163Z"
   },
   {
    "duration": 122,
    "start_time": "2023-09-05T13:59:17.351Z"
   },
   {
    "duration": 76,
    "start_time": "2023-09-05T13:59:17.476Z"
   },
   {
    "duration": 322,
    "start_time": "2023-09-05T13:59:17.554Z"
   },
   {
    "duration": 3,
    "start_time": "2023-09-05T13:59:17.878Z"
   },
   {
    "duration": 83,
    "start_time": "2023-09-05T13:59:17.884Z"
   },
   {
    "duration": 159,
    "start_time": "2023-09-05T13:59:17.969Z"
   },
   {
    "duration": 0,
    "start_time": "2023-09-05T13:59:18.130Z"
   },
   {
    "duration": 0,
    "start_time": "2023-09-05T13:59:18.131Z"
   },
   {
    "duration": 0,
    "start_time": "2023-09-05T13:59:18.133Z"
   },
   {
    "duration": 0,
    "start_time": "2023-09-05T13:59:18.134Z"
   },
   {
    "duration": 0,
    "start_time": "2023-09-05T13:59:18.135Z"
   },
   {
    "duration": 0,
    "start_time": "2023-09-05T13:59:18.151Z"
   },
   {
    "duration": 0,
    "start_time": "2023-09-05T13:59:18.153Z"
   },
   {
    "duration": 0,
    "start_time": "2023-09-05T13:59:18.155Z"
   },
   {
    "duration": 0,
    "start_time": "2023-09-05T13:59:18.160Z"
   },
   {
    "duration": 0,
    "start_time": "2023-09-05T13:59:18.164Z"
   },
   {
    "duration": 0,
    "start_time": "2023-09-05T13:59:18.166Z"
   },
   {
    "duration": 0,
    "start_time": "2023-09-05T13:59:18.167Z"
   },
   {
    "duration": 0,
    "start_time": "2023-09-05T13:59:18.168Z"
   },
   {
    "duration": 0,
    "start_time": "2023-09-05T13:59:18.169Z"
   },
   {
    "duration": 0,
    "start_time": "2023-09-05T13:59:18.170Z"
   },
   {
    "duration": 0,
    "start_time": "2023-09-05T13:59:18.172Z"
   },
   {
    "duration": 0,
    "start_time": "2023-09-05T13:59:18.173Z"
   },
   {
    "duration": 0,
    "start_time": "2023-09-05T13:59:18.174Z"
   },
   {
    "duration": 0,
    "start_time": "2023-09-05T13:59:18.175Z"
   },
   {
    "duration": 0,
    "start_time": "2023-09-05T13:59:18.177Z"
   },
   {
    "duration": 0,
    "start_time": "2023-09-05T13:59:18.178Z"
   },
   {
    "duration": 2,
    "start_time": "2023-09-05T14:03:31.840Z"
   },
   {
    "duration": 5,
    "start_time": "2023-09-05T14:03:32.743Z"
   },
   {
    "duration": 4,
    "start_time": "2023-09-05T14:03:33.873Z"
   },
   {
    "duration": 4,
    "start_time": "2023-09-05T14:03:34.339Z"
   },
   {
    "duration": 5,
    "start_time": "2023-09-05T14:03:34.876Z"
   },
   {
    "duration": 4,
    "start_time": "2023-09-05T14:03:35.275Z"
   },
   {
    "duration": 5,
    "start_time": "2023-09-05T14:03:35.596Z"
   },
   {
    "duration": 4,
    "start_time": "2023-09-05T14:04:45.790Z"
   },
   {
    "duration": 3,
    "start_time": "2023-09-05T14:04:48.413Z"
   },
   {
    "duration": 3,
    "start_time": "2023-09-05T14:04:48.830Z"
   },
   {
    "duration": 4,
    "start_time": "2023-09-05T14:04:49.420Z"
   },
   {
    "duration": 21,
    "start_time": "2023-09-05T14:04:51.282Z"
   },
   {
    "duration": 22,
    "start_time": "2023-09-05T14:04:51.616Z"
   },
   {
    "duration": 3,
    "start_time": "2023-09-05T14:05:08.072Z"
   },
   {
    "duration": 3,
    "start_time": "2023-09-05T14:05:08.884Z"
   },
   {
    "duration": 3,
    "start_time": "2023-09-05T14:05:09.184Z"
   },
   {
    "duration": 4,
    "start_time": "2023-09-05T14:05:09.547Z"
   },
   {
    "duration": 21,
    "start_time": "2023-09-05T14:05:10.571Z"
   },
   {
    "duration": 22,
    "start_time": "2023-09-05T14:05:11.245Z"
   },
   {
    "duration": 4,
    "start_time": "2023-09-05T14:05:37.243Z"
   },
   {
    "duration": 3,
    "start_time": "2023-09-05T14:05:38.090Z"
   },
   {
    "duration": 2,
    "start_time": "2023-09-05T14:05:38.457Z"
   },
   {
    "duration": 4,
    "start_time": "2023-09-05T14:05:38.793Z"
   },
   {
    "duration": 9,
    "start_time": "2023-09-05T14:05:39.830Z"
   },
   {
    "duration": 9,
    "start_time": "2023-09-05T14:05:40.502Z"
   },
   {
    "duration": 10,
    "start_time": "2023-09-05T14:05:41.036Z"
   },
   {
    "duration": 319,
    "start_time": "2023-09-05T14:05:42.744Z"
   },
   {
    "duration": 4,
    "start_time": "2023-09-05T14:10:27.819Z"
   },
   {
    "duration": 15,
    "start_time": "2023-09-05T14:10:31.482Z"
   },
   {
    "duration": 14,
    "start_time": "2023-09-05T14:10:32.883Z"
   },
   {
    "duration": 15,
    "start_time": "2023-09-05T14:10:33.183Z"
   },
   {
    "duration": 4,
    "start_time": "2023-09-05T14:12:21.774Z"
   },
   {
    "duration": 21,
    "start_time": "2023-09-05T14:12:22.977Z"
   },
   {
    "duration": 18,
    "start_time": "2023-09-05T14:12:32.021Z"
   },
   {
    "duration": 5,
    "start_time": "2023-09-05T14:13:08.744Z"
   },
   {
    "duration": 15,
    "start_time": "2023-09-05T14:13:09.640Z"
   },
   {
    "duration": 15,
    "start_time": "2023-09-05T14:13:10.873Z"
   },
   {
    "duration": 13,
    "start_time": "2023-09-05T14:13:11.657Z"
   },
   {
    "duration": 4,
    "start_time": "2023-09-05T14:13:30.012Z"
   },
   {
    "duration": 14,
    "start_time": "2023-09-05T14:13:30.703Z"
   },
   {
    "duration": 13,
    "start_time": "2023-09-05T14:13:31.209Z"
   },
   {
    "duration": 14,
    "start_time": "2023-09-05T14:13:31.641Z"
   },
   {
    "duration": 9,
    "start_time": "2023-09-05T14:13:45.403Z"
   },
   {
    "duration": 5,
    "start_time": "2023-09-05T14:14:00.140Z"
   },
   {
    "duration": 9,
    "start_time": "2023-09-05T14:14:23.974Z"
   },
   {
    "duration": 5,
    "start_time": "2023-09-05T14:14:29.376Z"
   },
   {
    "duration": 4,
    "start_time": "2023-09-05T14:15:26.460Z"
   },
   {
    "duration": 9,
    "start_time": "2023-09-05T14:15:27.119Z"
   },
   {
    "duration": 11,
    "start_time": "2023-09-05T14:15:27.642Z"
   },
   {
    "duration": 8,
    "start_time": "2023-09-05T14:15:28.029Z"
   },
   {
    "duration": 339,
    "start_time": "2023-09-05T14:15:29.441Z"
   },
   {
    "duration": 3,
    "start_time": "2023-09-05T14:16:12.993Z"
   },
   {
    "duration": 3,
    "start_time": "2023-09-05T14:16:13.357Z"
   },
   {
    "duration": 5,
    "start_time": "2023-09-05T14:16:13.807Z"
   },
   {
    "duration": 9,
    "start_time": "2023-09-05T14:16:14.678Z"
   },
   {
    "duration": 10,
    "start_time": "2023-09-05T14:16:15.081Z"
   },
   {
    "duration": 10,
    "start_time": "2023-09-05T14:16:15.440Z"
   },
   {
    "duration": 451,
    "start_time": "2023-09-05T14:16:15.925Z"
   },
   {
    "duration": 5,
    "start_time": "2023-09-05T14:18:24.128Z"
   },
   {
    "duration": 14,
    "start_time": "2023-09-05T14:18:25.036Z"
   },
   {
    "duration": 15,
    "start_time": "2023-09-05T14:18:25.502Z"
   },
   {
    "duration": 6,
    "start_time": "2023-09-05T14:18:45.658Z"
   },
   {
    "duration": 8,
    "start_time": "2023-09-05T14:18:48.541Z"
   },
   {
    "duration": 9,
    "start_time": "2023-09-05T14:18:49.178Z"
   },
   {
    "duration": 8,
    "start_time": "2023-09-05T14:18:49.534Z"
   },
   {
    "duration": 3,
    "start_time": "2023-09-05T14:18:52.997Z"
   },
   {
    "duration": 3,
    "start_time": "2023-09-05T14:18:53.179Z"
   },
   {
    "duration": 4,
    "start_time": "2023-09-05T14:18:53.379Z"
   },
   {
    "duration": 9,
    "start_time": "2023-09-05T14:18:54.304Z"
   },
   {
    "duration": 10,
    "start_time": "2023-09-05T14:18:54.639Z"
   },
   {
    "duration": 9,
    "start_time": "2023-09-05T14:18:54.974Z"
   },
   {
    "duration": 100,
    "start_time": "2023-09-05T14:21:31.352Z"
   },
   {
    "duration": 11,
    "start_time": "2023-09-05T14:21:39.082Z"
   },
   {
    "duration": 9,
    "start_time": "2023-09-05T14:21:39.615Z"
   },
   {
    "duration": 9,
    "start_time": "2023-09-05T14:21:39.980Z"
   },
   {
    "duration": 373,
    "start_time": "2023-09-05T14:21:40.328Z"
   },
   {
    "duration": 4,
    "start_time": "2023-09-05T14:21:43.985Z"
   },
   {
    "duration": 3,
    "start_time": "2023-09-05T14:21:44.663Z"
   },
   {
    "duration": 3,
    "start_time": "2023-09-05T14:21:44.987Z"
   },
   {
    "duration": 4,
    "start_time": "2023-09-05T14:21:45.283Z"
   },
   {
    "duration": 9,
    "start_time": "2023-09-05T14:21:46.295Z"
   },
   {
    "duration": 9,
    "start_time": "2023-09-05T14:21:46.637Z"
   },
   {
    "duration": 9,
    "start_time": "2023-09-05T14:21:47.424Z"
   },
   {
    "duration": 353,
    "start_time": "2023-09-05T14:21:48.128Z"
   },
   {
    "duration": 3,
    "start_time": "2023-09-05T14:24:30.980Z"
   },
   {
    "duration": 7,
    "start_time": "2023-09-05T14:24:31.496Z"
   },
   {
    "duration": 1103,
    "start_time": "2023-09-05T14:24:33.754Z"
   },
   {
    "duration": 1109,
    "start_time": "2023-09-05T14:24:35.815Z"
   },
   {
    "duration": 1063,
    "start_time": "2023-09-05T14:24:36.926Z"
   },
   {
    "duration": 292,
    "start_time": "2023-09-05T14:24:37.992Z"
   },
   {
    "duration": 7,
    "start_time": "2023-09-05T14:25:35.697Z"
   },
   {
    "duration": 15,
    "start_time": "2023-09-05T14:25:37.225Z"
   },
   {
    "duration": 7,
    "start_time": "2023-09-05T14:26:06.125Z"
   },
   {
    "duration": 1007,
    "start_time": "2023-09-05T14:26:06.931Z"
   },
   {
    "duration": 1007,
    "start_time": "2023-09-05T14:26:07.940Z"
   },
   {
    "duration": 1035,
    "start_time": "2023-09-05T14:26:08.949Z"
   },
   {
    "duration": 10,
    "start_time": "2023-09-05T14:28:32.908Z"
   },
   {
    "duration": 5,
    "start_time": "2023-09-05T14:28:36.275Z"
   },
   {
    "duration": 7,
    "start_time": "2023-09-05T14:28:50.306Z"
   },
   {
    "duration": 7,
    "start_time": "2023-09-05T14:30:00.286Z"
   },
   {
    "duration": 7,
    "start_time": "2023-09-05T14:30:26.226Z"
   },
   {
    "duration": 1305,
    "start_time": "2023-09-05T14:30:27.145Z"
   },
   {
    "duration": 1306,
    "start_time": "2023-09-05T14:30:28.452Z"
   },
   {
    "duration": 1319,
    "start_time": "2023-09-05T14:30:29.760Z"
   },
   {
    "duration": 7,
    "start_time": "2023-09-05T14:31:19.929Z"
   },
   {
    "duration": 1269,
    "start_time": "2023-09-05T14:31:21.307Z"
   },
   {
    "duration": 1265,
    "start_time": "2023-09-05T14:31:22.578Z"
   },
   {
    "duration": 1255,
    "start_time": "2023-09-05T14:31:23.846Z"
   }
  ],
  "kernelspec": {
   "display_name": "Python 3 (ipykernel)",
   "language": "python",
   "name": "python3"
  },
  "language_info": {
   "codemirror_mode": {
    "name": "ipython",
    "version": 3
   },
   "file_extension": ".py",
   "mimetype": "text/x-python",
   "name": "python",
   "nbconvert_exporter": "python",
   "pygments_lexer": "ipython3",
   "version": "3.9.17"
  },
  "toc": {
   "base_numbering": 1,
   "nav_menu": {},
   "number_sections": true,
   "sideBar": true,
   "skip_h1_title": true,
   "title_cell": "Table of Contents",
   "title_sidebar": "Contents",
   "toc_cell": false,
   "toc_position": {
    "height": "calc(100% - 180px)",
    "left": "10px",
    "top": "150px",
    "width": "492px"
   },
   "toc_section_display": true,
   "toc_window_display": true
  }
 },
 "nbformat": 4,
 "nbformat_minor": 4
}
