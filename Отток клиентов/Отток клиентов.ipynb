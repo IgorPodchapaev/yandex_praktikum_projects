{
 "cells": [
  {
   "cell_type": "markdown",
   "metadata": {},
   "source": [
    "# Отток клиентов"
   ]
  },
  {
   "cell_type": "markdown",
   "metadata": {},
   "source": [
    "# Описание проекта"
   ]
  },
  {
   "cell_type": "markdown",
   "metadata": {},
   "source": [
    "Из «Бета-Банка» стали уходить клиенты. Каждый месяц. Немного, но заметно. Банковские маркетологи посчитали: сохранять текущих клиентов дешевле, чем привлекать новых.\n",
    "\n",
    "Нужно спрогнозировать, уйдёт клиент из банка в ближайшее время или нет. Вам предоставлены исторические данные о поведении клиентов и расторжении договоров с банком. \n",
    "\n",
    "Постройте модель с предельно большим значением *F1*-меры. Чтобы сдать проект успешно, нужно довести метрику до 0.59. Проверьте *F1*-меру на тестовой выборке самостоятельно.\n",
    "\n",
    "Дополнительно измеряйте *AUC-ROC*, сравнивайте её значение с *F1*-мерой.\n",
    "\n",
    "Источник данных: [https://www.kaggle.com/barelydedicated/bank-customer-churn-modeling](https://www.kaggle.com/barelydedicated/bank-customer-churn-modeling)"
   ]
  },
  {
   "cell_type": "markdown",
   "metadata": {},
   "source": [
    "# План выполнения проекта\n",
    "\n",
    "* Загрузим и подготовим данные.\n",
    "* Исследуем баланс классов, обучим модель без учёта дисбаланса.\n",
    "* Улучшим качество модели, учитывая дисбаланс классов. Обучим разные модели и найдем лучшую.\n",
    "* Проведем финальное тестирование."
   ]
  },
  {
   "cell_type": "markdown",
   "metadata": {},
   "source": [
    "# Описание данных\n",
    "\n",
    "* Признаки:\n",
    "  * RowNumber — индекс строки в данных\n",
    "  * CustomerId — уникальный идентификатор клиента\n",
    "  * Surname — фамилия\n",
    "  * CreditScore — кредитный рейтинг\n",
    "  * Geography — страна проживания\n",
    "  * Gender — пол\n",
    "  * Age — возраст\n",
    "  * Tenure — сколько лет человек является клиентом банка\n",
    "  * Balance — баланс на счёте\n",
    "  * NumOfProducts — количество продуктов банка, используемых клиентом\n",
    "  * HasCrCard — наличие кредитной карты\n",
    "  * IsActiveMember — активность клиента\n",
    "  * EstimatedSalary — предполагаемая зарплата\n",
    "* Целевой признак:\n",
    "  * Exited — факт ухода клиента"
   ]
  },
  {
   "cell_type": "markdown",
   "metadata": {},
   "source": [
    "# Импорт библиотек"
   ]
  },
  {
   "cell_type": "code",
   "execution_count": 1,
   "metadata": {},
   "outputs": [],
   "source": [
    "import os\n",
    "import warnings\n",
    "warnings.filterwarnings('ignore')\n",
    "import pandas as pd\n",
    "import numpy as np\n",
    "import matplotlib.pyplot as plt\n",
    "import seaborn as sns\n",
    "import statsmodels.api as sm\n",
    "import scipy\n",
    "import math\n",
    "from sklearn.linear_model import LogisticRegression\n",
    "from sklearn.tree import DecisionTreeClassifier\n",
    "from sklearn.ensemble import RandomForestClassifier\n",
    "from sklearn.tree import DecisionTreeRegressor\n",
    "from sklearn.ensemble import RandomForestRegressor\n",
    "from sklearn.linear_model import LinearRegression\n",
    "from sklearn.model_selection import train_test_split\n",
    "from sklearn.metrics import plot_confusion_matrix\n",
    "from sklearn.metrics import f1_score\n",
    "from sklearn.metrics import mean_squared_error\n",
    "from sklearn.metrics import mean_absolute_error\n",
    "from sklearn.preprocessing import StandardScaler\n",
    "from sklearn.metrics import accuracy_score\n",
    "from sklearn.metrics import recall_score\n",
    "from sklearn.metrics import precision_score\n",
    "from sklearn.utils import shuffle\n",
    "from sklearn.metrics import precision_recall_curve\n",
    "from sklearn.metrics import roc_curve\n",
    "from sklearn.metrics import roc_auc_score\n",
    "from sklearn.metrics import r2_score"
   ]
  },
  {
   "cell_type": "markdown",
   "metadata": {},
   "source": [
    "<div class=\"alert alert-block alert-success\">\n",
    "<b>Успех:</b> Импорты на месте\n",
    "</div>\n"
   ]
  },
  {
   "cell_type": "markdown",
   "metadata": {},
   "source": [
    "# Фиксация переменных"
   ]
  },
  {
   "cell_type": "code",
   "execution_count": 2,
   "metadata": {},
   "outputs": [],
   "source": [
    "RANDOM_STATE = 12345 #Зафиксируем псевдослучайность"
   ]
  },
  {
   "cell_type": "markdown",
   "metadata": {},
   "source": [
    "## Загрузим и изученим даннные"
   ]
  },
  {
   "cell_type": "code",
   "execution_count": 3,
   "metadata": {},
   "outputs": [],
   "source": [
    "data_1 = 'Churn.csv'\n",
    "data_2 = 'https://code.s3.yandex.net/datasets/Churn.csv'\n",
    "\n",
    "if os.path.exists(data_1):\n",
    "    сustomer_churn = pd.read_csv(data_1)\n",
    "elif os.path.exists(data_2):\n",
    "    сustomer_churn = pd.read_csv(data_2)\n",
    "else:\n",
    "    print('Something is wrong')"
   ]
  },
  {
   "cell_type": "markdown",
   "metadata": {},
   "source": [
    "Выведем первые 10 строчек датафрейма на экран:"
   ]
  },
  {
   "cell_type": "code",
   "execution_count": 4,
   "metadata": {},
   "outputs": [
    {
     "data": {
      "text/html": [
       "<div>\n",
       "<style scoped>\n",
       "    .dataframe tbody tr th:only-of-type {\n",
       "        vertical-align: middle;\n",
       "    }\n",
       "\n",
       "    .dataframe tbody tr th {\n",
       "        vertical-align: top;\n",
       "    }\n",
       "\n",
       "    .dataframe thead th {\n",
       "        text-align: right;\n",
       "    }\n",
       "</style>\n",
       "<table border=\"1\" class=\"dataframe\">\n",
       "  <thead>\n",
       "    <tr style=\"text-align: right;\">\n",
       "      <th></th>\n",
       "      <th>RowNumber</th>\n",
       "      <th>CustomerId</th>\n",
       "      <th>Surname</th>\n",
       "      <th>CreditScore</th>\n",
       "      <th>Geography</th>\n",
       "      <th>Gender</th>\n",
       "      <th>Age</th>\n",
       "      <th>Tenure</th>\n",
       "      <th>Balance</th>\n",
       "      <th>NumOfProducts</th>\n",
       "      <th>HasCrCard</th>\n",
       "      <th>IsActiveMember</th>\n",
       "      <th>EstimatedSalary</th>\n",
       "      <th>Exited</th>\n",
       "    </tr>\n",
       "  </thead>\n",
       "  <tbody>\n",
       "    <tr>\n",
       "      <th>0</th>\n",
       "      <td>1</td>\n",
       "      <td>15634602</td>\n",
       "      <td>Hargrave</td>\n",
       "      <td>619</td>\n",
       "      <td>France</td>\n",
       "      <td>Female</td>\n",
       "      <td>42</td>\n",
       "      <td>2.0</td>\n",
       "      <td>0.00</td>\n",
       "      <td>1</td>\n",
       "      <td>1</td>\n",
       "      <td>1</td>\n",
       "      <td>101348.88</td>\n",
       "      <td>1</td>\n",
       "    </tr>\n",
       "    <tr>\n",
       "      <th>1</th>\n",
       "      <td>2</td>\n",
       "      <td>15647311</td>\n",
       "      <td>Hill</td>\n",
       "      <td>608</td>\n",
       "      <td>Spain</td>\n",
       "      <td>Female</td>\n",
       "      <td>41</td>\n",
       "      <td>1.0</td>\n",
       "      <td>83807.86</td>\n",
       "      <td>1</td>\n",
       "      <td>0</td>\n",
       "      <td>1</td>\n",
       "      <td>112542.58</td>\n",
       "      <td>0</td>\n",
       "    </tr>\n",
       "    <tr>\n",
       "      <th>2</th>\n",
       "      <td>3</td>\n",
       "      <td>15619304</td>\n",
       "      <td>Onio</td>\n",
       "      <td>502</td>\n",
       "      <td>France</td>\n",
       "      <td>Female</td>\n",
       "      <td>42</td>\n",
       "      <td>8.0</td>\n",
       "      <td>159660.80</td>\n",
       "      <td>3</td>\n",
       "      <td>1</td>\n",
       "      <td>0</td>\n",
       "      <td>113931.57</td>\n",
       "      <td>1</td>\n",
       "    </tr>\n",
       "    <tr>\n",
       "      <th>3</th>\n",
       "      <td>4</td>\n",
       "      <td>15701354</td>\n",
       "      <td>Boni</td>\n",
       "      <td>699</td>\n",
       "      <td>France</td>\n",
       "      <td>Female</td>\n",
       "      <td>39</td>\n",
       "      <td>1.0</td>\n",
       "      <td>0.00</td>\n",
       "      <td>2</td>\n",
       "      <td>0</td>\n",
       "      <td>0</td>\n",
       "      <td>93826.63</td>\n",
       "      <td>0</td>\n",
       "    </tr>\n",
       "    <tr>\n",
       "      <th>4</th>\n",
       "      <td>5</td>\n",
       "      <td>15737888</td>\n",
       "      <td>Mitchell</td>\n",
       "      <td>850</td>\n",
       "      <td>Spain</td>\n",
       "      <td>Female</td>\n",
       "      <td>43</td>\n",
       "      <td>2.0</td>\n",
       "      <td>125510.82</td>\n",
       "      <td>1</td>\n",
       "      <td>1</td>\n",
       "      <td>1</td>\n",
       "      <td>79084.10</td>\n",
       "      <td>0</td>\n",
       "    </tr>\n",
       "    <tr>\n",
       "      <th>5</th>\n",
       "      <td>6</td>\n",
       "      <td>15574012</td>\n",
       "      <td>Chu</td>\n",
       "      <td>645</td>\n",
       "      <td>Spain</td>\n",
       "      <td>Male</td>\n",
       "      <td>44</td>\n",
       "      <td>8.0</td>\n",
       "      <td>113755.78</td>\n",
       "      <td>2</td>\n",
       "      <td>1</td>\n",
       "      <td>0</td>\n",
       "      <td>149756.71</td>\n",
       "      <td>1</td>\n",
       "    </tr>\n",
       "    <tr>\n",
       "      <th>6</th>\n",
       "      <td>7</td>\n",
       "      <td>15592531</td>\n",
       "      <td>Bartlett</td>\n",
       "      <td>822</td>\n",
       "      <td>France</td>\n",
       "      <td>Male</td>\n",
       "      <td>50</td>\n",
       "      <td>7.0</td>\n",
       "      <td>0.00</td>\n",
       "      <td>2</td>\n",
       "      <td>1</td>\n",
       "      <td>1</td>\n",
       "      <td>10062.80</td>\n",
       "      <td>0</td>\n",
       "    </tr>\n",
       "    <tr>\n",
       "      <th>7</th>\n",
       "      <td>8</td>\n",
       "      <td>15656148</td>\n",
       "      <td>Obinna</td>\n",
       "      <td>376</td>\n",
       "      <td>Germany</td>\n",
       "      <td>Female</td>\n",
       "      <td>29</td>\n",
       "      <td>4.0</td>\n",
       "      <td>115046.74</td>\n",
       "      <td>4</td>\n",
       "      <td>1</td>\n",
       "      <td>0</td>\n",
       "      <td>119346.88</td>\n",
       "      <td>1</td>\n",
       "    </tr>\n",
       "    <tr>\n",
       "      <th>8</th>\n",
       "      <td>9</td>\n",
       "      <td>15792365</td>\n",
       "      <td>He</td>\n",
       "      <td>501</td>\n",
       "      <td>France</td>\n",
       "      <td>Male</td>\n",
       "      <td>44</td>\n",
       "      <td>4.0</td>\n",
       "      <td>142051.07</td>\n",
       "      <td>2</td>\n",
       "      <td>0</td>\n",
       "      <td>1</td>\n",
       "      <td>74940.50</td>\n",
       "      <td>0</td>\n",
       "    </tr>\n",
       "    <tr>\n",
       "      <th>9</th>\n",
       "      <td>10</td>\n",
       "      <td>15592389</td>\n",
       "      <td>H?</td>\n",
       "      <td>684</td>\n",
       "      <td>France</td>\n",
       "      <td>Male</td>\n",
       "      <td>27</td>\n",
       "      <td>2.0</td>\n",
       "      <td>134603.88</td>\n",
       "      <td>1</td>\n",
       "      <td>1</td>\n",
       "      <td>1</td>\n",
       "      <td>71725.73</td>\n",
       "      <td>0</td>\n",
       "    </tr>\n",
       "  </tbody>\n",
       "</table>\n",
       "</div>"
      ],
      "text/plain": [
       "   RowNumber  CustomerId   Surname  CreditScore Geography  Gender  Age  \\\n",
       "0          1    15634602  Hargrave          619    France  Female   42   \n",
       "1          2    15647311      Hill          608     Spain  Female   41   \n",
       "2          3    15619304      Onio          502    France  Female   42   \n",
       "3          4    15701354      Boni          699    France  Female   39   \n",
       "4          5    15737888  Mitchell          850     Spain  Female   43   \n",
       "5          6    15574012       Chu          645     Spain    Male   44   \n",
       "6          7    15592531  Bartlett          822    France    Male   50   \n",
       "7          8    15656148    Obinna          376   Germany  Female   29   \n",
       "8          9    15792365        He          501    France    Male   44   \n",
       "9         10    15592389        H?          684    France    Male   27   \n",
       "\n",
       "   Tenure    Balance  NumOfProducts  HasCrCard  IsActiveMember  \\\n",
       "0     2.0       0.00              1          1               1   \n",
       "1     1.0   83807.86              1          0               1   \n",
       "2     8.0  159660.80              3          1               0   \n",
       "3     1.0       0.00              2          0               0   \n",
       "4     2.0  125510.82              1          1               1   \n",
       "5     8.0  113755.78              2          1               0   \n",
       "6     7.0       0.00              2          1               1   \n",
       "7     4.0  115046.74              4          1               0   \n",
       "8     4.0  142051.07              2          0               1   \n",
       "9     2.0  134603.88              1          1               1   \n",
       "\n",
       "   EstimatedSalary  Exited  \n",
       "0        101348.88       1  \n",
       "1        112542.58       0  \n",
       "2        113931.57       1  \n",
       "3         93826.63       0  \n",
       "4         79084.10       0  \n",
       "5        149756.71       1  \n",
       "6         10062.80       0  \n",
       "7        119346.88       1  \n",
       "8         74940.50       0  \n",
       "9         71725.73       0  "
      ]
     },
     "execution_count": 4,
     "metadata": {},
     "output_type": "execute_result"
    }
   ],
   "source": [
    "сustomer_churn.head(10)"
   ]
  },
  {
   "cell_type": "markdown",
   "metadata": {},
   "source": [
    "Заменим названия столбцов датасета с полу-Camel case на Snake case:"
   ]
  },
  {
   "cell_type": "code",
   "execution_count": 5,
   "metadata": {},
   "outputs": [],
   "source": [
    "сustomer_churn.columns = ['row_number', 'customer_id', 'surname', 'credit_score', 'geography', 'gender', 'age', 'tenure', \\\n",
    "              'balance', 'num_of_products', 'has_cr_card', 'is_active_member', 'estimated_salary', 'exited' ]"
   ]
  },
  {
   "cell_type": "markdown",
   "metadata": {},
   "source": [
    "Выведем основную информацию о датафрейме с помощью метода info():"
   ]
  },
  {
   "cell_type": "code",
   "execution_count": 6,
   "metadata": {},
   "outputs": [
    {
     "name": "stdout",
     "output_type": "stream",
     "text": [
      "<class 'pandas.core.frame.DataFrame'>\n",
      "RangeIndex: 10000 entries, 0 to 9999\n",
      "Data columns (total 14 columns):\n",
      " #   Column            Non-Null Count  Dtype  \n",
      "---  ------            --------------  -----  \n",
      " 0   row_number        10000 non-null  int64  \n",
      " 1   customer_id       10000 non-null  int64  \n",
      " 2   surname           10000 non-null  object \n",
      " 3   credit_score      10000 non-null  int64  \n",
      " 4   geography         10000 non-null  object \n",
      " 5   gender            10000 non-null  object \n",
      " 6   age               10000 non-null  int64  \n",
      " 7   tenure            9091 non-null   float64\n",
      " 8   balance           10000 non-null  float64\n",
      " 9   num_of_products   10000 non-null  int64  \n",
      " 10  has_cr_card       10000 non-null  int64  \n",
      " 11  is_active_member  10000 non-null  int64  \n",
      " 12  estimated_salary  10000 non-null  float64\n",
      " 13  exited            10000 non-null  int64  \n",
      "dtypes: float64(3), int64(8), object(3)\n",
      "memory usage: 1.1+ MB\n"
     ]
    }
   ],
   "source": [
    "сustomer_churn.info()"
   ]
  },
  {
   "cell_type": "markdown",
   "metadata": {},
   "source": [
    "Применим метод `describe` чтобы зафиксировать нюансы распределения данных в числах:"
   ]
  },
  {
   "cell_type": "code",
   "execution_count": 7,
   "metadata": {},
   "outputs": [
    {
     "data": {
      "text/html": [
       "<div>\n",
       "<style scoped>\n",
       "    .dataframe tbody tr th:only-of-type {\n",
       "        vertical-align: middle;\n",
       "    }\n",
       "\n",
       "    .dataframe tbody tr th {\n",
       "        vertical-align: top;\n",
       "    }\n",
       "\n",
       "    .dataframe thead th {\n",
       "        text-align: right;\n",
       "    }\n",
       "</style>\n",
       "<table border=\"1\" class=\"dataframe\">\n",
       "  <thead>\n",
       "    <tr style=\"text-align: right;\">\n",
       "      <th></th>\n",
       "      <th>row_number</th>\n",
       "      <th>customer_id</th>\n",
       "      <th>credit_score</th>\n",
       "      <th>age</th>\n",
       "      <th>tenure</th>\n",
       "      <th>balance</th>\n",
       "      <th>num_of_products</th>\n",
       "      <th>has_cr_card</th>\n",
       "      <th>is_active_member</th>\n",
       "      <th>estimated_salary</th>\n",
       "      <th>exited</th>\n",
       "    </tr>\n",
       "  </thead>\n",
       "  <tbody>\n",
       "    <tr>\n",
       "      <th>count</th>\n",
       "      <td>10000.00000</td>\n",
       "      <td>1.000000e+04</td>\n",
       "      <td>10000.000000</td>\n",
       "      <td>10000.000000</td>\n",
       "      <td>9091.000000</td>\n",
       "      <td>10000.000000</td>\n",
       "      <td>10000.000000</td>\n",
       "      <td>10000.00000</td>\n",
       "      <td>10000.000000</td>\n",
       "      <td>10000.000000</td>\n",
       "      <td>10000.000000</td>\n",
       "    </tr>\n",
       "    <tr>\n",
       "      <th>mean</th>\n",
       "      <td>5000.50000</td>\n",
       "      <td>1.569094e+07</td>\n",
       "      <td>650.528800</td>\n",
       "      <td>38.921800</td>\n",
       "      <td>4.997690</td>\n",
       "      <td>76485.889288</td>\n",
       "      <td>1.530200</td>\n",
       "      <td>0.70550</td>\n",
       "      <td>0.515100</td>\n",
       "      <td>100090.239881</td>\n",
       "      <td>0.203700</td>\n",
       "    </tr>\n",
       "    <tr>\n",
       "      <th>std</th>\n",
       "      <td>2886.89568</td>\n",
       "      <td>7.193619e+04</td>\n",
       "      <td>96.653299</td>\n",
       "      <td>10.487806</td>\n",
       "      <td>2.894723</td>\n",
       "      <td>62397.405202</td>\n",
       "      <td>0.581654</td>\n",
       "      <td>0.45584</td>\n",
       "      <td>0.499797</td>\n",
       "      <td>57510.492818</td>\n",
       "      <td>0.402769</td>\n",
       "    </tr>\n",
       "    <tr>\n",
       "      <th>min</th>\n",
       "      <td>1.00000</td>\n",
       "      <td>1.556570e+07</td>\n",
       "      <td>350.000000</td>\n",
       "      <td>18.000000</td>\n",
       "      <td>0.000000</td>\n",
       "      <td>0.000000</td>\n",
       "      <td>1.000000</td>\n",
       "      <td>0.00000</td>\n",
       "      <td>0.000000</td>\n",
       "      <td>11.580000</td>\n",
       "      <td>0.000000</td>\n",
       "    </tr>\n",
       "    <tr>\n",
       "      <th>25%</th>\n",
       "      <td>2500.75000</td>\n",
       "      <td>1.562853e+07</td>\n",
       "      <td>584.000000</td>\n",
       "      <td>32.000000</td>\n",
       "      <td>2.000000</td>\n",
       "      <td>0.000000</td>\n",
       "      <td>1.000000</td>\n",
       "      <td>0.00000</td>\n",
       "      <td>0.000000</td>\n",
       "      <td>51002.110000</td>\n",
       "      <td>0.000000</td>\n",
       "    </tr>\n",
       "    <tr>\n",
       "      <th>50%</th>\n",
       "      <td>5000.50000</td>\n",
       "      <td>1.569074e+07</td>\n",
       "      <td>652.000000</td>\n",
       "      <td>37.000000</td>\n",
       "      <td>5.000000</td>\n",
       "      <td>97198.540000</td>\n",
       "      <td>1.000000</td>\n",
       "      <td>1.00000</td>\n",
       "      <td>1.000000</td>\n",
       "      <td>100193.915000</td>\n",
       "      <td>0.000000</td>\n",
       "    </tr>\n",
       "    <tr>\n",
       "      <th>75%</th>\n",
       "      <td>7500.25000</td>\n",
       "      <td>1.575323e+07</td>\n",
       "      <td>718.000000</td>\n",
       "      <td>44.000000</td>\n",
       "      <td>7.000000</td>\n",
       "      <td>127644.240000</td>\n",
       "      <td>2.000000</td>\n",
       "      <td>1.00000</td>\n",
       "      <td>1.000000</td>\n",
       "      <td>149388.247500</td>\n",
       "      <td>0.000000</td>\n",
       "    </tr>\n",
       "    <tr>\n",
       "      <th>max</th>\n",
       "      <td>10000.00000</td>\n",
       "      <td>1.581569e+07</td>\n",
       "      <td>850.000000</td>\n",
       "      <td>92.000000</td>\n",
       "      <td>10.000000</td>\n",
       "      <td>250898.090000</td>\n",
       "      <td>4.000000</td>\n",
       "      <td>1.00000</td>\n",
       "      <td>1.000000</td>\n",
       "      <td>199992.480000</td>\n",
       "      <td>1.000000</td>\n",
       "    </tr>\n",
       "  </tbody>\n",
       "</table>\n",
       "</div>"
      ],
      "text/plain": [
       "        row_number   customer_id  credit_score           age       tenure  \\\n",
       "count  10000.00000  1.000000e+04  10000.000000  10000.000000  9091.000000   \n",
       "mean    5000.50000  1.569094e+07    650.528800     38.921800     4.997690   \n",
       "std     2886.89568  7.193619e+04     96.653299     10.487806     2.894723   \n",
       "min        1.00000  1.556570e+07    350.000000     18.000000     0.000000   \n",
       "25%     2500.75000  1.562853e+07    584.000000     32.000000     2.000000   \n",
       "50%     5000.50000  1.569074e+07    652.000000     37.000000     5.000000   \n",
       "75%     7500.25000  1.575323e+07    718.000000     44.000000     7.000000   \n",
       "max    10000.00000  1.581569e+07    850.000000     92.000000    10.000000   \n",
       "\n",
       "             balance  num_of_products  has_cr_card  is_active_member  \\\n",
       "count   10000.000000     10000.000000  10000.00000      10000.000000   \n",
       "mean    76485.889288         1.530200      0.70550          0.515100   \n",
       "std     62397.405202         0.581654      0.45584          0.499797   \n",
       "min         0.000000         1.000000      0.00000          0.000000   \n",
       "25%         0.000000         1.000000      0.00000          0.000000   \n",
       "50%     97198.540000         1.000000      1.00000          1.000000   \n",
       "75%    127644.240000         2.000000      1.00000          1.000000   \n",
       "max    250898.090000         4.000000      1.00000          1.000000   \n",
       "\n",
       "       estimated_salary        exited  \n",
       "count      10000.000000  10000.000000  \n",
       "mean      100090.239881      0.203700  \n",
       "std        57510.492818      0.402769  \n",
       "min           11.580000      0.000000  \n",
       "25%        51002.110000      0.000000  \n",
       "50%       100193.915000      0.000000  \n",
       "75%       149388.247500      0.000000  \n",
       "max       199992.480000      1.000000  "
      ]
     },
     "execution_count": 7,
     "metadata": {},
     "output_type": "execute_result"
    }
   ],
   "source": [
    "сustomer_churn.describe()"
   ]
  },
  {
   "cell_type": "markdown",
   "metadata": {},
   "source": [
    "Изучив общую информацию о датасете, можно сделать следующие выводы:\n",
    "\n",
    "* gender и geography нужно перевести в дамми с помощью метода One-Hot Encoding\n",
    "* обратим внимание на столбец `estimated_salary` — предполагаемая зарплата, минимальное значение `11,58` выглядит подозрительно."
   ]
  },
  {
   "cell_type": "markdown",
   "metadata": {},
   "source": [
    "Проверим данные на мультиколлинеарность между признаками:"
   ]
  },
  {
   "cell_type": "code",
   "execution_count": 17,
   "metadata": {},
   "outputs": [],
   "source": [
    "сustomer_churn_corr = сustomer_churn[['row_number', 'customer_id', 'credit_score', 'age', 'tenure', 'balance', 'num_of_products', \\\n",
    "                'has_cr_card', 'is_active_member', 'estimated_salary', 'exited']]"
   ]
  },
  {
   "cell_type": "code",
   "execution_count": 18,
   "metadata": {},
   "outputs": [
    {
     "data": {
      "image/png": "[encoded data removed]",
      "text/plain": [
       "<Figure size 1500x500 with 2 Axes>"
      ]
     },
     "metadata": {},
     "output_type": "display_data"
    }
   ],
   "source": [
    "plt.figure(figsize = (15,5))\n",
    "sns.heatmap(сustomer_churn_corr.corr(), annot = True)\n",
    "plt.show()"
   ]
  },
  {
   "cell_type": "markdown",
   "metadata": {},
   "source": [
    "Критично высоких связей между признаками не наблюдается, поэтому можно оставить модель с изначальным набором признаков."
   ]
  },
  {
   "cell_type": "markdown",
   "metadata": {},
   "source": [
    "Построим диаграмму распределения для столбца `stimated_salary`, чтобы визуально оценить выбросы."
   ]
  },
  {
   "cell_type": "code",
   "execution_count": 19,
   "metadata": {},
   "outputs": [
    {
     "data": {
      "image/png": "[encoded data removed]",
      "text/plain": [
       "<Figure size 1000x1000 with 1 Axes>"
      ]
     },
     "metadata": {},
     "output_type": "display_data"
    }
   ],
   "source": [
    "plt.figure(figsize=(10,10))\n",
    "plt.hist(сustomer_churn['estimated_salary'], bins=100, density=True, edgecolor='black')\n",
    "plt.title('Распределение предполагаемых зарплат' + \"\\n\", size=20)\n",
    "plt.xlabel(\"\\n\" + 'Предполагаемая зарплата', size=20)\n",
    "plt.ylabel('Количество пользователей' + \"\\n\", size=20)\n",
    "plt.grid()\n",
    "plt.show()"
   ]
  },
  {
   "cell_type": "markdown",
   "metadata": {},
   "source": [
    "Допустим."
   ]
  },
  {
   "cell_type": "markdown",
   "metadata": {},
   "source": [
    "Проверим датасет на наличие пропусков в данных:"
   ]
  },
  {
   "cell_type": "code",
   "execution_count": 20,
   "metadata": {},
   "outputs": [
    {
     "data": {
      "text/plain": [
       "row_number            0\n",
       "customer_id           0\n",
       "surname               0\n",
       "credit_score          0\n",
       "geography             0\n",
       "gender                0\n",
       "age                   0\n",
       "tenure              909\n",
       "balance               0\n",
       "num_of_products       0\n",
       "has_cr_card           0\n",
       "is_active_member      0\n",
       "estimated_salary      0\n",
       "exited                0\n",
       "dtype: int64"
      ]
     },
     "execution_count": 20,
     "metadata": {},
     "output_type": "execute_result"
    }
   ],
   "source": [
    "сustomer_churn.isna().sum()"
   ]
  },
  {
   "cell_type": "markdown",
   "metadata": {},
   "source": [
    "В столбце `tenure` наблюдается 909 прорусков.\n",
    "Будем считать, что если это пропуск, значит человек не является клиентом банка. Заполним пропуски нулями."
   ]
  },
  {
   "cell_type": "code",
   "execution_count": 21,
   "metadata": {},
   "outputs": [],
   "source": [
    "сustomer_churn.tenure = сustomer_churn.tenure.fillna(0)"
   ]
  },
  {
   "cell_type": "markdown",
   "metadata": {},
   "source": [
    "Проверим:"
   ]
  },
  {
   "cell_type": "code",
   "execution_count": 22,
   "metadata": {},
   "outputs": [
    {
     "data": {
      "text/plain": [
       "row_number          0\n",
       "customer_id         0\n",
       "surname             0\n",
       "credit_score        0\n",
       "geography           0\n",
       "gender              0\n",
       "age                 0\n",
       "tenure              0\n",
       "balance             0\n",
       "num_of_products     0\n",
       "has_cr_card         0\n",
       "is_active_member    0\n",
       "estimated_salary    0\n",
       "exited              0\n",
       "dtype: int64"
      ]
     },
     "execution_count": 22,
     "metadata": {},
     "output_type": "execute_result"
    }
   ],
   "source": [
    "сustomer_churn.isna().sum()"
   ]
  },
  {
   "cell_type": "markdown",
   "metadata": {},
   "source": [
    "### Выводы после загрузки и изучения данных.\n",
    "По предварительному просмотру основной информации данных можно отметить следующее:\n",
    "\n",
    "На основании имеющихсф данных о клиентах нужно спрогнозировать, уйдёт клиент из банка в ближайшее время или нет.\n",
    "\n",
    "Соответственно:\n",
    "\n",
    "* `exited` - это целевой признак\n",
    "* все остальные столбцы - это признаки, которые влияют на результат классификации\n",
    "\n",
    "Спрятанной тестовой выборки нет. Значит, данные нужно разбить на три части: обучающую, валидационную и тестовую. Размеры тестового и валидационного наборов обычно равны. Исходные данные разобъем в соотношении 3:1:1:\n",
    "\n",
    "Обучающая выборка (60%);\n",
    "Валидационная выборка (20%);\n",
    "Тестовая выборка (20%).\n",
    "\n",
    "* OHE применим к столбцам gender и geography; \n",
    "* Масштабирование - к `credit_score`, `balance` и `estimated_salary`, так как мы не хотим, чтобы при обучении какой-то признак с более высоким значением был засчитан как более значимый."
   ]
  },
  {
   "cell_type": "markdown",
   "metadata": {},
   "source": [
    "## Подготовим данные"
   ]
  },
  {
   "cell_type": "markdown",
   "metadata": {},
   "source": [
    "Посмотрев на основную информацию о признаках, можно сказать, что One-Hot Encoding и масштабирование нужно применить точечно.\n",
    "\n",
    "Дополнительно проверим уникальные значения для категориальных признаков, чтобы убедиться в том, что OHE к ним применять имеет смысл."
   ]
  },
  {
   "cell_type": "code",
   "execution_count": 23,
   "metadata": {},
   "outputs": [
    {
     "data": {
      "text/plain": [
       "array(['Female', 'Male'], dtype=object)"
      ]
     },
     "execution_count": 23,
     "metadata": {},
     "output_type": "execute_result"
    }
   ],
   "source": [
    "сustomer_churn.gender.unique()"
   ]
  },
  {
   "cell_type": "code",
   "execution_count": 24,
   "metadata": {},
   "outputs": [
    {
     "data": {
      "text/plain": [
       "array(['France', 'Spain', 'Germany'], dtype=object)"
      ]
     },
     "execution_count": 24,
     "metadata": {},
     "output_type": "execute_result"
    }
   ],
   "source": [
    "сustomer_churn.geography.unique()"
   ]
  },
  {
   "cell_type": "code",
   "execution_count": 25,
   "metadata": {},
   "outputs": [],
   "source": [
    "сustomer_churn = pd.get_dummies(сustomer_churn, drop_first=True, columns=['gender', 'geography'])"
   ]
  },
  {
   "cell_type": "code",
   "execution_count": 26,
   "metadata": {},
   "outputs": [
    {
     "data": {
      "text/html": [
       "<div>\n",
       "<style scoped>\n",
       "    .dataframe tbody tr th:only-of-type {\n",
       "        vertical-align: middle;\n",
       "    }\n",
       "\n",
       "    .dataframe tbody tr th {\n",
       "        vertical-align: top;\n",
       "    }\n",
       "\n",
       "    .dataframe thead th {\n",
       "        text-align: right;\n",
       "    }\n",
       "</style>\n",
       "<table border=\"1\" class=\"dataframe\">\n",
       "  <thead>\n",
       "    <tr style=\"text-align: right;\">\n",
       "      <th></th>\n",
       "      <th>row_number</th>\n",
       "      <th>customer_id</th>\n",
       "      <th>surname</th>\n",
       "      <th>credit_score</th>\n",
       "      <th>age</th>\n",
       "      <th>tenure</th>\n",
       "      <th>balance</th>\n",
       "      <th>num_of_products</th>\n",
       "      <th>has_cr_card</th>\n",
       "      <th>is_active_member</th>\n",
       "      <th>estimated_salary</th>\n",
       "      <th>exited</th>\n",
       "      <th>gender_Male</th>\n",
       "      <th>geography_Germany</th>\n",
       "      <th>geography_Spain</th>\n",
       "    </tr>\n",
       "  </thead>\n",
       "  <tbody>\n",
       "    <tr>\n",
       "      <th>0</th>\n",
       "      <td>1</td>\n",
       "      <td>15634602</td>\n",
       "      <td>Hargrave</td>\n",
       "      <td>619</td>\n",
       "      <td>42</td>\n",
       "      <td>2.0</td>\n",
       "      <td>0.00</td>\n",
       "      <td>1</td>\n",
       "      <td>1</td>\n",
       "      <td>1</td>\n",
       "      <td>101348.88</td>\n",
       "      <td>1</td>\n",
       "      <td>False</td>\n",
       "      <td>False</td>\n",
       "      <td>False</td>\n",
       "    </tr>\n",
       "    <tr>\n",
       "      <th>1</th>\n",
       "      <td>2</td>\n",
       "      <td>15647311</td>\n",
       "      <td>Hill</td>\n",
       "      <td>608</td>\n",
       "      <td>41</td>\n",
       "      <td>1.0</td>\n",
       "      <td>83807.86</td>\n",
       "      <td>1</td>\n",
       "      <td>0</td>\n",
       "      <td>1</td>\n",
       "      <td>112542.58</td>\n",
       "      <td>0</td>\n",
       "      <td>False</td>\n",
       "      <td>False</td>\n",
       "      <td>True</td>\n",
       "    </tr>\n",
       "    <tr>\n",
       "      <th>2</th>\n",
       "      <td>3</td>\n",
       "      <td>15619304</td>\n",
       "      <td>Onio</td>\n",
       "      <td>502</td>\n",
       "      <td>42</td>\n",
       "      <td>8.0</td>\n",
       "      <td>159660.80</td>\n",
       "      <td>3</td>\n",
       "      <td>1</td>\n",
       "      <td>0</td>\n",
       "      <td>113931.57</td>\n",
       "      <td>1</td>\n",
       "      <td>False</td>\n",
       "      <td>False</td>\n",
       "      <td>False</td>\n",
       "    </tr>\n",
       "    <tr>\n",
       "      <th>3</th>\n",
       "      <td>4</td>\n",
       "      <td>15701354</td>\n",
       "      <td>Boni</td>\n",
       "      <td>699</td>\n",
       "      <td>39</td>\n",
       "      <td>1.0</td>\n",
       "      <td>0.00</td>\n",
       "      <td>2</td>\n",
       "      <td>0</td>\n",
       "      <td>0</td>\n",
       "      <td>93826.63</td>\n",
       "      <td>0</td>\n",
       "      <td>False</td>\n",
       "      <td>False</td>\n",
       "      <td>False</td>\n",
       "    </tr>\n",
       "    <tr>\n",
       "      <th>4</th>\n",
       "      <td>5</td>\n",
       "      <td>15737888</td>\n",
       "      <td>Mitchell</td>\n",
       "      <td>850</td>\n",
       "      <td>43</td>\n",
       "      <td>2.0</td>\n",
       "      <td>125510.82</td>\n",
       "      <td>1</td>\n",
       "      <td>1</td>\n",
       "      <td>1</td>\n",
       "      <td>79084.10</td>\n",
       "      <td>0</td>\n",
       "      <td>False</td>\n",
       "      <td>False</td>\n",
       "      <td>True</td>\n",
       "    </tr>\n",
       "  </tbody>\n",
       "</table>\n",
       "</div>"
      ],
      "text/plain": [
       "   row_number  customer_id   surname  credit_score  age  tenure    balance  \\\n",
       "0           1     15634602  Hargrave           619   42     2.0       0.00   \n",
       "1           2     15647311      Hill           608   41     1.0   83807.86   \n",
       "2           3     15619304      Onio           502   42     8.0  159660.80   \n",
       "3           4     15701354      Boni           699   39     1.0       0.00   \n",
       "4           5     15737888  Mitchell           850   43     2.0  125510.82   \n",
       "\n",
       "   num_of_products  has_cr_card  is_active_member  estimated_salary  exited  \\\n",
       "0                1            1                 1         101348.88       1   \n",
       "1                1            0                 1         112542.58       0   \n",
       "2                3            1                 0         113931.57       1   \n",
       "3                2            0                 0          93826.63       0   \n",
       "4                1            1                 1          79084.10       0   \n",
       "\n",
       "   gender_Male  geography_Germany  geography_Spain  \n",
       "0        False              False            False  \n",
       "1        False              False             True  \n",
       "2        False              False            False  \n",
       "3        False              False            False  \n",
       "4        False              False             True  "
      ]
     },
     "execution_count": 26,
     "metadata": {},
     "output_type": "execute_result"
    }
   ],
   "source": [
    "сustomer_churn.head()"
   ]
  },
  {
   "cell_type": "markdown",
   "metadata": {},
   "source": [
    "Проведем масштабирование признаков:"
   ]
  },
  {
   "cell_type": "code",
   "execution_count": 27,
   "metadata": {},
   "outputs": [],
   "source": [
    "cols_to_scale = ['credit_score', 'balance', 'estimated_salary']"
   ]
  },
  {
   "cell_type": "code",
   "execution_count": 28,
   "metadata": {},
   "outputs": [],
   "source": [
    "scaler = StandardScaler()\n",
    "scaler.fit(сustomer_churn[cols_to_scale])\n",
    "\n",
    "сustomer_churn[cols_to_scale] = scaler.transform(сustomer_churn[cols_to_scale])"
   ]
  },
  {
   "cell_type": "markdown",
   "metadata": {},
   "source": [
    "Проверим масштабирование признаков:"
   ]
  },
  {
   "cell_type": "code",
   "execution_count": 29,
   "metadata": {},
   "outputs": [
    {
     "data": {
      "text/html": [
       "<div>\n",
       "<style scoped>\n",
       "    .dataframe tbody tr th:only-of-type {\n",
       "        vertical-align: middle;\n",
       "    }\n",
       "\n",
       "    .dataframe tbody tr th {\n",
       "        vertical-align: top;\n",
       "    }\n",
       "\n",
       "    .dataframe thead th {\n",
       "        text-align: right;\n",
       "    }\n",
       "</style>\n",
       "<table border=\"1\" class=\"dataframe\">\n",
       "  <thead>\n",
       "    <tr style=\"text-align: right;\">\n",
       "      <th></th>\n",
       "      <th>row_number</th>\n",
       "      <th>customer_id</th>\n",
       "      <th>surname</th>\n",
       "      <th>credit_score</th>\n",
       "      <th>age</th>\n",
       "      <th>tenure</th>\n",
       "      <th>balance</th>\n",
       "      <th>num_of_products</th>\n",
       "      <th>has_cr_card</th>\n",
       "      <th>is_active_member</th>\n",
       "      <th>estimated_salary</th>\n",
       "      <th>exited</th>\n",
       "      <th>gender_Male</th>\n",
       "      <th>geography_Germany</th>\n",
       "      <th>geography_Spain</th>\n",
       "    </tr>\n",
       "  </thead>\n",
       "  <tbody>\n",
       "    <tr>\n",
       "      <th>0</th>\n",
       "      <td>1</td>\n",
       "      <td>15634602</td>\n",
       "      <td>Hargrave</td>\n",
       "      <td>-0.326221</td>\n",
       "      <td>42</td>\n",
       "      <td>2.0</td>\n",
       "      <td>-1.225848</td>\n",
       "      <td>1</td>\n",
       "      <td>1</td>\n",
       "      <td>1</td>\n",
       "      <td>0.021886</td>\n",
       "      <td>1</td>\n",
       "      <td>False</td>\n",
       "      <td>False</td>\n",
       "      <td>False</td>\n",
       "    </tr>\n",
       "    <tr>\n",
       "      <th>1</th>\n",
       "      <td>2</td>\n",
       "      <td>15647311</td>\n",
       "      <td>Hill</td>\n",
       "      <td>-0.440036</td>\n",
       "      <td>41</td>\n",
       "      <td>1.0</td>\n",
       "      <td>0.117350</td>\n",
       "      <td>1</td>\n",
       "      <td>0</td>\n",
       "      <td>1</td>\n",
       "      <td>0.216534</td>\n",
       "      <td>0</td>\n",
       "      <td>False</td>\n",
       "      <td>False</td>\n",
       "      <td>True</td>\n",
       "    </tr>\n",
       "    <tr>\n",
       "      <th>2</th>\n",
       "      <td>3</td>\n",
       "      <td>15619304</td>\n",
       "      <td>Onio</td>\n",
       "      <td>-1.536794</td>\n",
       "      <td>42</td>\n",
       "      <td>8.0</td>\n",
       "      <td>1.333053</td>\n",
       "      <td>3</td>\n",
       "      <td>1</td>\n",
       "      <td>0</td>\n",
       "      <td>0.240687</td>\n",
       "      <td>1</td>\n",
       "      <td>False</td>\n",
       "      <td>False</td>\n",
       "      <td>False</td>\n",
       "    </tr>\n",
       "    <tr>\n",
       "      <th>3</th>\n",
       "      <td>4</td>\n",
       "      <td>15701354</td>\n",
       "      <td>Boni</td>\n",
       "      <td>0.501521</td>\n",
       "      <td>39</td>\n",
       "      <td>1.0</td>\n",
       "      <td>-1.225848</td>\n",
       "      <td>2</td>\n",
       "      <td>0</td>\n",
       "      <td>0</td>\n",
       "      <td>-0.108918</td>\n",
       "      <td>0</td>\n",
       "      <td>False</td>\n",
       "      <td>False</td>\n",
       "      <td>False</td>\n",
       "    </tr>\n",
       "    <tr>\n",
       "      <th>4</th>\n",
       "      <td>5</td>\n",
       "      <td>15737888</td>\n",
       "      <td>Mitchell</td>\n",
       "      <td>2.063884</td>\n",
       "      <td>43</td>\n",
       "      <td>2.0</td>\n",
       "      <td>0.785728</td>\n",
       "      <td>1</td>\n",
       "      <td>1</td>\n",
       "      <td>1</td>\n",
       "      <td>-0.365276</td>\n",
       "      <td>0</td>\n",
       "      <td>False</td>\n",
       "      <td>False</td>\n",
       "      <td>True</td>\n",
       "    </tr>\n",
       "  </tbody>\n",
       "</table>\n",
       "</div>"
      ],
      "text/plain": [
       "   row_number  customer_id   surname  credit_score  age  tenure   balance  \\\n",
       "0           1     15634602  Hargrave     -0.326221   42     2.0 -1.225848   \n",
       "1           2     15647311      Hill     -0.440036   41     1.0  0.117350   \n",
       "2           3     15619304      Onio     -1.536794   42     8.0  1.333053   \n",
       "3           4     15701354      Boni      0.501521   39     1.0 -1.225848   \n",
       "4           5     15737888  Mitchell      2.063884   43     2.0  0.785728   \n",
       "\n",
       "   num_of_products  has_cr_card  is_active_member  estimated_salary  exited  \\\n",
       "0                1            1                 1          0.021886       1   \n",
       "1                1            0                 1          0.216534       0   \n",
       "2                3            1                 0          0.240687       1   \n",
       "3                2            0                 0         -0.108918       0   \n",
       "4                1            1                 1         -0.365276       0   \n",
       "\n",
       "   gender_Male  geography_Germany  geography_Spain  \n",
       "0        False              False            False  \n",
       "1        False              False             True  \n",
       "2        False              False            False  \n",
       "3        False              False            False  \n",
       "4        False              False             True  "
      ]
     },
     "execution_count": 29,
     "metadata": {},
     "output_type": "execute_result"
    }
   ],
   "source": [
    "сustomer_churn.head()"
   ]
  },
  {
   "cell_type": "markdown",
   "metadata": {},
   "source": [
    "Дальше разделим датасет на 3 выборки - обучающую, валидационную и тестовую.\n",
    "Кроме того, удалим признаки `row_number`, `customer_id` и `surmane` так как они никак не влияют на качество обучения (а если и влияют, то только в негативном ключе)."
   ]
  },
  {
   "cell_type": "code",
   "execution_count": 35,
   "metadata": {},
   "outputs": [],
   "source": [
    "target = сustomer_churn['exited']\n",
    "features = сustomer_churn.drop(['exited', 'surname', 'customer_id', 'row_number'], axis=1)"
   ]
  },
  {
   "cell_type": "code",
   "execution_count": 36,
   "metadata": {},
   "outputs": [],
   "source": [
    "features_train, features_test, target_train, target_test = train_test_split(features, \n",
    "                                                                            target, \n",
    "                                                                            test_size=0.2, \n",
    "                                                                            random_state=RANDOM_STATE)"
   ]
  },
  {
   "cell_type": "code",
   "execution_count": 38,
   "metadata": {},
   "outputs": [],
   "source": [
    "features_train, features_valid, target_train, target_valid = train_test_split(features_train, \n",
    "                                                                              target_train, \n",
    "                                                                              test_size=0.25, \n",
    "                                                                              random_state=RANDOM_STATE)"
   ]
  },
  {
   "cell_type": "markdown",
   "metadata": {},
   "source": [
    "Проверим размер разбитых выборок:"
   ]
  },
  {
   "cell_type": "code",
   "execution_count": 39,
   "metadata": {},
   "outputs": [],
   "source": [
    "def check_data_split(splited_df, df = сustomer_churn):\n",
    "    split_val = round((splited_df.shape[0] / df.shape[0]) * 100, 2)\n",
    "    return f'Размер данных разбитой выборки от исходных данных составляет: {split_val} %'"
   ]
  },
  {
   "cell_type": "code",
   "execution_count": 40,
   "metadata": {},
   "outputs": [
    {
     "data": {
      "text/plain": [
       "'Размер данных разбитой выборки от исходных данных составляет: 60.0 %'"
      ]
     },
     "execution_count": 40,
     "metadata": {},
     "output_type": "execute_result"
    }
   ],
   "source": [
    "check_data_split(target_train)"
   ]
  },
  {
   "cell_type": "code",
   "execution_count": 41,
   "metadata": {},
   "outputs": [
    {
     "data": {
      "text/plain": [
       "'Размер данных разбитой выборки от исходных данных составляет: 20.0 %'"
      ]
     },
     "execution_count": 41,
     "metadata": {},
     "output_type": "execute_result"
    }
   ],
   "source": [
    "check_data_split(target_valid)"
   ]
  },
  {
   "cell_type": "code",
   "execution_count": 42,
   "metadata": {},
   "outputs": [
    {
     "data": {
      "text/plain": [
       "'Размер данных разбитой выборки от исходных данных составляет: 20.0 %'"
      ]
     },
     "execution_count": 42,
     "metadata": {},
     "output_type": "execute_result"
    }
   ],
   "source": [
    "check_data_split(target_test)"
   ]
  },
  {
   "cell_type": "markdown",
   "metadata": {},
   "source": [
    "Судя по полученным цифрам, данные разделены на 3 выборки в верном соотношении."
   ]
  },
  {
   "cell_type": "markdown",
   "metadata": {},
   "source": [
    "### Вывод после подготовки данных:\n",
    "* Провели масштабирование признаков;\n",
    "\n",
    "* Проверили масштабирование признаков;\n",
    "\n",
    "* Провели разделение исходных данных на обучающую, валидационную и тестовую выборки;\n",
    "\n",
    "* Проверили корректность разделения данных."
   ]
  },
  {
   "cell_type": "markdown",
   "metadata": {},
   "source": [
    "## Исследуем задачу"
   ]
  },
  {
   "cell_type": "markdown",
   "metadata": {},
   "source": [
    "### Проверка на наличие дисбаланса:"
   ]
  },
  {
   "cell_type": "markdown",
   "metadata": {},
   "source": [
    "Чтобы оценить адекватность модели, проверим, как часто в целевом признаке встречается класс «1» или «0»."
   ]
  },
  {
   "cell_type": "code",
   "execution_count": 43,
   "metadata": {},
   "outputs": [],
   "source": [
    "class_frequency = сustomer_churn['exited'].value_counts(normalize=1)"
   ]
  },
  {
   "cell_type": "code",
   "execution_count": 44,
   "metadata": {},
   "outputs": [
    {
     "data": {
      "image/png": "[encoded data removed]",
      "text/plain": [
       "<Figure size 2000x800 with 1 Axes>"
      ]
     },
     "metadata": {},
     "output_type": "display_data"
    }
   ],
   "source": [
    "class_frequency.plot(kind = 'barh', \n",
    "    figsize = (20,8), \n",
    "    edgecolor='black', \n",
    "    legend = False, \n",
    "    fontsize = 20,\n",
    "    linewidth = 2\n",
    "    ).set_title('Распределение баланса классов' + \"\\n\", fontsize = 25);\n",
    "plt.grid()\n",
    "plt.xlabel(\"\\n\" + 'Значение баланса класса', size=25);\n",
    "plt.ylabel('Тип класса' + \"\\n\", size = 25);"
   ]
  },
  {
   "cell_type": "code",
   "execution_count": 45,
   "metadata": {},
   "outputs": [
    {
     "data": {
      "text/plain": [
       "exited\n",
       "0    0.7963\n",
       "1    0.2037\n",
       "Name: proportion, dtype: float64"
      ]
     },
     "execution_count": 45,
     "metadata": {},
     "output_type": "execute_result"
    }
   ],
   "source": [
    "class_frequency"
   ]
  },
  {
   "cell_type": "markdown",
   "metadata": {},
   "source": [
    "Из полученных данных видно, что в целевом признаке наблюдается достаточно сильный дисбаланс классов - только 20% отражают факт ухода клиента."
   ]
  },
  {
   "cell_type": "markdown",
   "metadata": {},
   "source": [
    "Сравним качество предсказаний с константной моделью. За константу примем пример 0, так как это значение встречается почти в 80% случаев."
   ]
  },
  {
   "cell_type": "code",
   "execution_count": 46,
   "metadata": {},
   "outputs": [],
   "source": [
    "target_pred_constant = pd.Series([0]*len(target))"
   ]
  },
  {
   "cell_type": "code",
   "execution_count": 47,
   "metadata": {},
   "outputs": [
    {
     "data": {
      "text/plain": [
       "0.7963"
      ]
     },
     "execution_count": 47,
     "metadata": {},
     "output_type": "execute_result"
    }
   ],
   "source": [
    "accuracy_score(target, target_pred_constant)"
   ]
  },
  {
   "cell_type": "markdown",
   "metadata": {},
   "source": [
    "### Проверим модели без учета дисбаланса"
   ]
  },
  {
   "cell_type": "markdown",
   "metadata": {},
   "source": [
    "Теперь обучим несколько моделей без учета дисбаланса, и посмотрим на ключевые метрики - `Recall`, `Precision` и `F1-score`.\n",
    "Перед этим подберем оптимальные гиперпараметры для моделей на основании метрики `F1-score`."
   ]
  },
  {
   "cell_type": "markdown",
   "metadata": {},
   "source": [
    "#### Дерево решений"
   ]
  },
  {
   "cell_type": "code",
   "execution_count": 48,
   "metadata": {},
   "outputs": [
    {
     "name": "stdout",
     "output_type": "stream",
     "text": [
      "Оптимальная глубина дерева = 7\n",
      "Качество модели -  0.5321375186846039\n"
     ]
    }
   ],
   "source": [
    "best_model = None\n",
    "best_f1 = 0\n",
    "for depth in range(1, 10):\n",
    "    model_tree = DecisionTreeClassifier(random_state=RANDOM_STATE,\n",
    "                                        max_depth=depth)\n",
    "    model_tree.fit(features_train, target_train)\n",
    "    predictions_valid_tree = model_tree.predict(features_valid)\n",
    "    f1_tree = f1_score(target_valid, predictions_valid_tree)\n",
    "    if f1_tree > best_f1:\n",
    "        best_model = model_tree\n",
    "        best_depth = depth\n",
    "        best_f1 = f1_tree\n",
    "\n",
    "print('Оптимальная глубина дерева =', best_depth) \n",
    "print('Качество модели - ', f1_tree)"
   ]
  },
  {
   "cell_type": "code",
   "execution_count": 50,
   "metadata": {},
   "outputs": [],
   "source": [
    "model_tree = DecisionTreeClassifier(random_state=RANDOM_STATE,\n",
    "                                    max_depth=7)\n",
    "model_tree.fit(features_train, target_train)\n",
    "predictions_valid_tree = model_tree.predict(features_valid)"
   ]
  },
  {
   "cell_type": "code",
   "execution_count": 51,
   "metadata": {},
   "outputs": [
    {
     "name": "stdout",
     "output_type": "stream",
     "text": [
      "Accuracy_tree: 0.857\n",
      "Recall_tree: 0.44501278772378516\n",
      "Precision_tree: 0.7160493827160493\n",
      "F1_tree: 0.5488958990536277\n"
     ]
    }
   ],
   "source": [
    "print(\"Accuracy_tree:\", accuracy_score(target_valid, predictions_valid_tree))\n",
    "print(\"Recall_tree:\", recall_score(target_valid, predictions_valid_tree))\n",
    "print(\"Precision_tree:\", precision_score(target_valid, predictions_valid_tree))\n",
    "print(\"F1_tree:\", f1_score(target_valid, predictions_valid_tree))"
   ]
  },
  {
   "cell_type": "markdown",
   "metadata": {},
   "source": [
    "#### Случайный лес"
   ]
  },
  {
   "cell_type": "code",
   "execution_count": 52,
   "metadata": {},
   "outputs": [
    {
     "name": "stdout",
     "output_type": "stream",
     "text": [
      "Оптимальное количество оценок = 60\n",
      "Оптимальная глубина дерева = 9\n",
      "Качество модели -  0.5439469320066335\n"
     ]
    }
   ],
   "source": [
    "best_model = None\n",
    "for est in range(10, 101, 10):\n",
    "    for depth in range(1, 10):\n",
    "        model_forest = RandomForestClassifier(random_state=RANDOM_STATE,\n",
    "                                              n_estimators=est, \n",
    "                                              max_depth=depth)\n",
    "        model_forest.fit(features_train, target_train)\n",
    "        predictions_valid_forest = model_forest.predict(features_valid)\n",
    "        f1_forest = f1_score(target_valid, predictions_valid_forest)\n",
    "        if f1_forest > best_f1:\n",
    "            best_model = model_forest\n",
    "            best_est = est\n",
    "            best_depth = depth\n",
    "\n",
    "print('Оптимальное количество оценок =', best_est)\n",
    "print('Оптимальная глубина дерева =', best_depth)\n",
    "print('Качество модели - ', f1_forest)"
   ]
  },
  {
   "cell_type": "code",
   "execution_count": 53,
   "metadata": {},
   "outputs": [],
   "source": [
    "model_forest = RandomForestClassifier(random_state=RANDOM_STATE, \n",
    "                                      n_estimators=60, \n",
    "                                      max_depth=9)\n",
    "model_forest.fit(features_train, target_train)\n",
    "predictions_valid_forest = model_forest.predict(features_valid)"
   ]
  },
  {
   "cell_type": "code",
   "execution_count": 54,
   "metadata": {},
   "outputs": [
    {
     "name": "stdout",
     "output_type": "stream",
     "text": [
      "Accuracy_forest: 0.8635\n",
      "Recall_forest: 0.4296675191815857\n",
      "Precision_forest: 0.7706422018348624\n",
      "F1_forest: 0.5517241379310345\n"
     ]
    }
   ],
   "source": [
    "print(\"Accuracy_forest:\", accuracy_score(target_valid, predictions_valid_forest))\n",
    "print(\"Recall_forest:\", recall_score(target_valid, predictions_valid_forest))\n",
    "print(\"Precision_forest:\", precision_score(target_valid, predictions_valid_forest))\n",
    "print(\"F1_forest:\", f1_score(target_valid, predictions_valid_forest))"
   ]
  },
  {
   "cell_type": "markdown",
   "metadata": {},
   "source": [
    "#### Логистическая регрессия"
   ]
  },
  {
   "cell_type": "code",
   "execution_count": 55,
   "metadata": {},
   "outputs": [],
   "source": [
    "model_log = LogisticRegression(random_state=RANDOM_STATE,\n",
    "                               solver='liblinear')\n",
    "\n",
    "model_log.fit(features_train, target_train)\n",
    "\n",
    "predictions_valid_log = model_log.predict(features_valid)"
   ]
  },
  {
   "cell_type": "code",
   "execution_count": 56,
   "metadata": {},
   "outputs": [
    {
     "name": "stdout",
     "output_type": "stream",
     "text": [
      "Accuracy_log: 0.815\n",
      "Recall_log: 0.2071611253196931\n",
      "Precision_log: 0.574468085106383\n",
      "F1_log: 0.30451127819548873\n"
     ]
    }
   ],
   "source": [
    "print(\"Accuracy_log:\", accuracy_score(target_valid, predictions_valid_log))\n",
    "print(\"Recall_log:\", recall_score(target_valid, predictions_valid_log))\n",
    "print(\"Precision_log:\", precision_score(target_valid, predictions_valid_log))\n",
    "print(\"F1_log:\", f1_score(target_valid, predictions_valid_log))"
   ]
  },
  {
   "cell_type": "markdown",
   "metadata": {},
   "source": [
    "Далее построим матрицу ошибокчтобы посмотреть на соотношения TP, TN, FP и FN и как выглядит дисбаланс классов для 3 обученных моделей."
   ]
  },
  {
   "cell_type": "code",
   "execution_count": 57,
   "metadata": {},
   "outputs": [
    {
     "data": {
      "image/png": "[encoded data removed]",
      "text/plain": [
       "<Figure size 640x480 with 2 Axes>"
      ]
     },
     "metadata": {},
     "output_type": "display_data"
    }
   ],
   "source": [
    "plot_confusion_matrix(estimator=model_tree, X=features_valid, y_true=target_valid,\n",
    "                      normalize='true');"
   ]
  },
  {
   "cell_type": "code",
   "execution_count": 58,
   "metadata": {},
   "outputs": [
    {
     "data": {
      "image/png": "[encoded data removed]",
      "text/plain": [
       "<Figure size 640x480 with 2 Axes>"
      ]
     },
     "metadata": {},
     "output_type": "display_data"
    }
   ],
   "source": [
    "plot_confusion_matrix(estimator=model_forest, X=features_valid, y_true=target_valid,\n",
    "                      normalize='true');"
   ]
  },
  {
   "cell_type": "code",
   "execution_count": 59,
   "metadata": {},
   "outputs": [
    {
     "data": {
      "image/png": "[encoded data removed]",
      "text/plain": [
       "<Figure size 640x480 with 2 Axes>"
      ]
     },
     "metadata": {},
     "output_type": "display_data"
    }
   ],
   "source": [
    "plot_confusion_matrix(estimator=model_log, X=features_valid, y_true=target_valid,\n",
    "                      normalize='true');"
   ]
  },
  {
   "cell_type": "markdown",
   "metadata": {},
   "source": [
    "### Вывод после исследования задачи:"
   ]
  },
  {
   "cell_type": "markdown",
   "metadata": {},
   "source": [
    "Оценим модели по качеству - F1-score:\n",
    "\n",
    "* Дерево решений:\n",
    "\n",
    "    * Качество модели = `0.56`;\n",
    "\n",
    "* Случайный лес:\n",
    "\n",
    "    * Качество модели = `0.56`;\n",
    "\n",
    "* Логистическая регрессия:\n",
    "\n",
    "    * Качество модели = `0.31`.\n",
    "    \n",
    "Таким образом, обучив модели без учета дисбаланса классов, наилучшее значение метрики F1-score демонстрирует модель Дерево решений, в то время как наибольшее значение метрики accuracy наблюдается у модели Random Forest.\n",
    "\n",
    "Матрицы ошибок наглядно демонстрируют то, что несмотря на то, что значение accuracy достаточно высокое, для всех трех моделей наблюдается остаточно сильный дисбаланс классов.\n",
    "\n",
    "К примеру, для моделей Дерево решений и Случайный лес ситуация схожая - факт того, что клиент не ушел (0), модели определяют правильно примерно в `95`% случаев, в то время как результат предсказаний по факту ухода (1) в среднем всего `45`%."
   ]
  },
  {
   "cell_type": "markdown",
   "metadata": {},
   "source": [
    "## Борьба с дисбалансом"
   ]
  },
  {
   "cell_type": "markdown",
   "metadata": {},
   "source": [
    "Рассмотрим 3 метода борьбы с дисбалансом классов:\n",
    "\n",
    "* Взвешивание классов\n",
    "* Увеличение выборки (upsampling)\n",
    "* Уменьшение выборки (downsampling)"
   ]
  },
  {
   "cell_type": "markdown",
   "metadata": {},
   "source": [
    "### Взвешивание классов\n",
    "\n",
    "#### Дерево решений"
   ]
  },
  {
   "cell_type": "code",
   "execution_count": 60,
   "metadata": {},
   "outputs": [
    {
     "name": "stdout",
     "output_type": "stream",
     "text": [
      "Оптимальная глубина дерева = 6\n",
      "Качество модели -  0.5095669687814702\n"
     ]
    }
   ],
   "source": [
    "best_model = None\n",
    "best_f1 = 0\n",
    "for depth in range(1, 10):\n",
    "    model_tree = DecisionTreeClassifier(random_state=RANDOM_STATE,\n",
    "                                        max_depth=depth,\n",
    "                                        class_weight='balanced')\n",
    "    model_tree.fit(features_train, target_train)\n",
    "    predictions_valid_tree = model_tree.predict(features_valid)\n",
    "    f1_tree = f1_score(target_valid, predictions_valid_tree)\n",
    "    if f1_tree > best_f1:\n",
    "        best_model = model_tree\n",
    "        best_depth = depth\n",
    "        best_f1 = f1_tree\n",
    "\n",
    "print('Оптимальная глубина дерева =', best_depth) \n",
    "print('Качество модели - ', f1_tree)"
   ]
  },
  {
   "cell_type": "code",
   "execution_count": 61,
   "metadata": {},
   "outputs": [],
   "source": [
    "model_tree = DecisionTreeClassifier(random_state=RANDOM_STATE,\n",
    "                                    max_depth=6,\n",
    "                                    class_weight='balanced')\n",
    "model_tree.fit(features_train, target_train)\n",
    "predictions_valid_tree = model_tree.predict(features_valid)"
   ]
  },
  {
   "cell_type": "code",
   "execution_count": 62,
   "metadata": {},
   "outputs": [
    {
     "name": "stdout",
     "output_type": "stream",
     "text": [
      "Recall_tree: 0.7033248081841432\n",
      "Precision_tree: 0.46140939597315433\n",
      "F1_tree: 0.5572441742654509\n",
      "ROC-AUC_tree: 0.8063601639753369\n"
     ]
    }
   ],
   "source": [
    "print(\"Recall_tree:\", recall_score(target_valid, predictions_valid_tree))\n",
    "print(\"Precision_tree:\", precision_score(target_valid, predictions_valid_tree))\n",
    "print(\"F1_tree:\", f1_score(target_valid, predictions_valid_tree))\n",
    "\n",
    "probabilities_valid = model_tree.predict_proba(features_valid)\n",
    "probabilities_one_valid = probabilities_valid[:, 1]\n",
    "print(\"ROC-AUC_tree:\", roc_auc_score(target_valid, probabilities_one_valid))"
   ]
  },
  {
   "cell_type": "markdown",
   "metadata": {},
   "source": [
    "#### Случайный лес"
   ]
  },
  {
   "cell_type": "code",
   "execution_count": 63,
   "metadata": {},
   "outputs": [
    {
     "name": "stdout",
     "output_type": "stream",
     "text": [
      "Оптимальное количество оценок = 100\n",
      "Оптимальная глубина дерева = 9\n"
     ]
    }
   ],
   "source": [
    "best_model = None\n",
    "for est in range(10, 101, 10):\n",
    "    for depth in range(1, 10):\n",
    "        model_forest = RandomForestClassifier(random_state=RANDOM_STATE,\n",
    "                                              n_estimators=est, \n",
    "                                              max_depth=depth,\n",
    "                                              class_weight='balanced')\n",
    "        model_forest.fit(features_train, target_train)\n",
    "        predictions_valid_forest = model_forest.predict(features_valid)\n",
    "        f1_forest = f1_score(target_valid, predictions_valid_forest)\n",
    "        if f1_forest > best_f1:\n",
    "            best_model = model_forest\n",
    "            best_est = est\n",
    "            best_depth = depth\n",
    "\n",
    "print('Оптимальное количество оценок =', best_est)\n",
    "print('Оптимальная глубина дерева =', best_depth)"
   ]
  },
  {
   "cell_type": "code",
   "execution_count": 64,
   "metadata": {},
   "outputs": [],
   "source": [
    "model_forest = RandomForestClassifier(random_state=RANDOM_STATE, \n",
    "                                      n_estimators=100, \n",
    "                                      max_depth=9,\n",
    "                                      class_weight='balanced')\n",
    "model_forest.fit(features_train, target_train)\n",
    "predictions_valid_forest = model_forest.predict(features_valid)"
   ]
  },
  {
   "cell_type": "code",
   "execution_count": 65,
   "metadata": {},
   "outputs": [
    {
     "name": "stdout",
     "output_type": "stream",
     "text": [
      "Recall_forest: 0.618925831202046\n",
      "Precision_forest: 0.5601851851851852\n",
      "F1_forest: 0.5880923450789793\n",
      "ROC-AUC_forest: 0.8550512701094706\n"
     ]
    }
   ],
   "source": [
    "print(\"Recall_forest:\", recall_score(target_valid, predictions_valid_forest))\n",
    "print(\"Precision_forest:\", precision_score(target_valid, predictions_valid_forest))\n",
    "print(\"F1_forest:\", f1_score(target_valid, predictions_valid_forest))\n",
    "\n",
    "probabilities_valid = model_forest.predict_proba(features_valid)\n",
    "probabilities_one_valid = probabilities_valid[:, 1]\n",
    "print(\"ROC-AUC_forest:\", roc_auc_score(target_valid, probabilities_one_valid))"
   ]
  },
  {
   "cell_type": "markdown",
   "metadata": {},
   "source": [
    "### Логистическая регрессия"
   ]
  },
  {
   "cell_type": "code",
   "execution_count": 66,
   "metadata": {},
   "outputs": [],
   "source": [
    "model_log = LogisticRegression(random_state=RANDOM_STATE,\n",
    "                               solver='liblinear',\n",
    "                               class_weight='balanced')\n",
    "\n",
    "model_log.fit(features_train, target_train)\n",
    "predictions_valid_log = model_log.predict(features_valid)"
   ]
  },
  {
   "cell_type": "code",
   "execution_count": 67,
   "metadata": {},
   "outputs": [
    {
     "name": "stdout",
     "output_type": "stream",
     "text": [
      "Recall_log: 0.6879795396419437\n",
      "Precision_log: 0.3695054945054945\n",
      "F1_log: 0.48078641644325293\n",
      "ROC-AUC_log: 0.7729062387243113\n"
     ]
    }
   ],
   "source": [
    "print(\"Recall_log:\", recall_score(target_valid, predictions_valid_log))\n",
    "print(\"Precision_log:\", precision_score(target_valid, predictions_valid_log))\n",
    "print(\"F1_log:\", f1_score(target_valid, predictions_valid_log))\n",
    "\n",
    "probabilities_valid = model_log.predict_proba(features_valid)\n",
    "probabilities_one_valid = probabilities_valid[:, 1]\n",
    "print(\"ROC-AUC_log:\", roc_auc_score(target_valid, probabilities_one_valid))"
   ]
  },
  {
   "cell_type": "markdown",
   "metadata": {},
   "source": [
    "### Увеличение выборки"
   ]
  },
  {
   "cell_type": "code",
   "execution_count": 68,
   "metadata": {},
   "outputs": [
    {
     "name": "stdout",
     "output_type": "stream",
     "text": [
      "(9657, 11)\n",
      "(9657,)\n"
     ]
    }
   ],
   "source": [
    "def upsample(features, target, repeat):\n",
    "    features_zeros = features[target == 0]\n",
    "    features_ones = features[target == 1]\n",
    "    target_zeros = target[target == 0]\n",
    "    target_ones = target[target == 1]\n",
    "    \n",
    "    features_upsampled = pd.concat([features_zeros] + [features_ones] * repeat)\n",
    "    target_upsampled = pd.concat([target_zeros] + [target_ones] * repeat)\n",
    "    \n",
    "    features_upsampled = shuffle(features_upsampled, random_state=RANDOM_STATE)\n",
    "    target_upsampled = shuffle(target_upsampled, random_state=RANDOM_STATE)\n",
    "    return features_upsampled, target_upsampled\n",
    "\n",
    "features_upsampled, target_upsampled = upsample(features_train, target_train, 4)\n",
    "\n",
    "print(features_upsampled.shape)\n",
    "print(target_upsampled.shape)"
   ]
  },
  {
   "cell_type": "markdown",
   "metadata": {},
   "source": [
    "#### Дерево решений"
   ]
  },
  {
   "cell_type": "code",
   "execution_count": 69,
   "metadata": {},
   "outputs": [
    {
     "name": "stdout",
     "output_type": "stream",
     "text": [
      "Оптимальная глубина дерева = 6\n",
      "Качество модели -  0.5060483870967742\n"
     ]
    }
   ],
   "source": [
    "best_model = None\n",
    "best_f1 = 0\n",
    "for depth in range(1, 10):\n",
    "    model_tree = DecisionTreeClassifier(random_state=RANDOM_STATE,\n",
    "                                        max_depth=depth)\n",
    "    model_tree.fit(features_upsampled, target_upsampled)\n",
    "    predictions_valid_tree = model_tree.predict(features_valid)\n",
    "    f1_tree = f1_score(target_valid, predictions_valid_tree)\n",
    "    if f1_tree > best_f1:\n",
    "        best_model = model_tree\n",
    "        best_depth = depth\n",
    "        best_f1 = f1_tree\n",
    "\n",
    "print('Оптимальная глубина дерева =', best_depth) \n",
    "print('Качество модели - ', f1_tree)"
   ]
  },
  {
   "cell_type": "code",
   "execution_count": 70,
   "metadata": {},
   "outputs": [],
   "source": [
    "model_tree = DecisionTreeClassifier(random_state=RANDOM_STATE,\n",
    "                                    max_depth=7)\n",
    "model_tree.fit(features_upsampled, target_upsampled)\n",
    "predictions_valid_tree = model_tree.predict(features_valid)"
   ]
  },
  {
   "cell_type": "code",
   "execution_count": 71,
   "metadata": {},
   "outputs": [
    {
     "name": "stdout",
     "output_type": "stream",
     "text": [
      "Recall_tree: 0.6956521739130435\n",
      "Precision_tree: 0.45714285714285713\n",
      "F1_tree: 0.5517241379310345\n",
      "ROC-AUC_tree: 0.7980111870727161\n"
     ]
    }
   ],
   "source": [
    "print(\"Recall_tree:\", recall_score(target_valid, predictions_valid_tree))\n",
    "print(\"Precision_tree:\", precision_score(target_valid, predictions_valid_tree))\n",
    "print(\"F1_tree:\", f1_score(target_valid, predictions_valid_tree))\n",
    "\n",
    "probabilities_valid = model_tree.predict_proba(features_valid)\n",
    "probabilities_one_valid = probabilities_valid[:, 1]\n",
    "print(\"ROC-AUC_tree:\", roc_auc_score(target_valid, probabilities_one_valid))"
   ]
  },
  {
   "cell_type": "markdown",
   "metadata": {},
   "source": [
    "#### Случайный лес"
   ]
  },
  {
   "cell_type": "code",
   "execution_count": 72,
   "metadata": {},
   "outputs": [
    {
     "name": "stdout",
     "output_type": "stream",
     "text": [
      "Оптимальное количество оценок = 100\n",
      "Оптимальная глубина дерева = 9\n"
     ]
    }
   ],
   "source": [
    "best_model = None\n",
    "for est in range(10, 101, 10):\n",
    "    for depth in range(1, 10):\n",
    "        model_forest = RandomForestClassifier(random_state=RANDOM_STATE,\n",
    "                                              n_estimators=est, \n",
    "                                              max_depth=depth)\n",
    "        model_forest.fit(features_upsampled, target_upsampled)\n",
    "        predictions_valid_forest = model_forest.predict(features_valid)\n",
    "        f1_forest = f1_score(target_valid, predictions_valid_forest)\n",
    "        if f1_forest > best_f1:\n",
    "            best_model = model_forest\n",
    "            best_est = est\n",
    "            best_depth = depth\n",
    "\n",
    "print('Оптимальное количество оценок =', best_est)\n",
    "print('Оптимальная глубина дерева =', best_depth)"
   ]
  },
  {
   "cell_type": "code",
   "execution_count": 73,
   "metadata": {},
   "outputs": [],
   "source": [
    "model_forest = RandomForestClassifier(random_state=RANDOM_STATE, \n",
    "                                      n_estimators=10, \n",
    "                                      max_depth=9)\n",
    "model_forest.fit(features_upsampled, target_upsampled)\n",
    "predictions_valid_forest = model_forest.predict(features_valid)"
   ]
  },
  {
   "cell_type": "code",
   "execution_count": 74,
   "metadata": {},
   "outputs": [
    {
     "name": "stdout",
     "output_type": "stream",
     "text": [
      "Recall_forest: 0.6649616368286445\n",
      "Precision_forest: 0.4914933837429111\n",
      "F1_forest: 0.5652173913043478\n",
      "ROC-AUC_forest: 0.842788884137977\n"
     ]
    }
   ],
   "source": [
    "print(\"Recall_forest:\", recall_score(target_valid, predictions_valid_forest))\n",
    "print(\"Precision_forest:\", precision_score(target_valid, predictions_valid_forest))\n",
    "print(\"F1_forest:\", f1_score(target_valid, predictions_valid_forest))\n",
    "\n",
    "probabilities_valid = model_forest.predict_proba(features_valid)\n",
    "probabilities_one_valid = probabilities_valid[:, 1]\n",
    "print(\"ROC-AUC_forest:\", roc_auc_score(target_valid, probabilities_one_valid))"
   ]
  },
  {
   "cell_type": "markdown",
   "metadata": {},
   "source": [
    "#### Логистическая регрессия"
   ]
  },
  {
   "cell_type": "code",
   "execution_count": 75,
   "metadata": {},
   "outputs": [],
   "source": [
    "model_log = LogisticRegression(random_state=RANDOM_STATE,\n",
    "                               solver='liblinear')\n",
    "model_log.fit(features_upsampled, target_upsampled)\n",
    "predictions_valid_log = model_log.predict(features_valid)"
   ]
  },
  {
   "cell_type": "code",
   "execution_count": 76,
   "metadata": {},
   "outputs": [
    {
     "name": "stdout",
     "output_type": "stream",
     "text": [
      "Recall_log: 0.6930946291560103\n",
      "Precision_log: 0.363758389261745\n",
      "F1_log: 0.4771126760563381\n",
      "ROC-AUC_log: 0.7730063787614108\n"
     ]
    }
   ],
   "source": [
    "print(\"Recall_log:\", recall_score(target_valid, predictions_valid_log))\n",
    "print(\"Precision_log:\", precision_score(target_valid, predictions_valid_log))\n",
    "print(\"F1_log:\", f1_score(target_valid, predictions_valid_log))\n",
    "\n",
    "probabilities_valid = model_log.predict_proba(features_valid)\n",
    "probabilities_one_valid = probabilities_valid[:, 1]\n",
    "print(\"ROC-AUC_log:\", roc_auc_score(target_valid, probabilities_one_valid))"
   ]
  },
  {
   "cell_type": "markdown",
   "metadata": {},
   "source": [
    "### Уменьшение выборки"
   ]
  },
  {
   "cell_type": "code",
   "execution_count": 77,
   "metadata": {},
   "outputs": [
    {
     "name": "stdout",
     "output_type": "stream",
     "text": [
      "(2414, 11)\n",
      "(2414,)\n"
     ]
    }
   ],
   "source": [
    "def downsample(features, target, fraction):\n",
    "    features_zeros = features[target == 0]\n",
    "    features_ones = features[target == 1]\n",
    "    target_zeros = target[target == 0]\n",
    "    target_ones = target[target == 1]\n",
    "\n",
    "    features_downsampled = pd.concat([features_zeros.sample(frac=fraction, random_state=RANDOM_STATE)] +\n",
    "                                     [features_ones])\n",
    "    target_downsampled = pd.concat([target_zeros.sample(frac=fraction, random_state=RANDOM_STATE)] +\n",
    "                                   [target_ones])\n",
    "    \n",
    "    features_downsampled = shuffle(features_downsampled, random_state=RANDOM_STATE)\n",
    "    target_downsampled = shuffle(target_downsampled, random_state=RANDOM_STATE)\n",
    "\n",
    "    return features_downsampled, target_downsampled\n",
    "\n",
    "features_downsampled, target_downsampled = downsample(features_train, target_train, 0.25)\n",
    "\n",
    "print(features_downsampled.shape)\n",
    "print(target_downsampled.shape)"
   ]
  },
  {
   "cell_type": "markdown",
   "metadata": {},
   "source": [
    "#### Дерево решений"
   ]
  },
  {
   "cell_type": "code",
   "execution_count": 78,
   "metadata": {},
   "outputs": [
    {
     "name": "stdout",
     "output_type": "stream",
     "text": [
      "Оптимальная глубина дерева = 7\n",
      "Качество модели -  0.5014031805425632\n"
     ]
    }
   ],
   "source": [
    "best_model = None\n",
    "best_f1 = 0\n",
    "for depth in range(1, 10):\n",
    "    model_tree = DecisionTreeClassifier(random_state=RANDOM_STATE,\n",
    "                                        max_depth=depth)\n",
    "    model_tree.fit(features_downsampled, target_downsampled)\n",
    "    predictions_valid_tree = model_tree.predict(features_valid)\n",
    "    f1_tree = f1_score(target_valid, predictions_valid_tree)\n",
    "    if f1_tree > best_f1:\n",
    "        best_model = model_tree\n",
    "        best_depth = depth\n",
    "        best_f1 = f1_tree\n",
    "\n",
    "print('Оптимальная глубина дерева =', best_depth) \n",
    "print('Качество модели - ', f1_tree)"
   ]
  },
  {
   "cell_type": "code",
   "execution_count": 79,
   "metadata": {},
   "outputs": [],
   "source": [
    "model_tree = DecisionTreeClassifier(random_state=RANDOM_STATE,\n",
    "                                    max_depth=7)\n",
    "model_tree.fit(features_downsampled, target_downsampled)\n",
    "predictions_valid_tree = model_tree.predict(features_valid)"
   ]
  },
  {
   "cell_type": "code",
   "execution_count": 80,
   "metadata": {},
   "outputs": [
    {
     "name": "stdout",
     "output_type": "stream",
     "text": [
      "Recall_tree: 0.7519181585677749\n",
      "Precision_tree: 0.4298245614035088\n",
      "F1_tree: 0.5469767441860465\n",
      "ROC-AUC_tree: 0.8160244723176378\n"
     ]
    }
   ],
   "source": [
    "print(\"Recall_tree:\", recall_score(target_valid, predictions_valid_tree))\n",
    "print(\"Precision_tree:\", precision_score(target_valid, predictions_valid_tree))\n",
    "print(\"F1_tree:\", f1_score(target_valid, predictions_valid_tree))\n",
    "\n",
    "probabilities_valid = model_tree.predict_proba(features_valid)\n",
    "probabilities_one_valid = probabilities_valid[:, 1]\n",
    "print(\"ROC-AUC_tree:\", roc_auc_score(target_valid, probabilities_one_valid))"
   ]
  },
  {
   "cell_type": "markdown",
   "metadata": {},
   "source": [
    "#### Случайный лес"
   ]
  },
  {
   "cell_type": "code",
   "execution_count": 81,
   "metadata": {},
   "outputs": [
    {
     "name": "stdout",
     "output_type": "stream",
     "text": [
      "Оптимальное количество оценок = 100\n",
      "Оптимальная глубина дерева = 9\n"
     ]
    }
   ],
   "source": [
    "best_model = None\n",
    "for est in range(10, 101, 10):\n",
    "    for depth in range(1, 10):\n",
    "        model_forest = RandomForestClassifier(random_state=RANDOM_STATE,\n",
    "                                              n_estimators=est, \n",
    "                                              max_depth=depth)\n",
    "        model_forest.fit(features_downsampled, target_downsampled)\n",
    "        predictions_valid_forest = model_forest.predict(features_valid)\n",
    "        f1_forest = f1_score(target_valid, predictions_valid_forest)\n",
    "        if f1_forest > best_f1:\n",
    "            best_model = model_forest\n",
    "            best_est = est\n",
    "            best_depth = depth\n",
    "\n",
    "print('Оптимальное количество оценок =', best_est)\n",
    "print('Оптимальная глубина дерева =', best_depth)"
   ]
  },
  {
   "cell_type": "code",
   "execution_count": 82,
   "metadata": {},
   "outputs": [],
   "source": [
    "model_forest = RandomForestClassifier(random_state=RANDOM_STATE, \n",
    "                                      n_estimators=10, \n",
    "                                      max_depth=9)\n",
    "model_forest.fit(features_downsampled, target_downsampled)\n",
    "predictions_valid_forest = model_forest.predict(features_valid)"
   ]
  },
  {
   "cell_type": "code",
   "execution_count": 83,
   "metadata": {},
   "outputs": [
    {
     "name": "stdout",
     "output_type": "stream",
     "text": [
      "Recall_forest: 0.7289002557544757\n",
      "Precision_forest: 0.45893719806763283\n",
      "F1_forest: 0.5632411067193676\n",
      "ROC-AUC_forest: 0.8370395743889472\n"
     ]
    }
   ],
   "source": [
    "print(\"Recall_forest:\", recall_score(target_valid, predictions_valid_forest))\n",
    "print(\"Precision_forest:\", precision_score(target_valid, predictions_valid_forest))\n",
    "print(\"F1_forest:\", f1_score(target_valid, predictions_valid_forest))\n",
    "\n",
    "probabilities_valid = model_forest.predict_proba(features_valid)\n",
    "probabilities_one_valid = probabilities_valid[:, 1]\n",
    "print(\"ROC-AUC_forest:\", roc_auc_score(target_valid, probabilities_one_valid))"
   ]
  },
  {
   "cell_type": "markdown",
   "metadata": {},
   "source": [
    "#### Логистическая регрессия"
   ]
  },
  {
   "cell_type": "code",
   "execution_count": 84,
   "metadata": {},
   "outputs": [],
   "source": [
    "model_log = LogisticRegression(random_state=RANDOM_STATE,\n",
    "                               solver='liblinear')\n",
    "\n",
    "model_log.fit(features_downsampled, target_downsampled)\n",
    "predictions_valid_log = model_log.predict(features_valid)"
   ]
  },
  {
   "cell_type": "code",
   "execution_count": 85,
   "metadata": {},
   "outputs": [
    {
     "name": "stdout",
     "output_type": "stream",
     "text": [
      "Recall_log: 0.6982097186700768\n",
      "Precision_log: 0.3620689655172414\n",
      "F1_log: 0.47685589519650656\n",
      "ROC-AUC_log: 0.7738202152533942\n"
     ]
    }
   ],
   "source": [
    "print(\"Recall_log:\", recall_score(target_valid, predictions_valid_log))\n",
    "print(\"Precision_log:\", precision_score(target_valid, predictions_valid_log))\n",
    "print(\"F1_log:\", f1_score(target_valid, predictions_valid_log))\n",
    "\n",
    "probabilities_valid = model_log.predict_proba(features_valid)\n",
    "probabilities_one_valid = probabilities_valid[:, 1]\n",
    "print(\"ROC-AUC_log:\", roc_auc_score(target_valid, probabilities_one_valid))"
   ]
  },
  {
   "cell_type": "markdown",
   "metadata": {},
   "source": [
    "### Выводы после борьбы с дисбалансом:"
   ]
  },
  {
   "cell_type": "code",
   "execution_count": 90,
   "metadata": {},
   "outputs": [],
   "source": [
    "model_name = ['Tree', 'Forest', 'Log']\n",
    "initial_values = [0.548, 0.551, 0.304]\n",
    "weighting_values = [0.557, 0.588, 0.481]\n",
    "down_values = [0.551, 0.565, 0.477]\n",
    "up_values = [0.546, 0.563, 0.476]\n",
    "\n",
    "df_metrics = pd.DataFrame({'Model Name': model_name,\n",
    "                           'Initial': initial_values,\n",
    "                           'Weighing': weighting_values,\n",
    "                           'Downsampling': down_values,\n",
    "                           'Upsampling': up_values })"
   ]
  },
  {
   "cell_type": "code",
   "execution_count": 91,
   "metadata": {},
   "outputs": [
    {
     "data": {
      "text/html": [
       "<div>\n",
       "<style scoped>\n",
       "    .dataframe tbody tr th:only-of-type {\n",
       "        vertical-align: middle;\n",
       "    }\n",
       "\n",
       "    .dataframe tbody tr th {\n",
       "        vertical-align: top;\n",
       "    }\n",
       "\n",
       "    .dataframe thead th {\n",
       "        text-align: right;\n",
       "    }\n",
       "</style>\n",
       "<table border=\"1\" class=\"dataframe\">\n",
       "  <thead>\n",
       "    <tr style=\"text-align: right;\">\n",
       "      <th></th>\n",
       "      <th>Model Name</th>\n",
       "      <th>Initial</th>\n",
       "      <th>Weighing</th>\n",
       "      <th>Downsampling</th>\n",
       "      <th>Upsampling</th>\n",
       "    </tr>\n",
       "  </thead>\n",
       "  <tbody>\n",
       "    <tr>\n",
       "      <th>0</th>\n",
       "      <td>Tree</td>\n",
       "      <td>0.548</td>\n",
       "      <td>0.557</td>\n",
       "      <td>0.551</td>\n",
       "      <td>0.546</td>\n",
       "    </tr>\n",
       "    <tr>\n",
       "      <th>1</th>\n",
       "      <td>Forest</td>\n",
       "      <td>0.551</td>\n",
       "      <td>0.588</td>\n",
       "      <td>0.565</td>\n",
       "      <td>0.563</td>\n",
       "    </tr>\n",
       "    <tr>\n",
       "      <th>2</th>\n",
       "      <td>Log</td>\n",
       "      <td>0.304</td>\n",
       "      <td>0.481</td>\n",
       "      <td>0.477</td>\n",
       "      <td>0.476</td>\n",
       "    </tr>\n",
       "  </tbody>\n",
       "</table>\n",
       "</div>"
      ],
      "text/plain": [
       "  Model Name  Initial  Weighing  Downsampling  Upsampling\n",
       "0       Tree    0.548     0.557         0.551       0.546\n",
       "1     Forest    0.551     0.588         0.565       0.563\n",
       "2        Log    0.304     0.481         0.477       0.476"
      ]
     },
     "execution_count": 91,
     "metadata": {},
     "output_type": "execute_result"
    }
   ],
   "source": [
    "df_metrics"
   ]
  },
  {
   "cell_type": "markdown",
   "metadata": {},
   "source": [
    "* Уменьшение и увеличение выборки позволяют достичь примерно одинаковое значение F1-score.\n",
    "* Наибольшее значение метрики F1-score получено на модели Случайный лес при помощи взвешивания классов. Поэтому для тестирования будем использовать эту модель.\n",
    "* Значение метрики AUC-ROC всегда стабильно выше F1-score и колеблется в районе 80%."
   ]
  },
  {
   "cell_type": "markdown",
   "metadata": {},
   "source": [
    "## Тестирование модели"
   ]
  },
  {
   "cell_type": "markdown",
   "metadata": {},
   "source": [
    "Перед тестированием объединим валидационную и тестовую выборки, чтобы качество было выше."
   ]
  },
  {
   "cell_type": "code",
   "execution_count": 92,
   "metadata": {},
   "outputs": [],
   "source": [
    "new_features_test = pd.concat([features_test, features_valid], axis=0, ignore_index=True)\n",
    "new_target_test = pd.concat([target_test, target_valid], axis=0, ignore_index=True)"
   ]
  },
  {
   "cell_type": "code",
   "execution_count": 93,
   "metadata": {},
   "outputs": [
    {
     "data": {
      "text/plain": [
       "'Размер данных разбитой выборки от исходных данных составляет: 40.0 %'"
      ]
     },
     "execution_count": 93,
     "metadata": {},
     "output_type": "execute_result"
    }
   ],
   "source": [
    "check_data_split(new_target_test)"
   ]
  },
  {
   "cell_type": "code",
   "execution_count": 94,
   "metadata": {},
   "outputs": [
    {
     "name": "stdout",
     "output_type": "stream",
     "text": [
      "Оптимальное количество оценок = 100\n",
      "Оптимальная глубина дерева = 9\n"
     ]
    }
   ],
   "source": [
    "best_model = None\n",
    "for est in range(10, 101, 10):\n",
    "    for depth in range(1, 10):\n",
    "        model_forest = RandomForestClassifier(random_state=RANDOM_STATE,\n",
    "                                              n_estimators=est, \n",
    "                                              max_depth=depth,\n",
    "                                              class_weight='balanced')\n",
    "        model_forest.fit(features_train, target_train)\n",
    "        predictions_valid_forest = model_forest.predict(features_valid)\n",
    "        f1_forest = f1_score(target_valid, predictions_valid_forest)\n",
    "        if f1_forest > best_f1:\n",
    "            best_model = model_forest\n",
    "            best_est = est\n",
    "            best_depth = depth\n",
    "\n",
    "print('Оптимальное количество оценок =', best_est)\n",
    "print('Оптимальная глубина дерева =', best_depth)"
   ]
  },
  {
   "cell_type": "code",
   "execution_count": 95,
   "metadata": {},
   "outputs": [],
   "source": [
    "model_forest = RandomForestClassifier(random_state=RANDOM_STATE, \n",
    "                                      n_estimators=100, \n",
    "                                      max_depth=9,\n",
    "                                      class_weight='balanced')\n",
    "model_forest.fit(features_train, target_train)\n",
    "predictions_test_forest = model_forest.predict(new_features_test)"
   ]
  },
  {
   "cell_type": "code",
   "execution_count": 96,
   "metadata": {},
   "outputs": [
    {
     "name": "stdout",
     "output_type": "stream",
     "text": [
      "Recall_forest: 0.636919315403423\n",
      "Precision_forest: 0.5900339750849377\n",
      "F1_tree: 0.612580834803057\n",
      "ROC-AUC_forest: 0.8611751001584401\n"
     ]
    }
   ],
   "source": [
    "print(\"Recall_forest:\", recall_score(new_target_test, predictions_test_forest))\n",
    "print(\"Precision_forest:\", precision_score(new_target_test, predictions_test_forest))\n",
    "print(\"F1_tree:\", f1_score(new_target_test, predictions_test_forest))\n",
    "\n",
    "probabilities_test = model_forest.predict_proba(new_features_test)\n",
    "probabilities_one_test = probabilities_test[:, 1]\n",
    "print(\"ROC-AUC_forest:\", roc_auc_score(new_target_test, probabilities_one_test))"
   ]
  },
  {
   "cell_type": "code",
   "execution_count": 97,
   "metadata": {},
   "outputs": [
    {
     "data": {
      "image/png": "[encoded data removed]",
      "text/plain": [
       "<Figure size 640x480 with 1 Axes>"
      ]
     },
     "metadata": {},
     "output_type": "display_data"
    }
   ],
   "source": [
    "fpr, tpr, thresholds = roc_curve(new_target_test, probabilities_one_test) \n",
    "\n",
    "plt.figure()\n",
    "plt.plot(fpr, tpr, linestyle='solid')\n",
    "plt.plot([0, 1], [0, 1], linestyle='--')\n",
    "plt.xlim([0.0, 1.0])\n",
    "plt.ylim([0.0, 1.0])\n",
    "plt.xlabel('False Positive Rate')\n",
    "plt.ylabel('True Positive Rate')\n",
    "plt.title('ROC-кривая')\n",
    "plt.show()"
   ]
  },
  {
   "cell_type": "markdown",
   "metadata": {},
   "source": [
    "## Общий вывод:"
   ]
  },
  {
   "cell_type": "markdown",
   "metadata": {},
   "source": [
    "Была проведена предварительная подготовка датасета, а именно:\n",
    "\n",
    "* Заполнены пропуски в данных;\n",
    "* Удалены два категориальных столбца `сustomer_id` и `surname` + `row_number`, так как они никак не влияют на качество обучения (а если и влияют, то только в негативном ключе);\n",
    "* Дополнительно проведена проверка на наличие сильной мультиколлинеарность (подтвердилось ее отстутствие);\n",
    "* Два категориальных признака (`gender`, `geography`) были преобразованы в бинарные при помощи техники One-Hot Ecnoding\n",
    "* К трем количественным признакам (`credit_score`, `balance` и `estimated_salary`) было применено масштабирование, чтобы при обучении не получилось так, что какой-то признак с более высоким значением был засчитан как более значимый.\n",
    "\n",
    "Проверка датасета на наличие дисбаланса показала, что в целевом признаке наблюдается достаточно сильный дисбаланс классов - только 20% отражают факт ухода клиента:\n",
    "\n"
   ]
  },
  {
   "attachments": {
    "image.png": {
     "image/png": "[encoded data removed]"
    }
   },
   "cell_type": "markdown",
   "metadata": {},
   "source": [
    "![image.png](attachment:image.png)"
   ]
  },
  {
   "cell_type": "markdown",
   "metadata": {},
   "source": [
    "С помощью матриц ошибок можно явно увидеть, что несмотря на достаточно высокое значение accuracy, для всех трех моделей наблюдается остаточно сильный дисбаланс классов. К примеру, для моделей Дерево решений и Случайный лес ситуация схожая - факт того, что клиент не ушел (0), модели определяют правильно примерно в 95% случаев, в то время как результат предсказаний по факту ухода (1) в среднем всего 45%.\n",
    "\n",
    "В рамках борьбы с дисбалансом классов было рассмотрено 3 метода:\n",
    "\n",
    "* Взвешивание классов;\n",
    "* Увеличение выборки (upsampling);\n",
    "* Уменьшение выборки (downsampling);\n",
    "* Значения метрики F1-score, полученные на разных этапах исследования:"
   ]
  },
  {
   "attachments": {
    "image.png": {
     "image/png": "[encoded data removed]"
    }
   },
   "cell_type": "markdown",
   "metadata": {},
   "source": [
    "![image.png](attachment:image.png)"
   ]
  },
  {
   "cell_type": "markdown",
   "metadata": {},
   "source": [
    "В результате борьбы с дисбанансом классов были получены следующие выводы:\n",
    "\n",
    "* Уменьшение и увеличение выборки позволяют достичь примерно одинаковое значение F1-score.\n",
    "* Наибольшее значение метрики F1-score получено на модели Случайный лес при помощи взвешивания классов. Поэтому для финального тестирования была использована именно она.\n",
    "* Значение метрики AUC-ROC всегда стабильно выше F1-score и колеблется в районе 80%."
   ]
  },
  {
   "cell_type": "markdown",
   "metadata": {},
   "source": [
    "Далее, наилучшая модель была протестирована на тестовой выборке.\n",
    "Значения ключевых метрик получились следующие:\n",
    "\n",
    "* F1-score = 0.612 (выше необходимого значения);\n",
    "* AUC-ROC = 0.861 (достаточно близко к единице)."
   ]
  },
  {
   "attachments": {
    "image.png": {
     "image/png": "[encoded data removed]"
    }
   },
   "cell_type": "markdown",
   "metadata": {},
   "source": [
    "![image.png](attachment:image.png)"
   ]
  }
 ],
 "metadata": {
  "ExecuteTimeLog": [
   {
    "duration": 121,
    "start_time": "2023-08-21T16:33:08.645Z"
   },
   {
    "duration": 1798,
    "start_time": "2023-08-21T16:41:18.891Z"
   },
   {
    "duration": 125,
    "start_time": "2023-08-21T16:42:25.894Z"
   },
   {
    "duration": 65,
    "start_time": "2023-08-21T16:44:00.187Z"
   },
   {
    "duration": 156,
    "start_time": "2023-08-21T16:44:50.583Z"
   },
   {
    "duration": 21,
    "start_time": "2023-08-21T16:45:02.491Z"
   },
   {
    "duration": 75,
    "start_time": "2023-08-21T16:48:01.883Z"
   },
   {
    "duration": 15,
    "start_time": "2023-08-21T16:57:41.984Z"
   },
   {
    "duration": 4,
    "start_time": "2023-08-21T16:57:44.980Z"
   },
   {
    "duration": 15,
    "start_time": "2023-08-21T16:57:50.592Z"
   },
   {
    "duration": 16,
    "start_time": "2023-08-21T16:58:13.885Z"
   },
   {
    "duration": 63,
    "start_time": "2023-08-21T16:58:43.212Z"
   },
   {
    "duration": 1016,
    "start_time": "2023-08-21T17:05:57.735Z"
   },
   {
    "duration": 427,
    "start_time": "2023-08-21T17:06:11.924Z"
   },
   {
    "duration": 1018,
    "start_time": "2023-08-21T17:06:31.984Z"
   },
   {
    "duration": 1011,
    "start_time": "2023-08-21T17:07:16.030Z"
   },
   {
    "duration": 1045,
    "start_time": "2023-08-21T17:07:22.725Z"
   },
   {
    "duration": 1124,
    "start_time": "2023-08-21T17:07:36.904Z"
   },
   {
    "duration": 975,
    "start_time": "2023-08-21T17:07:42.060Z"
   },
   {
    "duration": 980,
    "start_time": "2023-08-21T17:07:57.207Z"
   },
   {
    "duration": 20,
    "start_time": "2023-08-21T17:08:18.326Z"
   },
   {
    "duration": 206,
    "start_time": "2023-08-21T17:13:29.374Z"
   },
   {
    "duration": 309,
    "start_time": "2023-08-21T17:14:22.709Z"
   },
   {
    "duration": 310,
    "start_time": "2023-08-21T17:17:12.043Z"
   },
   {
    "duration": 436,
    "start_time": "2023-08-21T17:17:37.153Z"
   },
   {
    "duration": 320,
    "start_time": "2023-08-21T17:18:01.696Z"
   },
   {
    "duration": 8,
    "start_time": "2023-08-21T17:19:07.504Z"
   },
   {
    "duration": 131,
    "start_time": "2023-08-21T17:19:47.639Z"
   },
   {
    "duration": 3,
    "start_time": "2023-08-21T17:19:54.926Z"
   },
   {
    "duration": 7,
    "start_time": "2023-08-21T17:20:12.388Z"
   },
   {
    "duration": 6,
    "start_time": "2023-08-21T17:30:03.627Z"
   },
   {
    "duration": 5,
    "start_time": "2023-08-21T17:30:31.723Z"
   },
   {
    "duration": 5,
    "start_time": "2023-08-21T17:30:35.370Z"
   },
   {
    "duration": 13,
    "start_time": "2023-08-21T17:31:08.170Z"
   },
   {
    "duration": 10,
    "start_time": "2023-08-21T17:31:50.742Z"
   },
   {
    "duration": 15,
    "start_time": "2023-08-21T17:32:16.113Z"
   },
   {
    "duration": 5,
    "start_time": "2023-08-21T17:36:13.279Z"
   },
   {
    "duration": 1320,
    "start_time": "2023-08-21T17:36:22.235Z"
   },
   {
    "duration": 6,
    "start_time": "2023-08-21T17:36:53.511Z"
   },
   {
    "duration": 6,
    "start_time": "2023-08-21T17:45:30.048Z"
   },
   {
    "duration": 6,
    "start_time": "2023-08-21T17:46:04.008Z"
   },
   {
    "duration": 17,
    "start_time": "2023-08-21T17:46:25.421Z"
   },
   {
    "duration": 70,
    "start_time": "2023-08-21T17:49:05.650Z"
   },
   {
    "duration": 3,
    "start_time": "2023-08-21T17:49:30.559Z"
   },
   {
    "duration": 14,
    "start_time": "2023-08-21T17:49:36.929Z"
   },
   {
    "duration": 18,
    "start_time": "2023-08-21T17:49:43.979Z"
   },
   {
    "duration": 3,
    "start_time": "2023-08-21T17:50:18.701Z"
   },
   {
    "duration": 13,
    "start_time": "2023-08-21T17:50:19.548Z"
   },
   {
    "duration": 14,
    "start_time": "2023-08-21T17:50:31.807Z"
   },
   {
    "duration": 5,
    "start_time": "2023-08-21T17:50:36.234Z"
   },
   {
    "duration": 6,
    "start_time": "2023-08-21T17:50:36.700Z"
   },
   {
    "duration": 7,
    "start_time": "2023-08-21T17:50:38.062Z"
   },
   {
    "duration": 13,
    "start_time": "2023-08-21T17:50:59.936Z"
   },
   {
    "duration": 1657,
    "start_time": "2023-08-21T17:51:49.926Z"
   },
   {
    "duration": 40,
    "start_time": "2023-08-21T17:51:51.585Z"
   },
   {
    "duration": 17,
    "start_time": "2023-08-21T17:51:51.627Z"
   },
   {
    "duration": 3,
    "start_time": "2023-08-21T17:51:51.646Z"
   },
   {
    "duration": 19,
    "start_time": "2023-08-21T17:51:51.651Z"
   },
   {
    "duration": 40,
    "start_time": "2023-08-21T17:51:51.672Z"
   },
   {
    "duration": 1006,
    "start_time": "2023-08-21T17:51:51.713Z"
   },
   {
    "duration": 316,
    "start_time": "2023-08-21T17:51:52.721Z"
   },
   {
    "duration": 7,
    "start_time": "2023-08-21T17:51:53.039Z"
   },
   {
    "duration": 39,
    "start_time": "2023-08-21T17:51:53.048Z"
   },
   {
    "duration": 23,
    "start_time": "2023-08-21T17:51:53.089Z"
   },
   {
    "duration": 17,
    "start_time": "2023-08-21T17:51:53.114Z"
   },
   {
    "duration": 35,
    "start_time": "2023-08-21T17:51:53.133Z"
   },
   {
    "duration": 52,
    "start_time": "2023-08-21T17:51:53.170Z"
   },
   {
    "duration": 26,
    "start_time": "2023-08-21T17:51:53.223Z"
   },
   {
    "duration": 20,
    "start_time": "2023-08-21T17:51:53.251Z"
   },
   {
    "duration": 18,
    "start_time": "2023-08-21T17:51:53.272Z"
   },
   {
    "duration": 24,
    "start_time": "2023-08-21T17:51:53.291Z"
   },
   {
    "duration": 16,
    "start_time": "2023-08-21T17:51:53.316Z"
   },
   {
    "duration": 8,
    "start_time": "2023-08-21T17:51:53.333Z"
   },
   {
    "duration": 6,
    "start_time": "2023-08-21T17:51:53.343Z"
   },
   {
    "duration": 128,
    "start_time": "2023-08-21T17:53:27.808Z"
   },
   {
    "duration": 4,
    "start_time": "2023-08-21T17:53:43.237Z"
   },
   {
    "duration": 5,
    "start_time": "2023-08-21T17:54:55.171Z"
   },
   {
    "duration": 4,
    "start_time": "2023-08-21T17:56:45.211Z"
   },
   {
    "duration": 4,
    "start_time": "2023-08-21T17:56:45.836Z"
   },
   {
    "duration": 7,
    "start_time": "2023-08-21T17:57:35.912Z"
   },
   {
    "duration": 6,
    "start_time": "2023-08-21T17:57:36.382Z"
   },
   {
    "duration": 3,
    "start_time": "2023-08-21T17:57:37.209Z"
   },
   {
    "duration": 4,
    "start_time": "2023-08-21T17:57:37.569Z"
   },
   {
    "duration": 4,
    "start_time": "2023-08-21T17:57:38.039Z"
   },
   {
    "duration": 4,
    "start_time": "2023-08-21T17:57:38.507Z"
   },
   {
    "duration": 6,
    "start_time": "2023-08-21T17:58:36.827Z"
   },
   {
    "duration": 6,
    "start_time": "2023-08-21T17:58:37.268Z"
   },
   {
    "duration": 3,
    "start_time": "2023-08-21T17:58:37.623Z"
   },
   {
    "duration": 4,
    "start_time": "2023-08-21T17:58:37.950Z"
   },
   {
    "duration": 5,
    "start_time": "2023-08-21T17:58:38.376Z"
   },
   {
    "duration": 4,
    "start_time": "2023-08-21T17:58:38.906Z"
   },
   {
    "duration": 6,
    "start_time": "2023-08-21T17:58:59.997Z"
   },
   {
    "duration": 8,
    "start_time": "2023-08-21T17:59:00.398Z"
   },
   {
    "duration": 7,
    "start_time": "2023-08-21T17:59:00.833Z"
   },
   {
    "duration": 4,
    "start_time": "2023-08-21T17:59:01.580Z"
   },
   {
    "duration": 4,
    "start_time": "2023-08-21T17:59:01.782Z"
   },
   {
    "duration": 4,
    "start_time": "2023-08-21T17:59:02.102Z"
   },
   {
    "duration": 4,
    "start_time": "2023-08-21T17:59:02.455Z"
   },
   {
    "duration": 5,
    "start_time": "2023-08-21T18:00:15.065Z"
   },
   {
    "duration": 6,
    "start_time": "2023-08-21T18:00:15.428Z"
   },
   {
    "duration": 5,
    "start_time": "2023-08-21T18:00:15.876Z"
   },
   {
    "duration": 3,
    "start_time": "2023-08-21T18:00:16.650Z"
   },
   {
    "duration": 4,
    "start_time": "2023-08-21T18:00:17.025Z"
   },
   {
    "duration": 6,
    "start_time": "2023-08-21T18:01:41.438Z"
   },
   {
    "duration": 5,
    "start_time": "2023-08-21T18:01:44.227Z"
   },
   {
    "duration": 6,
    "start_time": "2023-08-21T18:01:44.744Z"
   },
   {
    "duration": 6,
    "start_time": "2023-08-21T18:01:44.752Z"
   },
   {
    "duration": 4,
    "start_time": "2023-08-21T18:01:45.225Z"
   },
   {
    "duration": 4,
    "start_time": "2023-08-21T18:01:45.573Z"
   },
   {
    "duration": 4,
    "start_time": "2023-08-21T18:01:46.009Z"
   },
   {
    "duration": 4,
    "start_time": "2023-08-21T18:01:46.382Z"
   },
   {
    "duration": 6,
    "start_time": "2023-08-21T18:02:00.762Z"
   },
   {
    "duration": 4,
    "start_time": "2023-08-21T18:02:01.138Z"
   },
   {
    "duration": 4,
    "start_time": "2023-08-21T18:02:01.311Z"
   },
   {
    "duration": 4,
    "start_time": "2023-08-21T18:02:01.736Z"
   },
   {
    "duration": 3,
    "start_time": "2023-08-21T18:02:02.079Z"
   },
   {
    "duration": 7,
    "start_time": "2023-08-21T18:02:13.099Z"
   },
   {
    "duration": 6,
    "start_time": "2023-08-21T18:02:13.397Z"
   },
   {
    "duration": 3,
    "start_time": "2023-08-21T18:02:13.868Z"
   },
   {
    "duration": 5,
    "start_time": "2023-08-21T18:02:14.095Z"
   },
   {
    "duration": 4,
    "start_time": "2023-08-21T18:02:14.376Z"
   },
   {
    "duration": 4,
    "start_time": "2023-08-21T18:02:14.717Z"
   },
   {
    "duration": 6,
    "start_time": "2023-08-21T18:02:39.328Z"
   },
   {
    "duration": 6,
    "start_time": "2023-08-21T18:02:39.675Z"
   },
   {
    "duration": 3,
    "start_time": "2023-08-21T18:02:40.226Z"
   },
   {
    "duration": 4,
    "start_time": "2023-08-21T18:02:40.411Z"
   },
   {
    "duration": 4,
    "start_time": "2023-08-21T18:02:40.785Z"
   },
   {
    "duration": 4,
    "start_time": "2023-08-21T18:02:41.142Z"
   },
   {
    "duration": 5,
    "start_time": "2023-08-21T18:02:54.548Z"
   },
   {
    "duration": 3,
    "start_time": "2023-08-21T18:02:54.902Z"
   },
   {
    "duration": 3,
    "start_time": "2023-08-21T18:02:55.099Z"
   },
   {
    "duration": 5,
    "start_time": "2023-08-21T18:02:55.273Z"
   },
   {
    "duration": 4,
    "start_time": "2023-08-21T18:02:55.833Z"
   },
   {
    "duration": 4,
    "start_time": "2023-08-21T18:03:20.800Z"
   },
   {
    "duration": 6,
    "start_time": "2023-08-21T18:03:21.105Z"
   },
   {
    "duration": 5,
    "start_time": "2023-08-21T18:03:21.350Z"
   },
   {
    "duration": 3,
    "start_time": "2023-08-21T18:03:21.898Z"
   },
   {
    "duration": 4,
    "start_time": "2023-08-21T18:03:22.141Z"
   },
   {
    "duration": 4,
    "start_time": "2023-08-21T18:03:22.419Z"
   },
   {
    "duration": 4,
    "start_time": "2023-08-21T18:03:22.697Z"
   },
   {
    "duration": 5,
    "start_time": "2023-08-21T18:03:31.697Z"
   },
   {
    "duration": 6,
    "start_time": "2023-08-21T18:03:31.853Z"
   },
   {
    "duration": 7,
    "start_time": "2023-08-21T18:03:32.026Z"
   },
   {
    "duration": 3,
    "start_time": "2023-08-21T18:03:32.353Z"
   },
   {
    "duration": 5,
    "start_time": "2023-08-21T18:03:32.509Z"
   },
   {
    "duration": 4,
    "start_time": "2023-08-21T18:03:32.707Z"
   },
   {
    "duration": 4,
    "start_time": "2023-08-21T18:03:33.164Z"
   },
   {
    "duration": 6,
    "start_time": "2023-08-21T18:03:39.229Z"
   },
   {
    "duration": 6,
    "start_time": "2023-08-21T18:03:39.446Z"
   },
   {
    "duration": 3,
    "start_time": "2023-08-21T18:03:39.907Z"
   },
   {
    "duration": 4,
    "start_time": "2023-08-21T18:03:40.173Z"
   },
   {
    "duration": 4,
    "start_time": "2023-08-21T18:03:40.497Z"
   },
   {
    "duration": 4,
    "start_time": "2023-08-21T18:03:40.920Z"
   },
   {
    "duration": 11,
    "start_time": "2023-08-21T18:12:25.213Z"
   },
   {
    "duration": 111,
    "start_time": "2023-08-21T18:13:01.465Z"
   },
   {
    "duration": 4,
    "start_time": "2023-08-21T18:13:15.875Z"
   },
   {
    "duration": 107,
    "start_time": "2023-08-21T18:13:23.411Z"
   },
   {
    "duration": 103,
    "start_time": "2023-08-21T18:13:27.638Z"
   },
   {
    "duration": 4,
    "start_time": "2023-08-21T18:13:28.078Z"
   },
   {
    "duration": 186,
    "start_time": "2023-08-21T18:14:29.774Z"
   },
   {
    "duration": 4,
    "start_time": "2023-08-21T18:14:32.082Z"
   },
   {
    "duration": 216,
    "start_time": "2023-08-21T18:14:32.465Z"
   },
   {
    "duration": 311,
    "start_time": "2023-08-21T18:14:59.898Z"
   },
   {
    "duration": 223,
    "start_time": "2023-08-21T18:15:24.229Z"
   },
   {
    "duration": 5,
    "start_time": "2023-08-21T18:15:31.601Z"
   },
   {
    "duration": 5,
    "start_time": "2023-08-21T18:15:38.979Z"
   },
   {
    "duration": 3,
    "start_time": "2023-08-21T18:15:43.540Z"
   },
   {
    "duration": 5,
    "start_time": "2023-08-21T18:15:45.911Z"
   },
   {
    "duration": 182,
    "start_time": "2023-08-21T18:16:18.811Z"
   },
   {
    "duration": 191,
    "start_time": "2023-08-21T18:16:35.430Z"
   },
   {
    "duration": 178,
    "start_time": "2023-08-21T18:16:47.252Z"
   },
   {
    "duration": 5,
    "start_time": "2023-08-21T18:17:40.656Z"
   },
   {
    "duration": 5,
    "start_time": "2023-08-21T18:17:49.443Z"
   },
   {
    "duration": 140,
    "start_time": "2023-08-21T18:24:31.113Z"
   },
   {
    "duration": 25,
    "start_time": "2023-08-21T18:24:49.523Z"
   },
   {
    "duration": 11,
    "start_time": "2023-08-21T18:25:00.871Z"
   },
   {
    "duration": 18594,
    "start_time": "2023-08-21T18:26:09.370Z"
   },
   {
    "duration": 316,
    "start_time": "2023-08-21T18:26:40.608Z"
   },
   {
    "duration": 11,
    "start_time": "2023-08-21T18:26:41.157Z"
   },
   {
    "duration": 144,
    "start_time": "2023-08-21T18:27:05.325Z"
   },
   {
    "duration": 10,
    "start_time": "2023-08-21T18:27:15.794Z"
   },
   {
    "duration": 157,
    "start_time": "2023-08-21T18:28:37.956Z"
   },
   {
    "duration": 134,
    "start_time": "2023-08-21T18:28:58.832Z"
   },
   {
    "duration": 128,
    "start_time": "2023-08-21T18:29:06.618Z"
   },
   {
    "duration": 169,
    "start_time": "2023-08-21T18:30:05.808Z"
   },
   {
    "duration": 274,
    "start_time": "2023-08-21T18:30:23.406Z"
   },
   {
    "duration": 104,
    "start_time": "2023-08-21T18:33:11.213Z"
   },
   {
    "duration": 1793,
    "start_time": "2023-08-22T05:26:58.236Z"
   },
   {
    "duration": 83,
    "start_time": "2023-08-22T05:27:00.031Z"
   },
   {
    "duration": 18,
    "start_time": "2023-08-22T05:27:00.116Z"
   },
   {
    "duration": 18,
    "start_time": "2023-08-22T05:27:00.135Z"
   },
   {
    "duration": 51,
    "start_time": "2023-08-22T05:27:00.155Z"
   },
   {
    "duration": 55,
    "start_time": "2023-08-22T05:27:00.207Z"
   },
   {
    "duration": 1021,
    "start_time": "2023-08-22T05:27:00.264Z"
   },
   {
    "duration": 281,
    "start_time": "2023-08-22T05:27:01.287Z"
   },
   {
    "duration": 9,
    "start_time": "2023-08-22T05:27:01.569Z"
   },
   {
    "duration": 90,
    "start_time": "2023-08-22T05:27:01.579Z"
   },
   {
    "duration": 48,
    "start_time": "2023-08-22T05:27:01.671Z"
   },
   {
    "duration": 39,
    "start_time": "2023-08-22T05:27:01.720Z"
   },
   {
    "duration": 64,
    "start_time": "2023-08-22T05:27:01.760Z"
   },
   {
    "duration": 50,
    "start_time": "2023-08-22T05:27:01.827Z"
   },
   {
    "duration": 35,
    "start_time": "2023-08-22T05:27:01.878Z"
   },
   {
    "duration": 30,
    "start_time": "2023-08-22T05:27:01.915Z"
   },
   {
    "duration": 51,
    "start_time": "2023-08-22T05:27:01.946Z"
   },
   {
    "duration": 63,
    "start_time": "2023-08-22T05:27:01.998Z"
   },
   {
    "duration": 38,
    "start_time": "2023-08-22T05:27:02.063Z"
   },
   {
    "duration": 39,
    "start_time": "2023-08-22T05:27:02.103Z"
   },
   {
    "duration": 25,
    "start_time": "2023-08-22T05:27:02.143Z"
   },
   {
    "duration": 51,
    "start_time": "2023-08-22T05:27:02.169Z"
   },
   {
    "duration": 48,
    "start_time": "2023-08-22T05:27:02.222Z"
   },
   {
    "duration": 45,
    "start_time": "2023-08-22T05:27:02.272Z"
   },
   {
    "duration": 64,
    "start_time": "2023-08-22T05:27:02.319Z"
   },
   {
    "duration": 58,
    "start_time": "2023-08-22T05:27:02.385Z"
   },
   {
    "duration": 215,
    "start_time": "2023-08-22T05:27:02.444Z"
   },
   {
    "duration": 4,
    "start_time": "2023-08-22T05:27:02.661Z"
   },
   {
    "duration": 12,
    "start_time": "2023-08-22T05:27:02.666Z"
   },
   {
    "duration": 31,
    "start_time": "2023-08-22T05:27:02.680Z"
   },
   {
    "duration": 193,
    "start_time": "2023-08-22T05:27:02.713Z"
   },
   {
    "duration": 20,
    "start_time": "2023-08-22T05:27:02.908Z"
   },
   {
    "duration": 26,
    "start_time": "2023-08-22T05:27:02.933Z"
   },
   {
    "duration": 17436,
    "start_time": "2023-08-22T05:27:02.961Z"
   },
   {
    "duration": 300,
    "start_time": "2023-08-22T05:27:20.399Z"
   },
   {
    "duration": 9,
    "start_time": "2023-08-22T05:27:20.701Z"
   },
   {
    "duration": 34,
    "start_time": "2023-08-22T05:27:20.712Z"
   },
   {
    "duration": 87,
    "start_time": "2023-08-22T05:27:20.748Z"
   },
   {
    "duration": 220,
    "start_time": "2023-08-22T05:27:20.837Z"
   },
   {
    "duration": 150,
    "start_time": "2023-08-22T05:27:21.059Z"
   },
   {
    "duration": 285,
    "start_time": "2023-08-22T05:27:21.213Z"
   },
   {
    "duration": 18,
    "start_time": "2023-08-22T05:31:26.109Z"
   },
   {
    "duration": 139,
    "start_time": "2023-08-22T05:31:28.108Z"
   },
   {
    "duration": 22,
    "start_time": "2023-08-22T05:31:28.433Z"
   },
   {
    "duration": 12,
    "start_time": "2023-08-22T05:31:28.852Z"
   },
   {
    "duration": 17900,
    "start_time": "2023-08-22T05:32:24.661Z"
   },
   {
    "duration": 509,
    "start_time": "2023-08-22T05:32:42.563Z"
   },
   {
    "duration": 45,
    "start_time": "2023-08-22T05:32:43.074Z"
   },
   {
    "duration": 22,
    "start_time": "2023-08-22T05:33:23.312Z"
   },
   {
    "duration": 15,
    "start_time": "2023-08-22T05:33:23.534Z"
   },
   {
    "duration": 13,
    "start_time": "2023-08-22T05:35:19.276Z"
   },
   {
    "duration": 197,
    "start_time": "2023-08-22T05:36:02.711Z"
   },
   {
    "duration": 26,
    "start_time": "2023-08-22T05:36:16.327Z"
   },
   {
    "duration": 12,
    "start_time": "2023-08-22T05:36:25.768Z"
   },
   {
    "duration": 24092,
    "start_time": "2023-08-22T05:36:57.858Z"
   },
   {
    "duration": 82,
    "start_time": "2023-08-22T05:37:21.952Z"
   },
   {
    "duration": 18,
    "start_time": "2023-08-22T05:37:22.037Z"
   },
   {
    "duration": 35,
    "start_time": "2023-08-22T05:38:03.004Z"
   },
   {
    "duration": 16,
    "start_time": "2023-08-22T05:38:03.235Z"
   },
   {
    "duration": 13,
    "start_time": "2023-08-22T05:40:48.233Z"
   },
   {
    "duration": 13,
    "start_time": "2023-08-22T05:40:57.547Z"
   },
   {
    "duration": 81,
    "start_time": "2023-08-22T05:41:40.716Z"
   },
   {
    "duration": 13,
    "start_time": "2023-08-22T05:41:57.411Z"
   },
   {
    "duration": 17,
    "start_time": "2023-08-22T05:42:05.704Z"
   },
   {
    "duration": 11140,
    "start_time": "2023-08-22T05:42:42.981Z"
   },
   {
    "duration": 37,
    "start_time": "2023-08-22T05:43:00.652Z"
   },
   {
    "duration": 17,
    "start_time": "2023-08-22T05:43:00.950Z"
   },
   {
    "duration": 19,
    "start_time": "2023-08-22T05:43:24.812Z"
   },
   {
    "duration": 18,
    "start_time": "2023-08-22T05:43:35.762Z"
   },
   {
    "duration": 4,
    "start_time": "2023-08-22T05:44:12.588Z"
   },
   {
    "duration": 12,
    "start_time": "2023-08-22T05:44:20.465Z"
   },
   {
    "duration": 2,
    "start_time": "2023-08-22T05:45:42.378Z"
   },
   {
    "duration": 1655,
    "start_time": "2023-08-22T05:47:57.835Z"
   },
   {
    "duration": 3,
    "start_time": "2023-08-22T05:47:59.491Z"
   },
   {
    "duration": 73,
    "start_time": "2023-08-22T05:47:59.495Z"
   },
   {
    "duration": 17,
    "start_time": "2023-08-22T05:47:59.570Z"
   },
   {
    "duration": 13,
    "start_time": "2023-08-22T05:47:59.589Z"
   },
   {
    "duration": 19,
    "start_time": "2023-08-22T05:47:59.603Z"
   },
   {
    "duration": 65,
    "start_time": "2023-08-22T05:47:59.624Z"
   },
   {
    "duration": 1050,
    "start_time": "2023-08-22T05:47:59.691Z"
   },
   {
    "duration": 288,
    "start_time": "2023-08-22T05:48:00.743Z"
   },
   {
    "duration": 7,
    "start_time": "2023-08-22T05:48:01.033Z"
   },
   {
    "duration": 103,
    "start_time": "2023-08-22T05:48:01.042Z"
   },
   {
    "duration": 100,
    "start_time": "2023-08-22T05:48:01.147Z"
   },
   {
    "duration": 30,
    "start_time": "2023-08-22T05:48:01.249Z"
   },
   {
    "duration": 43,
    "start_time": "2023-08-22T05:48:01.282Z"
   },
   {
    "duration": 72,
    "start_time": "2023-08-22T05:48:01.327Z"
   },
   {
    "duration": 54,
    "start_time": "2023-08-22T05:48:01.401Z"
   },
   {
    "duration": 108,
    "start_time": "2023-08-22T05:48:01.457Z"
   },
   {
    "duration": 61,
    "start_time": "2023-08-22T05:48:01.566Z"
   },
   {
    "duration": 63,
    "start_time": "2023-08-22T05:48:01.629Z"
   },
   {
    "duration": 29,
    "start_time": "2023-08-22T05:48:01.694Z"
   },
   {
    "duration": 53,
    "start_time": "2023-08-22T05:48:01.725Z"
   },
   {
    "duration": 62,
    "start_time": "2023-08-22T05:48:01.780Z"
   },
   {
    "duration": 48,
    "start_time": "2023-08-22T05:48:01.844Z"
   },
   {
    "duration": 55,
    "start_time": "2023-08-22T05:48:01.893Z"
   },
   {
    "duration": 70,
    "start_time": "2023-08-22T05:48:01.949Z"
   },
   {
    "duration": 70,
    "start_time": "2023-08-22T05:48:02.020Z"
   },
   {
    "duration": 39,
    "start_time": "2023-08-22T05:48:02.092Z"
   },
   {
    "duration": 307,
    "start_time": "2023-08-22T05:48:02.133Z"
   },
   {
    "duration": 5,
    "start_time": "2023-08-22T05:48:02.442Z"
   },
   {
    "duration": 46,
    "start_time": "2023-08-22T05:48:02.448Z"
   },
   {
    "duration": 22,
    "start_time": "2023-08-22T05:48:02.496Z"
   },
   {
    "duration": 164,
    "start_time": "2023-08-22T05:48:02.520Z"
   },
   {
    "duration": 24,
    "start_time": "2023-08-22T05:48:02.686Z"
   },
   {
    "duration": 25,
    "start_time": "2023-08-22T05:48:02.712Z"
   },
   {
    "duration": 17744,
    "start_time": "2023-08-22T05:48:02.739Z"
   },
   {
    "duration": 301,
    "start_time": "2023-08-22T05:48:20.484Z"
   },
   {
    "duration": 10,
    "start_time": "2023-08-22T05:48:20.787Z"
   },
   {
    "duration": 60,
    "start_time": "2023-08-22T05:48:20.799Z"
   },
   {
    "duration": 79,
    "start_time": "2023-08-22T05:48:20.861Z"
   },
   {
    "duration": 219,
    "start_time": "2023-08-22T05:48:20.943Z"
   },
   {
    "duration": 142,
    "start_time": "2023-08-22T05:48:21.166Z"
   },
   {
    "duration": 324,
    "start_time": "2023-08-22T05:48:21.310Z"
   },
   {
    "duration": 148,
    "start_time": "2023-08-22T05:48:21.635Z"
   },
   {
    "duration": 20,
    "start_time": "2023-08-22T05:48:21.785Z"
   },
   {
    "duration": 27,
    "start_time": "2023-08-22T05:48:21.807Z"
   },
   {
    "duration": 18278,
    "start_time": "2023-08-22T05:48:21.835Z"
   },
   {
    "duration": 501,
    "start_time": "2023-08-22T05:48:40.115Z"
   },
   {
    "duration": 56,
    "start_time": "2023-08-22T05:48:40.618Z"
   },
   {
    "duration": 59,
    "start_time": "2023-08-22T05:48:40.676Z"
   },
   {
    "duration": 105,
    "start_time": "2023-08-22T05:48:40.738Z"
   },
   {
    "duration": 196,
    "start_time": "2023-08-22T05:48:40.845Z"
   },
   {
    "duration": 184,
    "start_time": "2023-08-22T05:48:41.043Z"
   },
   {
    "duration": 27,
    "start_time": "2023-08-22T05:48:41.234Z"
   },
   {
    "duration": 13,
    "start_time": "2023-08-22T05:48:41.262Z"
   },
   {
    "duration": 23933,
    "start_time": "2023-08-22T05:48:41.276Z"
   },
   {
    "duration": 82,
    "start_time": "2023-08-22T05:49:05.211Z"
   },
   {
    "duration": 18,
    "start_time": "2023-08-22T05:49:05.295Z"
   },
   {
    "duration": 59,
    "start_time": "2023-08-22T05:49:05.315Z"
   },
   {
    "duration": 108,
    "start_time": "2023-08-22T05:49:05.434Z"
   },
   {
    "duration": 190,
    "start_time": "2023-08-22T05:49:05.544Z"
   },
   {
    "duration": 84,
    "start_time": "2023-08-22T05:49:05.735Z"
   },
   {
    "duration": 13,
    "start_time": "2023-08-22T05:49:05.834Z"
   },
   {
    "duration": 20,
    "start_time": "2023-08-22T05:49:05.848Z"
   },
   {
    "duration": 11665,
    "start_time": "2023-08-22T05:49:05.869Z"
   },
   {
    "duration": 36,
    "start_time": "2023-08-22T05:49:17.536Z"
   },
   {
    "duration": 16,
    "start_time": "2023-08-22T05:49:17.574Z"
   },
   {
    "duration": 45,
    "start_time": "2023-08-22T05:49:17.591Z"
   },
   {
    "duration": 104,
    "start_time": "2023-08-22T05:49:17.638Z"
   },
   {
    "duration": 89,
    "start_time": "2023-08-22T05:49:17.745Z"
   },
   {
    "duration": 100,
    "start_time": "2023-08-22T05:49:17.837Z"
   },
   {
    "duration": 4,
    "start_time": "2023-08-22T05:54:51.528Z"
   },
   {
    "duration": 10,
    "start_time": "2023-08-22T05:54:51.835Z"
   },
   {
    "duration": 7,
    "start_time": "2023-08-22T05:57:02.442Z"
   },
   {
    "duration": 3,
    "start_time": "2023-08-22T05:57:35.495Z"
   },
   {
    "duration": 17827,
    "start_time": "2023-08-22T05:59:02.263Z"
   },
   {
    "duration": 511,
    "start_time": "2023-08-22T05:59:25.802Z"
   },
   {
    "duration": 67,
    "start_time": "2023-08-22T05:59:34.163Z"
   },
   {
    "duration": 104,
    "start_time": "2023-08-22T05:59:52.232Z"
   },
   {
    "duration": 121,
    "start_time": "2023-08-22T06:02:00.699Z"
   },
   {
    "duration": 88,
    "start_time": "2023-08-22T06:09:08.279Z"
   },
   {
    "duration": 94,
    "start_time": "2023-08-23T05:05:59.389Z"
   }
  ],
  "kernelspec": {
   "display_name": "Python 3 (ipykernel)",
   "language": "python",
   "name": "python3"
  },
  "language_info": {
   "codemirror_mode": {
    "name": "ipython",
    "version": 3
   },
   "file_extension": ".py",
   "mimetype": "text/x-python",
   "name": "python",
   "nbconvert_exporter": "python",
   "pygments_lexer": "ipython3",
   "version": "3.9.17"
  },
  "toc": {
   "base_numbering": 1,
   "nav_menu": {},
   "number_sections": true,
   "sideBar": true,
   "skip_h1_title": true,
   "title_cell": "Содержание",
   "title_sidebar": "Contents",
   "toc_cell": true,
   "toc_position": {},
   "toc_section_display": true,
   "toc_window_display": true
  }
 },
 "nbformat": 4,
 "nbformat_minor": 4
}
